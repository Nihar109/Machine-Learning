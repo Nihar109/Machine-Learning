{
 "cells": [
  {
   "cell_type": "code",
   "execution_count": 1,
   "id": "1640a31b",
   "metadata": {},
   "outputs": [
    {
     "name": "stdout",
     "output_type": "stream",
     "text": [
      "Libraries imported sucessfully !!\n"
     ]
    }
   ],
   "source": [
    "import pandas as pd\n",
    "import numpy as np\n",
    "\n",
    "from sklearn.model_selection import train_test_split\n",
    "from sklearn.compose import ColumnTransformer\n",
    "from sklearn.impute import SimpleImputer\n",
    "from sklearn.preprocessing import OneHotEncoder\n",
    "from sklearn.preprocessing import MinMaxScaler\n",
    "from sklearn.pipeline import Pipeline,make_pipeline\n",
    "from sklearn.feature_selection import SelectKBest,chi2\n",
    "from sklearn.tree import DecisionTreeClassifier\n",
    "\n",
    "print('Libraries imported sucessfully !!')"
   ]
  },
  {
   "cell_type": "code",
   "execution_count": 2,
   "id": "db784a05",
   "metadata": {},
   "outputs": [
    {
     "data": {
      "text/html": [
       "<div>\n",
       "<style scoped>\n",
       "    .dataframe tbody tr th:only-of-type {\n",
       "        vertical-align: middle;\n",
       "    }\n",
       "\n",
       "    .dataframe tbody tr th {\n",
       "        vertical-align: top;\n",
       "    }\n",
       "\n",
       "    .dataframe thead th {\n",
       "        text-align: right;\n",
       "    }\n",
       "</style>\n",
       "<table border=\"1\" class=\"dataframe\">\n",
       "  <thead>\n",
       "    <tr style=\"text-align: right;\">\n",
       "      <th></th>\n",
       "      <th>PassengerId</th>\n",
       "      <th>Survived</th>\n",
       "      <th>Pclass</th>\n",
       "      <th>Name</th>\n",
       "      <th>Sex</th>\n",
       "      <th>Age</th>\n",
       "      <th>SibSp</th>\n",
       "      <th>Parch</th>\n",
       "      <th>Ticket</th>\n",
       "      <th>Fare</th>\n",
       "      <th>Cabin</th>\n",
       "      <th>Embarked</th>\n",
       "    </tr>\n",
       "  </thead>\n",
       "  <tbody>\n",
       "    <tr>\n",
       "      <th>0</th>\n",
       "      <td>1</td>\n",
       "      <td>0</td>\n",
       "      <td>3</td>\n",
       "      <td>Braund, Mr. Owen Harris</td>\n",
       "      <td>male</td>\n",
       "      <td>22.0</td>\n",
       "      <td>1</td>\n",
       "      <td>0</td>\n",
       "      <td>A/5 21171</td>\n",
       "      <td>7.2500</td>\n",
       "      <td>NaN</td>\n",
       "      <td>S</td>\n",
       "    </tr>\n",
       "    <tr>\n",
       "      <th>1</th>\n",
       "      <td>2</td>\n",
       "      <td>1</td>\n",
       "      <td>1</td>\n",
       "      <td>Cumings, Mrs. John Bradley (Florence Briggs Th...</td>\n",
       "      <td>female</td>\n",
       "      <td>38.0</td>\n",
       "      <td>1</td>\n",
       "      <td>0</td>\n",
       "      <td>PC 17599</td>\n",
       "      <td>71.2833</td>\n",
       "      <td>C85</td>\n",
       "      <td>C</td>\n",
       "    </tr>\n",
       "    <tr>\n",
       "      <th>2</th>\n",
       "      <td>3</td>\n",
       "      <td>1</td>\n",
       "      <td>3</td>\n",
       "      <td>Heikkinen, Miss. Laina</td>\n",
       "      <td>female</td>\n",
       "      <td>26.0</td>\n",
       "      <td>0</td>\n",
       "      <td>0</td>\n",
       "      <td>STON/O2. 3101282</td>\n",
       "      <td>7.9250</td>\n",
       "      <td>NaN</td>\n",
       "      <td>S</td>\n",
       "    </tr>\n",
       "    <tr>\n",
       "      <th>3</th>\n",
       "      <td>4</td>\n",
       "      <td>1</td>\n",
       "      <td>1</td>\n",
       "      <td>Futrelle, Mrs. Jacques Heath (Lily May Peel)</td>\n",
       "      <td>female</td>\n",
       "      <td>35.0</td>\n",
       "      <td>1</td>\n",
       "      <td>0</td>\n",
       "      <td>113803</td>\n",
       "      <td>53.1000</td>\n",
       "      <td>C123</td>\n",
       "      <td>S</td>\n",
       "    </tr>\n",
       "    <tr>\n",
       "      <th>4</th>\n",
       "      <td>5</td>\n",
       "      <td>0</td>\n",
       "      <td>3</td>\n",
       "      <td>Allen, Mr. William Henry</td>\n",
       "      <td>male</td>\n",
       "      <td>35.0</td>\n",
       "      <td>0</td>\n",
       "      <td>0</td>\n",
       "      <td>373450</td>\n",
       "      <td>8.0500</td>\n",
       "      <td>NaN</td>\n",
       "      <td>S</td>\n",
       "    </tr>\n",
       "    <tr>\n",
       "      <th>5</th>\n",
       "      <td>6</td>\n",
       "      <td>0</td>\n",
       "      <td>3</td>\n",
       "      <td>Moran, Mr. James</td>\n",
       "      <td>male</td>\n",
       "      <td>NaN</td>\n",
       "      <td>0</td>\n",
       "      <td>0</td>\n",
       "      <td>330877</td>\n",
       "      <td>8.4583</td>\n",
       "      <td>NaN</td>\n",
       "      <td>Q</td>\n",
       "    </tr>\n",
       "    <tr>\n",
       "      <th>6</th>\n",
       "      <td>7</td>\n",
       "      <td>0</td>\n",
       "      <td>1</td>\n",
       "      <td>McCarthy, Mr. Timothy J</td>\n",
       "      <td>male</td>\n",
       "      <td>54.0</td>\n",
       "      <td>0</td>\n",
       "      <td>0</td>\n",
       "      <td>17463</td>\n",
       "      <td>51.8625</td>\n",
       "      <td>E46</td>\n",
       "      <td>S</td>\n",
       "    </tr>\n",
       "    <tr>\n",
       "      <th>7</th>\n",
       "      <td>8</td>\n",
       "      <td>0</td>\n",
       "      <td>3</td>\n",
       "      <td>Palsson, Master. Gosta Leonard</td>\n",
       "      <td>male</td>\n",
       "      <td>2.0</td>\n",
       "      <td>3</td>\n",
       "      <td>1</td>\n",
       "      <td>349909</td>\n",
       "      <td>21.0750</td>\n",
       "      <td>NaN</td>\n",
       "      <td>S</td>\n",
       "    </tr>\n",
       "    <tr>\n",
       "      <th>8</th>\n",
       "      <td>9</td>\n",
       "      <td>1</td>\n",
       "      <td>3</td>\n",
       "      <td>Johnson, Mrs. Oscar W (Elisabeth Vilhelmina Berg)</td>\n",
       "      <td>female</td>\n",
       "      <td>27.0</td>\n",
       "      <td>0</td>\n",
       "      <td>2</td>\n",
       "      <td>347742</td>\n",
       "      <td>11.1333</td>\n",
       "      <td>NaN</td>\n",
       "      <td>S</td>\n",
       "    </tr>\n",
       "    <tr>\n",
       "      <th>9</th>\n",
       "      <td>10</td>\n",
       "      <td>1</td>\n",
       "      <td>2</td>\n",
       "      <td>Nasser, Mrs. Nicholas (Adele Achem)</td>\n",
       "      <td>female</td>\n",
       "      <td>14.0</td>\n",
       "      <td>1</td>\n",
       "      <td>0</td>\n",
       "      <td>237736</td>\n",
       "      <td>30.0708</td>\n",
       "      <td>NaN</td>\n",
       "      <td>C</td>\n",
       "    </tr>\n",
       "  </tbody>\n",
       "</table>\n",
       "</div>"
      ],
      "text/plain": [
       "   PassengerId  Survived  Pclass  \\\n",
       "0            1         0       3   \n",
       "1            2         1       1   \n",
       "2            3         1       3   \n",
       "3            4         1       1   \n",
       "4            5         0       3   \n",
       "5            6         0       3   \n",
       "6            7         0       1   \n",
       "7            8         0       3   \n",
       "8            9         1       3   \n",
       "9           10         1       2   \n",
       "\n",
       "                                                Name     Sex   Age  SibSp  \\\n",
       "0                            Braund, Mr. Owen Harris    male  22.0      1   \n",
       "1  Cumings, Mrs. John Bradley (Florence Briggs Th...  female  38.0      1   \n",
       "2                             Heikkinen, Miss. Laina  female  26.0      0   \n",
       "3       Futrelle, Mrs. Jacques Heath (Lily May Peel)  female  35.0      1   \n",
       "4                           Allen, Mr. William Henry    male  35.0      0   \n",
       "5                                   Moran, Mr. James    male   NaN      0   \n",
       "6                            McCarthy, Mr. Timothy J    male  54.0      0   \n",
       "7                     Palsson, Master. Gosta Leonard    male   2.0      3   \n",
       "8  Johnson, Mrs. Oscar W (Elisabeth Vilhelmina Berg)  female  27.0      0   \n",
       "9                Nasser, Mrs. Nicholas (Adele Achem)  female  14.0      1   \n",
       "\n",
       "   Parch            Ticket     Fare Cabin Embarked  \n",
       "0      0         A/5 21171   7.2500   NaN        S  \n",
       "1      0          PC 17599  71.2833   C85        C  \n",
       "2      0  STON/O2. 3101282   7.9250   NaN        S  \n",
       "3      0            113803  53.1000  C123        S  \n",
       "4      0            373450   8.0500   NaN        S  \n",
       "5      0            330877   8.4583   NaN        Q  \n",
       "6      0             17463  51.8625   E46        S  \n",
       "7      1            349909  21.0750   NaN        S  \n",
       "8      2            347742  11.1333   NaN        S  \n",
       "9      0            237736  30.0708   NaN        C  "
      ]
     },
     "execution_count": 2,
     "metadata": {},
     "output_type": "execute_result"
    }
   ],
   "source": [
    "df = pd.read_csv('train.csv')\n",
    "df.head(10)"
   ]
  },
  {
   "cell_type": "code",
   "execution_count": 3,
   "id": "ffb049df",
   "metadata": {},
   "outputs": [
    {
     "data": {
      "text/plain": [
       "Index(['PassengerId', 'Survived', 'Pclass', 'Name', 'Sex', 'Age', 'SibSp',\n",
       "       'Parch', 'Ticket', 'Fare', 'Cabin', 'Embarked'],\n",
       "      dtype='object')"
      ]
     },
     "execution_count": 3,
     "metadata": {},
     "output_type": "execute_result"
    }
   ],
   "source": [
    "df.columns"
   ]
  },
  {
   "cell_type": "code",
   "execution_count": 4,
   "id": "281dc48c",
   "metadata": {},
   "outputs": [],
   "source": [
    "df.drop(columns=['PassengerId','Name','Ticket','Cabin'],inplace=True)"
   ]
  },
  {
   "cell_type": "code",
   "execution_count": 5,
   "id": "478a69b2",
   "metadata": {},
   "outputs": [],
   "source": [
    "X_train, X_test, y_train, y_test = train_test_split(df.drop(columns=['Survived']), df['Survived'], test_size=0.2, random_state=42)"
   ]
  },
  {
   "cell_type": "code",
   "execution_count": 6,
   "id": "2b7147e5",
   "metadata": {},
   "outputs": [
    {
     "data": {
      "text/html": [
       "<div>\n",
       "<style scoped>\n",
       "    .dataframe tbody tr th:only-of-type {\n",
       "        vertical-align: middle;\n",
       "    }\n",
       "\n",
       "    .dataframe tbody tr th {\n",
       "        vertical-align: top;\n",
       "    }\n",
       "\n",
       "    .dataframe thead th {\n",
       "        text-align: right;\n",
       "    }\n",
       "</style>\n",
       "<table border=\"1\" class=\"dataframe\">\n",
       "  <thead>\n",
       "    <tr style=\"text-align: right;\">\n",
       "      <th></th>\n",
       "      <th>Pclass</th>\n",
       "      <th>Sex</th>\n",
       "      <th>Age</th>\n",
       "      <th>SibSp</th>\n",
       "      <th>Parch</th>\n",
       "      <th>Fare</th>\n",
       "      <th>Embarked</th>\n",
       "    </tr>\n",
       "  </thead>\n",
       "  <tbody>\n",
       "    <tr>\n",
       "      <th>331</th>\n",
       "      <td>1</td>\n",
       "      <td>male</td>\n",
       "      <td>45.5</td>\n",
       "      <td>0</td>\n",
       "      <td>0</td>\n",
       "      <td>28.5000</td>\n",
       "      <td>S</td>\n",
       "    </tr>\n",
       "    <tr>\n",
       "      <th>733</th>\n",
       "      <td>2</td>\n",
       "      <td>male</td>\n",
       "      <td>23.0</td>\n",
       "      <td>0</td>\n",
       "      <td>0</td>\n",
       "      <td>13.0000</td>\n",
       "      <td>S</td>\n",
       "    </tr>\n",
       "    <tr>\n",
       "      <th>382</th>\n",
       "      <td>3</td>\n",
       "      <td>male</td>\n",
       "      <td>32.0</td>\n",
       "      <td>0</td>\n",
       "      <td>0</td>\n",
       "      <td>7.9250</td>\n",
       "      <td>S</td>\n",
       "    </tr>\n",
       "    <tr>\n",
       "      <th>704</th>\n",
       "      <td>3</td>\n",
       "      <td>male</td>\n",
       "      <td>26.0</td>\n",
       "      <td>1</td>\n",
       "      <td>0</td>\n",
       "      <td>7.8542</td>\n",
       "      <td>S</td>\n",
       "    </tr>\n",
       "    <tr>\n",
       "      <th>813</th>\n",
       "      <td>3</td>\n",
       "      <td>female</td>\n",
       "      <td>6.0</td>\n",
       "      <td>4</td>\n",
       "      <td>2</td>\n",
       "      <td>31.2750</td>\n",
       "      <td>S</td>\n",
       "    </tr>\n",
       "  </tbody>\n",
       "</table>\n",
       "</div>"
      ],
      "text/plain": [
       "     Pclass     Sex   Age  SibSp  Parch     Fare Embarked\n",
       "331       1    male  45.5      0      0  28.5000        S\n",
       "733       2    male  23.0      0      0  13.0000        S\n",
       "382       3    male  32.0      0      0   7.9250        S\n",
       "704       3    male  26.0      1      0   7.8542        S\n",
       "813       3  female   6.0      4      2  31.2750        S"
      ]
     },
     "execution_count": 6,
     "metadata": {},
     "output_type": "execute_result"
    }
   ],
   "source": [
    "X_train.head()"
   ]
  },
  {
   "cell_type": "code",
   "execution_count": 7,
   "id": "59a4ff01",
   "metadata": {},
   "outputs": [
    {
     "data": {
      "text/plain": [
       "384    0\n",
       "404    0\n",
       "733    0\n",
       "818    0\n",
       "336    0\n",
       "613    0\n",
       "570    1\n",
       "452    0\n",
       "786    1\n",
       "317    0\n",
       "Name: Survived, dtype: int64"
      ]
     },
     "execution_count": 7,
     "metadata": {},
     "output_type": "execute_result"
    }
   ],
   "source": [
    "y_train.sample(10)"
   ]
  },
  {
   "cell_type": "code",
   "execution_count": 8,
   "id": "d85ec98a",
   "metadata": {},
   "outputs": [],
   "source": [
    "# imputation transformer\n",
    "\n",
    "tnf1 = ColumnTransformer([\n",
    "    ('impute_age',SimpleImputer(),[2]),\n",
    "    ('impute_embarked',SimpleImputer(strategy='most_frequent'),[6])\n",
    "],remainder='passthrough')"
   ]
  },
  {
   "cell_type": "code",
   "execution_count": 9,
   "id": "ee2320a0",
   "metadata": {},
   "outputs": [],
   "source": [
    "# one hot encoding\n",
    "tnf2 = ColumnTransformer([\n",
    "    ('ohe_sex_embarked',OneHotEncoder(sparse=False,handle_unknown='ignore'),[1,6])\n",
    "],remainder='passthrough')"
   ]
  },
  {
   "cell_type": "code",
   "execution_count": 10,
   "id": "42c0874e",
   "metadata": {},
   "outputs": [],
   "source": [
    "# Scaling\n",
    "tnf3 = ColumnTransformer([('scale',MinMaxScaler(),slice(0,10))]\n",
    "                         )"
   ]
  },
  {
   "cell_type": "code",
   "execution_count": 11,
   "id": "e993db13",
   "metadata": {},
   "outputs": [],
   "source": [
    "# Feature Selection\n",
    "\n",
    "tnf4 = SelectKBest(score_func=chi2,k=5)"
   ]
  },
  {
   "cell_type": "code",
   "execution_count": 12,
   "id": "b639f819",
   "metadata": {},
   "outputs": [],
   "source": [
    "# model \n",
    "\n",
    "tnf5 = DecisionTreeClassifier()"
   ]
  },
  {
   "cell_type": "markdown",
   "id": "19350698",
   "metadata": {},
   "source": [
    "# Create pipeline"
   ]
  },
  {
   "cell_type": "code",
   "execution_count": 13,
   "id": "74e07a6e",
   "metadata": {},
   "outputs": [],
   "source": [
    "# Display Pipeline\n",
    "\n",
    "from sklearn import set_config\n",
    "set_config(display='diagram')"
   ]
  },
  {
   "cell_type": "code",
   "execution_count": 14,
   "id": "70a10246",
   "metadata": {},
   "outputs": [],
   "source": [
    "pipe = Pipeline([\n",
    "    ('tnf1',tnf1),\n",
    "    ('tnf2',tnf2),\n",
    "    ('tnf3',tnf3),\n",
    "    ('tnf4',tnf4),\n",
    "    ('tnf5',tnf5)])"
   ]
  },
  {
   "cell_type": "markdown",
   "id": "ac398de7",
   "metadata": {},
   "source": [
    "# Pipeline Vs make_pipeline\n",
    "\n",
    "Pipeline requires naming of steps, make_pipeline does not.\n",
    "\n",
    "(Same applies to ColumnTransformer vs make_column_transformer)\n"
   ]
  },
  {
   "cell_type": "code",
   "execution_count": 15,
   "id": "8cba0296",
   "metadata": {},
   "outputs": [],
   "source": [
    "# make_pipeline\n",
    "\n",
    "pipe = make_pipeline(tnf1,tnf2,tnf3,tnf4,tnf5)"
   ]
  },
  {
   "cell_type": "code",
   "execution_count": 16,
   "id": "91846903",
   "metadata": {},
   "outputs": [
    {
     "data": {
      "text/html": [
       "<style>#sk-15817b84-dea8-4dd7-81e2-dc0f2c4045a0 {color: black;background-color: white;}#sk-15817b84-dea8-4dd7-81e2-dc0f2c4045a0 pre{padding: 0;}#sk-15817b84-dea8-4dd7-81e2-dc0f2c4045a0 div.sk-toggleable {background-color: white;}#sk-15817b84-dea8-4dd7-81e2-dc0f2c4045a0 label.sk-toggleable__label {cursor: pointer;display: block;width: 100%;margin-bottom: 0;padding: 0.3em;box-sizing: border-box;text-align: center;}#sk-15817b84-dea8-4dd7-81e2-dc0f2c4045a0 label.sk-toggleable__label-arrow:before {content: \"▸\";float: left;margin-right: 0.25em;color: #696969;}#sk-15817b84-dea8-4dd7-81e2-dc0f2c4045a0 label.sk-toggleable__label-arrow:hover:before {color: black;}#sk-15817b84-dea8-4dd7-81e2-dc0f2c4045a0 div.sk-estimator:hover label.sk-toggleable__label-arrow:before {color: black;}#sk-15817b84-dea8-4dd7-81e2-dc0f2c4045a0 div.sk-toggleable__content {max-height: 0;max-width: 0;overflow: hidden;text-align: left;background-color: #f0f8ff;}#sk-15817b84-dea8-4dd7-81e2-dc0f2c4045a0 div.sk-toggleable__content pre {margin: 0.2em;color: black;border-radius: 0.25em;background-color: #f0f8ff;}#sk-15817b84-dea8-4dd7-81e2-dc0f2c4045a0 input.sk-toggleable__control:checked~div.sk-toggleable__content {max-height: 200px;max-width: 100%;overflow: auto;}#sk-15817b84-dea8-4dd7-81e2-dc0f2c4045a0 input.sk-toggleable__control:checked~label.sk-toggleable__label-arrow:before {content: \"▾\";}#sk-15817b84-dea8-4dd7-81e2-dc0f2c4045a0 div.sk-estimator input.sk-toggleable__control:checked~label.sk-toggleable__label {background-color: #d4ebff;}#sk-15817b84-dea8-4dd7-81e2-dc0f2c4045a0 div.sk-label input.sk-toggleable__control:checked~label.sk-toggleable__label {background-color: #d4ebff;}#sk-15817b84-dea8-4dd7-81e2-dc0f2c4045a0 input.sk-hidden--visually {border: 0;clip: rect(1px 1px 1px 1px);clip: rect(1px, 1px, 1px, 1px);height: 1px;margin: -1px;overflow: hidden;padding: 0;position: absolute;width: 1px;}#sk-15817b84-dea8-4dd7-81e2-dc0f2c4045a0 div.sk-estimator {font-family: monospace;background-color: #f0f8ff;border: 1px dotted black;border-radius: 0.25em;box-sizing: border-box;margin-bottom: 0.5em;}#sk-15817b84-dea8-4dd7-81e2-dc0f2c4045a0 div.sk-estimator:hover {background-color: #d4ebff;}#sk-15817b84-dea8-4dd7-81e2-dc0f2c4045a0 div.sk-parallel-item::after {content: \"\";width: 100%;border-bottom: 1px solid gray;flex-grow: 1;}#sk-15817b84-dea8-4dd7-81e2-dc0f2c4045a0 div.sk-label:hover label.sk-toggleable__label {background-color: #d4ebff;}#sk-15817b84-dea8-4dd7-81e2-dc0f2c4045a0 div.sk-serial::before {content: \"\";position: absolute;border-left: 1px solid gray;box-sizing: border-box;top: 2em;bottom: 0;left: 50%;}#sk-15817b84-dea8-4dd7-81e2-dc0f2c4045a0 div.sk-serial {display: flex;flex-direction: column;align-items: center;background-color: white;padding-right: 0.2em;padding-left: 0.2em;}#sk-15817b84-dea8-4dd7-81e2-dc0f2c4045a0 div.sk-item {z-index: 1;}#sk-15817b84-dea8-4dd7-81e2-dc0f2c4045a0 div.sk-parallel {display: flex;align-items: stretch;justify-content: center;background-color: white;}#sk-15817b84-dea8-4dd7-81e2-dc0f2c4045a0 div.sk-parallel::before {content: \"\";position: absolute;border-left: 1px solid gray;box-sizing: border-box;top: 2em;bottom: 0;left: 50%;}#sk-15817b84-dea8-4dd7-81e2-dc0f2c4045a0 div.sk-parallel-item {display: flex;flex-direction: column;position: relative;background-color: white;}#sk-15817b84-dea8-4dd7-81e2-dc0f2c4045a0 div.sk-parallel-item:first-child::after {align-self: flex-end;width: 50%;}#sk-15817b84-dea8-4dd7-81e2-dc0f2c4045a0 div.sk-parallel-item:last-child::after {align-self: flex-start;width: 50%;}#sk-15817b84-dea8-4dd7-81e2-dc0f2c4045a0 div.sk-parallel-item:only-child::after {width: 0;}#sk-15817b84-dea8-4dd7-81e2-dc0f2c4045a0 div.sk-dashed-wrapped {border: 1px dashed gray;margin: 0 0.4em 0.5em 0.4em;box-sizing: border-box;padding-bottom: 0.4em;background-color: white;position: relative;}#sk-15817b84-dea8-4dd7-81e2-dc0f2c4045a0 div.sk-label label {font-family: monospace;font-weight: bold;background-color: white;display: inline-block;line-height: 1.2em;}#sk-15817b84-dea8-4dd7-81e2-dc0f2c4045a0 div.sk-label-container {position: relative;z-index: 2;text-align: center;}#sk-15817b84-dea8-4dd7-81e2-dc0f2c4045a0 div.sk-container {/* jupyter's `normalize.less` sets `[hidden] { display: none; }` but bootstrap.min.css set `[hidden] { display: none !important; }` so we also need the `!important` here to be able to override the default hidden behavior on the sphinx rendered scikit-learn.org. See: https://github.com/scikit-learn/scikit-learn/issues/21755 */display: inline-block !important;position: relative;}#sk-15817b84-dea8-4dd7-81e2-dc0f2c4045a0 div.sk-text-repr-fallback {display: none;}</style><div id=\"sk-15817b84-dea8-4dd7-81e2-dc0f2c4045a0\" class=\"sk-top-container\"><div class=\"sk-text-repr-fallback\"><pre>Pipeline(steps=[(&#x27;columntransformer-1&#x27;,\n",
       "                 ColumnTransformer(remainder=&#x27;passthrough&#x27;,\n",
       "                                   transformers=[(&#x27;impute_age&#x27;, SimpleImputer(),\n",
       "                                                  [2]),\n",
       "                                                 (&#x27;impute_embarked&#x27;,\n",
       "                                                  SimpleImputer(strategy=&#x27;most_frequent&#x27;),\n",
       "                                                  [6])])),\n",
       "                (&#x27;columntransformer-2&#x27;,\n",
       "                 ColumnTransformer(remainder=&#x27;passthrough&#x27;,\n",
       "                                   transformers=[(&#x27;ohe_sex_embarked&#x27;,\n",
       "                                                  OneHotEncoder(handle_unknown=&#x27;ignore&#x27;,\n",
       "                                                                sparse=False),\n",
       "                                                  [1, 6])])),\n",
       "                (&#x27;columntransformer-3&#x27;,\n",
       "                 ColumnTransformer(transformers=[(&#x27;scale&#x27;, MinMaxScaler(),\n",
       "                                                  slice(0, 10, None))])),\n",
       "                (&#x27;selectkbest&#x27;,\n",
       "                 SelectKBest(k=5,\n",
       "                             score_func=&lt;function chi2 at 0x000002284606FA60&gt;)),\n",
       "                (&#x27;decisiontreeclassifier&#x27;, DecisionTreeClassifier())])</pre><b>Please rerun this cell to show the HTML repr or trust the notebook.</b></div><div class=\"sk-container\" hidden><div class=\"sk-item sk-dashed-wrapped\"><div class=\"sk-label-container\"><div class=\"sk-label sk-toggleable\"><input class=\"sk-toggleable__control sk-hidden--visually\" id=\"d236d576-d75d-4959-8794-b3801b4a4ca5\" type=\"checkbox\" ><label for=\"d236d576-d75d-4959-8794-b3801b4a4ca5\" class=\"sk-toggleable__label sk-toggleable__label-arrow\">Pipeline</label><div class=\"sk-toggleable__content\"><pre>Pipeline(steps=[(&#x27;columntransformer-1&#x27;,\n",
       "                 ColumnTransformer(remainder=&#x27;passthrough&#x27;,\n",
       "                                   transformers=[(&#x27;impute_age&#x27;, SimpleImputer(),\n",
       "                                                  [2]),\n",
       "                                                 (&#x27;impute_embarked&#x27;,\n",
       "                                                  SimpleImputer(strategy=&#x27;most_frequent&#x27;),\n",
       "                                                  [6])])),\n",
       "                (&#x27;columntransformer-2&#x27;,\n",
       "                 ColumnTransformer(remainder=&#x27;passthrough&#x27;,\n",
       "                                   transformers=[(&#x27;ohe_sex_embarked&#x27;,\n",
       "                                                  OneHotEncoder(handle_unknown=&#x27;ignore&#x27;,\n",
       "                                                                sparse=False),\n",
       "                                                  [1, 6])])),\n",
       "                (&#x27;columntransformer-3&#x27;,\n",
       "                 ColumnTransformer(transformers=[(&#x27;scale&#x27;, MinMaxScaler(),\n",
       "                                                  slice(0, 10, None))])),\n",
       "                (&#x27;selectkbest&#x27;,\n",
       "                 SelectKBest(k=5,\n",
       "                             score_func=&lt;function chi2 at 0x000002284606FA60&gt;)),\n",
       "                (&#x27;decisiontreeclassifier&#x27;, DecisionTreeClassifier())])</pre></div></div></div><div class=\"sk-serial\"><div class=\"sk-item sk-dashed-wrapped\"><div class=\"sk-label-container\"><div class=\"sk-label sk-toggleable\"><input class=\"sk-toggleable__control sk-hidden--visually\" id=\"be11ea47-bb24-427b-8471-25d7cf22851f\" type=\"checkbox\" ><label for=\"be11ea47-bb24-427b-8471-25d7cf22851f\" class=\"sk-toggleable__label sk-toggleable__label-arrow\">columntransformer-1: ColumnTransformer</label><div class=\"sk-toggleable__content\"><pre>ColumnTransformer(remainder=&#x27;passthrough&#x27;,\n",
       "                  transformers=[(&#x27;impute_age&#x27;, SimpleImputer(), [2]),\n",
       "                                (&#x27;impute_embarked&#x27;,\n",
       "                                 SimpleImputer(strategy=&#x27;most_frequent&#x27;),\n",
       "                                 [6])])</pre></div></div></div><div class=\"sk-parallel\"><div class=\"sk-parallel-item\"><div class=\"sk-item\"><div class=\"sk-label-container\"><div class=\"sk-label sk-toggleable\"><input class=\"sk-toggleable__control sk-hidden--visually\" id=\"cb4b379a-8310-46dd-a51b-347786d2cd06\" type=\"checkbox\" ><label for=\"cb4b379a-8310-46dd-a51b-347786d2cd06\" class=\"sk-toggleable__label sk-toggleable__label-arrow\">impute_age</label><div class=\"sk-toggleable__content\"><pre>[2]</pre></div></div></div><div class=\"sk-serial\"><div class=\"sk-item\"><div class=\"sk-estimator sk-toggleable\"><input class=\"sk-toggleable__control sk-hidden--visually\" id=\"4161a732-8db1-4579-8b9e-20e7a53e15c4\" type=\"checkbox\" ><label for=\"4161a732-8db1-4579-8b9e-20e7a53e15c4\" class=\"sk-toggleable__label sk-toggleable__label-arrow\">SimpleImputer</label><div class=\"sk-toggleable__content\"><pre>SimpleImputer()</pre></div></div></div></div></div></div><div class=\"sk-parallel-item\"><div class=\"sk-item\"><div class=\"sk-label-container\"><div class=\"sk-label sk-toggleable\"><input class=\"sk-toggleable__control sk-hidden--visually\" id=\"451af053-5b6c-4259-a044-550ee2751fdd\" type=\"checkbox\" ><label for=\"451af053-5b6c-4259-a044-550ee2751fdd\" class=\"sk-toggleable__label sk-toggleable__label-arrow\">impute_embarked</label><div class=\"sk-toggleable__content\"><pre>[6]</pre></div></div></div><div class=\"sk-serial\"><div class=\"sk-item\"><div class=\"sk-estimator sk-toggleable\"><input class=\"sk-toggleable__control sk-hidden--visually\" id=\"7c3b4799-dcb2-49c0-92e0-4444bc612b01\" type=\"checkbox\" ><label for=\"7c3b4799-dcb2-49c0-92e0-4444bc612b01\" class=\"sk-toggleable__label sk-toggleable__label-arrow\">SimpleImputer</label><div class=\"sk-toggleable__content\"><pre>SimpleImputer(strategy=&#x27;most_frequent&#x27;)</pre></div></div></div></div></div></div><div class=\"sk-parallel-item\"><div class=\"sk-item\"><div class=\"sk-label-container\"><div class=\"sk-label sk-toggleable\"><input class=\"sk-toggleable__control sk-hidden--visually\" id=\"3250b96d-af25-4880-9423-c46b53a9f309\" type=\"checkbox\" ><label for=\"3250b96d-af25-4880-9423-c46b53a9f309\" class=\"sk-toggleable__label sk-toggleable__label-arrow\">remainder</label><div class=\"sk-toggleable__content\"><pre>[&#x27;Pclass&#x27;, &#x27;Sex&#x27;, &#x27;SibSp&#x27;, &#x27;Parch&#x27;, &#x27;Fare&#x27;]</pre></div></div></div><div class=\"sk-serial\"><div class=\"sk-item\"><div class=\"sk-estimator sk-toggleable\"><input class=\"sk-toggleable__control sk-hidden--visually\" id=\"24bd24d3-c1e4-4021-8f45-cee2cb2f886f\" type=\"checkbox\" ><label for=\"24bd24d3-c1e4-4021-8f45-cee2cb2f886f\" class=\"sk-toggleable__label sk-toggleable__label-arrow\">passthrough</label><div class=\"sk-toggleable__content\"><pre>passthrough</pre></div></div></div></div></div></div></div></div><div class=\"sk-item sk-dashed-wrapped\"><div class=\"sk-label-container\"><div class=\"sk-label sk-toggleable\"><input class=\"sk-toggleable__control sk-hidden--visually\" id=\"d5dc06cd-fc20-4b6f-9f4e-c46a7e508396\" type=\"checkbox\" ><label for=\"d5dc06cd-fc20-4b6f-9f4e-c46a7e508396\" class=\"sk-toggleable__label sk-toggleable__label-arrow\">columntransformer-2: ColumnTransformer</label><div class=\"sk-toggleable__content\"><pre>ColumnTransformer(remainder=&#x27;passthrough&#x27;,\n",
       "                  transformers=[(&#x27;ohe_sex_embarked&#x27;,\n",
       "                                 OneHotEncoder(handle_unknown=&#x27;ignore&#x27;,\n",
       "                                               sparse=False),\n",
       "                                 [1, 6])])</pre></div></div></div><div class=\"sk-parallel\"><div class=\"sk-parallel-item\"><div class=\"sk-item\"><div class=\"sk-label-container\"><div class=\"sk-label sk-toggleable\"><input class=\"sk-toggleable__control sk-hidden--visually\" id=\"b14c7eaa-00d0-476e-b15d-223961d5ddfe\" type=\"checkbox\" ><label for=\"b14c7eaa-00d0-476e-b15d-223961d5ddfe\" class=\"sk-toggleable__label sk-toggleable__label-arrow\">ohe_sex_embarked</label><div class=\"sk-toggleable__content\"><pre>[1, 6]</pre></div></div></div><div class=\"sk-serial\"><div class=\"sk-item\"><div class=\"sk-estimator sk-toggleable\"><input class=\"sk-toggleable__control sk-hidden--visually\" id=\"2433ccbd-78e9-4dd2-a93e-a4143f9ec7a2\" type=\"checkbox\" ><label for=\"2433ccbd-78e9-4dd2-a93e-a4143f9ec7a2\" class=\"sk-toggleable__label sk-toggleable__label-arrow\">OneHotEncoder</label><div class=\"sk-toggleable__content\"><pre>OneHotEncoder(handle_unknown=&#x27;ignore&#x27;, sparse=False)</pre></div></div></div></div></div></div><div class=\"sk-parallel-item\"><div class=\"sk-item\"><div class=\"sk-label-container\"><div class=\"sk-label sk-toggleable\"><input class=\"sk-toggleable__control sk-hidden--visually\" id=\"1c07fe42-f37b-41b4-80a1-7b5423c0561a\" type=\"checkbox\" ><label for=\"1c07fe42-f37b-41b4-80a1-7b5423c0561a\" class=\"sk-toggleable__label sk-toggleable__label-arrow\">remainder</label><div class=\"sk-toggleable__content\"><pre>[0, 2, 3, 4, 5]</pre></div></div></div><div class=\"sk-serial\"><div class=\"sk-item\"><div class=\"sk-estimator sk-toggleable\"><input class=\"sk-toggleable__control sk-hidden--visually\" id=\"ec0a5691-2cfd-4d19-a3cd-37e099f3106c\" type=\"checkbox\" ><label for=\"ec0a5691-2cfd-4d19-a3cd-37e099f3106c\" class=\"sk-toggleable__label sk-toggleable__label-arrow\">passthrough</label><div class=\"sk-toggleable__content\"><pre>passthrough</pre></div></div></div></div></div></div></div></div><div class=\"sk-item sk-dashed-wrapped\"><div class=\"sk-label-container\"><div class=\"sk-label sk-toggleable\"><input class=\"sk-toggleable__control sk-hidden--visually\" id=\"a67677eb-9f56-4db7-9717-61108f4259ca\" type=\"checkbox\" ><label for=\"a67677eb-9f56-4db7-9717-61108f4259ca\" class=\"sk-toggleable__label sk-toggleable__label-arrow\">columntransformer-3: ColumnTransformer</label><div class=\"sk-toggleable__content\"><pre>ColumnTransformer(transformers=[(&#x27;scale&#x27;, MinMaxScaler(), slice(0, 10, None))])</pre></div></div></div><div class=\"sk-parallel\"><div class=\"sk-parallel-item\"><div class=\"sk-item\"><div class=\"sk-label-container\"><div class=\"sk-label sk-toggleable\"><input class=\"sk-toggleable__control sk-hidden--visually\" id=\"b2514728-0b03-40f9-abad-c26c0636769c\" type=\"checkbox\" ><label for=\"b2514728-0b03-40f9-abad-c26c0636769c\" class=\"sk-toggleable__label sk-toggleable__label-arrow\">scale</label><div class=\"sk-toggleable__content\"><pre>slice(0, 10, None)</pre></div></div></div><div class=\"sk-serial\"><div class=\"sk-item\"><div class=\"sk-estimator sk-toggleable\"><input class=\"sk-toggleable__control sk-hidden--visually\" id=\"99fa8846-7186-4baf-b13a-7584822b2be5\" type=\"checkbox\" ><label for=\"99fa8846-7186-4baf-b13a-7584822b2be5\" class=\"sk-toggleable__label sk-toggleable__label-arrow\">MinMaxScaler</label><div class=\"sk-toggleable__content\"><pre>MinMaxScaler()</pre></div></div></div></div></div></div></div></div><div class=\"sk-item\"><div class=\"sk-estimator sk-toggleable\"><input class=\"sk-toggleable__control sk-hidden--visually\" id=\"2bb6688f-0444-467d-974a-181454931209\" type=\"checkbox\" ><label for=\"2bb6688f-0444-467d-974a-181454931209\" class=\"sk-toggleable__label sk-toggleable__label-arrow\">SelectKBest</label><div class=\"sk-toggleable__content\"><pre>SelectKBest(k=5, score_func=&lt;function chi2 at 0x000002284606FA60&gt;)</pre></div></div></div><div class=\"sk-item\"><div class=\"sk-estimator sk-toggleable\"><input class=\"sk-toggleable__control sk-hidden--visually\" id=\"3d6c4363-9642-4bd4-959f-c8b2082aed4b\" type=\"checkbox\" ><label for=\"3d6c4363-9642-4bd4-959f-c8b2082aed4b\" class=\"sk-toggleable__label sk-toggleable__label-arrow\">DecisionTreeClassifier</label><div class=\"sk-toggleable__content\"><pre>DecisionTreeClassifier()</pre></div></div></div></div></div></div></div>"
      ],
      "text/plain": [
       "Pipeline(steps=[('columntransformer-1',\n",
       "                 ColumnTransformer(remainder='passthrough',\n",
       "                                   transformers=[('impute_age', SimpleImputer(),\n",
       "                                                  [2]),\n",
       "                                                 ('impute_embarked',\n",
       "                                                  SimpleImputer(strategy='most_frequent'),\n",
       "                                                  [6])])),\n",
       "                ('columntransformer-2',\n",
       "                 ColumnTransformer(remainder='passthrough',\n",
       "                                   transformers=[('ohe_sex_embarked',\n",
       "                                                  OneHotEncoder(handle_unknown='ignore',\n",
       "                                                                sparse=False),\n",
       "                                                  [1, 6])])),\n",
       "                ('columntransformer-3',\n",
       "                 ColumnTransformer(transformers=[('scale', MinMaxScaler(),\n",
       "                                                  slice(0, 10, None))])),\n",
       "                ('selectkbest',\n",
       "                 SelectKBest(k=5,\n",
       "                             score_func=<function chi2 at 0x000002284606FA60>)),\n",
       "                ('decisiontreeclassifier', DecisionTreeClassifier())])"
      ]
     },
     "execution_count": 16,
     "metadata": {},
     "output_type": "execute_result"
    }
   ],
   "source": [
    "# train\n",
    "\n",
    "pipe.fit(X_train,y_train)"
   ]
  },
  {
   "cell_type": "code",
   "execution_count": 17,
   "id": "b0acdd17",
   "metadata": {},
   "outputs": [
    {
     "data": {
      "text/plain": [
       "{'columntransformer-1': ColumnTransformer(remainder='passthrough',\n",
       "                   transformers=[('impute_age', SimpleImputer(), [2]),\n",
       "                                 ('impute_embarked',\n",
       "                                  SimpleImputer(strategy='most_frequent'),\n",
       "                                  [6])]),\n",
       " 'columntransformer-2': ColumnTransformer(remainder='passthrough',\n",
       "                   transformers=[('ohe_sex_embarked',\n",
       "                                  OneHotEncoder(handle_unknown='ignore',\n",
       "                                                sparse=False),\n",
       "                                  [1, 6])]),\n",
       " 'columntransformer-3': ColumnTransformer(transformers=[('scale', MinMaxScaler(), slice(0, 10, None))]),\n",
       " 'selectkbest': SelectKBest(k=5, score_func=<function chi2 at 0x000002284606FA60>),\n",
       " 'decisiontreeclassifier': DecisionTreeClassifier()}"
      ]
     },
     "execution_count": 17,
     "metadata": {},
     "output_type": "execute_result"
    }
   ],
   "source": [
    "# Code here\n",
    "pipe.named_steps"
   ]
  },
  {
   "cell_type": "code",
   "execution_count": 18,
   "id": "a551e8af",
   "metadata": {},
   "outputs": [
    {
     "data": {
      "text/plain": [
       "array([29.49884615])"
      ]
     },
     "execution_count": 18,
     "metadata": {},
     "output_type": "execute_result"
    }
   ],
   "source": [
    "pipe.named_steps['columntransformer-1'].transformers_[0][1].statistics_"
   ]
  },
  {
   "cell_type": "code",
   "execution_count": 19,
   "id": "13844497",
   "metadata": {},
   "outputs": [
    {
     "data": {
      "text/plain": [
       "array(['S'], dtype=object)"
      ]
     },
     "execution_count": 19,
     "metadata": {},
     "output_type": "execute_result"
    }
   ],
   "source": [
    "\n",
    "pipe.named_steps['columntransformer-1'].transformers_[1][1].statistics_"
   ]
  },
  {
   "cell_type": "code",
   "execution_count": 20,
   "id": "86bb3efb",
   "metadata": {},
   "outputs": [],
   "source": [
    "# Predict\n",
    "y_pred = pipe.predict(X_test)"
   ]
  },
  {
   "cell_type": "code",
   "execution_count": 21,
   "id": "a7b7d475",
   "metadata": {},
   "outputs": [
    {
     "data": {
      "text/plain": [
       "array([1, 0, 0, 0, 1, 0, 0, 0, 0, 0, 0, 0, 0, 1, 0, 0, 0, 0, 0, 0, 0, 0,\n",
       "       0, 0, 0, 0, 1, 0, 0, 0, 0, 0, 1, 0, 0, 1, 0, 0, 1, 0, 0, 0, 0, 0,\n",
       "       1, 0, 0, 0, 0, 1, 1, 0, 0, 0, 0, 0, 0, 1, 0, 0, 0, 0, 0, 0, 0, 0,\n",
       "       0, 0, 1, 1, 0, 1, 1, 1, 0, 0, 0, 1, 0, 0, 0, 0, 1, 0, 1, 1, 1, 1,\n",
       "       0, 0, 0, 0, 0, 0, 0, 0, 0, 0, 0, 0, 0, 0, 1, 0, 0, 0, 0, 0, 0, 1,\n",
       "       0, 0, 1, 0, 0, 0, 1, 1, 0, 0, 0, 1, 0, 0, 0, 1, 0, 1, 1, 0, 0, 1,\n",
       "       0, 0, 1, 1, 1, 0, 0, 0, 0, 0, 0, 0, 0, 0, 0, 0, 1, 0, 1, 0, 0, 0,\n",
       "       0, 0, 0, 0, 0, 0, 1, 0, 0, 1, 0, 1, 0, 0, 0, 0, 1, 0, 0, 1, 0, 1,\n",
       "       0, 0, 0], dtype=int64)"
      ]
     },
     "execution_count": 21,
     "metadata": {},
     "output_type": "execute_result"
    }
   ],
   "source": [
    "y_pred"
   ]
  },
  {
   "cell_type": "code",
   "execution_count": 22,
   "id": "0b70d205",
   "metadata": {},
   "outputs": [
    {
     "data": {
      "text/plain": [
       "0.6256983240223464"
      ]
     },
     "execution_count": 22,
     "metadata": {},
     "output_type": "execute_result"
    }
   ],
   "source": [
    "from sklearn.metrics import accuracy_score\n",
    "accuracy_score(y_test,y_pred)"
   ]
  },
  {
   "cell_type": "markdown",
   "id": "0922e110",
   "metadata": {},
   "source": [
    "# Cross Validation using pipeline"
   ]
  },
  {
   "cell_type": "code",
   "execution_count": 23,
   "id": "8f87d284",
   "metadata": {},
   "outputs": [
    {
     "data": {
      "text/plain": [
       "0.6391214419383433"
      ]
     },
     "execution_count": 23,
     "metadata": {},
     "output_type": "execute_result"
    }
   ],
   "source": [
    "# cross validation using cross_val_score\n",
    "from sklearn.model_selection import cross_val_score\n",
    "\n",
    "cross_val_score(pipe, X_train,y_train,cv=5,scoring='accuracy').mean()\n",
    "\n",
    " "
   ]
  },
  {
   "cell_type": "code",
   "execution_count": 24,
   "id": "7724a7c4",
   "metadata": {},
   "outputs": [],
   "source": [
    "# Gridsearchcv\n",
    "\n",
    "params = {'decisiontreeclassifier__max_depth':[1,2,3,4,5,None]}"
   ]
  },
  {
   "cell_type": "code",
   "execution_count": 25,
   "id": "32c93bc1",
   "metadata": {},
   "outputs": [
    {
     "data": {
      "text/html": [
       "<style>#sk-e923f9b7-6401-499f-bd34-5964ca20044e {color: black;background-color: white;}#sk-e923f9b7-6401-499f-bd34-5964ca20044e pre{padding: 0;}#sk-e923f9b7-6401-499f-bd34-5964ca20044e div.sk-toggleable {background-color: white;}#sk-e923f9b7-6401-499f-bd34-5964ca20044e label.sk-toggleable__label {cursor: pointer;display: block;width: 100%;margin-bottom: 0;padding: 0.3em;box-sizing: border-box;text-align: center;}#sk-e923f9b7-6401-499f-bd34-5964ca20044e label.sk-toggleable__label-arrow:before {content: \"▸\";float: left;margin-right: 0.25em;color: #696969;}#sk-e923f9b7-6401-499f-bd34-5964ca20044e label.sk-toggleable__label-arrow:hover:before {color: black;}#sk-e923f9b7-6401-499f-bd34-5964ca20044e div.sk-estimator:hover label.sk-toggleable__label-arrow:before {color: black;}#sk-e923f9b7-6401-499f-bd34-5964ca20044e div.sk-toggleable__content {max-height: 0;max-width: 0;overflow: hidden;text-align: left;background-color: #f0f8ff;}#sk-e923f9b7-6401-499f-bd34-5964ca20044e div.sk-toggleable__content pre {margin: 0.2em;color: black;border-radius: 0.25em;background-color: #f0f8ff;}#sk-e923f9b7-6401-499f-bd34-5964ca20044e input.sk-toggleable__control:checked~div.sk-toggleable__content {max-height: 200px;max-width: 100%;overflow: auto;}#sk-e923f9b7-6401-499f-bd34-5964ca20044e input.sk-toggleable__control:checked~label.sk-toggleable__label-arrow:before {content: \"▾\";}#sk-e923f9b7-6401-499f-bd34-5964ca20044e div.sk-estimator input.sk-toggleable__control:checked~label.sk-toggleable__label {background-color: #d4ebff;}#sk-e923f9b7-6401-499f-bd34-5964ca20044e div.sk-label input.sk-toggleable__control:checked~label.sk-toggleable__label {background-color: #d4ebff;}#sk-e923f9b7-6401-499f-bd34-5964ca20044e input.sk-hidden--visually {border: 0;clip: rect(1px 1px 1px 1px);clip: rect(1px, 1px, 1px, 1px);height: 1px;margin: -1px;overflow: hidden;padding: 0;position: absolute;width: 1px;}#sk-e923f9b7-6401-499f-bd34-5964ca20044e div.sk-estimator {font-family: monospace;background-color: #f0f8ff;border: 1px dotted black;border-radius: 0.25em;box-sizing: border-box;margin-bottom: 0.5em;}#sk-e923f9b7-6401-499f-bd34-5964ca20044e div.sk-estimator:hover {background-color: #d4ebff;}#sk-e923f9b7-6401-499f-bd34-5964ca20044e div.sk-parallel-item::after {content: \"\";width: 100%;border-bottom: 1px solid gray;flex-grow: 1;}#sk-e923f9b7-6401-499f-bd34-5964ca20044e div.sk-label:hover label.sk-toggleable__label {background-color: #d4ebff;}#sk-e923f9b7-6401-499f-bd34-5964ca20044e div.sk-serial::before {content: \"\";position: absolute;border-left: 1px solid gray;box-sizing: border-box;top: 2em;bottom: 0;left: 50%;}#sk-e923f9b7-6401-499f-bd34-5964ca20044e div.sk-serial {display: flex;flex-direction: column;align-items: center;background-color: white;padding-right: 0.2em;padding-left: 0.2em;}#sk-e923f9b7-6401-499f-bd34-5964ca20044e div.sk-item {z-index: 1;}#sk-e923f9b7-6401-499f-bd34-5964ca20044e div.sk-parallel {display: flex;align-items: stretch;justify-content: center;background-color: white;}#sk-e923f9b7-6401-499f-bd34-5964ca20044e div.sk-parallel::before {content: \"\";position: absolute;border-left: 1px solid gray;box-sizing: border-box;top: 2em;bottom: 0;left: 50%;}#sk-e923f9b7-6401-499f-bd34-5964ca20044e div.sk-parallel-item {display: flex;flex-direction: column;position: relative;background-color: white;}#sk-e923f9b7-6401-499f-bd34-5964ca20044e div.sk-parallel-item:first-child::after {align-self: flex-end;width: 50%;}#sk-e923f9b7-6401-499f-bd34-5964ca20044e div.sk-parallel-item:last-child::after {align-self: flex-start;width: 50%;}#sk-e923f9b7-6401-499f-bd34-5964ca20044e div.sk-parallel-item:only-child::after {width: 0;}#sk-e923f9b7-6401-499f-bd34-5964ca20044e div.sk-dashed-wrapped {border: 1px dashed gray;margin: 0 0.4em 0.5em 0.4em;box-sizing: border-box;padding-bottom: 0.4em;background-color: white;position: relative;}#sk-e923f9b7-6401-499f-bd34-5964ca20044e div.sk-label label {font-family: monospace;font-weight: bold;background-color: white;display: inline-block;line-height: 1.2em;}#sk-e923f9b7-6401-499f-bd34-5964ca20044e div.sk-label-container {position: relative;z-index: 2;text-align: center;}#sk-e923f9b7-6401-499f-bd34-5964ca20044e div.sk-container {/* jupyter's `normalize.less` sets `[hidden] { display: none; }` but bootstrap.min.css set `[hidden] { display: none !important; }` so we also need the `!important` here to be able to override the default hidden behavior on the sphinx rendered scikit-learn.org. See: https://github.com/scikit-learn/scikit-learn/issues/21755 */display: inline-block !important;position: relative;}#sk-e923f9b7-6401-499f-bd34-5964ca20044e div.sk-text-repr-fallback {display: none;}</style><div id=\"sk-e923f9b7-6401-499f-bd34-5964ca20044e\" class=\"sk-top-container\"><div class=\"sk-text-repr-fallback\"><pre>GridSearchCV(cv=5,\n",
       "             estimator=Pipeline(steps=[(&#x27;columntransformer-1&#x27;,\n",
       "                                        ColumnTransformer(remainder=&#x27;passthrough&#x27;,\n",
       "                                                          transformers=[(&#x27;impute_age&#x27;,\n",
       "                                                                         SimpleImputer(),\n",
       "                                                                         [2]),\n",
       "                                                                        (&#x27;impute_embarked&#x27;,\n",
       "                                                                         SimpleImputer(strategy=&#x27;most_frequent&#x27;),\n",
       "                                                                         [6])])),\n",
       "                                       (&#x27;columntransformer-2&#x27;,\n",
       "                                        ColumnTransformer(remainder=&#x27;passthrough&#x27;,\n",
       "                                                          transformers=[(&#x27;ohe_sex_embarked&#x27;,\n",
       "                                                                         OneHotEncoder(handle_unkno...ignore&#x27;,\n",
       "                                                                                       sparse=False),\n",
       "                                                                         [1,\n",
       "                                                                          6])])),\n",
       "                                       (&#x27;columntransformer-3&#x27;,\n",
       "                                        ColumnTransformer(transformers=[(&#x27;scale&#x27;,\n",
       "                                                                         MinMaxScaler(),\n",
       "                                                                         slice(0, 10, None))])),\n",
       "                                       (&#x27;selectkbest&#x27;,\n",
       "                                        SelectKBest(k=5,\n",
       "                                                    score_func=&lt;function chi2 at 0x000002284606FA60&gt;)),\n",
       "                                       (&#x27;decisiontreeclassifier&#x27;,\n",
       "                                        DecisionTreeClassifier())]),\n",
       "             param_grid={&#x27;decisiontreeclassifier__max_depth&#x27;: [1, 2, 3, 4, 5,\n",
       "                                                               None]},\n",
       "             scoring=&#x27;accuracy&#x27;)</pre><b>Please rerun this cell to show the HTML repr or trust the notebook.</b></div><div class=\"sk-container\" hidden><div class=\"sk-item sk-dashed-wrapped\"><div class=\"sk-label-container\"><div class=\"sk-label sk-toggleable\"><input class=\"sk-toggleable__control sk-hidden--visually\" id=\"5510a2a2-02ec-458a-b5bd-bbf8575f4a2d\" type=\"checkbox\" ><label for=\"5510a2a2-02ec-458a-b5bd-bbf8575f4a2d\" class=\"sk-toggleable__label sk-toggleable__label-arrow\">GridSearchCV</label><div class=\"sk-toggleable__content\"><pre>GridSearchCV(cv=5,\n",
       "             estimator=Pipeline(steps=[(&#x27;columntransformer-1&#x27;,\n",
       "                                        ColumnTransformer(remainder=&#x27;passthrough&#x27;,\n",
       "                                                          transformers=[(&#x27;impute_age&#x27;,\n",
       "                                                                         SimpleImputer(),\n",
       "                                                                         [2]),\n",
       "                                                                        (&#x27;impute_embarked&#x27;,\n",
       "                                                                         SimpleImputer(strategy=&#x27;most_frequent&#x27;),\n",
       "                                                                         [6])])),\n",
       "                                       (&#x27;columntransformer-2&#x27;,\n",
       "                                        ColumnTransformer(remainder=&#x27;passthrough&#x27;,\n",
       "                                                          transformers=[(&#x27;ohe_sex_embarked&#x27;,\n",
       "                                                                         OneHotEncoder(handle_unkno...ignore&#x27;,\n",
       "                                                                                       sparse=False),\n",
       "                                                                         [1,\n",
       "                                                                          6])])),\n",
       "                                       (&#x27;columntransformer-3&#x27;,\n",
       "                                        ColumnTransformer(transformers=[(&#x27;scale&#x27;,\n",
       "                                                                         MinMaxScaler(),\n",
       "                                                                         slice(0, 10, None))])),\n",
       "                                       (&#x27;selectkbest&#x27;,\n",
       "                                        SelectKBest(k=5,\n",
       "                                                    score_func=&lt;function chi2 at 0x000002284606FA60&gt;)),\n",
       "                                       (&#x27;decisiontreeclassifier&#x27;,\n",
       "                                        DecisionTreeClassifier())]),\n",
       "             param_grid={&#x27;decisiontreeclassifier__max_depth&#x27;: [1, 2, 3, 4, 5,\n",
       "                                                               None]},\n",
       "             scoring=&#x27;accuracy&#x27;)</pre></div></div></div><div class=\"sk-parallel\"><div class=\"sk-parallel-item\"><div class=\"sk-item\"><div class=\"sk-serial\"><div class=\"sk-item\"><div class=\"sk-serial\"><div class=\"sk-item sk-dashed-wrapped\"><div class=\"sk-label-container\"><div class=\"sk-label sk-toggleable\"><input class=\"sk-toggleable__control sk-hidden--visually\" id=\"ccc68cda-1834-494b-b799-85f41514c456\" type=\"checkbox\" ><label for=\"ccc68cda-1834-494b-b799-85f41514c456\" class=\"sk-toggleable__label sk-toggleable__label-arrow\">columntransformer-1: ColumnTransformer</label><div class=\"sk-toggleable__content\"><pre>ColumnTransformer(remainder=&#x27;passthrough&#x27;,\n",
       "                  transformers=[(&#x27;impute_age&#x27;, SimpleImputer(), [2]),\n",
       "                                (&#x27;impute_embarked&#x27;,\n",
       "                                 SimpleImputer(strategy=&#x27;most_frequent&#x27;),\n",
       "                                 [6])])</pre></div></div></div><div class=\"sk-parallel\"><div class=\"sk-parallel-item\"><div class=\"sk-item\"><div class=\"sk-label-container\"><div class=\"sk-label sk-toggleable\"><input class=\"sk-toggleable__control sk-hidden--visually\" id=\"1e1f9b5e-2420-46f4-b1f6-0bc91ed267f1\" type=\"checkbox\" ><label for=\"1e1f9b5e-2420-46f4-b1f6-0bc91ed267f1\" class=\"sk-toggleable__label sk-toggleable__label-arrow\">impute_age</label><div class=\"sk-toggleable__content\"><pre>[2]</pre></div></div></div><div class=\"sk-serial\"><div class=\"sk-item\"><div class=\"sk-estimator sk-toggleable\"><input class=\"sk-toggleable__control sk-hidden--visually\" id=\"86c88eed-f918-4cec-bff9-537270d76b59\" type=\"checkbox\" ><label for=\"86c88eed-f918-4cec-bff9-537270d76b59\" class=\"sk-toggleable__label sk-toggleable__label-arrow\">SimpleImputer</label><div class=\"sk-toggleable__content\"><pre>SimpleImputer()</pre></div></div></div></div></div></div><div class=\"sk-parallel-item\"><div class=\"sk-item\"><div class=\"sk-label-container\"><div class=\"sk-label sk-toggleable\"><input class=\"sk-toggleable__control sk-hidden--visually\" id=\"30ffbdb2-592a-4aff-884d-5e02c0bf70a9\" type=\"checkbox\" ><label for=\"30ffbdb2-592a-4aff-884d-5e02c0bf70a9\" class=\"sk-toggleable__label sk-toggleable__label-arrow\">impute_embarked</label><div class=\"sk-toggleable__content\"><pre>[6]</pre></div></div></div><div class=\"sk-serial\"><div class=\"sk-item\"><div class=\"sk-estimator sk-toggleable\"><input class=\"sk-toggleable__control sk-hidden--visually\" id=\"25494ece-d07d-40de-bbcc-70bf18476c50\" type=\"checkbox\" ><label for=\"25494ece-d07d-40de-bbcc-70bf18476c50\" class=\"sk-toggleable__label sk-toggleable__label-arrow\">SimpleImputer</label><div class=\"sk-toggleable__content\"><pre>SimpleImputer(strategy=&#x27;most_frequent&#x27;)</pre></div></div></div></div></div></div><div class=\"sk-parallel-item\"><div class=\"sk-item\"><div class=\"sk-label-container\"><div class=\"sk-label sk-toggleable\"><input class=\"sk-toggleable__control sk-hidden--visually\" id=\"1dd137c2-3b03-4291-815d-c310787347b6\" type=\"checkbox\" ><label for=\"1dd137c2-3b03-4291-815d-c310787347b6\" class=\"sk-toggleable__label sk-toggleable__label-arrow\">remainder</label><div class=\"sk-toggleable__content\"><pre>[&#x27;Pclass&#x27;, &#x27;Sex&#x27;, &#x27;SibSp&#x27;, &#x27;Parch&#x27;, &#x27;Fare&#x27;]</pre></div></div></div><div class=\"sk-serial\"><div class=\"sk-item\"><div class=\"sk-estimator sk-toggleable\"><input class=\"sk-toggleable__control sk-hidden--visually\" id=\"e968fe4d-c5f6-4799-9e21-4cf852a279e3\" type=\"checkbox\" ><label for=\"e968fe4d-c5f6-4799-9e21-4cf852a279e3\" class=\"sk-toggleable__label sk-toggleable__label-arrow\">passthrough</label><div class=\"sk-toggleable__content\"><pre>passthrough</pre></div></div></div></div></div></div></div></div><div class=\"sk-item sk-dashed-wrapped\"><div class=\"sk-label-container\"><div class=\"sk-label sk-toggleable\"><input class=\"sk-toggleable__control sk-hidden--visually\" id=\"86081b45-97c0-4d40-958b-c1f8c8e29a13\" type=\"checkbox\" ><label for=\"86081b45-97c0-4d40-958b-c1f8c8e29a13\" class=\"sk-toggleable__label sk-toggleable__label-arrow\">columntransformer-2: ColumnTransformer</label><div class=\"sk-toggleable__content\"><pre>ColumnTransformer(remainder=&#x27;passthrough&#x27;,\n",
       "                  transformers=[(&#x27;ohe_sex_embarked&#x27;,\n",
       "                                 OneHotEncoder(handle_unknown=&#x27;ignore&#x27;,\n",
       "                                               sparse=False),\n",
       "                                 [1, 6])])</pre></div></div></div><div class=\"sk-parallel\"><div class=\"sk-parallel-item\"><div class=\"sk-item\"><div class=\"sk-label-container\"><div class=\"sk-label sk-toggleable\"><input class=\"sk-toggleable__control sk-hidden--visually\" id=\"736dbaa3-3050-4128-86bf-200a4eece9f6\" type=\"checkbox\" ><label for=\"736dbaa3-3050-4128-86bf-200a4eece9f6\" class=\"sk-toggleable__label sk-toggleable__label-arrow\">ohe_sex_embarked</label><div class=\"sk-toggleable__content\"><pre>[1, 6]</pre></div></div></div><div class=\"sk-serial\"><div class=\"sk-item\"><div class=\"sk-estimator sk-toggleable\"><input class=\"sk-toggleable__control sk-hidden--visually\" id=\"1d04a2a7-da63-422f-ab3a-4181fb665f41\" type=\"checkbox\" ><label for=\"1d04a2a7-da63-422f-ab3a-4181fb665f41\" class=\"sk-toggleable__label sk-toggleable__label-arrow\">OneHotEncoder</label><div class=\"sk-toggleable__content\"><pre>OneHotEncoder(handle_unknown=&#x27;ignore&#x27;, sparse=False)</pre></div></div></div></div></div></div><div class=\"sk-parallel-item\"><div class=\"sk-item\"><div class=\"sk-label-container\"><div class=\"sk-label sk-toggleable\"><input class=\"sk-toggleable__control sk-hidden--visually\" id=\"33c59734-7961-4850-86cf-9d22a172bf10\" type=\"checkbox\" ><label for=\"33c59734-7961-4850-86cf-9d22a172bf10\" class=\"sk-toggleable__label sk-toggleable__label-arrow\">remainder</label><div class=\"sk-toggleable__content\"><pre>[0, 2, 3, 4, 5]</pre></div></div></div><div class=\"sk-serial\"><div class=\"sk-item\"><div class=\"sk-estimator sk-toggleable\"><input class=\"sk-toggleable__control sk-hidden--visually\" id=\"898c2068-36d8-43f9-8839-43510e560b2c\" type=\"checkbox\" ><label for=\"898c2068-36d8-43f9-8839-43510e560b2c\" class=\"sk-toggleable__label sk-toggleable__label-arrow\">passthrough</label><div class=\"sk-toggleable__content\"><pre>passthrough</pre></div></div></div></div></div></div></div></div><div class=\"sk-item sk-dashed-wrapped\"><div class=\"sk-label-container\"><div class=\"sk-label sk-toggleable\"><input class=\"sk-toggleable__control sk-hidden--visually\" id=\"7df1f53c-41d7-45e1-9c6e-92983a815d44\" type=\"checkbox\" ><label for=\"7df1f53c-41d7-45e1-9c6e-92983a815d44\" class=\"sk-toggleable__label sk-toggleable__label-arrow\">columntransformer-3: ColumnTransformer</label><div class=\"sk-toggleable__content\"><pre>ColumnTransformer(transformers=[(&#x27;scale&#x27;, MinMaxScaler(), slice(0, 10, None))])</pre></div></div></div><div class=\"sk-parallel\"><div class=\"sk-parallel-item\"><div class=\"sk-item\"><div class=\"sk-label-container\"><div class=\"sk-label sk-toggleable\"><input class=\"sk-toggleable__control sk-hidden--visually\" id=\"578a17dd-7935-41f9-a57a-9690d71ae696\" type=\"checkbox\" ><label for=\"578a17dd-7935-41f9-a57a-9690d71ae696\" class=\"sk-toggleable__label sk-toggleable__label-arrow\">scale</label><div class=\"sk-toggleable__content\"><pre>slice(0, 10, None)</pre></div></div></div><div class=\"sk-serial\"><div class=\"sk-item\"><div class=\"sk-estimator sk-toggleable\"><input class=\"sk-toggleable__control sk-hidden--visually\" id=\"ba94b88b-a2f4-4081-83a9-e99d45a74eaa\" type=\"checkbox\" ><label for=\"ba94b88b-a2f4-4081-83a9-e99d45a74eaa\" class=\"sk-toggleable__label sk-toggleable__label-arrow\">MinMaxScaler</label><div class=\"sk-toggleable__content\"><pre>MinMaxScaler()</pre></div></div></div></div></div></div></div></div><div class=\"sk-item\"><div class=\"sk-estimator sk-toggleable\"><input class=\"sk-toggleable__control sk-hidden--visually\" id=\"e322772a-145b-48f0-aa4b-8223042e284e\" type=\"checkbox\" ><label for=\"e322772a-145b-48f0-aa4b-8223042e284e\" class=\"sk-toggleable__label sk-toggleable__label-arrow\">SelectKBest</label><div class=\"sk-toggleable__content\"><pre>SelectKBest(k=5, score_func=&lt;function chi2 at 0x000002284606FA60&gt;)</pre></div></div></div><div class=\"sk-item\"><div class=\"sk-estimator sk-toggleable\"><input class=\"sk-toggleable__control sk-hidden--visually\" id=\"2447196f-447f-44ce-886a-a4f55be81f3b\" type=\"checkbox\" ><label for=\"2447196f-447f-44ce-886a-a4f55be81f3b\" class=\"sk-toggleable__label sk-toggleable__label-arrow\">DecisionTreeClassifier</label><div class=\"sk-toggleable__content\"><pre>DecisionTreeClassifier()</pre></div></div></div></div></div></div></div></div></div></div></div></div>"
      ],
      "text/plain": [
       "GridSearchCV(cv=5,\n",
       "             estimator=Pipeline(steps=[('columntransformer-1',\n",
       "                                        ColumnTransformer(remainder='passthrough',\n",
       "                                                          transformers=[('impute_age',\n",
       "                                                                         SimpleImputer(),\n",
       "                                                                         [2]),\n",
       "                                                                        ('impute_embarked',\n",
       "                                                                         SimpleImputer(strategy='most_frequent'),\n",
       "                                                                         [6])])),\n",
       "                                       ('columntransformer-2',\n",
       "                                        ColumnTransformer(remainder='passthrough',\n",
       "                                                          transformers=[('ohe_sex_embarked',\n",
       "                                                                         OneHotEncoder(handle_unkno...ignore',\n",
       "                                                                                       sparse=False),\n",
       "                                                                         [1,\n",
       "                                                                          6])])),\n",
       "                                       ('columntransformer-3',\n",
       "                                        ColumnTransformer(transformers=[('scale',\n",
       "                                                                         MinMaxScaler(),\n",
       "                                                                         slice(0, 10, None))])),\n",
       "                                       ('selectkbest',\n",
       "                                        SelectKBest(k=5,\n",
       "                                                    score_func=<function chi2 at 0x000002284606FA60>)),\n",
       "                                       ('decisiontreeclassifier',\n",
       "                                        DecisionTreeClassifier())]),\n",
       "             param_grid={'decisiontreeclassifier__max_depth': [1, 2, 3, 4, 5,\n",
       "                                                               None]},\n",
       "             scoring='accuracy')"
      ]
     },
     "execution_count": 25,
     "metadata": {},
     "output_type": "execute_result"
    }
   ],
   "source": [
    "from sklearn.model_selection import GridSearchCV\n",
    "grid = GridSearchCV(pipe, params, cv=5, scoring=\"accuracy\")\n",
    "grid.fit(X_train,y_train)\n"
   ]
  },
  {
   "cell_type": "code",
   "execution_count": 26,
   "id": "8371b72d",
   "metadata": {},
   "outputs": [
    {
     "data": {
      "text/plain": [
       "0.6391214419383433"
      ]
     },
     "execution_count": 26,
     "metadata": {},
     "output_type": "execute_result"
    }
   ],
   "source": [
    "grid.best_score_"
   ]
  },
  {
   "cell_type": "code",
   "execution_count": 27,
   "id": "b170bc64",
   "metadata": {},
   "outputs": [
    {
     "data": {
      "text/plain": [
       "{'decisiontreeclassifier__max_depth': 2}"
      ]
     },
     "execution_count": 27,
     "metadata": {},
     "output_type": "execute_result"
    }
   ],
   "source": [
    "grid.best_params_"
   ]
  },
  {
   "cell_type": "code",
   "execution_count": 28,
   "id": "ce7ee3c6",
   "metadata": {},
   "outputs": [],
   "source": [
    "grid_model = grid.best_estimator_"
   ]
  },
  {
   "cell_type": "code",
   "execution_count": 29,
   "id": "e4b0c51f",
   "metadata": {},
   "outputs": [],
   "source": [
    "y_pred_grid = grid_model.predict(X_test)"
   ]
  },
  {
   "cell_type": "code",
   "execution_count": 30,
   "id": "a4cddddc",
   "metadata": {},
   "outputs": [
    {
     "data": {
      "text/plain": [
       "array([1, 0, 0, 0, 1, 0, 0, 0, 0, 0, 0, 0, 0, 1, 0, 0, 0, 0, 0, 0, 0, 0,\n",
       "       0, 0, 0, 0, 1, 0, 0, 0, 0, 0, 1, 0, 0, 1, 0, 0, 1, 0, 0, 0, 0, 0,\n",
       "       1, 0, 0, 0, 0, 1, 1, 0, 0, 0, 0, 0, 0, 1, 0, 0, 0, 0, 0, 0, 0, 0,\n",
       "       0, 0, 1, 1, 0, 1, 1, 1, 0, 0, 0, 1, 0, 0, 0, 0, 1, 0, 1, 1, 1, 1,\n",
       "       0, 0, 0, 0, 0, 0, 0, 0, 0, 0, 0, 0, 0, 0, 1, 0, 0, 0, 0, 0, 0, 1,\n",
       "       0, 0, 1, 0, 0, 0, 1, 1, 0, 0, 0, 1, 0, 0, 0, 1, 0, 1, 1, 0, 0, 1,\n",
       "       0, 0, 1, 1, 1, 0, 0, 0, 0, 0, 0, 0, 0, 0, 0, 0, 1, 0, 1, 0, 0, 0,\n",
       "       0, 0, 0, 0, 0, 0, 1, 0, 0, 1, 0, 1, 0, 0, 0, 0, 1, 0, 0, 1, 0, 1,\n",
       "       0, 0, 0], dtype=int64)"
      ]
     },
     "execution_count": 30,
     "metadata": {},
     "output_type": "execute_result"
    }
   ],
   "source": [
    "y_pred_grid"
   ]
  },
  {
   "cell_type": "markdown",
   "id": "344703e7",
   "metadata": {},
   "source": [
    "# Using lightGBM"
   ]
  },
  {
   "cell_type": "code",
   "execution_count": 31,
   "id": "c4ce6e0e",
   "metadata": {},
   "outputs": [],
   "source": [
    "from lightgbm import LGBMClassifier\n",
    "tnf6 = LGBMClassifier()"
   ]
  },
  {
   "cell_type": "code",
   "execution_count": 32,
   "id": "b308cb03",
   "metadata": {},
   "outputs": [],
   "source": [
    "pipe1 = make_pipeline(tnf1,tnf2,tnf3,tnf4,tnf6)"
   ]
  },
  {
   "cell_type": "code",
   "execution_count": 33,
   "id": "923e2864",
   "metadata": {},
   "outputs": [
    {
     "data": {
      "text/html": [
       "<style>#sk-0ea0310f-742e-49a2-a87d-707b2bb1a6d0 {color: black;background-color: white;}#sk-0ea0310f-742e-49a2-a87d-707b2bb1a6d0 pre{padding: 0;}#sk-0ea0310f-742e-49a2-a87d-707b2bb1a6d0 div.sk-toggleable {background-color: white;}#sk-0ea0310f-742e-49a2-a87d-707b2bb1a6d0 label.sk-toggleable__label {cursor: pointer;display: block;width: 100%;margin-bottom: 0;padding: 0.3em;box-sizing: border-box;text-align: center;}#sk-0ea0310f-742e-49a2-a87d-707b2bb1a6d0 label.sk-toggleable__label-arrow:before {content: \"▸\";float: left;margin-right: 0.25em;color: #696969;}#sk-0ea0310f-742e-49a2-a87d-707b2bb1a6d0 label.sk-toggleable__label-arrow:hover:before {color: black;}#sk-0ea0310f-742e-49a2-a87d-707b2bb1a6d0 div.sk-estimator:hover label.sk-toggleable__label-arrow:before {color: black;}#sk-0ea0310f-742e-49a2-a87d-707b2bb1a6d0 div.sk-toggleable__content {max-height: 0;max-width: 0;overflow: hidden;text-align: left;background-color: #f0f8ff;}#sk-0ea0310f-742e-49a2-a87d-707b2bb1a6d0 div.sk-toggleable__content pre {margin: 0.2em;color: black;border-radius: 0.25em;background-color: #f0f8ff;}#sk-0ea0310f-742e-49a2-a87d-707b2bb1a6d0 input.sk-toggleable__control:checked~div.sk-toggleable__content {max-height: 200px;max-width: 100%;overflow: auto;}#sk-0ea0310f-742e-49a2-a87d-707b2bb1a6d0 input.sk-toggleable__control:checked~label.sk-toggleable__label-arrow:before {content: \"▾\";}#sk-0ea0310f-742e-49a2-a87d-707b2bb1a6d0 div.sk-estimator input.sk-toggleable__control:checked~label.sk-toggleable__label {background-color: #d4ebff;}#sk-0ea0310f-742e-49a2-a87d-707b2bb1a6d0 div.sk-label input.sk-toggleable__control:checked~label.sk-toggleable__label {background-color: #d4ebff;}#sk-0ea0310f-742e-49a2-a87d-707b2bb1a6d0 input.sk-hidden--visually {border: 0;clip: rect(1px 1px 1px 1px);clip: rect(1px, 1px, 1px, 1px);height: 1px;margin: -1px;overflow: hidden;padding: 0;position: absolute;width: 1px;}#sk-0ea0310f-742e-49a2-a87d-707b2bb1a6d0 div.sk-estimator {font-family: monospace;background-color: #f0f8ff;border: 1px dotted black;border-radius: 0.25em;box-sizing: border-box;margin-bottom: 0.5em;}#sk-0ea0310f-742e-49a2-a87d-707b2bb1a6d0 div.sk-estimator:hover {background-color: #d4ebff;}#sk-0ea0310f-742e-49a2-a87d-707b2bb1a6d0 div.sk-parallel-item::after {content: \"\";width: 100%;border-bottom: 1px solid gray;flex-grow: 1;}#sk-0ea0310f-742e-49a2-a87d-707b2bb1a6d0 div.sk-label:hover label.sk-toggleable__label {background-color: #d4ebff;}#sk-0ea0310f-742e-49a2-a87d-707b2bb1a6d0 div.sk-serial::before {content: \"\";position: absolute;border-left: 1px solid gray;box-sizing: border-box;top: 2em;bottom: 0;left: 50%;}#sk-0ea0310f-742e-49a2-a87d-707b2bb1a6d0 div.sk-serial {display: flex;flex-direction: column;align-items: center;background-color: white;padding-right: 0.2em;padding-left: 0.2em;}#sk-0ea0310f-742e-49a2-a87d-707b2bb1a6d0 div.sk-item {z-index: 1;}#sk-0ea0310f-742e-49a2-a87d-707b2bb1a6d0 div.sk-parallel {display: flex;align-items: stretch;justify-content: center;background-color: white;}#sk-0ea0310f-742e-49a2-a87d-707b2bb1a6d0 div.sk-parallel::before {content: \"\";position: absolute;border-left: 1px solid gray;box-sizing: border-box;top: 2em;bottom: 0;left: 50%;}#sk-0ea0310f-742e-49a2-a87d-707b2bb1a6d0 div.sk-parallel-item {display: flex;flex-direction: column;position: relative;background-color: white;}#sk-0ea0310f-742e-49a2-a87d-707b2bb1a6d0 div.sk-parallel-item:first-child::after {align-self: flex-end;width: 50%;}#sk-0ea0310f-742e-49a2-a87d-707b2bb1a6d0 div.sk-parallel-item:last-child::after {align-self: flex-start;width: 50%;}#sk-0ea0310f-742e-49a2-a87d-707b2bb1a6d0 div.sk-parallel-item:only-child::after {width: 0;}#sk-0ea0310f-742e-49a2-a87d-707b2bb1a6d0 div.sk-dashed-wrapped {border: 1px dashed gray;margin: 0 0.4em 0.5em 0.4em;box-sizing: border-box;padding-bottom: 0.4em;background-color: white;position: relative;}#sk-0ea0310f-742e-49a2-a87d-707b2bb1a6d0 div.sk-label label {font-family: monospace;font-weight: bold;background-color: white;display: inline-block;line-height: 1.2em;}#sk-0ea0310f-742e-49a2-a87d-707b2bb1a6d0 div.sk-label-container {position: relative;z-index: 2;text-align: center;}#sk-0ea0310f-742e-49a2-a87d-707b2bb1a6d0 div.sk-container {/* jupyter's `normalize.less` sets `[hidden] { display: none; }` but bootstrap.min.css set `[hidden] { display: none !important; }` so we also need the `!important` here to be able to override the default hidden behavior on the sphinx rendered scikit-learn.org. See: https://github.com/scikit-learn/scikit-learn/issues/21755 */display: inline-block !important;position: relative;}#sk-0ea0310f-742e-49a2-a87d-707b2bb1a6d0 div.sk-text-repr-fallback {display: none;}</style><div id=\"sk-0ea0310f-742e-49a2-a87d-707b2bb1a6d0\" class=\"sk-top-container\"><div class=\"sk-text-repr-fallback\"><pre>Pipeline(steps=[(&#x27;columntransformer-1&#x27;,\n",
       "                 ColumnTransformer(remainder=&#x27;passthrough&#x27;,\n",
       "                                   transformers=[(&#x27;impute_age&#x27;, SimpleImputer(),\n",
       "                                                  [2]),\n",
       "                                                 (&#x27;impute_embarked&#x27;,\n",
       "                                                  SimpleImputer(strategy=&#x27;most_frequent&#x27;),\n",
       "                                                  [6])])),\n",
       "                (&#x27;columntransformer-2&#x27;,\n",
       "                 ColumnTransformer(remainder=&#x27;passthrough&#x27;,\n",
       "                                   transformers=[(&#x27;ohe_sex_embarked&#x27;,\n",
       "                                                  OneHotEncoder(handle_unknown=&#x27;ignore&#x27;,\n",
       "                                                                sparse=False),\n",
       "                                                  [1, 6])])),\n",
       "                (&#x27;columntransformer-3&#x27;,\n",
       "                 ColumnTransformer(transformers=[(&#x27;scale&#x27;, MinMaxScaler(),\n",
       "                                                  slice(0, 10, None))])),\n",
       "                (&#x27;selectkbest&#x27;,\n",
       "                 SelectKBest(k=5,\n",
       "                             score_func=&lt;function chi2 at 0x000002284606FA60&gt;)),\n",
       "                (&#x27;lgbmclassifier&#x27;, LGBMClassifier())])</pre><b>Please rerun this cell to show the HTML repr or trust the notebook.</b></div><div class=\"sk-container\" hidden><div class=\"sk-item sk-dashed-wrapped\"><div class=\"sk-label-container\"><div class=\"sk-label sk-toggleable\"><input class=\"sk-toggleable__control sk-hidden--visually\" id=\"d41be93e-ee90-4818-bac5-69701b887d34\" type=\"checkbox\" ><label for=\"d41be93e-ee90-4818-bac5-69701b887d34\" class=\"sk-toggleable__label sk-toggleable__label-arrow\">Pipeline</label><div class=\"sk-toggleable__content\"><pre>Pipeline(steps=[(&#x27;columntransformer-1&#x27;,\n",
       "                 ColumnTransformer(remainder=&#x27;passthrough&#x27;,\n",
       "                                   transformers=[(&#x27;impute_age&#x27;, SimpleImputer(),\n",
       "                                                  [2]),\n",
       "                                                 (&#x27;impute_embarked&#x27;,\n",
       "                                                  SimpleImputer(strategy=&#x27;most_frequent&#x27;),\n",
       "                                                  [6])])),\n",
       "                (&#x27;columntransformer-2&#x27;,\n",
       "                 ColumnTransformer(remainder=&#x27;passthrough&#x27;,\n",
       "                                   transformers=[(&#x27;ohe_sex_embarked&#x27;,\n",
       "                                                  OneHotEncoder(handle_unknown=&#x27;ignore&#x27;,\n",
       "                                                                sparse=False),\n",
       "                                                  [1, 6])])),\n",
       "                (&#x27;columntransformer-3&#x27;,\n",
       "                 ColumnTransformer(transformers=[(&#x27;scale&#x27;, MinMaxScaler(),\n",
       "                                                  slice(0, 10, None))])),\n",
       "                (&#x27;selectkbest&#x27;,\n",
       "                 SelectKBest(k=5,\n",
       "                             score_func=&lt;function chi2 at 0x000002284606FA60&gt;)),\n",
       "                (&#x27;lgbmclassifier&#x27;, LGBMClassifier())])</pre></div></div></div><div class=\"sk-serial\"><div class=\"sk-item sk-dashed-wrapped\"><div class=\"sk-label-container\"><div class=\"sk-label sk-toggleable\"><input class=\"sk-toggleable__control sk-hidden--visually\" id=\"0f37db52-0036-48a6-bb4c-c4538d659d5e\" type=\"checkbox\" ><label for=\"0f37db52-0036-48a6-bb4c-c4538d659d5e\" class=\"sk-toggleable__label sk-toggleable__label-arrow\">columntransformer-1: ColumnTransformer</label><div class=\"sk-toggleable__content\"><pre>ColumnTransformer(remainder=&#x27;passthrough&#x27;,\n",
       "                  transformers=[(&#x27;impute_age&#x27;, SimpleImputer(), [2]),\n",
       "                                (&#x27;impute_embarked&#x27;,\n",
       "                                 SimpleImputer(strategy=&#x27;most_frequent&#x27;),\n",
       "                                 [6])])</pre></div></div></div><div class=\"sk-parallel\"><div class=\"sk-parallel-item\"><div class=\"sk-item\"><div class=\"sk-label-container\"><div class=\"sk-label sk-toggleable\"><input class=\"sk-toggleable__control sk-hidden--visually\" id=\"26f7fc71-1708-427d-9cf3-89d3c6896721\" type=\"checkbox\" ><label for=\"26f7fc71-1708-427d-9cf3-89d3c6896721\" class=\"sk-toggleable__label sk-toggleable__label-arrow\">impute_age</label><div class=\"sk-toggleable__content\"><pre>[2]</pre></div></div></div><div class=\"sk-serial\"><div class=\"sk-item\"><div class=\"sk-estimator sk-toggleable\"><input class=\"sk-toggleable__control sk-hidden--visually\" id=\"62056e46-4309-4819-9ac6-a7a42e4fc8d3\" type=\"checkbox\" ><label for=\"62056e46-4309-4819-9ac6-a7a42e4fc8d3\" class=\"sk-toggleable__label sk-toggleable__label-arrow\">SimpleImputer</label><div class=\"sk-toggleable__content\"><pre>SimpleImputer()</pre></div></div></div></div></div></div><div class=\"sk-parallel-item\"><div class=\"sk-item\"><div class=\"sk-label-container\"><div class=\"sk-label sk-toggleable\"><input class=\"sk-toggleable__control sk-hidden--visually\" id=\"8628c184-9d87-44dd-ab2d-e757dda6ad08\" type=\"checkbox\" ><label for=\"8628c184-9d87-44dd-ab2d-e757dda6ad08\" class=\"sk-toggleable__label sk-toggleable__label-arrow\">impute_embarked</label><div class=\"sk-toggleable__content\"><pre>[6]</pre></div></div></div><div class=\"sk-serial\"><div class=\"sk-item\"><div class=\"sk-estimator sk-toggleable\"><input class=\"sk-toggleable__control sk-hidden--visually\" id=\"cb4651cf-3b2a-42ac-9cd7-0665136840c4\" type=\"checkbox\" ><label for=\"cb4651cf-3b2a-42ac-9cd7-0665136840c4\" class=\"sk-toggleable__label sk-toggleable__label-arrow\">SimpleImputer</label><div class=\"sk-toggleable__content\"><pre>SimpleImputer(strategy=&#x27;most_frequent&#x27;)</pre></div></div></div></div></div></div><div class=\"sk-parallel-item\"><div class=\"sk-item\"><div class=\"sk-label-container\"><div class=\"sk-label sk-toggleable\"><input class=\"sk-toggleable__control sk-hidden--visually\" id=\"b24830c8-ecc8-4d52-b665-a83a7b85585f\" type=\"checkbox\" ><label for=\"b24830c8-ecc8-4d52-b665-a83a7b85585f\" class=\"sk-toggleable__label sk-toggleable__label-arrow\">remainder</label><div class=\"sk-toggleable__content\"><pre>[&#x27;Pclass&#x27;, &#x27;Sex&#x27;, &#x27;SibSp&#x27;, &#x27;Parch&#x27;, &#x27;Fare&#x27;]</pre></div></div></div><div class=\"sk-serial\"><div class=\"sk-item\"><div class=\"sk-estimator sk-toggleable\"><input class=\"sk-toggleable__control sk-hidden--visually\" id=\"b942bd1a-7463-44d0-9e45-d4402473614c\" type=\"checkbox\" ><label for=\"b942bd1a-7463-44d0-9e45-d4402473614c\" class=\"sk-toggleable__label sk-toggleable__label-arrow\">passthrough</label><div class=\"sk-toggleable__content\"><pre>passthrough</pre></div></div></div></div></div></div></div></div><div class=\"sk-item sk-dashed-wrapped\"><div class=\"sk-label-container\"><div class=\"sk-label sk-toggleable\"><input class=\"sk-toggleable__control sk-hidden--visually\" id=\"c7c8caf8-2525-486e-bc52-25f4252b1fe4\" type=\"checkbox\" ><label for=\"c7c8caf8-2525-486e-bc52-25f4252b1fe4\" class=\"sk-toggleable__label sk-toggleable__label-arrow\">columntransformer-2: ColumnTransformer</label><div class=\"sk-toggleable__content\"><pre>ColumnTransformer(remainder=&#x27;passthrough&#x27;,\n",
       "                  transformers=[(&#x27;ohe_sex_embarked&#x27;,\n",
       "                                 OneHotEncoder(handle_unknown=&#x27;ignore&#x27;,\n",
       "                                               sparse=False),\n",
       "                                 [1, 6])])</pre></div></div></div><div class=\"sk-parallel\"><div class=\"sk-parallel-item\"><div class=\"sk-item\"><div class=\"sk-label-container\"><div class=\"sk-label sk-toggleable\"><input class=\"sk-toggleable__control sk-hidden--visually\" id=\"548843da-38c5-4613-a651-d081a7944ce3\" type=\"checkbox\" ><label for=\"548843da-38c5-4613-a651-d081a7944ce3\" class=\"sk-toggleable__label sk-toggleable__label-arrow\">ohe_sex_embarked</label><div class=\"sk-toggleable__content\"><pre>[1, 6]</pre></div></div></div><div class=\"sk-serial\"><div class=\"sk-item\"><div class=\"sk-estimator sk-toggleable\"><input class=\"sk-toggleable__control sk-hidden--visually\" id=\"6ac2ab06-f1fb-45aa-81f2-b77215a5fc56\" type=\"checkbox\" ><label for=\"6ac2ab06-f1fb-45aa-81f2-b77215a5fc56\" class=\"sk-toggleable__label sk-toggleable__label-arrow\">OneHotEncoder</label><div class=\"sk-toggleable__content\"><pre>OneHotEncoder(handle_unknown=&#x27;ignore&#x27;, sparse=False)</pre></div></div></div></div></div></div><div class=\"sk-parallel-item\"><div class=\"sk-item\"><div class=\"sk-label-container\"><div class=\"sk-label sk-toggleable\"><input class=\"sk-toggleable__control sk-hidden--visually\" id=\"8975abd6-22a7-41a4-b291-9d0f2ebb746b\" type=\"checkbox\" ><label for=\"8975abd6-22a7-41a4-b291-9d0f2ebb746b\" class=\"sk-toggleable__label sk-toggleable__label-arrow\">remainder</label><div class=\"sk-toggleable__content\"><pre>[0, 2, 3, 4, 5]</pre></div></div></div><div class=\"sk-serial\"><div class=\"sk-item\"><div class=\"sk-estimator sk-toggleable\"><input class=\"sk-toggleable__control sk-hidden--visually\" id=\"f6f0440e-a4cb-4fa1-becd-491540f8bf13\" type=\"checkbox\" ><label for=\"f6f0440e-a4cb-4fa1-becd-491540f8bf13\" class=\"sk-toggleable__label sk-toggleable__label-arrow\">passthrough</label><div class=\"sk-toggleable__content\"><pre>passthrough</pre></div></div></div></div></div></div></div></div><div class=\"sk-item sk-dashed-wrapped\"><div class=\"sk-label-container\"><div class=\"sk-label sk-toggleable\"><input class=\"sk-toggleable__control sk-hidden--visually\" id=\"c23cfaff-d104-491c-9ff4-f1c3be6d54ce\" type=\"checkbox\" ><label for=\"c23cfaff-d104-491c-9ff4-f1c3be6d54ce\" class=\"sk-toggleable__label sk-toggleable__label-arrow\">columntransformer-3: ColumnTransformer</label><div class=\"sk-toggleable__content\"><pre>ColumnTransformer(transformers=[(&#x27;scale&#x27;, MinMaxScaler(), slice(0, 10, None))])</pre></div></div></div><div class=\"sk-parallel\"><div class=\"sk-parallel-item\"><div class=\"sk-item\"><div class=\"sk-label-container\"><div class=\"sk-label sk-toggleable\"><input class=\"sk-toggleable__control sk-hidden--visually\" id=\"8b3d83d6-a497-4f0c-a8f4-fdf5cf433525\" type=\"checkbox\" ><label for=\"8b3d83d6-a497-4f0c-a8f4-fdf5cf433525\" class=\"sk-toggleable__label sk-toggleable__label-arrow\">scale</label><div class=\"sk-toggleable__content\"><pre>slice(0, 10, None)</pre></div></div></div><div class=\"sk-serial\"><div class=\"sk-item\"><div class=\"sk-estimator sk-toggleable\"><input class=\"sk-toggleable__control sk-hidden--visually\" id=\"da98acdc-673f-4f78-9735-0d09f103c375\" type=\"checkbox\" ><label for=\"da98acdc-673f-4f78-9735-0d09f103c375\" class=\"sk-toggleable__label sk-toggleable__label-arrow\">MinMaxScaler</label><div class=\"sk-toggleable__content\"><pre>MinMaxScaler()</pre></div></div></div></div></div></div></div></div><div class=\"sk-item\"><div class=\"sk-estimator sk-toggleable\"><input class=\"sk-toggleable__control sk-hidden--visually\" id=\"c838aea4-acb9-44fa-a3b7-823e5d5d14f1\" type=\"checkbox\" ><label for=\"c838aea4-acb9-44fa-a3b7-823e5d5d14f1\" class=\"sk-toggleable__label sk-toggleable__label-arrow\">SelectKBest</label><div class=\"sk-toggleable__content\"><pre>SelectKBest(k=5, score_func=&lt;function chi2 at 0x000002284606FA60&gt;)</pre></div></div></div><div class=\"sk-item\"><div class=\"sk-estimator sk-toggleable\"><input class=\"sk-toggleable__control sk-hidden--visually\" id=\"10c2bb65-c949-4772-930d-37c203f8fa80\" type=\"checkbox\" ><label for=\"10c2bb65-c949-4772-930d-37c203f8fa80\" class=\"sk-toggleable__label sk-toggleable__label-arrow\">LGBMClassifier</label><div class=\"sk-toggleable__content\"><pre>LGBMClassifier()</pre></div></div></div></div></div></div></div>"
      ],
      "text/plain": [
       "Pipeline(steps=[('columntransformer-1',\n",
       "                 ColumnTransformer(remainder='passthrough',\n",
       "                                   transformers=[('impute_age', SimpleImputer(),\n",
       "                                                  [2]),\n",
       "                                                 ('impute_embarked',\n",
       "                                                  SimpleImputer(strategy='most_frequent'),\n",
       "                                                  [6])])),\n",
       "                ('columntransformer-2',\n",
       "                 ColumnTransformer(remainder='passthrough',\n",
       "                                   transformers=[('ohe_sex_embarked',\n",
       "                                                  OneHotEncoder(handle_unknown='ignore',\n",
       "                                                                sparse=False),\n",
       "                                                  [1, 6])])),\n",
       "                ('columntransformer-3',\n",
       "                 ColumnTransformer(transformers=[('scale', MinMaxScaler(),\n",
       "                                                  slice(0, 10, None))])),\n",
       "                ('selectkbest',\n",
       "                 SelectKBest(k=5,\n",
       "                             score_func=<function chi2 at 0x000002284606FA60>)),\n",
       "                ('lgbmclassifier', LGBMClassifier())])"
      ]
     },
     "execution_count": 33,
     "metadata": {},
     "output_type": "execute_result"
    }
   ],
   "source": [
    "# train\n",
    "\n",
    "pipe1.fit(X_train,y_train)"
   ]
  },
  {
   "cell_type": "code",
   "execution_count": 34,
   "id": "1109fcab",
   "metadata": {},
   "outputs": [
    {
     "data": {
      "text/plain": [
       "{'columntransformer-1': ColumnTransformer(remainder='passthrough',\n",
       "                   transformers=[('impute_age', SimpleImputer(), [2]),\n",
       "                                 ('impute_embarked',\n",
       "                                  SimpleImputer(strategy='most_frequent'),\n",
       "                                  [6])]),\n",
       " 'columntransformer-2': ColumnTransformer(remainder='passthrough',\n",
       "                   transformers=[('ohe_sex_embarked',\n",
       "                                  OneHotEncoder(handle_unknown='ignore',\n",
       "                                                sparse=False),\n",
       "                                  [1, 6])]),\n",
       " 'columntransformer-3': ColumnTransformer(transformers=[('scale', MinMaxScaler(), slice(0, 10, None))]),\n",
       " 'selectkbest': SelectKBest(k=5, score_func=<function chi2 at 0x000002284606FA60>),\n",
       " 'lgbmclassifier': LGBMClassifier()}"
      ]
     },
     "execution_count": 34,
     "metadata": {},
     "output_type": "execute_result"
    }
   ],
   "source": [
    "# Code here\n",
    "pipe1.named_steps"
   ]
  },
  {
   "cell_type": "code",
   "execution_count": 35,
   "id": "464630f6",
   "metadata": {},
   "outputs": [],
   "source": [
    "# Gridsearchcv\n",
    "\n",
    "params = {'lgbmclassifier__boosting_type':['gbdt','dart'],\n",
    "    'lgbmclassifier__learning_rate':[0.1,0.2],\n",
    "    'lgbmclassifier__max_depth': [5,10],\n",
    "    'lgbmclassifier__n_estimators':[50,100]}"
   ]
  },
  {
   "cell_type": "code",
   "execution_count": 36,
   "id": "74d4745e",
   "metadata": {},
   "outputs": [
    {
     "name": "stdout",
     "output_type": "stream",
     "text": [
      "Fitting 3 folds for each of 16 candidates, totalling 48 fits\n",
      "[CV 1/3] END lgbmclassifier__boosting_type=gbdt, lgbmclassifier__learning_rate=0.1, lgbmclassifier__max_depth=5, lgbmclassifier__n_estimators=50;, score=0.613 total time=   0.0s\n",
      "[CV 2/3] END lgbmclassifier__boosting_type=gbdt, lgbmclassifier__learning_rate=0.1, lgbmclassifier__max_depth=5, lgbmclassifier__n_estimators=50;, score=0.667 total time=   0.0s\n",
      "[CV 3/3] END lgbmclassifier__boosting_type=gbdt, lgbmclassifier__learning_rate=0.1, lgbmclassifier__max_depth=5, lgbmclassifier__n_estimators=50;, score=0.637 total time=   0.0s\n",
      "[CV 1/3] END lgbmclassifier__boosting_type=gbdt, lgbmclassifier__learning_rate=0.1, lgbmclassifier__max_depth=5, lgbmclassifier__n_estimators=100;, score=0.613 total time=   0.0s\n",
      "[CV 2/3] END lgbmclassifier__boosting_type=gbdt, lgbmclassifier__learning_rate=0.1, lgbmclassifier__max_depth=5, lgbmclassifier__n_estimators=100;, score=0.667 total time=   0.0s\n",
      "[CV 3/3] END lgbmclassifier__boosting_type=gbdt, lgbmclassifier__learning_rate=0.1, lgbmclassifier__max_depth=5, lgbmclassifier__n_estimators=100;, score=0.637 total time=   0.0s\n",
      "[CV 1/3] END lgbmclassifier__boosting_type=gbdt, lgbmclassifier__learning_rate=0.1, lgbmclassifier__max_depth=10, lgbmclassifier__n_estimators=50;, score=0.613 total time=   0.0s\n",
      "[CV 2/3] END lgbmclassifier__boosting_type=gbdt, lgbmclassifier__learning_rate=0.1, lgbmclassifier__max_depth=10, lgbmclassifier__n_estimators=50;, score=0.667 total time=   0.0s\n",
      "[CV 3/3] END lgbmclassifier__boosting_type=gbdt, lgbmclassifier__learning_rate=0.1, lgbmclassifier__max_depth=10, lgbmclassifier__n_estimators=50;, score=0.637 total time=   0.0s\n",
      "[CV 1/3] END lgbmclassifier__boosting_type=gbdt, lgbmclassifier__learning_rate=0.1, lgbmclassifier__max_depth=10, lgbmclassifier__n_estimators=100;, score=0.613 total time=   0.0s\n",
      "[CV 2/3] END lgbmclassifier__boosting_type=gbdt, lgbmclassifier__learning_rate=0.1, lgbmclassifier__max_depth=10, lgbmclassifier__n_estimators=100;, score=0.667 total time=   0.0s\n",
      "[CV 3/3] END lgbmclassifier__boosting_type=gbdt, lgbmclassifier__learning_rate=0.1, lgbmclassifier__max_depth=10, lgbmclassifier__n_estimators=100;, score=0.637 total time=   0.0s\n",
      "[CV 1/3] END lgbmclassifier__boosting_type=gbdt, lgbmclassifier__learning_rate=0.2, lgbmclassifier__max_depth=5, lgbmclassifier__n_estimators=50;, score=0.613 total time=   0.0s\n",
      "[CV 2/3] END lgbmclassifier__boosting_type=gbdt, lgbmclassifier__learning_rate=0.2, lgbmclassifier__max_depth=5, lgbmclassifier__n_estimators=50;, score=0.667 total time=   0.0s\n",
      "[CV 3/3] END lgbmclassifier__boosting_type=gbdt, lgbmclassifier__learning_rate=0.2, lgbmclassifier__max_depth=5, lgbmclassifier__n_estimators=50;, score=0.637 total time=   0.0s\n",
      "[CV 1/3] END lgbmclassifier__boosting_type=gbdt, lgbmclassifier__learning_rate=0.2, lgbmclassifier__max_depth=5, lgbmclassifier__n_estimators=100;, score=0.613 total time=   0.0s\n",
      "[CV 2/3] END lgbmclassifier__boosting_type=gbdt, lgbmclassifier__learning_rate=0.2, lgbmclassifier__max_depth=5, lgbmclassifier__n_estimators=100;, score=0.667 total time=   0.0s\n",
      "[CV 3/3] END lgbmclassifier__boosting_type=gbdt, lgbmclassifier__learning_rate=0.2, lgbmclassifier__max_depth=5, lgbmclassifier__n_estimators=100;, score=0.637 total time=   0.0s\n",
      "[CV 1/3] END lgbmclassifier__boosting_type=gbdt, lgbmclassifier__learning_rate=0.2, lgbmclassifier__max_depth=10, lgbmclassifier__n_estimators=50;, score=0.613 total time=   0.0s\n",
      "[CV 2/3] END lgbmclassifier__boosting_type=gbdt, lgbmclassifier__learning_rate=0.2, lgbmclassifier__max_depth=10, lgbmclassifier__n_estimators=50;, score=0.667 total time=   0.0s\n",
      "[CV 3/3] END lgbmclassifier__boosting_type=gbdt, lgbmclassifier__learning_rate=0.2, lgbmclassifier__max_depth=10, lgbmclassifier__n_estimators=50;, score=0.637 total time=   0.0s\n",
      "[CV 1/3] END lgbmclassifier__boosting_type=gbdt, lgbmclassifier__learning_rate=0.2, lgbmclassifier__max_depth=10, lgbmclassifier__n_estimators=100;, score=0.613 total time=   0.0s\n",
      "[CV 2/3] END lgbmclassifier__boosting_type=gbdt, lgbmclassifier__learning_rate=0.2, lgbmclassifier__max_depth=10, lgbmclassifier__n_estimators=100;, score=0.667 total time=   0.0s\n",
      "[CV 3/3] END lgbmclassifier__boosting_type=gbdt, lgbmclassifier__learning_rate=0.2, lgbmclassifier__max_depth=10, lgbmclassifier__n_estimators=100;, score=0.637 total time=   0.0s\n",
      "[CV 1/3] END lgbmclassifier__boosting_type=dart, lgbmclassifier__learning_rate=0.1, lgbmclassifier__max_depth=5, lgbmclassifier__n_estimators=50;, score=0.613 total time=   0.0s\n",
      "[CV 2/3] END lgbmclassifier__boosting_type=dart, lgbmclassifier__learning_rate=0.1, lgbmclassifier__max_depth=5, lgbmclassifier__n_estimators=50;, score=0.667 total time=   0.0s\n",
      "[CV 3/3] END lgbmclassifier__boosting_type=dart, lgbmclassifier__learning_rate=0.1, lgbmclassifier__max_depth=5, lgbmclassifier__n_estimators=50;, score=0.637 total time=   0.0s\n",
      "[CV 1/3] END lgbmclassifier__boosting_type=dart, lgbmclassifier__learning_rate=0.1, lgbmclassifier__max_depth=5, lgbmclassifier__n_estimators=100;, score=0.613 total time=   0.0s\n",
      "[CV 2/3] END lgbmclassifier__boosting_type=dart, lgbmclassifier__learning_rate=0.1, lgbmclassifier__max_depth=5, lgbmclassifier__n_estimators=100;, score=0.667 total time=   0.0s\n",
      "[CV 3/3] END lgbmclassifier__boosting_type=dart, lgbmclassifier__learning_rate=0.1, lgbmclassifier__max_depth=5, lgbmclassifier__n_estimators=100;, score=0.637 total time=   0.0s\n",
      "[CV 1/3] END lgbmclassifier__boosting_type=dart, lgbmclassifier__learning_rate=0.1, lgbmclassifier__max_depth=10, lgbmclassifier__n_estimators=50;, score=0.613 total time=   0.0s\n",
      "[CV 2/3] END lgbmclassifier__boosting_type=dart, lgbmclassifier__learning_rate=0.1, lgbmclassifier__max_depth=10, lgbmclassifier__n_estimators=50;, score=0.667 total time=   0.0s\n",
      "[CV 3/3] END lgbmclassifier__boosting_type=dart, lgbmclassifier__learning_rate=0.1, lgbmclassifier__max_depth=10, lgbmclassifier__n_estimators=50;, score=0.637 total time=   0.0s\n",
      "[CV 1/3] END lgbmclassifier__boosting_type=dart, lgbmclassifier__learning_rate=0.1, lgbmclassifier__max_depth=10, lgbmclassifier__n_estimators=100;, score=0.613 total time=   0.0s\n",
      "[CV 2/3] END lgbmclassifier__boosting_type=dart, lgbmclassifier__learning_rate=0.1, lgbmclassifier__max_depth=10, lgbmclassifier__n_estimators=100;, score=0.667 total time=   0.0s\n",
      "[CV 3/3] END lgbmclassifier__boosting_type=dart, lgbmclassifier__learning_rate=0.1, lgbmclassifier__max_depth=10, lgbmclassifier__n_estimators=100;, score=0.637 total time=   0.0s\n",
      "[CV 1/3] END lgbmclassifier__boosting_type=dart, lgbmclassifier__learning_rate=0.2, lgbmclassifier__max_depth=5, lgbmclassifier__n_estimators=50;, score=0.613 total time=   0.0s\n",
      "[CV 2/3] END lgbmclassifier__boosting_type=dart, lgbmclassifier__learning_rate=0.2, lgbmclassifier__max_depth=5, lgbmclassifier__n_estimators=50;, score=0.667 total time=   0.0s\n",
      "[CV 3/3] END lgbmclassifier__boosting_type=dart, lgbmclassifier__learning_rate=0.2, lgbmclassifier__max_depth=5, lgbmclassifier__n_estimators=50;, score=0.637 total time=   0.0s\n",
      "[CV 1/3] END lgbmclassifier__boosting_type=dart, lgbmclassifier__learning_rate=0.2, lgbmclassifier__max_depth=5, lgbmclassifier__n_estimators=100;, score=0.613 total time=   0.0s\n",
      "[CV 2/3] END lgbmclassifier__boosting_type=dart, lgbmclassifier__learning_rate=0.2, lgbmclassifier__max_depth=5, lgbmclassifier__n_estimators=100;, score=0.667 total time=   0.0s\n",
      "[CV 3/3] END lgbmclassifier__boosting_type=dart, lgbmclassifier__learning_rate=0.2, lgbmclassifier__max_depth=5, lgbmclassifier__n_estimators=100;, score=0.637 total time=   0.0s\n",
      "[CV 1/3] END lgbmclassifier__boosting_type=dart, lgbmclassifier__learning_rate=0.2, lgbmclassifier__max_depth=10, lgbmclassifier__n_estimators=50;, score=0.613 total time=   0.0s\n",
      "[CV 2/3] END lgbmclassifier__boosting_type=dart, lgbmclassifier__learning_rate=0.2, lgbmclassifier__max_depth=10, lgbmclassifier__n_estimators=50;, score=0.667 total time=   0.0s\n",
      "[CV 3/3] END lgbmclassifier__boosting_type=dart, lgbmclassifier__learning_rate=0.2, lgbmclassifier__max_depth=10, lgbmclassifier__n_estimators=50;, score=0.637 total time=   0.0s\n",
      "[CV 1/3] END lgbmclassifier__boosting_type=dart, lgbmclassifier__learning_rate=0.2, lgbmclassifier__max_depth=10, lgbmclassifier__n_estimators=100;, score=0.613 total time=   0.0s\n",
      "[CV 2/3] END lgbmclassifier__boosting_type=dart, lgbmclassifier__learning_rate=0.2, lgbmclassifier__max_depth=10, lgbmclassifier__n_estimators=100;, score=0.667 total time=   0.0s\n",
      "[CV 3/3] END lgbmclassifier__boosting_type=dart, lgbmclassifier__learning_rate=0.2, lgbmclassifier__max_depth=10, lgbmclassifier__n_estimators=100;, score=0.637 total time=   0.0s\n"
     ]
    },
    {
     "data": {
      "text/html": [
       "<style>#sk-16ce516d-9721-4f2c-9b10-f9f4ad7f6d1e {color: black;background-color: white;}#sk-16ce516d-9721-4f2c-9b10-f9f4ad7f6d1e pre{padding: 0;}#sk-16ce516d-9721-4f2c-9b10-f9f4ad7f6d1e div.sk-toggleable {background-color: white;}#sk-16ce516d-9721-4f2c-9b10-f9f4ad7f6d1e label.sk-toggleable__label {cursor: pointer;display: block;width: 100%;margin-bottom: 0;padding: 0.3em;box-sizing: border-box;text-align: center;}#sk-16ce516d-9721-4f2c-9b10-f9f4ad7f6d1e label.sk-toggleable__label-arrow:before {content: \"▸\";float: left;margin-right: 0.25em;color: #696969;}#sk-16ce516d-9721-4f2c-9b10-f9f4ad7f6d1e label.sk-toggleable__label-arrow:hover:before {color: black;}#sk-16ce516d-9721-4f2c-9b10-f9f4ad7f6d1e div.sk-estimator:hover label.sk-toggleable__label-arrow:before {color: black;}#sk-16ce516d-9721-4f2c-9b10-f9f4ad7f6d1e div.sk-toggleable__content {max-height: 0;max-width: 0;overflow: hidden;text-align: left;background-color: #f0f8ff;}#sk-16ce516d-9721-4f2c-9b10-f9f4ad7f6d1e div.sk-toggleable__content pre {margin: 0.2em;color: black;border-radius: 0.25em;background-color: #f0f8ff;}#sk-16ce516d-9721-4f2c-9b10-f9f4ad7f6d1e input.sk-toggleable__control:checked~div.sk-toggleable__content {max-height: 200px;max-width: 100%;overflow: auto;}#sk-16ce516d-9721-4f2c-9b10-f9f4ad7f6d1e input.sk-toggleable__control:checked~label.sk-toggleable__label-arrow:before {content: \"▾\";}#sk-16ce516d-9721-4f2c-9b10-f9f4ad7f6d1e div.sk-estimator input.sk-toggleable__control:checked~label.sk-toggleable__label {background-color: #d4ebff;}#sk-16ce516d-9721-4f2c-9b10-f9f4ad7f6d1e div.sk-label input.sk-toggleable__control:checked~label.sk-toggleable__label {background-color: #d4ebff;}#sk-16ce516d-9721-4f2c-9b10-f9f4ad7f6d1e input.sk-hidden--visually {border: 0;clip: rect(1px 1px 1px 1px);clip: rect(1px, 1px, 1px, 1px);height: 1px;margin: -1px;overflow: hidden;padding: 0;position: absolute;width: 1px;}#sk-16ce516d-9721-4f2c-9b10-f9f4ad7f6d1e div.sk-estimator {font-family: monospace;background-color: #f0f8ff;border: 1px dotted black;border-radius: 0.25em;box-sizing: border-box;margin-bottom: 0.5em;}#sk-16ce516d-9721-4f2c-9b10-f9f4ad7f6d1e div.sk-estimator:hover {background-color: #d4ebff;}#sk-16ce516d-9721-4f2c-9b10-f9f4ad7f6d1e div.sk-parallel-item::after {content: \"\";width: 100%;border-bottom: 1px solid gray;flex-grow: 1;}#sk-16ce516d-9721-4f2c-9b10-f9f4ad7f6d1e div.sk-label:hover label.sk-toggleable__label {background-color: #d4ebff;}#sk-16ce516d-9721-4f2c-9b10-f9f4ad7f6d1e div.sk-serial::before {content: \"\";position: absolute;border-left: 1px solid gray;box-sizing: border-box;top: 2em;bottom: 0;left: 50%;}#sk-16ce516d-9721-4f2c-9b10-f9f4ad7f6d1e div.sk-serial {display: flex;flex-direction: column;align-items: center;background-color: white;padding-right: 0.2em;padding-left: 0.2em;}#sk-16ce516d-9721-4f2c-9b10-f9f4ad7f6d1e div.sk-item {z-index: 1;}#sk-16ce516d-9721-4f2c-9b10-f9f4ad7f6d1e div.sk-parallel {display: flex;align-items: stretch;justify-content: center;background-color: white;}#sk-16ce516d-9721-4f2c-9b10-f9f4ad7f6d1e div.sk-parallel::before {content: \"\";position: absolute;border-left: 1px solid gray;box-sizing: border-box;top: 2em;bottom: 0;left: 50%;}#sk-16ce516d-9721-4f2c-9b10-f9f4ad7f6d1e div.sk-parallel-item {display: flex;flex-direction: column;position: relative;background-color: white;}#sk-16ce516d-9721-4f2c-9b10-f9f4ad7f6d1e div.sk-parallel-item:first-child::after {align-self: flex-end;width: 50%;}#sk-16ce516d-9721-4f2c-9b10-f9f4ad7f6d1e div.sk-parallel-item:last-child::after {align-self: flex-start;width: 50%;}#sk-16ce516d-9721-4f2c-9b10-f9f4ad7f6d1e div.sk-parallel-item:only-child::after {width: 0;}#sk-16ce516d-9721-4f2c-9b10-f9f4ad7f6d1e div.sk-dashed-wrapped {border: 1px dashed gray;margin: 0 0.4em 0.5em 0.4em;box-sizing: border-box;padding-bottom: 0.4em;background-color: white;position: relative;}#sk-16ce516d-9721-4f2c-9b10-f9f4ad7f6d1e div.sk-label label {font-family: monospace;font-weight: bold;background-color: white;display: inline-block;line-height: 1.2em;}#sk-16ce516d-9721-4f2c-9b10-f9f4ad7f6d1e div.sk-label-container {position: relative;z-index: 2;text-align: center;}#sk-16ce516d-9721-4f2c-9b10-f9f4ad7f6d1e div.sk-container {/* jupyter's `normalize.less` sets `[hidden] { display: none; }` but bootstrap.min.css set `[hidden] { display: none !important; }` so we also need the `!important` here to be able to override the default hidden behavior on the sphinx rendered scikit-learn.org. See: https://github.com/scikit-learn/scikit-learn/issues/21755 */display: inline-block !important;position: relative;}#sk-16ce516d-9721-4f2c-9b10-f9f4ad7f6d1e div.sk-text-repr-fallback {display: none;}</style><div id=\"sk-16ce516d-9721-4f2c-9b10-f9f4ad7f6d1e\" class=\"sk-top-container\"><div class=\"sk-text-repr-fallback\"><pre>GridSearchCV(cv=3,\n",
       "             estimator=Pipeline(steps=[(&#x27;columntransformer-1&#x27;,\n",
       "                                        ColumnTransformer(remainder=&#x27;passthrough&#x27;,\n",
       "                                                          transformers=[(&#x27;impute_age&#x27;,\n",
       "                                                                         SimpleImputer(),\n",
       "                                                                         [2]),\n",
       "                                                                        (&#x27;impute_embarked&#x27;,\n",
       "                                                                         SimpleImputer(strategy=&#x27;most_frequent&#x27;),\n",
       "                                                                         [6])])),\n",
       "                                       (&#x27;columntransformer-2&#x27;,\n",
       "                                        ColumnTransformer(remainder=&#x27;passthrough&#x27;,\n",
       "                                                          transformers=[(&#x27;ohe_sex_embarked&#x27;,\n",
       "                                                                         OneHotEncoder(handle_unkno...\n",
       "                                        ColumnTransformer(transformers=[(&#x27;scale&#x27;,\n",
       "                                                                         MinMaxScaler(),\n",
       "                                                                         slice(0, 10, None))])),\n",
       "                                       (&#x27;selectkbest&#x27;,\n",
       "                                        SelectKBest(k=5,\n",
       "                                                    score_func=&lt;function chi2 at 0x000002284606FA60&gt;)),\n",
       "                                       (&#x27;lgbmclassifier&#x27;, LGBMClassifier())]),\n",
       "             param_grid={&#x27;lgbmclassifier__boosting_type&#x27;: [&#x27;gbdt&#x27;, &#x27;dart&#x27;],\n",
       "                         &#x27;lgbmclassifier__learning_rate&#x27;: [0.1, 0.2],\n",
       "                         &#x27;lgbmclassifier__max_depth&#x27;: [5, 10],\n",
       "                         &#x27;lgbmclassifier__n_estimators&#x27;: [50, 100]},\n",
       "             verbose=3)</pre><b>Please rerun this cell to show the HTML repr or trust the notebook.</b></div><div class=\"sk-container\" hidden><div class=\"sk-item sk-dashed-wrapped\"><div class=\"sk-label-container\"><div class=\"sk-label sk-toggleable\"><input class=\"sk-toggleable__control sk-hidden--visually\" id=\"52929b8d-4fc6-4ea3-a6a5-623cedd5d747\" type=\"checkbox\" ><label for=\"52929b8d-4fc6-4ea3-a6a5-623cedd5d747\" class=\"sk-toggleable__label sk-toggleable__label-arrow\">GridSearchCV</label><div class=\"sk-toggleable__content\"><pre>GridSearchCV(cv=3,\n",
       "             estimator=Pipeline(steps=[(&#x27;columntransformer-1&#x27;,\n",
       "                                        ColumnTransformer(remainder=&#x27;passthrough&#x27;,\n",
       "                                                          transformers=[(&#x27;impute_age&#x27;,\n",
       "                                                                         SimpleImputer(),\n",
       "                                                                         [2]),\n",
       "                                                                        (&#x27;impute_embarked&#x27;,\n",
       "                                                                         SimpleImputer(strategy=&#x27;most_frequent&#x27;),\n",
       "                                                                         [6])])),\n",
       "                                       (&#x27;columntransformer-2&#x27;,\n",
       "                                        ColumnTransformer(remainder=&#x27;passthrough&#x27;,\n",
       "                                                          transformers=[(&#x27;ohe_sex_embarked&#x27;,\n",
       "                                                                         OneHotEncoder(handle_unkno...\n",
       "                                        ColumnTransformer(transformers=[(&#x27;scale&#x27;,\n",
       "                                                                         MinMaxScaler(),\n",
       "                                                                         slice(0, 10, None))])),\n",
       "                                       (&#x27;selectkbest&#x27;,\n",
       "                                        SelectKBest(k=5,\n",
       "                                                    score_func=&lt;function chi2 at 0x000002284606FA60&gt;)),\n",
       "                                       (&#x27;lgbmclassifier&#x27;, LGBMClassifier())]),\n",
       "             param_grid={&#x27;lgbmclassifier__boosting_type&#x27;: [&#x27;gbdt&#x27;, &#x27;dart&#x27;],\n",
       "                         &#x27;lgbmclassifier__learning_rate&#x27;: [0.1, 0.2],\n",
       "                         &#x27;lgbmclassifier__max_depth&#x27;: [5, 10],\n",
       "                         &#x27;lgbmclassifier__n_estimators&#x27;: [50, 100]},\n",
       "             verbose=3)</pre></div></div></div><div class=\"sk-parallel\"><div class=\"sk-parallel-item\"><div class=\"sk-item\"><div class=\"sk-serial\"><div class=\"sk-item\"><div class=\"sk-serial\"><div class=\"sk-item sk-dashed-wrapped\"><div class=\"sk-label-container\"><div class=\"sk-label sk-toggleable\"><input class=\"sk-toggleable__control sk-hidden--visually\" id=\"3ca45861-a95d-4f50-9f9f-d514ac5c59b1\" type=\"checkbox\" ><label for=\"3ca45861-a95d-4f50-9f9f-d514ac5c59b1\" class=\"sk-toggleable__label sk-toggleable__label-arrow\">columntransformer-1: ColumnTransformer</label><div class=\"sk-toggleable__content\"><pre>ColumnTransformer(remainder=&#x27;passthrough&#x27;,\n",
       "                  transformers=[(&#x27;impute_age&#x27;, SimpleImputer(), [2]),\n",
       "                                (&#x27;impute_embarked&#x27;,\n",
       "                                 SimpleImputer(strategy=&#x27;most_frequent&#x27;),\n",
       "                                 [6])])</pre></div></div></div><div class=\"sk-parallel\"><div class=\"sk-parallel-item\"><div class=\"sk-item\"><div class=\"sk-label-container\"><div class=\"sk-label sk-toggleable\"><input class=\"sk-toggleable__control sk-hidden--visually\" id=\"7125fd86-7bc9-4a66-a5a6-b0f477a3fb97\" type=\"checkbox\" ><label for=\"7125fd86-7bc9-4a66-a5a6-b0f477a3fb97\" class=\"sk-toggleable__label sk-toggleable__label-arrow\">impute_age</label><div class=\"sk-toggleable__content\"><pre>[2]</pre></div></div></div><div class=\"sk-serial\"><div class=\"sk-item\"><div class=\"sk-estimator sk-toggleable\"><input class=\"sk-toggleable__control sk-hidden--visually\" id=\"7753c08c-0ae3-4307-9166-23ee1f848420\" type=\"checkbox\" ><label for=\"7753c08c-0ae3-4307-9166-23ee1f848420\" class=\"sk-toggleable__label sk-toggleable__label-arrow\">SimpleImputer</label><div class=\"sk-toggleable__content\"><pre>SimpleImputer()</pre></div></div></div></div></div></div><div class=\"sk-parallel-item\"><div class=\"sk-item\"><div class=\"sk-label-container\"><div class=\"sk-label sk-toggleable\"><input class=\"sk-toggleable__control sk-hidden--visually\" id=\"0b65d424-1a7a-4e7a-b9a4-7ac45264f667\" type=\"checkbox\" ><label for=\"0b65d424-1a7a-4e7a-b9a4-7ac45264f667\" class=\"sk-toggleable__label sk-toggleable__label-arrow\">impute_embarked</label><div class=\"sk-toggleable__content\"><pre>[6]</pre></div></div></div><div class=\"sk-serial\"><div class=\"sk-item\"><div class=\"sk-estimator sk-toggleable\"><input class=\"sk-toggleable__control sk-hidden--visually\" id=\"b203d680-a8b9-464b-8223-9b3e92fa6548\" type=\"checkbox\" ><label for=\"b203d680-a8b9-464b-8223-9b3e92fa6548\" class=\"sk-toggleable__label sk-toggleable__label-arrow\">SimpleImputer</label><div class=\"sk-toggleable__content\"><pre>SimpleImputer(strategy=&#x27;most_frequent&#x27;)</pre></div></div></div></div></div></div><div class=\"sk-parallel-item\"><div class=\"sk-item\"><div class=\"sk-label-container\"><div class=\"sk-label sk-toggleable\"><input class=\"sk-toggleable__control sk-hidden--visually\" id=\"15a7f623-cadc-4164-97df-379d8fa1b651\" type=\"checkbox\" ><label for=\"15a7f623-cadc-4164-97df-379d8fa1b651\" class=\"sk-toggleable__label sk-toggleable__label-arrow\">remainder</label><div class=\"sk-toggleable__content\"><pre>[&#x27;Pclass&#x27;, &#x27;Sex&#x27;, &#x27;SibSp&#x27;, &#x27;Parch&#x27;, &#x27;Fare&#x27;]</pre></div></div></div><div class=\"sk-serial\"><div class=\"sk-item\"><div class=\"sk-estimator sk-toggleable\"><input class=\"sk-toggleable__control sk-hidden--visually\" id=\"e8127fde-9d2c-4cfd-bfd0-87e0a39e87e7\" type=\"checkbox\" ><label for=\"e8127fde-9d2c-4cfd-bfd0-87e0a39e87e7\" class=\"sk-toggleable__label sk-toggleable__label-arrow\">passthrough</label><div class=\"sk-toggleable__content\"><pre>passthrough</pre></div></div></div></div></div></div></div></div><div class=\"sk-item sk-dashed-wrapped\"><div class=\"sk-label-container\"><div class=\"sk-label sk-toggleable\"><input class=\"sk-toggleable__control sk-hidden--visually\" id=\"1e62050b-104e-4e5a-a076-f607280be23d\" type=\"checkbox\" ><label for=\"1e62050b-104e-4e5a-a076-f607280be23d\" class=\"sk-toggleable__label sk-toggleable__label-arrow\">columntransformer-2: ColumnTransformer</label><div class=\"sk-toggleable__content\"><pre>ColumnTransformer(remainder=&#x27;passthrough&#x27;,\n",
       "                  transformers=[(&#x27;ohe_sex_embarked&#x27;,\n",
       "                                 OneHotEncoder(handle_unknown=&#x27;ignore&#x27;,\n",
       "                                               sparse=False),\n",
       "                                 [1, 6])])</pre></div></div></div><div class=\"sk-parallel\"><div class=\"sk-parallel-item\"><div class=\"sk-item\"><div class=\"sk-label-container\"><div class=\"sk-label sk-toggleable\"><input class=\"sk-toggleable__control sk-hidden--visually\" id=\"33ae33ab-758c-4e0e-915b-e3730c65b68f\" type=\"checkbox\" ><label for=\"33ae33ab-758c-4e0e-915b-e3730c65b68f\" class=\"sk-toggleable__label sk-toggleable__label-arrow\">ohe_sex_embarked</label><div class=\"sk-toggleable__content\"><pre>[1, 6]</pre></div></div></div><div class=\"sk-serial\"><div class=\"sk-item\"><div class=\"sk-estimator sk-toggleable\"><input class=\"sk-toggleable__control sk-hidden--visually\" id=\"c1888e8f-eb6e-41a4-836b-bce8ca7c7602\" type=\"checkbox\" ><label for=\"c1888e8f-eb6e-41a4-836b-bce8ca7c7602\" class=\"sk-toggleable__label sk-toggleable__label-arrow\">OneHotEncoder</label><div class=\"sk-toggleable__content\"><pre>OneHotEncoder(handle_unknown=&#x27;ignore&#x27;, sparse=False)</pre></div></div></div></div></div></div><div class=\"sk-parallel-item\"><div class=\"sk-item\"><div class=\"sk-label-container\"><div class=\"sk-label sk-toggleable\"><input class=\"sk-toggleable__control sk-hidden--visually\" id=\"5031bcc0-9b55-4c0f-aa87-8f844c98124a\" type=\"checkbox\" ><label for=\"5031bcc0-9b55-4c0f-aa87-8f844c98124a\" class=\"sk-toggleable__label sk-toggleable__label-arrow\">remainder</label><div class=\"sk-toggleable__content\"><pre>[0, 2, 3, 4, 5]</pre></div></div></div><div class=\"sk-serial\"><div class=\"sk-item\"><div class=\"sk-estimator sk-toggleable\"><input class=\"sk-toggleable__control sk-hidden--visually\" id=\"65272122-6ac4-4180-b38c-e504fd92e04f\" type=\"checkbox\" ><label for=\"65272122-6ac4-4180-b38c-e504fd92e04f\" class=\"sk-toggleable__label sk-toggleable__label-arrow\">passthrough</label><div class=\"sk-toggleable__content\"><pre>passthrough</pre></div></div></div></div></div></div></div></div><div class=\"sk-item sk-dashed-wrapped\"><div class=\"sk-label-container\"><div class=\"sk-label sk-toggleable\"><input class=\"sk-toggleable__control sk-hidden--visually\" id=\"aaf67c8c-7a98-4230-86bf-e08d77fae068\" type=\"checkbox\" ><label for=\"aaf67c8c-7a98-4230-86bf-e08d77fae068\" class=\"sk-toggleable__label sk-toggleable__label-arrow\">columntransformer-3: ColumnTransformer</label><div class=\"sk-toggleable__content\"><pre>ColumnTransformer(transformers=[(&#x27;scale&#x27;, MinMaxScaler(), slice(0, 10, None))])</pre></div></div></div><div class=\"sk-parallel\"><div class=\"sk-parallel-item\"><div class=\"sk-item\"><div class=\"sk-label-container\"><div class=\"sk-label sk-toggleable\"><input class=\"sk-toggleable__control sk-hidden--visually\" id=\"a8c81a38-0fe4-4d3e-8e8c-48cc65b70cdc\" type=\"checkbox\" ><label for=\"a8c81a38-0fe4-4d3e-8e8c-48cc65b70cdc\" class=\"sk-toggleable__label sk-toggleable__label-arrow\">scale</label><div class=\"sk-toggleable__content\"><pre>slice(0, 10, None)</pre></div></div></div><div class=\"sk-serial\"><div class=\"sk-item\"><div class=\"sk-estimator sk-toggleable\"><input class=\"sk-toggleable__control sk-hidden--visually\" id=\"dff19a7f-f321-4586-adfa-2dc8e8e36ee7\" type=\"checkbox\" ><label for=\"dff19a7f-f321-4586-adfa-2dc8e8e36ee7\" class=\"sk-toggleable__label sk-toggleable__label-arrow\">MinMaxScaler</label><div class=\"sk-toggleable__content\"><pre>MinMaxScaler()</pre></div></div></div></div></div></div></div></div><div class=\"sk-item\"><div class=\"sk-estimator sk-toggleable\"><input class=\"sk-toggleable__control sk-hidden--visually\" id=\"baec9856-a1ae-4dfe-a74b-c4227dd112bf\" type=\"checkbox\" ><label for=\"baec9856-a1ae-4dfe-a74b-c4227dd112bf\" class=\"sk-toggleable__label sk-toggleable__label-arrow\">SelectKBest</label><div class=\"sk-toggleable__content\"><pre>SelectKBest(k=5, score_func=&lt;function chi2 at 0x000002284606FA60&gt;)</pre></div></div></div><div class=\"sk-item\"><div class=\"sk-estimator sk-toggleable\"><input class=\"sk-toggleable__control sk-hidden--visually\" id=\"9f06d78e-c3e3-481a-b98c-89a20c9e69f1\" type=\"checkbox\" ><label for=\"9f06d78e-c3e3-481a-b98c-89a20c9e69f1\" class=\"sk-toggleable__label sk-toggleable__label-arrow\">LGBMClassifier</label><div class=\"sk-toggleable__content\"><pre>LGBMClassifier()</pre></div></div></div></div></div></div></div></div></div></div></div></div>"
      ],
      "text/plain": [
       "GridSearchCV(cv=3,\n",
       "             estimator=Pipeline(steps=[('columntransformer-1',\n",
       "                                        ColumnTransformer(remainder='passthrough',\n",
       "                                                          transformers=[('impute_age',\n",
       "                                                                         SimpleImputer(),\n",
       "                                                                         [2]),\n",
       "                                                                        ('impute_embarked',\n",
       "                                                                         SimpleImputer(strategy='most_frequent'),\n",
       "                                                                         [6])])),\n",
       "                                       ('columntransformer-2',\n",
       "                                        ColumnTransformer(remainder='passthrough',\n",
       "                                                          transformers=[('ohe_sex_embarked',\n",
       "                                                                         OneHotEncoder(handle_unkno...\n",
       "                                        ColumnTransformer(transformers=[('scale',\n",
       "                                                                         MinMaxScaler(),\n",
       "                                                                         slice(0, 10, None))])),\n",
       "                                       ('selectkbest',\n",
       "                                        SelectKBest(k=5,\n",
       "                                                    score_func=<function chi2 at 0x000002284606FA60>)),\n",
       "                                       ('lgbmclassifier', LGBMClassifier())]),\n",
       "             param_grid={'lgbmclassifier__boosting_type': ['gbdt', 'dart'],\n",
       "                         'lgbmclassifier__learning_rate': [0.1, 0.2],\n",
       "                         'lgbmclassifier__max_depth': [5, 10],\n",
       "                         'lgbmclassifier__n_estimators': [50, 100]},\n",
       "             verbose=3)"
      ]
     },
     "execution_count": 36,
     "metadata": {},
     "output_type": "execute_result"
    }
   ],
   "source": [
    "grid_lgbm = GridSearchCV(pipe1,param_grid =params ,cv=3, verbose=3)\n",
    "grid_lgbm.fit(X_train,y_train)"
   ]
  },
  {
   "cell_type": "code",
   "execution_count": 37,
   "id": "cea51ad2",
   "metadata": {},
   "outputs": [],
   "source": [
    "lgbm_model=grid_lgbm.best_estimator_"
   ]
  },
  {
   "cell_type": "code",
   "execution_count": 38,
   "id": "0f24ce88",
   "metadata": {},
   "outputs": [
    {
     "data": {
      "text/html": [
       "<style>#sk-2b6683f6-0b49-4410-a093-b24bb5bfcd50 {color: black;background-color: white;}#sk-2b6683f6-0b49-4410-a093-b24bb5bfcd50 pre{padding: 0;}#sk-2b6683f6-0b49-4410-a093-b24bb5bfcd50 div.sk-toggleable {background-color: white;}#sk-2b6683f6-0b49-4410-a093-b24bb5bfcd50 label.sk-toggleable__label {cursor: pointer;display: block;width: 100%;margin-bottom: 0;padding: 0.3em;box-sizing: border-box;text-align: center;}#sk-2b6683f6-0b49-4410-a093-b24bb5bfcd50 label.sk-toggleable__label-arrow:before {content: \"▸\";float: left;margin-right: 0.25em;color: #696969;}#sk-2b6683f6-0b49-4410-a093-b24bb5bfcd50 label.sk-toggleable__label-arrow:hover:before {color: black;}#sk-2b6683f6-0b49-4410-a093-b24bb5bfcd50 div.sk-estimator:hover label.sk-toggleable__label-arrow:before {color: black;}#sk-2b6683f6-0b49-4410-a093-b24bb5bfcd50 div.sk-toggleable__content {max-height: 0;max-width: 0;overflow: hidden;text-align: left;background-color: #f0f8ff;}#sk-2b6683f6-0b49-4410-a093-b24bb5bfcd50 div.sk-toggleable__content pre {margin: 0.2em;color: black;border-radius: 0.25em;background-color: #f0f8ff;}#sk-2b6683f6-0b49-4410-a093-b24bb5bfcd50 input.sk-toggleable__control:checked~div.sk-toggleable__content {max-height: 200px;max-width: 100%;overflow: auto;}#sk-2b6683f6-0b49-4410-a093-b24bb5bfcd50 input.sk-toggleable__control:checked~label.sk-toggleable__label-arrow:before {content: \"▾\";}#sk-2b6683f6-0b49-4410-a093-b24bb5bfcd50 div.sk-estimator input.sk-toggleable__control:checked~label.sk-toggleable__label {background-color: #d4ebff;}#sk-2b6683f6-0b49-4410-a093-b24bb5bfcd50 div.sk-label input.sk-toggleable__control:checked~label.sk-toggleable__label {background-color: #d4ebff;}#sk-2b6683f6-0b49-4410-a093-b24bb5bfcd50 input.sk-hidden--visually {border: 0;clip: rect(1px 1px 1px 1px);clip: rect(1px, 1px, 1px, 1px);height: 1px;margin: -1px;overflow: hidden;padding: 0;position: absolute;width: 1px;}#sk-2b6683f6-0b49-4410-a093-b24bb5bfcd50 div.sk-estimator {font-family: monospace;background-color: #f0f8ff;border: 1px dotted black;border-radius: 0.25em;box-sizing: border-box;margin-bottom: 0.5em;}#sk-2b6683f6-0b49-4410-a093-b24bb5bfcd50 div.sk-estimator:hover {background-color: #d4ebff;}#sk-2b6683f6-0b49-4410-a093-b24bb5bfcd50 div.sk-parallel-item::after {content: \"\";width: 100%;border-bottom: 1px solid gray;flex-grow: 1;}#sk-2b6683f6-0b49-4410-a093-b24bb5bfcd50 div.sk-label:hover label.sk-toggleable__label {background-color: #d4ebff;}#sk-2b6683f6-0b49-4410-a093-b24bb5bfcd50 div.sk-serial::before {content: \"\";position: absolute;border-left: 1px solid gray;box-sizing: border-box;top: 2em;bottom: 0;left: 50%;}#sk-2b6683f6-0b49-4410-a093-b24bb5bfcd50 div.sk-serial {display: flex;flex-direction: column;align-items: center;background-color: white;padding-right: 0.2em;padding-left: 0.2em;}#sk-2b6683f6-0b49-4410-a093-b24bb5bfcd50 div.sk-item {z-index: 1;}#sk-2b6683f6-0b49-4410-a093-b24bb5bfcd50 div.sk-parallel {display: flex;align-items: stretch;justify-content: center;background-color: white;}#sk-2b6683f6-0b49-4410-a093-b24bb5bfcd50 div.sk-parallel::before {content: \"\";position: absolute;border-left: 1px solid gray;box-sizing: border-box;top: 2em;bottom: 0;left: 50%;}#sk-2b6683f6-0b49-4410-a093-b24bb5bfcd50 div.sk-parallel-item {display: flex;flex-direction: column;position: relative;background-color: white;}#sk-2b6683f6-0b49-4410-a093-b24bb5bfcd50 div.sk-parallel-item:first-child::after {align-self: flex-end;width: 50%;}#sk-2b6683f6-0b49-4410-a093-b24bb5bfcd50 div.sk-parallel-item:last-child::after {align-self: flex-start;width: 50%;}#sk-2b6683f6-0b49-4410-a093-b24bb5bfcd50 div.sk-parallel-item:only-child::after {width: 0;}#sk-2b6683f6-0b49-4410-a093-b24bb5bfcd50 div.sk-dashed-wrapped {border: 1px dashed gray;margin: 0 0.4em 0.5em 0.4em;box-sizing: border-box;padding-bottom: 0.4em;background-color: white;position: relative;}#sk-2b6683f6-0b49-4410-a093-b24bb5bfcd50 div.sk-label label {font-family: monospace;font-weight: bold;background-color: white;display: inline-block;line-height: 1.2em;}#sk-2b6683f6-0b49-4410-a093-b24bb5bfcd50 div.sk-label-container {position: relative;z-index: 2;text-align: center;}#sk-2b6683f6-0b49-4410-a093-b24bb5bfcd50 div.sk-container {/* jupyter's `normalize.less` sets `[hidden] { display: none; }` but bootstrap.min.css set `[hidden] { display: none !important; }` so we also need the `!important` here to be able to override the default hidden behavior on the sphinx rendered scikit-learn.org. See: https://github.com/scikit-learn/scikit-learn/issues/21755 */display: inline-block !important;position: relative;}#sk-2b6683f6-0b49-4410-a093-b24bb5bfcd50 div.sk-text-repr-fallback {display: none;}</style><div id=\"sk-2b6683f6-0b49-4410-a093-b24bb5bfcd50\" class=\"sk-top-container\"><div class=\"sk-text-repr-fallback\"><pre>Pipeline(steps=[(&#x27;columntransformer-1&#x27;,\n",
       "                 ColumnTransformer(remainder=&#x27;passthrough&#x27;,\n",
       "                                   transformers=[(&#x27;impute_age&#x27;, SimpleImputer(),\n",
       "                                                  [2]),\n",
       "                                                 (&#x27;impute_embarked&#x27;,\n",
       "                                                  SimpleImputer(strategy=&#x27;most_frequent&#x27;),\n",
       "                                                  [6])])),\n",
       "                (&#x27;columntransformer-2&#x27;,\n",
       "                 ColumnTransformer(remainder=&#x27;passthrough&#x27;,\n",
       "                                   transformers=[(&#x27;ohe_sex_embarked&#x27;,\n",
       "                                                  OneHotEncoder(handle_unknown=&#x27;ignore&#x27;,\n",
       "                                                                sparse=False),\n",
       "                                                  [1, 6])])),\n",
       "                (&#x27;columntransformer-3&#x27;,\n",
       "                 ColumnTransformer(transformers=[(&#x27;scale&#x27;, MinMaxScaler(),\n",
       "                                                  slice(0, 10, None))])),\n",
       "                (&#x27;selectkbest&#x27;,\n",
       "                 SelectKBest(k=5,\n",
       "                             score_func=&lt;function chi2 at 0x000002284606FA60&gt;)),\n",
       "                (&#x27;lgbmclassifier&#x27;,\n",
       "                 LGBMClassifier(max_depth=5, n_estimators=50))])</pre><b>Please rerun this cell to show the HTML repr or trust the notebook.</b></div><div class=\"sk-container\" hidden><div class=\"sk-item sk-dashed-wrapped\"><div class=\"sk-label-container\"><div class=\"sk-label sk-toggleable\"><input class=\"sk-toggleable__control sk-hidden--visually\" id=\"c0141191-ea31-41d0-8731-b1ff567b06fc\" type=\"checkbox\" ><label for=\"c0141191-ea31-41d0-8731-b1ff567b06fc\" class=\"sk-toggleable__label sk-toggleable__label-arrow\">Pipeline</label><div class=\"sk-toggleable__content\"><pre>Pipeline(steps=[(&#x27;columntransformer-1&#x27;,\n",
       "                 ColumnTransformer(remainder=&#x27;passthrough&#x27;,\n",
       "                                   transformers=[(&#x27;impute_age&#x27;, SimpleImputer(),\n",
       "                                                  [2]),\n",
       "                                                 (&#x27;impute_embarked&#x27;,\n",
       "                                                  SimpleImputer(strategy=&#x27;most_frequent&#x27;),\n",
       "                                                  [6])])),\n",
       "                (&#x27;columntransformer-2&#x27;,\n",
       "                 ColumnTransformer(remainder=&#x27;passthrough&#x27;,\n",
       "                                   transformers=[(&#x27;ohe_sex_embarked&#x27;,\n",
       "                                                  OneHotEncoder(handle_unknown=&#x27;ignore&#x27;,\n",
       "                                                                sparse=False),\n",
       "                                                  [1, 6])])),\n",
       "                (&#x27;columntransformer-3&#x27;,\n",
       "                 ColumnTransformer(transformers=[(&#x27;scale&#x27;, MinMaxScaler(),\n",
       "                                                  slice(0, 10, None))])),\n",
       "                (&#x27;selectkbest&#x27;,\n",
       "                 SelectKBest(k=5,\n",
       "                             score_func=&lt;function chi2 at 0x000002284606FA60&gt;)),\n",
       "                (&#x27;lgbmclassifier&#x27;,\n",
       "                 LGBMClassifier(max_depth=5, n_estimators=50))])</pre></div></div></div><div class=\"sk-serial\"><div class=\"sk-item sk-dashed-wrapped\"><div class=\"sk-label-container\"><div class=\"sk-label sk-toggleable\"><input class=\"sk-toggleable__control sk-hidden--visually\" id=\"8d5b7d60-5ae2-42ac-82fc-72e199ebd968\" type=\"checkbox\" ><label for=\"8d5b7d60-5ae2-42ac-82fc-72e199ebd968\" class=\"sk-toggleable__label sk-toggleable__label-arrow\">columntransformer-1: ColumnTransformer</label><div class=\"sk-toggleable__content\"><pre>ColumnTransformer(remainder=&#x27;passthrough&#x27;,\n",
       "                  transformers=[(&#x27;impute_age&#x27;, SimpleImputer(), [2]),\n",
       "                                (&#x27;impute_embarked&#x27;,\n",
       "                                 SimpleImputer(strategy=&#x27;most_frequent&#x27;),\n",
       "                                 [6])])</pre></div></div></div><div class=\"sk-parallel\"><div class=\"sk-parallel-item\"><div class=\"sk-item\"><div class=\"sk-label-container\"><div class=\"sk-label sk-toggleable\"><input class=\"sk-toggleable__control sk-hidden--visually\" id=\"eac58ddd-8cea-48f0-a933-9e56c5484262\" type=\"checkbox\" ><label for=\"eac58ddd-8cea-48f0-a933-9e56c5484262\" class=\"sk-toggleable__label sk-toggleable__label-arrow\">impute_age</label><div class=\"sk-toggleable__content\"><pre>[2]</pre></div></div></div><div class=\"sk-serial\"><div class=\"sk-item\"><div class=\"sk-estimator sk-toggleable\"><input class=\"sk-toggleable__control sk-hidden--visually\" id=\"a0d9e688-54a9-4408-a037-7f25036816f9\" type=\"checkbox\" ><label for=\"a0d9e688-54a9-4408-a037-7f25036816f9\" class=\"sk-toggleable__label sk-toggleable__label-arrow\">SimpleImputer</label><div class=\"sk-toggleable__content\"><pre>SimpleImputer()</pre></div></div></div></div></div></div><div class=\"sk-parallel-item\"><div class=\"sk-item\"><div class=\"sk-label-container\"><div class=\"sk-label sk-toggleable\"><input class=\"sk-toggleable__control sk-hidden--visually\" id=\"21e91f4a-d872-4b94-846b-30e99fa0b767\" type=\"checkbox\" ><label for=\"21e91f4a-d872-4b94-846b-30e99fa0b767\" class=\"sk-toggleable__label sk-toggleable__label-arrow\">impute_embarked</label><div class=\"sk-toggleable__content\"><pre>[6]</pre></div></div></div><div class=\"sk-serial\"><div class=\"sk-item\"><div class=\"sk-estimator sk-toggleable\"><input class=\"sk-toggleable__control sk-hidden--visually\" id=\"b711c57e-0fc5-455d-83f9-eb5a452ea05b\" type=\"checkbox\" ><label for=\"b711c57e-0fc5-455d-83f9-eb5a452ea05b\" class=\"sk-toggleable__label sk-toggleable__label-arrow\">SimpleImputer</label><div class=\"sk-toggleable__content\"><pre>SimpleImputer(strategy=&#x27;most_frequent&#x27;)</pre></div></div></div></div></div></div><div class=\"sk-parallel-item\"><div class=\"sk-item\"><div class=\"sk-label-container\"><div class=\"sk-label sk-toggleable\"><input class=\"sk-toggleable__control sk-hidden--visually\" id=\"09b4f0ed-f90c-4867-91e0-8ba7d96eecca\" type=\"checkbox\" ><label for=\"09b4f0ed-f90c-4867-91e0-8ba7d96eecca\" class=\"sk-toggleable__label sk-toggleable__label-arrow\">remainder</label><div class=\"sk-toggleable__content\"><pre>[&#x27;Pclass&#x27;, &#x27;Sex&#x27;, &#x27;SibSp&#x27;, &#x27;Parch&#x27;, &#x27;Fare&#x27;]</pre></div></div></div><div class=\"sk-serial\"><div class=\"sk-item\"><div class=\"sk-estimator sk-toggleable\"><input class=\"sk-toggleable__control sk-hidden--visually\" id=\"ef427446-3822-4463-819e-4dc1be9b4f9c\" type=\"checkbox\" ><label for=\"ef427446-3822-4463-819e-4dc1be9b4f9c\" class=\"sk-toggleable__label sk-toggleable__label-arrow\">passthrough</label><div class=\"sk-toggleable__content\"><pre>passthrough</pre></div></div></div></div></div></div></div></div><div class=\"sk-item sk-dashed-wrapped\"><div class=\"sk-label-container\"><div class=\"sk-label sk-toggleable\"><input class=\"sk-toggleable__control sk-hidden--visually\" id=\"1080820f-e316-41f1-bd5e-96c876698815\" type=\"checkbox\" ><label for=\"1080820f-e316-41f1-bd5e-96c876698815\" class=\"sk-toggleable__label sk-toggleable__label-arrow\">columntransformer-2: ColumnTransformer</label><div class=\"sk-toggleable__content\"><pre>ColumnTransformer(remainder=&#x27;passthrough&#x27;,\n",
       "                  transformers=[(&#x27;ohe_sex_embarked&#x27;,\n",
       "                                 OneHotEncoder(handle_unknown=&#x27;ignore&#x27;,\n",
       "                                               sparse=False),\n",
       "                                 [1, 6])])</pre></div></div></div><div class=\"sk-parallel\"><div class=\"sk-parallel-item\"><div class=\"sk-item\"><div class=\"sk-label-container\"><div class=\"sk-label sk-toggleable\"><input class=\"sk-toggleable__control sk-hidden--visually\" id=\"085cbe74-c5c3-4e30-bc37-9eb3fccdd4aa\" type=\"checkbox\" ><label for=\"085cbe74-c5c3-4e30-bc37-9eb3fccdd4aa\" class=\"sk-toggleable__label sk-toggleable__label-arrow\">ohe_sex_embarked</label><div class=\"sk-toggleable__content\"><pre>[1, 6]</pre></div></div></div><div class=\"sk-serial\"><div class=\"sk-item\"><div class=\"sk-estimator sk-toggleable\"><input class=\"sk-toggleable__control sk-hidden--visually\" id=\"58623800-721c-498c-b4dd-4a8a8ce576a5\" type=\"checkbox\" ><label for=\"58623800-721c-498c-b4dd-4a8a8ce576a5\" class=\"sk-toggleable__label sk-toggleable__label-arrow\">OneHotEncoder</label><div class=\"sk-toggleable__content\"><pre>OneHotEncoder(handle_unknown=&#x27;ignore&#x27;, sparse=False)</pre></div></div></div></div></div></div><div class=\"sk-parallel-item\"><div class=\"sk-item\"><div class=\"sk-label-container\"><div class=\"sk-label sk-toggleable\"><input class=\"sk-toggleable__control sk-hidden--visually\" id=\"51fcf1ec-3003-4d2d-babb-a640bc662b7c\" type=\"checkbox\" ><label for=\"51fcf1ec-3003-4d2d-babb-a640bc662b7c\" class=\"sk-toggleable__label sk-toggleable__label-arrow\">remainder</label><div class=\"sk-toggleable__content\"><pre>[0, 2, 3, 4, 5]</pre></div></div></div><div class=\"sk-serial\"><div class=\"sk-item\"><div class=\"sk-estimator sk-toggleable\"><input class=\"sk-toggleable__control sk-hidden--visually\" id=\"14c36bf0-2f9b-46b6-966c-9318117d2df4\" type=\"checkbox\" ><label for=\"14c36bf0-2f9b-46b6-966c-9318117d2df4\" class=\"sk-toggleable__label sk-toggleable__label-arrow\">passthrough</label><div class=\"sk-toggleable__content\"><pre>passthrough</pre></div></div></div></div></div></div></div></div><div class=\"sk-item sk-dashed-wrapped\"><div class=\"sk-label-container\"><div class=\"sk-label sk-toggleable\"><input class=\"sk-toggleable__control sk-hidden--visually\" id=\"4e0c108a-9ccc-4815-a282-7bbd2c44e778\" type=\"checkbox\" ><label for=\"4e0c108a-9ccc-4815-a282-7bbd2c44e778\" class=\"sk-toggleable__label sk-toggleable__label-arrow\">columntransformer-3: ColumnTransformer</label><div class=\"sk-toggleable__content\"><pre>ColumnTransformer(transformers=[(&#x27;scale&#x27;, MinMaxScaler(), slice(0, 10, None))])</pre></div></div></div><div class=\"sk-parallel\"><div class=\"sk-parallel-item\"><div class=\"sk-item\"><div class=\"sk-label-container\"><div class=\"sk-label sk-toggleable\"><input class=\"sk-toggleable__control sk-hidden--visually\" id=\"5b1456a1-4064-4e51-8c60-baf4bfedb8af\" type=\"checkbox\" ><label for=\"5b1456a1-4064-4e51-8c60-baf4bfedb8af\" class=\"sk-toggleable__label sk-toggleable__label-arrow\">scale</label><div class=\"sk-toggleable__content\"><pre>slice(0, 10, None)</pre></div></div></div><div class=\"sk-serial\"><div class=\"sk-item\"><div class=\"sk-estimator sk-toggleable\"><input class=\"sk-toggleable__control sk-hidden--visually\" id=\"41f2d614-13ed-4058-ab1e-abd6aad6117c\" type=\"checkbox\" ><label for=\"41f2d614-13ed-4058-ab1e-abd6aad6117c\" class=\"sk-toggleable__label sk-toggleable__label-arrow\">MinMaxScaler</label><div class=\"sk-toggleable__content\"><pre>MinMaxScaler()</pre></div></div></div></div></div></div></div></div><div class=\"sk-item\"><div class=\"sk-estimator sk-toggleable\"><input class=\"sk-toggleable__control sk-hidden--visually\" id=\"d079af42-2e6b-4cf0-acf7-610fd1e80463\" type=\"checkbox\" ><label for=\"d079af42-2e6b-4cf0-acf7-610fd1e80463\" class=\"sk-toggleable__label sk-toggleable__label-arrow\">SelectKBest</label><div class=\"sk-toggleable__content\"><pre>SelectKBest(k=5, score_func=&lt;function chi2 at 0x000002284606FA60&gt;)</pre></div></div></div><div class=\"sk-item\"><div class=\"sk-estimator sk-toggleable\"><input class=\"sk-toggleable__control sk-hidden--visually\" id=\"12fda835-247c-46ce-a688-50007a08114f\" type=\"checkbox\" ><label for=\"12fda835-247c-46ce-a688-50007a08114f\" class=\"sk-toggleable__label sk-toggleable__label-arrow\">LGBMClassifier</label><div class=\"sk-toggleable__content\"><pre>LGBMClassifier(max_depth=5, n_estimators=50)</pre></div></div></div></div></div></div></div>"
      ],
      "text/plain": [
       "Pipeline(steps=[('columntransformer-1',\n",
       "                 ColumnTransformer(remainder='passthrough',\n",
       "                                   transformers=[('impute_age', SimpleImputer(),\n",
       "                                                  [2]),\n",
       "                                                 ('impute_embarked',\n",
       "                                                  SimpleImputer(strategy='most_frequent'),\n",
       "                                                  [6])])),\n",
       "                ('columntransformer-2',\n",
       "                 ColumnTransformer(remainder='passthrough',\n",
       "                                   transformers=[('ohe_sex_embarked',\n",
       "                                                  OneHotEncoder(handle_unknown='ignore',\n",
       "                                                                sparse=False),\n",
       "                                                  [1, 6])])),\n",
       "                ('columntransformer-3',\n",
       "                 ColumnTransformer(transformers=[('scale', MinMaxScaler(),\n",
       "                                                  slice(0, 10, None))])),\n",
       "                ('selectkbest',\n",
       "                 SelectKBest(k=5,\n",
       "                             score_func=<function chi2 at 0x000002284606FA60>)),\n",
       "                ('lgbmclassifier',\n",
       "                 LGBMClassifier(max_depth=5, n_estimators=50))])"
      ]
     },
     "execution_count": 38,
     "metadata": {},
     "output_type": "execute_result"
    }
   ],
   "source": [
    "lgbm_model.fit(X_train,y_train)"
   ]
  },
  {
   "cell_type": "code",
   "execution_count": 39,
   "id": "b3015d61",
   "metadata": {},
   "outputs": [],
   "source": [
    "pred_test = lgbm_model.predict(X_test)"
   ]
  },
  {
   "cell_type": "code",
   "execution_count": 40,
   "id": "78cefd4b",
   "metadata": {},
   "outputs": [
    {
     "data": {
      "text/plain": [
       "0.6256983240223464"
      ]
     },
     "execution_count": 40,
     "metadata": {},
     "output_type": "execute_result"
    }
   ],
   "source": [
    "accuracy_score(y_test,pred_test)"
   ]
  },
  {
   "cell_type": "code",
   "execution_count": 41,
   "id": "b4562e23",
   "metadata": {},
   "outputs": [],
   "source": [
    "# Exporting pipeline\n",
    "\n",
    "import pickle\n",
    "pickle.dump(pipe,open('pipe_decisiontree.pkl','wb'))\n",
    "pickle.dump(pipe1,open('pipe_lightgbm.pkl','wb'))"
   ]
  },
  {
   "cell_type": "code",
   "execution_count": null,
   "id": "7ccc98eb",
   "metadata": {},
   "outputs": [],
   "source": []
  }
 ],
 "metadata": {
  "kernelspec": {
   "display_name": "Python 3 (ipykernel)",
   "language": "python",
   "name": "python3"
  },
  "language_info": {
   "codemirror_mode": {
    "name": "ipython",
    "version": 3
   },
   "file_extension": ".py",
   "mimetype": "text/x-python",
   "name": "python",
   "nbconvert_exporter": "python",
   "pygments_lexer": "ipython3",
   "version": "3.9.12"
  }
 },
 "nbformat": 4,
 "nbformat_minor": 5
}
