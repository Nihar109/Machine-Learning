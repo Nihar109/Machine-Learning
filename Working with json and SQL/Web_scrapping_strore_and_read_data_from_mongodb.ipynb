{
 "cells": [
  {
   "cell_type": "code",
   "execution_count": 1,
   "id": "41f15058",
   "metadata": {},
   "outputs": [
    {
     "name": "stdout",
     "output_type": "stream",
     "text": [
      "Imported Libraries Sucessfully !!\n"
     ]
    }
   ],
   "source": [
    "import bs4\n",
    "from bs4 import BeautifulSoup as bs\n",
    "import requests\n",
    "import pandas as pd\n",
    "import pymongo\n",
    "from pymongo import MongoClient\n",
    "import pandas as pd\n",
    "\n",
    "print('Imported Libraries Sucessfully !!')"
   ]
  },
  {
   "cell_type": "code",
   "execution_count": 2,
   "id": "6e7ad04c",
   "metadata": {},
   "outputs": [],
   "source": [
    "def clean_string(var):\n",
    "    var = str(var)\n",
    "    var = var.rstrip().lstrip()\n",
    "    return var"
   ]
  },
  {
   "cell_type": "code",
   "execution_count": 3,
   "id": "3fc687a4",
   "metadata": {},
   "outputs": [],
   "source": [
    "recipe_names = []\n",
    "cuisines = []\n",
    "diets = []\n",
    "\n",
    "for num in range(1,11):\n",
    "    \n",
    "    url = \"https://www.bawarchi.com/recipe/{}\".format(num)\n",
    "    page = requests.get(url)\n",
    "    soup = bs(page.content,'html.parser')\n",
    "    \n",
    "    for i in soup.findAll('a',class_='gallery'):\n",
    "        \n",
    "        if i['href']:\n",
    "            page = bs(requests.get(i['href']).content)\n",
    "            for title in page.find_all('title'):\n",
    "                text1 = title.text\n",
    "                var = text1.split(\"|\")\n",
    "                recipe_names.append(clean_string(var[0][2:]))\n",
    "                cuisines.append(clean_string(var[1]))\n",
    "                diets.append(clean_string(var[2]))\n",
    "        else:\n",
    "            pass"
   ]
  },
  {
   "cell_type": "code",
   "execution_count": 4,
   "id": "cdf869d7",
   "metadata": {},
   "outputs": [
    {
     "name": "stdout",
     "output_type": "stream",
     "text": [
      "[{'recipe_name': 'warchi', 'cuisine': 'Indian veg recipes', 'diet': 'recipes'}, {'recipe_name': 'warchi', 'cuisine': 'Indian veg recipes', 'diet': 'recipes'}, {'recipe_name': 'warchi', 'cuisine': 'Indian veg recipes', 'diet': 'recipes'}, {'recipe_name': 'Kagazhi Kebab', 'cuisine': 'Indian', 'diet': 'Restaurants'}, {'recipe_name': 'Pan-Fried Zoodles with Sesame and Paneer', 'cuisine': 'Asian', 'diet': 'Low-Fat'}, {'recipe_name': 'ROKU TONIC', 'cuisine': 'Indian', 'diet': 'Party Recipe'}, {'recipe_name': \"Sweet 'N' Spicy Mushroom Fry\", 'cuisine': 'Asian', 'diet': 'Kid-Friendly'}, {'recipe_name': 'warchi', 'cuisine': 'Indian veg recipes', 'diet': 'recipes'}, {'recipe_name': 'CHUNCHI PATRA PITHA', 'cuisine': 'Indian', 'diet': 'Vegetarian'}, {'recipe_name': 'SWEET POTATO BAKED YOGHURT', 'cuisine': 'Indian', 'diet': 'Restaurants'}, {'recipe_name': 'Tawa fried paneer', 'cuisine': 'Indian', 'diet': 'Vegetarian'}, {'recipe_name': 'Vanillekipfer Cookies', 'cuisine': 'Indian', 'diet': 'Vegetarian'}, {'recipe_name': 'Bread Pakoda', 'cuisine': 'Indian', 'diet': 'Vegetarian'}, {'recipe_name': 'Pahadi Bhuna Mutton Curry', 'cuisine': 'Indian', 'diet': 'Non-Vegetarian'}, {'recipe_name': 'warchi', 'cuisine': 'Indian veg recipes', 'diet': 'recipes'}, {'recipe_name': 'warchi', 'cuisine': 'Indian veg recipes', 'diet': 'recipes'}, {'recipe_name': 'warchi', 'cuisine': 'Indian veg recipes', 'diet': 'recipes'}, {'recipe_name': 'Railway Mutton Curry', 'cuisine': 'Indian', 'diet': 'Non-Vegetarian'}, {'recipe_name': 'warchi', 'cuisine': 'Indian veg recipes', 'diet': 'recipes'}, {'recipe_name': 'Sulemani Chai', 'cuisine': 'Indian', 'diet': 'Vegetarian'}, {'recipe_name': 'BLUEBERRY PHIRNI', 'cuisine': 'Indian', 'diet': 'Vegetarian'}, {'recipe_name': 'Kunafa Recipe', 'cuisine': 'Indian', 'diet': 'Vegetarian'}, {'recipe_name': 'warchi', 'cuisine': 'Indian veg recipes', 'diet': 'recipes'}, {'recipe_name': 'MIXED FRUIT GUJJIAS', 'cuisine': 'Indian', 'diet': 'Vegetarian'}, {'recipe_name': 'warchi', 'cuisine': 'Indian veg recipes', 'diet': 'recipes'}, {'recipe_name': 'OATS AND PEANUT LADDOOS', 'cuisine': 'Indian', 'diet': 'Vegetarian'}, {'recipe_name': 'warchi', 'cuisine': 'Indian veg recipes', 'diet': 'recipes'}, {'recipe_name': 'warchi', 'cuisine': 'Indian veg recipes', 'diet': 'recipes'}, {'recipe_name': 'Lime Pickle in Sweet Oil', 'cuisine': 'Indian', 'diet': 'Vegetarian'}, {'recipe_name': 'warchi', 'cuisine': 'Indian veg recipes', 'diet': 'recipes'}, {'recipe_name': 'Shahi Paneer with Cashew Nuts', 'cuisine': 'Indian', 'diet': 'Vegetarian'}, {'recipe_name': 'Jain Chole', 'cuisine': 'Indian', 'diet': 'Vegetarian'}, {'recipe_name': 'Lauki Koftas Curry without Onion', 'cuisine': 'Indian', 'diet': 'Vegetarian'}, {'recipe_name': 'Guava Creamy', 'cuisine': 'Indian', 'diet': 'Vegetarian'}, {'recipe_name': 'Veg Noodle Burger', 'cuisine': 'Indian', 'diet': 'Vegetarian'}, {'recipe_name': 'Salmon Spread', 'cuisine': 'Continental', 'diet': 'Kid-Friendly'}, {'recipe_name': 'Whipped Mango Ice-cream', 'cuisine': 'Indian', 'diet': 'Kid-Friendly'}, {'recipe_name': 'Tomato Shallots Chutney', 'cuisine': 'Indian', 'diet': 'Vegetarian'}, {'recipe_name': 'Creamy Prawn Risotto', 'cuisine': 'Italian', 'diet': 'Non-Vegetarian'}, {'recipe_name': 'Prawn Risotto', 'cuisine': 'Italian', 'diet': 'Non-Vegetarian'}, {'recipe_name': 'warchi', 'cuisine': 'Indian veg recipes', 'diet': 'recipes'}, {'recipe_name': 'Slow-cooked Dal Makhni', 'cuisine': 'Indian', 'diet': 'Vegetarian'}, {'recipe_name': 'Shrimp Fried Rice with Vegetables', 'cuisine': 'Thai', 'diet': 'Non-Vegetarian'}, {'recipe_name': 'Egg Curry in Coconut Masala', 'cuisine': 'Indian', 'diet': 'Non-Vegetarian'}, {'recipe_name': 'Chicken Curry with Sour Cream', 'cuisine': 'Indian', 'diet': 'Non-Vegetarian'}, {'recipe_name': 'Coconut Chutney with Red Chillies', 'cuisine': 'Indian', 'diet': 'Vegetarian'}, {'recipe_name': 'Indian-style Mushrooms', 'cuisine': 'Indian', 'diet': 'Vegetarian'}, {'recipe_name': 'Brinjal With Coconut Masala', 'cuisine': 'Indian', 'diet': 'Vegetarian'}, {'recipe_name': 'Christmas Cake with Rum-soaked fruit', 'cuisine': 'American', 'diet': 'Festive'}, {'recipe_name': 'Appam with Jaggery', 'cuisine': 'Indian', 'diet': 'Vegetarian'}, {'recipe_name': 'Angel of Peace', 'cuisine': 'Indian', 'diet': 'Vegetarian'}, {'recipe_name': 'warchi', 'cuisine': 'Indian veg recipes', 'diet': 'recipes'}, {'recipe_name': 'Grilled Dahi Chicken', 'cuisine': 'Indian', 'diet': 'Non-Vegetarian'}, {'recipe_name': 'Akoori (Masala Scrambled Eggs)', 'cuisine': 'Indian', 'diet': 'Non-Vegetarian'}, {'recipe_name': 'Boneless Chicken Delight', 'cuisine': 'Indian', 'diet': 'Non-Vegetarian'}, {'recipe_name': 'Chicken and Almond Soup', 'cuisine': 'Indian', 'diet': 'Non-Vegetarian'}, {'recipe_name': 'warchi', 'cuisine': 'Indian veg recipes', 'diet': 'recipes'}, {'recipe_name': 'Bottle Gourd (Lauki) Kheer', 'cuisine': 'Indian', 'diet': 'Kid-Friendly'}, {'recipe_name': 'Apple Cinnamon Pancakes', 'cuisine': 'Anglo-Indian', 'diet': 'Kid-Friendly'}, {'recipe_name': 'warchi', 'cuisine': 'Indian veg recipes', 'diet': 'recipes'}, {'recipe_name': 'Aloo Chips Chaat', 'cuisine': 'Indian', 'diet': 'Kid-Friendly'}, {'recipe_name': 'Amla Candy', 'cuisine': 'Indian', 'diet': 'Kid-Friendly'}, {'recipe_name': 'Pineapple Jam Crumble', 'cuisine': 'Indian', 'diet': 'Kid-Friendly'}, {'recipe_name': 'warchi', 'cuisine': 'Indian veg recipes', 'diet': 'recipes'}, {'recipe_name': 'Green Peas Vada', 'cuisine': 'Indian', 'diet': 'Kid-Friendly'}, {'recipe_name': 'warchi', 'cuisine': 'Indian veg recipes', 'diet': 'recipes'}, {'recipe_name': 'Apple Orange Icecream Flan', 'cuisine': 'Continental', 'diet': 'Kid-Friendly'}, {'recipe_name': 'warchi', 'cuisine': 'Indian veg recipes', 'diet': 'recipes'}, {'recipe_name': 'warchi', 'cuisine': 'Indian veg recipes', 'diet': 'recipes'}, {'recipe_name': 'Ammini Kozhakattai', 'cuisine': 'Indian', 'diet': 'Kid-Friendly'}, {'recipe_name': 'Anglo-Indian Steamroller Chicken', 'cuisine': 'Anglo-Indian', 'diet': 'Non-Vegetarian'}, {'recipe_name': 'Almond Brandy Cake', 'cuisine': 'Anglo-Indian', 'diet': 'Festive'}, {'recipe_name': 'Arhar Ki Dal', 'cuisine': 'Indian', 'diet': 'Kid-Friendly'}, {'recipe_name': 'warchi', 'cuisine': 'Indian veg recipes', 'diet': 'recipes'}, {'recipe_name': 'South Indian Mutton Curry', 'cuisine': 'Indian', 'diet': 'Non-Vegetarian'}, {'recipe_name': 'warchi', 'cuisine': 'Indian veg recipes', 'diet': 'recipes'}, {'recipe_name': 'Ice Halwa', 'cuisine': 'Indian', 'diet': 'Festive'}, {'recipe_name': 'Chikki Jam Roll for Kids', 'cuisine': 'Indian', 'diet': 'Kid-Friendly'}, {'recipe_name': 'Amla Sabzi', 'cuisine': 'Indian', 'diet': 'Vegetarian'}, {'recipe_name': 'Hawaian Potato Salad', 'cuisine': 'Continental', 'diet': 'Low-Calorie'}, {'recipe_name': 'Bitter gourd curry', 'cuisine': 'Indian', 'diet': 'Vegetarian'}, {'recipe_name': 'warchi', 'cuisine': 'Indian veg recipes', 'diet': 'recipes'}, {'recipe_name': 'Spinach in Curd Raita', 'cuisine': 'Indian', 'diet': 'Vegetarian'}, {'recipe_name': 'Indian Paneer Pasanda', 'cuisine': 'Indian', 'diet': 'Kid-Friendly'}, {'recipe_name': 'Easy Pepper rasam', 'cuisine': 'Indian', 'diet': 'Vegetarian'}, {'recipe_name': 'Aloo Jeera Raita', 'cuisine': 'Indian', 'diet': 'Vegetarian'}, {'recipe_name': 'Aloo ka bomb', 'cuisine': 'Indian', 'diet': 'Kid-Friendly'}, {'recipe_name': 'Apple Pie', 'cuisine': 'Continental', 'diet': 'Festive'}, {'recipe_name': 'Apple Cobbler', 'cuisine': 'Indian', 'diet': 'Festive'}, {'recipe_name': 'Stuffed Tangy Bitter Gourd', 'cuisine': 'Indian', 'diet': 'Kid-Friendly'}, {'recipe_name': 'warchi', 'cuisine': 'Indian veg recipes', 'diet': 'recipes'}, {'recipe_name': 'Sauteed Indonesian Potatoes', 'cuisine': 'Indonesian', 'diet': 'Vegetarian'}, {'recipe_name': 'Apple Halwa', 'cuisine': 'Indian', 'diet': 'Kid-Friendly'}, {'recipe_name': 'Anglo Indian Pork Bhoonie', 'cuisine': 'Anglo-Indian', 'diet': 'Non-Vegetarian'}, {'recipe_name': 'American Cream Cheese Frosting', 'cuisine': 'American', 'diet': 'Kid-Friendly'}, {'recipe_name': '5 Star Diamonds', 'cuisine': 'Indian', 'diet': 'Vegetarian'}, {'recipe_name': 'warchi', 'cuisine': 'Indian veg recipes', 'diet': 'recipes'}, {'recipe_name': 'Aloo Anar Raita', 'cuisine': 'Indian', 'diet': 'Kid-Friendly'}, {'recipe_name': 'Almond Kulfi', 'cuisine': 'Indian', 'diet': 'Kid-Friendly'}, {'recipe_name': 'Chilli Tofu', 'cuisine': 'Asian', 'diet': 'Vegan'}, {'recipe_name': 'MW Jeera Peas Pulao', 'cuisine': 'Indian', 'diet': 'Vegetarian'}, {'recipe_name': 'warchi', 'cuisine': 'Indian veg recipes', 'diet': 'recipes'}, {'recipe_name': 'warchi', 'cuisine': 'Indian veg recipes', 'diet': 'recipes'}, {'recipe_name': 'Mango Barfi', 'cuisine': 'Indian', 'diet': 'Kid-Friendly'}, {'recipe_name': 'warchi', 'cuisine': 'Indian veg recipes', 'diet': 'recipes'}, {'recipe_name': 'Apples Stuffed with Chicken', 'cuisine': 'Continental', 'diet': 'Festive'}, {'recipe_name': 'warchi', 'cuisine': 'Indian veg recipes', 'diet': 'recipes'}, {'recipe_name': 'warchi', 'cuisine': 'Indian veg recipes', 'diet': 'recipes'}, {'recipe_name': 'Continental Eggless Cake', 'cuisine': 'Continental', 'diet': 'Kid-Friendly'}, {'recipe_name': 'Chicken Pickle', 'cuisine': 'Indian', 'diet': 'Non-Vegetarian'}, {'recipe_name': 'Apple and Red Cabbage Soup', 'cuisine': 'Indian', 'diet': 'Vegetarian'}, {'recipe_name': 'Instant Mango Pickle', 'cuisine': 'Indian', 'diet': 'Vegetarian'}, {'recipe_name': 'Paneer Gobi', 'cuisine': 'Indian', 'diet': 'Vegetarian'}, {'recipe_name': 'warchi', 'cuisine': 'Indian veg recipes', 'diet': 'recipes'}, {'recipe_name': 'Apple Kheer', 'cuisine': 'Indian', 'diet': 'Festive'}, {'recipe_name': 'warchi', 'cuisine': 'Indian veg recipes', 'diet': 'recipes'}, {'recipe_name': 'Apple Betty', 'cuisine': 'American', 'diet': 'Kid-Friendly'}, {'recipe_name': 'warchi', 'cuisine': 'Indian veg recipes', 'diet': 'recipes'}, {'recipe_name': 'warchi', 'cuisine': 'Indian veg recipes', 'diet': 'recipes'}, {'recipe_name': 'Singapore Noodles', 'cuisine': 'Singapore', 'diet': 'Non-Vegetarian'}, {'recipe_name': 'Ambakalya', 'cuisine': 'Indian', 'diet': 'Festive'}, {'recipe_name': 'warchi', 'cuisine': 'Indian veg recipes', 'diet': 'recipes'}, {'recipe_name': 'Aloo Mattar', 'cuisine': 'Indian', 'diet': 'Vegetarian'}, {'recipe_name': 'Aloo gobi', 'cuisine': 'Indian', 'diet': 'Vegetarian'}, {'recipe_name': 'Aloo-Phali Sabji (potato- Long beans Stir fry)', 'cuisine': 'Indian', 'diet': 'Vegetarian'}, {'recipe_name': 'Saboodana Thalipeeth', 'cuisine': 'Indian', 'diet': 'Vegetarian'}, {'recipe_name': 'Lemon pickle with Red Chillies', 'cuisine': 'Indian', 'diet': 'Vegetarian'}, {'recipe_name': 'Clear Soup', 'cuisine': 'Indian', 'diet': 'Vegetarian'}, {'recipe_name': 'Easy Chicken Fry for Parties', 'cuisine': 'Indian', 'diet': 'Non-Vegetarian'}, {'recipe_name': 'Steamed Dhoklas', 'cuisine': 'Indian', 'diet': 'Non-Vegetarian'}, {'recipe_name': 'Ande Palakwale', 'cuisine': 'Indian', 'diet': 'Non-Vegetarian'}, {'recipe_name': 'warchi', 'cuisine': 'Indian veg recipes', 'diet': 'recipes'}, {'recipe_name': 'Amriki salad', 'cuisine': 'American', 'diet': 'Vegetarian'}, {'recipe_name': 'warchi', 'cuisine': 'Indian veg recipes', 'diet': 'recipes'}, {'recipe_name': 'Aloo chutneywale', 'cuisine': 'Indian', 'diet': 'Vegetarian'}, {'recipe_name': 'Andhra Mutton Mushroom Sukka', 'cuisine': 'Indian', 'diet': 'Non-Vegetarian'}, {'recipe_name': 'Amvade', 'cuisine': 'Indian', 'diet': 'Kid-Friendly'}, {'recipe_name': 'Pickled Mangoes in Sesame Oil', 'cuisine': 'Indian', 'diet': 'Vegetarian'}, {'recipe_name': 'warchi', 'cuisine': 'Indian veg recipes', 'diet': 'recipes'}, {'recipe_name': 'Fish and Tomato Tenga', 'cuisine': 'Indian', 'diet': 'Non-Vegetarian'}, {'recipe_name': 'Kulkuls for Kids', 'cuisine': 'Indian', 'diet': 'Kid-Friendly'}, {'recipe_name': 'Apple and Paneer Basundi', 'cuisine': 'Indian', 'diet': 'Kid-Friendly'}, {'recipe_name': 'Aloo Choliya (Potato Green Chickpea Curry )', 'cuisine': 'Indian', 'diet': 'Vegetarian'}, {'recipe_name': '7 Cups Burfi', 'cuisine': 'Indian', 'diet': 'Kid-Friendly'}, {'recipe_name': 'Sauteed Spring Onions', 'cuisine': 'Indian', 'diet': 'Vegetarian'}, {'recipe_name': 'Potatoes in Cumin Masala', 'cuisine': 'Indian', 'diet': 'Vegetarian'}, {'recipe_name': 'warchi', 'cuisine': 'Indian veg recipes', 'diet': 'recipes'}, {'recipe_name': 'Adi - Muglai Lauki', 'cuisine': 'Indian', 'diet': 'Vegetarian'}, {'recipe_name': 'Amchoor (Dried Mango) Powder', 'cuisine': 'Indian', 'diet': 'Vegetarian'}, {'recipe_name': 'Akbari Vegetables', 'cuisine': 'Indian', 'diet': 'Vegetarian'}]\n"
     ]
    }
   ],
   "source": [
    "recipe_data = []\n",
    "for recipe_name, cuisine, diet in zip(recipe_names,cuisines,diets):\n",
    "    \n",
    "    recipe_data.append({ 'recipe_name': recipe_name,'cuisine': cuisine, 'diet':diet})\n",
    "    \n",
    "print(recipe_data)\n",
    "    "
   ]
  },
  {
   "cell_type": "code",
   "execution_count": 5,
   "id": "5b8b82e1",
   "metadata": {},
   "outputs": [
    {
     "data": {
      "text/plain": [
       "150"
      ]
     },
     "execution_count": 5,
     "metadata": {},
     "output_type": "execute_result"
    }
   ],
   "source": [
    "len(recipe_data)"
   ]
  },
  {
   "cell_type": "code",
   "execution_count": 6,
   "id": "7696192d",
   "metadata": {},
   "outputs": [],
   "source": [
    "connect = MongoClient(host=\"localhost\", port=27017)\n",
    "database = connect[\"foodDB\"]\n",
    "collection = database[\"Recipe_data\"]"
   ]
  },
  {
   "cell_type": "code",
   "execution_count": 7,
   "id": "fd18e0b8",
   "metadata": {},
   "outputs": [],
   "source": [
    "for data in recipe_data:\n",
    "    collection.insert_one(data)"
   ]
  },
  {
   "cell_type": "code",
   "execution_count": 8,
   "id": "7ea18cbc",
   "metadata": {},
   "outputs": [
    {
     "name": "stdout",
     "output_type": "stream",
     "text": [
      "[{'_id': ObjectId('631cd2024cfbc6573407da4e'), 'recipe_name': 'warchi', 'cuisine': 'Indian veg recipes', 'diet': 'recipes'}, {'_id': ObjectId('631cd2024cfbc6573407da4f'), 'recipe_name': 'warchi', 'cuisine': 'Indian veg recipes', 'diet': 'recipes'}, {'_id': ObjectId('631cd2024cfbc6573407da50'), 'recipe_name': 'warchi', 'cuisine': 'Indian veg recipes', 'diet': 'recipes'}, {'_id': ObjectId('631cd2024cfbc6573407da51'), 'recipe_name': 'Kagazhi Kebab', 'cuisine': 'Indian', 'diet': 'Restaurants'}, {'_id': ObjectId('631cd2024cfbc6573407da52'), 'recipe_name': 'Pan-Fried Zoodles with Sesame and Paneer', 'cuisine': 'Asian', 'diet': 'Low-Fat'}, {'_id': ObjectId('631cd2024cfbc6573407da53'), 'recipe_name': 'ROKU TONIC', 'cuisine': 'Indian', 'diet': 'Party Recipe'}, {'_id': ObjectId('631cd2024cfbc6573407da54'), 'recipe_name': \"Sweet 'N' Spicy Mushroom Fry\", 'cuisine': 'Asian', 'diet': 'Kid-Friendly'}, {'_id': ObjectId('631cd2024cfbc6573407da55'), 'recipe_name': 'warchi', 'cuisine': 'Indian veg recipes', 'diet': 'recipes'}, {'_id': ObjectId('631cd2024cfbc6573407da56'), 'recipe_name': 'CHUNCHI PATRA PITHA', 'cuisine': 'Indian', 'diet': 'Vegetarian'}, {'_id': ObjectId('631cd2024cfbc6573407da57'), 'recipe_name': 'SWEET POTATO BAKED YOGHURT', 'cuisine': 'Indian', 'diet': 'Restaurants'}, {'_id': ObjectId('631cd2024cfbc6573407da58'), 'recipe_name': 'Tawa fried paneer', 'cuisine': 'Indian', 'diet': 'Vegetarian'}, {'_id': ObjectId('631cd2024cfbc6573407da59'), 'recipe_name': 'Vanillekipfer Cookies', 'cuisine': 'Indian', 'diet': 'Vegetarian'}, {'_id': ObjectId('631cd2024cfbc6573407da5a'), 'recipe_name': 'Bread Pakoda', 'cuisine': 'Indian', 'diet': 'Vegetarian'}, {'_id': ObjectId('631cd2024cfbc6573407da5b'), 'recipe_name': 'Pahadi Bhuna Mutton Curry', 'cuisine': 'Indian', 'diet': 'Non-Vegetarian'}, {'_id': ObjectId('631cd2024cfbc6573407da5c'), 'recipe_name': 'warchi', 'cuisine': 'Indian veg recipes', 'diet': 'recipes'}, {'_id': ObjectId('631cd2024cfbc6573407da5d'), 'recipe_name': 'warchi', 'cuisine': 'Indian veg recipes', 'diet': 'recipes'}, {'_id': ObjectId('631cd2024cfbc6573407da5e'), 'recipe_name': 'warchi', 'cuisine': 'Indian veg recipes', 'diet': 'recipes'}, {'_id': ObjectId('631cd2024cfbc6573407da5f'), 'recipe_name': 'Railway Mutton Curry', 'cuisine': 'Indian', 'diet': 'Non-Vegetarian'}, {'_id': ObjectId('631cd2024cfbc6573407da60'), 'recipe_name': 'warchi', 'cuisine': 'Indian veg recipes', 'diet': 'recipes'}, {'_id': ObjectId('631cd2024cfbc6573407da61'), 'recipe_name': 'Sulemani Chai', 'cuisine': 'Indian', 'diet': 'Vegetarian'}, {'_id': ObjectId('631cd2024cfbc6573407da62'), 'recipe_name': 'BLUEBERRY PHIRNI', 'cuisine': 'Indian', 'diet': 'Vegetarian'}, {'_id': ObjectId('631cd2024cfbc6573407da63'), 'recipe_name': 'Kunafa Recipe', 'cuisine': 'Indian', 'diet': 'Vegetarian'}, {'_id': ObjectId('631cd2024cfbc6573407da64'), 'recipe_name': 'warchi', 'cuisine': 'Indian veg recipes', 'diet': 'recipes'}, {'_id': ObjectId('631cd2024cfbc6573407da65'), 'recipe_name': 'MIXED FRUIT GUJJIAS', 'cuisine': 'Indian', 'diet': 'Vegetarian'}, {'_id': ObjectId('631cd2024cfbc6573407da66'), 'recipe_name': 'warchi', 'cuisine': 'Indian veg recipes', 'diet': 'recipes'}, {'_id': ObjectId('631cd2024cfbc6573407da67'), 'recipe_name': 'OATS AND PEANUT LADDOOS', 'cuisine': 'Indian', 'diet': 'Vegetarian'}, {'_id': ObjectId('631cd2024cfbc6573407da68'), 'recipe_name': 'warchi', 'cuisine': 'Indian veg recipes', 'diet': 'recipes'}, {'_id': ObjectId('631cd2024cfbc6573407da69'), 'recipe_name': 'warchi', 'cuisine': 'Indian veg recipes', 'diet': 'recipes'}, {'_id': ObjectId('631cd2024cfbc6573407da6a'), 'recipe_name': 'Lime Pickle in Sweet Oil', 'cuisine': 'Indian', 'diet': 'Vegetarian'}, {'_id': ObjectId('631cd2024cfbc6573407da6b'), 'recipe_name': 'warchi', 'cuisine': 'Indian veg recipes', 'diet': 'recipes'}, {'_id': ObjectId('631cd2024cfbc6573407da6c'), 'recipe_name': 'Shahi Paneer with Cashew Nuts', 'cuisine': 'Indian', 'diet': 'Vegetarian'}, {'_id': ObjectId('631cd2024cfbc6573407da6d'), 'recipe_name': 'Jain Chole', 'cuisine': 'Indian', 'diet': 'Vegetarian'}, {'_id': ObjectId('631cd2024cfbc6573407da6e'), 'recipe_name': 'Lauki Koftas Curry without Onion', 'cuisine': 'Indian', 'diet': 'Vegetarian'}, {'_id': ObjectId('631cd2024cfbc6573407da6f'), 'recipe_name': 'Guava Creamy', 'cuisine': 'Indian', 'diet': 'Vegetarian'}, {'_id': ObjectId('631cd2024cfbc6573407da70'), 'recipe_name': 'Veg Noodle Burger', 'cuisine': 'Indian', 'diet': 'Vegetarian'}, {'_id': ObjectId('631cd2024cfbc6573407da71'), 'recipe_name': 'Salmon Spread', 'cuisine': 'Continental', 'diet': 'Kid-Friendly'}, {'_id': ObjectId('631cd2024cfbc6573407da72'), 'recipe_name': 'Whipped Mango Ice-cream', 'cuisine': 'Indian', 'diet': 'Kid-Friendly'}, {'_id': ObjectId('631cd2024cfbc6573407da73'), 'recipe_name': 'Tomato Shallots Chutney', 'cuisine': 'Indian', 'diet': 'Vegetarian'}, {'_id': ObjectId('631cd2024cfbc6573407da74'), 'recipe_name': 'Creamy Prawn Risotto', 'cuisine': 'Italian', 'diet': 'Non-Vegetarian'}, {'_id': ObjectId('631cd2024cfbc6573407da75'), 'recipe_name': 'Prawn Risotto', 'cuisine': 'Italian', 'diet': 'Non-Vegetarian'}, {'_id': ObjectId('631cd2024cfbc6573407da76'), 'recipe_name': 'warchi', 'cuisine': 'Indian veg recipes', 'diet': 'recipes'}, {'_id': ObjectId('631cd2024cfbc6573407da77'), 'recipe_name': 'Slow-cooked Dal Makhni', 'cuisine': 'Indian', 'diet': 'Vegetarian'}, {'_id': ObjectId('631cd2024cfbc6573407da78'), 'recipe_name': 'Shrimp Fried Rice with Vegetables', 'cuisine': 'Thai', 'diet': 'Non-Vegetarian'}, {'_id': ObjectId('631cd2024cfbc6573407da79'), 'recipe_name': 'Egg Curry in Coconut Masala', 'cuisine': 'Indian', 'diet': 'Non-Vegetarian'}, {'_id': ObjectId('631cd2024cfbc6573407da7a'), 'recipe_name': 'Chicken Curry with Sour Cream', 'cuisine': 'Indian', 'diet': 'Non-Vegetarian'}, {'_id': ObjectId('631cd2024cfbc6573407da7b'), 'recipe_name': 'Coconut Chutney with Red Chillies', 'cuisine': 'Indian', 'diet': 'Vegetarian'}, {'_id': ObjectId('631cd2024cfbc6573407da7c'), 'recipe_name': 'Indian-style Mushrooms', 'cuisine': 'Indian', 'diet': 'Vegetarian'}, {'_id': ObjectId('631cd2024cfbc6573407da7d'), 'recipe_name': 'Brinjal With Coconut Masala', 'cuisine': 'Indian', 'diet': 'Vegetarian'}, {'_id': ObjectId('631cd2024cfbc6573407da7e'), 'recipe_name': 'Christmas Cake with Rum-soaked fruit', 'cuisine': 'American', 'diet': 'Festive'}, {'_id': ObjectId('631cd2024cfbc6573407da7f'), 'recipe_name': 'Appam with Jaggery', 'cuisine': 'Indian', 'diet': 'Vegetarian'}, {'_id': ObjectId('631cd2024cfbc6573407da80'), 'recipe_name': 'Angel of Peace', 'cuisine': 'Indian', 'diet': 'Vegetarian'}, {'_id': ObjectId('631cd2024cfbc6573407da81'), 'recipe_name': 'warchi', 'cuisine': 'Indian veg recipes', 'diet': 'recipes'}, {'_id': ObjectId('631cd2024cfbc6573407da82'), 'recipe_name': 'Grilled Dahi Chicken', 'cuisine': 'Indian', 'diet': 'Non-Vegetarian'}, {'_id': ObjectId('631cd2024cfbc6573407da83'), 'recipe_name': 'Akoori (Masala Scrambled Eggs)', 'cuisine': 'Indian', 'diet': 'Non-Vegetarian'}, {'_id': ObjectId('631cd2024cfbc6573407da84'), 'recipe_name': 'Boneless Chicken Delight', 'cuisine': 'Indian', 'diet': 'Non-Vegetarian'}, {'_id': ObjectId('631cd2024cfbc6573407da85'), 'recipe_name': 'Chicken and Almond Soup', 'cuisine': 'Indian', 'diet': 'Non-Vegetarian'}, {'_id': ObjectId('631cd2024cfbc6573407da86'), 'recipe_name': 'warchi', 'cuisine': 'Indian veg recipes', 'diet': 'recipes'}, {'_id': ObjectId('631cd2024cfbc6573407da87'), 'recipe_name': 'Bottle Gourd (Lauki) Kheer', 'cuisine': 'Indian', 'diet': 'Kid-Friendly'}, {'_id': ObjectId('631cd2024cfbc6573407da88'), 'recipe_name': 'Apple Cinnamon Pancakes', 'cuisine': 'Anglo-Indian', 'diet': 'Kid-Friendly'}, {'_id': ObjectId('631cd2024cfbc6573407da89'), 'recipe_name': 'warchi', 'cuisine': 'Indian veg recipes', 'diet': 'recipes'}, {'_id': ObjectId('631cd2024cfbc6573407da8a'), 'recipe_name': 'Aloo Chips Chaat', 'cuisine': 'Indian', 'diet': 'Kid-Friendly'}, {'_id': ObjectId('631cd2024cfbc6573407da8b'), 'recipe_name': 'Amla Candy', 'cuisine': 'Indian', 'diet': 'Kid-Friendly'}, {'_id': ObjectId('631cd2024cfbc6573407da8c'), 'recipe_name': 'Pineapple Jam Crumble', 'cuisine': 'Indian', 'diet': 'Kid-Friendly'}, {'_id': ObjectId('631cd2024cfbc6573407da8d'), 'recipe_name': 'warchi', 'cuisine': 'Indian veg recipes', 'diet': 'recipes'}, {'_id': ObjectId('631cd2024cfbc6573407da8e'), 'recipe_name': 'Green Peas Vada', 'cuisine': 'Indian', 'diet': 'Kid-Friendly'}, {'_id': ObjectId('631cd2024cfbc6573407da8f'), 'recipe_name': 'warchi', 'cuisine': 'Indian veg recipes', 'diet': 'recipes'}, {'_id': ObjectId('631cd2024cfbc6573407da90'), 'recipe_name': 'Apple Orange Icecream Flan', 'cuisine': 'Continental', 'diet': 'Kid-Friendly'}, {'_id': ObjectId('631cd2024cfbc6573407da91'), 'recipe_name': 'warchi', 'cuisine': 'Indian veg recipes', 'diet': 'recipes'}, {'_id': ObjectId('631cd2024cfbc6573407da92'), 'recipe_name': 'warchi', 'cuisine': 'Indian veg recipes', 'diet': 'recipes'}, {'_id': ObjectId('631cd2024cfbc6573407da93'), 'recipe_name': 'Ammini Kozhakattai', 'cuisine': 'Indian', 'diet': 'Kid-Friendly'}, {'_id': ObjectId('631cd2024cfbc6573407da94'), 'recipe_name': 'Anglo-Indian Steamroller Chicken', 'cuisine': 'Anglo-Indian', 'diet': 'Non-Vegetarian'}, {'_id': ObjectId('631cd2024cfbc6573407da95'), 'recipe_name': 'Almond Brandy Cake', 'cuisine': 'Anglo-Indian', 'diet': 'Festive'}, {'_id': ObjectId('631cd2024cfbc6573407da96'), 'recipe_name': 'Arhar Ki Dal', 'cuisine': 'Indian', 'diet': 'Kid-Friendly'}, {'_id': ObjectId('631cd2024cfbc6573407da97'), 'recipe_name': 'warchi', 'cuisine': 'Indian veg recipes', 'diet': 'recipes'}, {'_id': ObjectId('631cd2024cfbc6573407da98'), 'recipe_name': 'South Indian Mutton Curry', 'cuisine': 'Indian', 'diet': 'Non-Vegetarian'}, {'_id': ObjectId('631cd2024cfbc6573407da99'), 'recipe_name': 'warchi', 'cuisine': 'Indian veg recipes', 'diet': 'recipes'}, {'_id': ObjectId('631cd2024cfbc6573407da9a'), 'recipe_name': 'Ice Halwa', 'cuisine': 'Indian', 'diet': 'Festive'}, {'_id': ObjectId('631cd2024cfbc6573407da9b'), 'recipe_name': 'Chikki Jam Roll for Kids', 'cuisine': 'Indian', 'diet': 'Kid-Friendly'}, {'_id': ObjectId('631cd2024cfbc6573407da9c'), 'recipe_name': 'Amla Sabzi', 'cuisine': 'Indian', 'diet': 'Vegetarian'}, {'_id': ObjectId('631cd2024cfbc6573407da9d'), 'recipe_name': 'Hawaian Potato Salad', 'cuisine': 'Continental', 'diet': 'Low-Calorie'}, {'_id': ObjectId('631cd2024cfbc6573407da9e'), 'recipe_name': 'Bitter gourd curry', 'cuisine': 'Indian', 'diet': 'Vegetarian'}, {'_id': ObjectId('631cd2024cfbc6573407da9f'), 'recipe_name': 'warchi', 'cuisine': 'Indian veg recipes', 'diet': 'recipes'}, {'_id': ObjectId('631cd2024cfbc6573407daa0'), 'recipe_name': 'Spinach in Curd Raita', 'cuisine': 'Indian', 'diet': 'Vegetarian'}, {'_id': ObjectId('631cd2024cfbc6573407daa1'), 'recipe_name': 'Indian Paneer Pasanda', 'cuisine': 'Indian', 'diet': 'Kid-Friendly'}, {'_id': ObjectId('631cd2024cfbc6573407daa2'), 'recipe_name': 'Easy Pepper rasam', 'cuisine': 'Indian', 'diet': 'Vegetarian'}, {'_id': ObjectId('631cd2024cfbc6573407daa3'), 'recipe_name': 'Aloo Jeera Raita', 'cuisine': 'Indian', 'diet': 'Vegetarian'}, {'_id': ObjectId('631cd2024cfbc6573407daa4'), 'recipe_name': 'Aloo ka bomb', 'cuisine': 'Indian', 'diet': 'Kid-Friendly'}, {'_id': ObjectId('631cd2024cfbc6573407daa5'), 'recipe_name': 'Apple Pie', 'cuisine': 'Continental', 'diet': 'Festive'}, {'_id': ObjectId('631cd2024cfbc6573407daa6'), 'recipe_name': 'Apple Cobbler', 'cuisine': 'Indian', 'diet': 'Festive'}, {'_id': ObjectId('631cd2024cfbc6573407daa7'), 'recipe_name': 'Stuffed Tangy Bitter Gourd', 'cuisine': 'Indian', 'diet': 'Kid-Friendly'}, {'_id': ObjectId('631cd2024cfbc6573407daa8'), 'recipe_name': 'warchi', 'cuisine': 'Indian veg recipes', 'diet': 'recipes'}, {'_id': ObjectId('631cd2024cfbc6573407daa9'), 'recipe_name': 'Sauteed Indonesian Potatoes', 'cuisine': 'Indonesian', 'diet': 'Vegetarian'}, {'_id': ObjectId('631cd2024cfbc6573407daaa'), 'recipe_name': 'Apple Halwa', 'cuisine': 'Indian', 'diet': 'Kid-Friendly'}, {'_id': ObjectId('631cd2024cfbc6573407daab'), 'recipe_name': 'Anglo Indian Pork Bhoonie', 'cuisine': 'Anglo-Indian', 'diet': 'Non-Vegetarian'}, {'_id': ObjectId('631cd2024cfbc6573407daac'), 'recipe_name': 'American Cream Cheese Frosting', 'cuisine': 'American', 'diet': 'Kid-Friendly'}, {'_id': ObjectId('631cd2024cfbc6573407daad'), 'recipe_name': '5 Star Diamonds', 'cuisine': 'Indian', 'diet': 'Vegetarian'}, {'_id': ObjectId('631cd2024cfbc6573407daae'), 'recipe_name': 'warchi', 'cuisine': 'Indian veg recipes', 'diet': 'recipes'}, {'_id': ObjectId('631cd2024cfbc6573407daaf'), 'recipe_name': 'Aloo Anar Raita', 'cuisine': 'Indian', 'diet': 'Kid-Friendly'}, {'_id': ObjectId('631cd2024cfbc6573407dab0'), 'recipe_name': 'Almond Kulfi', 'cuisine': 'Indian', 'diet': 'Kid-Friendly'}, {'_id': ObjectId('631cd2024cfbc6573407dab1'), 'recipe_name': 'Chilli Tofu', 'cuisine': 'Asian', 'diet': 'Vegan'}, {'_id': ObjectId('631cd2024cfbc6573407dab2'), 'recipe_name': 'MW Jeera Peas Pulao', 'cuisine': 'Indian', 'diet': 'Vegetarian'}, {'_id': ObjectId('631cd2024cfbc6573407dab3'), 'recipe_name': 'warchi', 'cuisine': 'Indian veg recipes', 'diet': 'recipes'}, {'_id': ObjectId('631cd2024cfbc6573407dab4'), 'recipe_name': 'warchi', 'cuisine': 'Indian veg recipes', 'diet': 'recipes'}, {'_id': ObjectId('631cd2024cfbc6573407dab5'), 'recipe_name': 'Mango Barfi', 'cuisine': 'Indian', 'diet': 'Kid-Friendly'}, {'_id': ObjectId('631cd2024cfbc6573407dab6'), 'recipe_name': 'warchi', 'cuisine': 'Indian veg recipes', 'diet': 'recipes'}, {'_id': ObjectId('631cd2024cfbc6573407dab7'), 'recipe_name': 'Apples Stuffed with Chicken', 'cuisine': 'Continental', 'diet': 'Festive'}, {'_id': ObjectId('631cd2024cfbc6573407dab8'), 'recipe_name': 'warchi', 'cuisine': 'Indian veg recipes', 'diet': 'recipes'}, {'_id': ObjectId('631cd2024cfbc6573407dab9'), 'recipe_name': 'warchi', 'cuisine': 'Indian veg recipes', 'diet': 'recipes'}, {'_id': ObjectId('631cd2024cfbc6573407daba'), 'recipe_name': 'Continental Eggless Cake', 'cuisine': 'Continental', 'diet': 'Kid-Friendly'}, {'_id': ObjectId('631cd2024cfbc6573407dabb'), 'recipe_name': 'Chicken Pickle', 'cuisine': 'Indian', 'diet': 'Non-Vegetarian'}, {'_id': ObjectId('631cd2024cfbc6573407dabc'), 'recipe_name': 'Apple and Red Cabbage Soup', 'cuisine': 'Indian', 'diet': 'Vegetarian'}, {'_id': ObjectId('631cd2024cfbc6573407dabd'), 'recipe_name': 'Instant Mango Pickle', 'cuisine': 'Indian', 'diet': 'Vegetarian'}, {'_id': ObjectId('631cd2024cfbc6573407dabe'), 'recipe_name': 'Paneer Gobi', 'cuisine': 'Indian', 'diet': 'Vegetarian'}, {'_id': ObjectId('631cd2024cfbc6573407dabf'), 'recipe_name': 'warchi', 'cuisine': 'Indian veg recipes', 'diet': 'recipes'}, {'_id': ObjectId('631cd2024cfbc6573407dac0'), 'recipe_name': 'Apple Kheer', 'cuisine': 'Indian', 'diet': 'Festive'}, {'_id': ObjectId('631cd2024cfbc6573407dac1'), 'recipe_name': 'warchi', 'cuisine': 'Indian veg recipes', 'diet': 'recipes'}, {'_id': ObjectId('631cd2024cfbc6573407dac2'), 'recipe_name': 'Apple Betty', 'cuisine': 'American', 'diet': 'Kid-Friendly'}, {'_id': ObjectId('631cd2024cfbc6573407dac3'), 'recipe_name': 'warchi', 'cuisine': 'Indian veg recipes', 'diet': 'recipes'}, {'_id': ObjectId('631cd2024cfbc6573407dac4'), 'recipe_name': 'warchi', 'cuisine': 'Indian veg recipes', 'diet': 'recipes'}, {'_id': ObjectId('631cd2024cfbc6573407dac5'), 'recipe_name': 'Singapore Noodles', 'cuisine': 'Singapore', 'diet': 'Non-Vegetarian'}, {'_id': ObjectId('631cd2024cfbc6573407dac6'), 'recipe_name': 'Ambakalya', 'cuisine': 'Indian', 'diet': 'Festive'}, {'_id': ObjectId('631cd2024cfbc6573407dac7'), 'recipe_name': 'warchi', 'cuisine': 'Indian veg recipes', 'diet': 'recipes'}, {'_id': ObjectId('631cd2024cfbc6573407dac8'), 'recipe_name': 'Aloo Mattar', 'cuisine': 'Indian', 'diet': 'Vegetarian'}, {'_id': ObjectId('631cd2024cfbc6573407dac9'), 'recipe_name': 'Aloo gobi', 'cuisine': 'Indian', 'diet': 'Vegetarian'}, {'_id': ObjectId('631cd2024cfbc6573407daca'), 'recipe_name': 'Aloo-Phali Sabji (potato- Long beans Stir fry)', 'cuisine': 'Indian', 'diet': 'Vegetarian'}, {'_id': ObjectId('631cd2024cfbc6573407dacb'), 'recipe_name': 'Saboodana Thalipeeth', 'cuisine': 'Indian', 'diet': 'Vegetarian'}, {'_id': ObjectId('631cd2024cfbc6573407dacc'), 'recipe_name': 'Lemon pickle with Red Chillies', 'cuisine': 'Indian', 'diet': 'Vegetarian'}, {'_id': ObjectId('631cd2024cfbc6573407dacd'), 'recipe_name': 'Clear Soup', 'cuisine': 'Indian', 'diet': 'Vegetarian'}, {'_id': ObjectId('631cd2024cfbc6573407dace'), 'recipe_name': 'Easy Chicken Fry for Parties', 'cuisine': 'Indian', 'diet': 'Non-Vegetarian'}, {'_id': ObjectId('631cd2024cfbc6573407dacf'), 'recipe_name': 'Steamed Dhoklas', 'cuisine': 'Indian', 'diet': 'Non-Vegetarian'}, {'_id': ObjectId('631cd2024cfbc6573407dad0'), 'recipe_name': 'Ande Palakwale', 'cuisine': 'Indian', 'diet': 'Non-Vegetarian'}, {'_id': ObjectId('631cd2024cfbc6573407dad1'), 'recipe_name': 'warchi', 'cuisine': 'Indian veg recipes', 'diet': 'recipes'}, {'_id': ObjectId('631cd2024cfbc6573407dad2'), 'recipe_name': 'Amriki salad', 'cuisine': 'American', 'diet': 'Vegetarian'}, {'_id': ObjectId('631cd2024cfbc6573407dad3'), 'recipe_name': 'warchi', 'cuisine': 'Indian veg recipes', 'diet': 'recipes'}, {'_id': ObjectId('631cd2024cfbc6573407dad4'), 'recipe_name': 'Aloo chutneywale', 'cuisine': 'Indian', 'diet': 'Vegetarian'}, {'_id': ObjectId('631cd2024cfbc6573407dad5'), 'recipe_name': 'Andhra Mutton Mushroom Sukka', 'cuisine': 'Indian', 'diet': 'Non-Vegetarian'}, {'_id': ObjectId('631cd2024cfbc6573407dad6'), 'recipe_name': 'Amvade', 'cuisine': 'Indian', 'diet': 'Kid-Friendly'}, {'_id': ObjectId('631cd2024cfbc6573407dad7'), 'recipe_name': 'Pickled Mangoes in Sesame Oil', 'cuisine': 'Indian', 'diet': 'Vegetarian'}, {'_id': ObjectId('631cd2024cfbc6573407dad8'), 'recipe_name': 'warchi', 'cuisine': 'Indian veg recipes', 'diet': 'recipes'}, {'_id': ObjectId('631cd2024cfbc6573407dad9'), 'recipe_name': 'Fish and Tomato Tenga', 'cuisine': 'Indian', 'diet': 'Non-Vegetarian'}, {'_id': ObjectId('631cd2024cfbc6573407dada'), 'recipe_name': 'Kulkuls for Kids', 'cuisine': 'Indian', 'diet': 'Kid-Friendly'}, {'_id': ObjectId('631cd2024cfbc6573407dadb'), 'recipe_name': 'Apple and Paneer Basundi', 'cuisine': 'Indian', 'diet': 'Kid-Friendly'}, {'_id': ObjectId('631cd2024cfbc6573407dadc'), 'recipe_name': 'Aloo Choliya (Potato Green Chickpea Curry )', 'cuisine': 'Indian', 'diet': 'Vegetarian'}, {'_id': ObjectId('631cd2024cfbc6573407dadd'), 'recipe_name': '7 Cups Burfi', 'cuisine': 'Indian', 'diet': 'Kid-Friendly'}, {'_id': ObjectId('631cd2024cfbc6573407dade'), 'recipe_name': 'Sauteed Spring Onions', 'cuisine': 'Indian', 'diet': 'Vegetarian'}, {'_id': ObjectId('631cd2024cfbc6573407dadf'), 'recipe_name': 'Potatoes in Cumin Masala', 'cuisine': 'Indian', 'diet': 'Vegetarian'}, {'_id': ObjectId('631cd2024cfbc6573407dae0'), 'recipe_name': 'warchi', 'cuisine': 'Indian veg recipes', 'diet': 'recipes'}, {'_id': ObjectId('631cd2024cfbc6573407dae1'), 'recipe_name': 'Adi - Muglai Lauki', 'cuisine': 'Indian', 'diet': 'Vegetarian'}, {'_id': ObjectId('631cd2024cfbc6573407dae2'), 'recipe_name': 'Amchoor (Dried Mango) Powder', 'cuisine': 'Indian', 'diet': 'Vegetarian'}, {'_id': ObjectId('631cd2024cfbc6573407dae3'), 'recipe_name': 'Akbari Vegetables', 'cuisine': 'Indian', 'diet': 'Vegetarian'}]\n"
     ]
    }
   ],
   "source": [
    "connect = MongoClient(host=\"localhost\", port=27017)\n",
    "database = connect[\"foodDB\"]\n",
    "collection = database[\"Recipe_data\"]\n",
    "\n",
    "\n",
    "# Printing the data inserted\n",
    "cursor = collection.find()\n",
    "recipe_list = [record for record in cursor]\n",
    "print(recipe_list)"
   ]
  },
  {
   "cell_type": "code",
   "execution_count": 9,
   "id": "d3876716",
   "metadata": {},
   "outputs": [],
   "source": [
    "recipe_data = pd.DataFrame(recipe_list)"
   ]
  },
  {
   "cell_type": "code",
   "execution_count": 10,
   "id": "29637df9",
   "metadata": {},
   "outputs": [
    {
     "data": {
      "text/html": [
       "<div>\n",
       "<style scoped>\n",
       "    .dataframe tbody tr th:only-of-type {\n",
       "        vertical-align: middle;\n",
       "    }\n",
       "\n",
       "    .dataframe tbody tr th {\n",
       "        vertical-align: top;\n",
       "    }\n",
       "\n",
       "    .dataframe thead th {\n",
       "        text-align: right;\n",
       "    }\n",
       "</style>\n",
       "<table border=\"1\" class=\"dataframe\">\n",
       "  <thead>\n",
       "    <tr style=\"text-align: right;\">\n",
       "      <th></th>\n",
       "      <th>_id</th>\n",
       "      <th>recipe_name</th>\n",
       "      <th>cuisine</th>\n",
       "      <th>diet</th>\n",
       "    </tr>\n",
       "  </thead>\n",
       "  <tbody>\n",
       "    <tr>\n",
       "      <th>0</th>\n",
       "      <td>631cd2024cfbc6573407da4e</td>\n",
       "      <td>warchi</td>\n",
       "      <td>Indian veg recipes</td>\n",
       "      <td>recipes</td>\n",
       "    </tr>\n",
       "    <tr>\n",
       "      <th>1</th>\n",
       "      <td>631cd2024cfbc6573407da4f</td>\n",
       "      <td>warchi</td>\n",
       "      <td>Indian veg recipes</td>\n",
       "      <td>recipes</td>\n",
       "    </tr>\n",
       "    <tr>\n",
       "      <th>2</th>\n",
       "      <td>631cd2024cfbc6573407da50</td>\n",
       "      <td>warchi</td>\n",
       "      <td>Indian veg recipes</td>\n",
       "      <td>recipes</td>\n",
       "    </tr>\n",
       "    <tr>\n",
       "      <th>3</th>\n",
       "      <td>631cd2024cfbc6573407da51</td>\n",
       "      <td>Kagazhi Kebab</td>\n",
       "      <td>Indian</td>\n",
       "      <td>Restaurants</td>\n",
       "    </tr>\n",
       "    <tr>\n",
       "      <th>4</th>\n",
       "      <td>631cd2024cfbc6573407da52</td>\n",
       "      <td>Pan-Fried Zoodles with Sesame and Paneer</td>\n",
       "      <td>Asian</td>\n",
       "      <td>Low-Fat</td>\n",
       "    </tr>\n",
       "    <tr>\n",
       "      <th>...</th>\n",
       "      <td>...</td>\n",
       "      <td>...</td>\n",
       "      <td>...</td>\n",
       "      <td>...</td>\n",
       "    </tr>\n",
       "    <tr>\n",
       "      <th>145</th>\n",
       "      <td>631cd2024cfbc6573407dadf</td>\n",
       "      <td>Potatoes in Cumin Masala</td>\n",
       "      <td>Indian</td>\n",
       "      <td>Vegetarian</td>\n",
       "    </tr>\n",
       "    <tr>\n",
       "      <th>146</th>\n",
       "      <td>631cd2024cfbc6573407dae0</td>\n",
       "      <td>warchi</td>\n",
       "      <td>Indian veg recipes</td>\n",
       "      <td>recipes</td>\n",
       "    </tr>\n",
       "    <tr>\n",
       "      <th>147</th>\n",
       "      <td>631cd2024cfbc6573407dae1</td>\n",
       "      <td>Adi - Muglai Lauki</td>\n",
       "      <td>Indian</td>\n",
       "      <td>Vegetarian</td>\n",
       "    </tr>\n",
       "    <tr>\n",
       "      <th>148</th>\n",
       "      <td>631cd2024cfbc6573407dae2</td>\n",
       "      <td>Amchoor (Dried Mango) Powder</td>\n",
       "      <td>Indian</td>\n",
       "      <td>Vegetarian</td>\n",
       "    </tr>\n",
       "    <tr>\n",
       "      <th>149</th>\n",
       "      <td>631cd2024cfbc6573407dae3</td>\n",
       "      <td>Akbari Vegetables</td>\n",
       "      <td>Indian</td>\n",
       "      <td>Vegetarian</td>\n",
       "    </tr>\n",
       "  </tbody>\n",
       "</table>\n",
       "<p>150 rows × 4 columns</p>\n",
       "</div>"
      ],
      "text/plain": [
       "                          _id                               recipe_name  \\\n",
       "0    631cd2024cfbc6573407da4e                                    warchi   \n",
       "1    631cd2024cfbc6573407da4f                                    warchi   \n",
       "2    631cd2024cfbc6573407da50                                    warchi   \n",
       "3    631cd2024cfbc6573407da51                             Kagazhi Kebab   \n",
       "4    631cd2024cfbc6573407da52  Pan-Fried Zoodles with Sesame and Paneer   \n",
       "..                        ...                                       ...   \n",
       "145  631cd2024cfbc6573407dadf                  Potatoes in Cumin Masala   \n",
       "146  631cd2024cfbc6573407dae0                                    warchi   \n",
       "147  631cd2024cfbc6573407dae1                        Adi - Muglai Lauki   \n",
       "148  631cd2024cfbc6573407dae2              Amchoor (Dried Mango) Powder   \n",
       "149  631cd2024cfbc6573407dae3                         Akbari Vegetables   \n",
       "\n",
       "                cuisine         diet  \n",
       "0    Indian veg recipes      recipes  \n",
       "1    Indian veg recipes      recipes  \n",
       "2    Indian veg recipes      recipes  \n",
       "3                Indian  Restaurants  \n",
       "4                 Asian      Low-Fat  \n",
       "..                  ...          ...  \n",
       "145              Indian   Vegetarian  \n",
       "146  Indian veg recipes      recipes  \n",
       "147              Indian   Vegetarian  \n",
       "148              Indian   Vegetarian  \n",
       "149              Indian   Vegetarian  \n",
       "\n",
       "[150 rows x 4 columns]"
      ]
     },
     "execution_count": 10,
     "metadata": {},
     "output_type": "execute_result"
    }
   ],
   "source": [
    "recipe_data"
   ]
  },
  {
   "cell_type": "code",
   "execution_count": null,
   "id": "07b89686",
   "metadata": {},
   "outputs": [],
   "source": []
  }
 ],
 "metadata": {
  "kernelspec": {
   "display_name": "Python 3 (ipykernel)",
   "language": "python",
   "name": "python3"
  },
  "language_info": {
   "codemirror_mode": {
    "name": "ipython",
    "version": 3
   },
   "file_extension": ".py",
   "mimetype": "text/x-python",
   "name": "python",
   "nbconvert_exporter": "python",
   "pygments_lexer": "ipython3",
   "version": "3.9.12"
  }
 },
 "nbformat": 4,
 "nbformat_minor": 5
}
