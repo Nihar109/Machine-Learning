{
 "cells": [
  {
   "cell_type": "code",
   "execution_count": 1,
   "id": "6a757e1c",
   "metadata": {},
   "outputs": [],
   "source": [
    "from sklearn.datasets import make_classification\n",
    "import numpy as np\n",
    "import matplotlib.pyplot as plt\n",
    "\n",
    "X,y = make_classification(n_samples=100,n_features=2, n_informative=1,\n",
    "                         n_redundant=0,n_classes=2,n_clusters_per_class=1, random_state=41,\n",
    "                         hypercube=False, class_sep=20)"
   ]
  },
  {
   "cell_type": "code",
   "execution_count": 2,
   "id": "24c43c44",
   "metadata": {},
   "outputs": [
    {
     "data": {
      "text/plain": [
       "array([[ 0.51123145, -0.11697552],\n",
       "       [ 0.06316371, -0.73115232],\n",
       "       [-0.0425064 , -0.7081059 ],\n",
       "       [-3.2891569 , -2.01199214],\n",
       "       [ 0.1111445 ,  1.63493163],\n",
       "       [-2.53070306,  0.15599044],\n",
       "       [-3.49036198,  1.07782053],\n",
       "       [ 0.3976447 ,  0.80626713],\n",
       "       [-0.24666899,  0.74859527],\n",
       "       [-3.65803446,  0.75152794],\n",
       "       [-3.47658131, -0.90114581],\n",
       "       [-3.47815037, -0.1815243 ],\n",
       "       [ 0.29004249, -2.98092432],\n",
       "       [ 1.11761831,  1.20500136],\n",
       "       [-3.52530398,  0.78302407],\n",
       "       [ 0.69929128,  0.42968688],\n",
       "       [ 0.17089733, -0.73229726],\n",
       "       [-3.57785124, -0.83930476],\n",
       "       [ 0.12965489,  0.83727062],\n",
       "       [-3.46888717, -0.10255323],\n",
       "       [-3.97487212,  0.65867001],\n",
       "       [-3.76348686,  0.92649819],\n",
       "       [-3.01519735,  0.10216193],\n",
       "       [ 1.92241659,  0.46886454],\n",
       "       [-2.91479578,  0.45432938],\n",
       "       [ 0.9259563 ,  1.8613386 ],\n",
       "       [-3.4859014 , -0.79255991],\n",
       "       [-2.73978345, -1.0004391 ],\n",
       "       [-4.09896768, -0.53814137],\n",
       "       [-3.50212636,  0.44027716],\n",
       "       [-3.13904797,  0.27047889],\n",
       "       [ 1.66188378, -0.75869267],\n",
       "       [ 0.53718567,  0.6802322 ],\n",
       "       [ 0.84886927,  0.17018845],\n",
       "       [ 0.86681859, -1.01121977],\n",
       "       [-0.00979785, -0.8394709 ],\n",
       "       [-2.68650432,  0.90327412],\n",
       "       [ 0.98593205,  1.16981747],\n",
       "       [-3.30742775,  0.53461406],\n",
       "       [ 1.06925594, -0.22100631],\n",
       "       [-3.0242056 , -0.64584571],\n",
       "       [-2.61612476,  0.21243302],\n",
       "       [-3.05407331,  0.98654083],\n",
       "       [ 1.78068059,  0.67382928],\n",
       "       [-2.50369897, -0.11323563],\n",
       "       [ 1.39258216,  0.91694693],\n",
       "       [ 0.45865727,  0.3645213 ],\n",
       "       [-3.07153732, -0.78470874],\n",
       "       [-2.79571273, -1.48004137],\n",
       "       [-2.6184666 ,  0.72931763],\n",
       "       [ 0.53218913, -0.60000139],\n",
       "       [-0.0395452 ,  0.14720034],\n",
       "       [-3.11964851,  0.35215601],\n",
       "       [ 1.2561371 ,  0.17388705],\n",
       "       [ 2.45686591, -0.17162755],\n",
       "       [-3.2252872 ,  0.03763193],\n",
       "       [ 1.3467772 ,  0.48360467],\n",
       "       [-3.75380319, -0.07909256],\n",
       "       [-3.03070579,  0.06158897],\n",
       "       [ 0.20583358, -1.20413846],\n",
       "       [ 1.21108994,  0.77324391],\n",
       "       [-3.01981877,  0.7640092 ],\n",
       "       [-3.66318854,  1.57200032],\n",
       "       [ 1.28298186,  0.47296516],\n",
       "       [ 0.3640611 ,  0.0642074 ],\n",
       "       [-0.35195584,  1.52469135],\n",
       "       [-3.59205904, -2.1450828 ],\n",
       "       [ 0.9061286 , -0.7701428 ],\n",
       "       [-3.25090707,  0.84455766],\n",
       "       [-2.69817214,  1.29753064],\n",
       "       [-4.09493435, -0.84276652],\n",
       "       [ 0.58735838,  2.0615874 ],\n",
       "       [ 1.3843216 , -0.3036533 ],\n",
       "       [-3.15603064, -0.1656085 ],\n",
       "       [ 1.37865857,  1.16969713],\n",
       "       [ 0.98696744, -0.3038555 ],\n",
       "       [-3.88083743, -0.4788978 ],\n",
       "       [ 1.27593515,  0.28128262],\n",
       "       [-3.01387754,  0.70412341],\n",
       "       [ 1.0278443 ,  0.3757601 ],\n",
       "       [ 0.15011746,  0.97247545],\n",
       "       [ 1.653853  ,  0.56868381],\n",
       "       [-3.15852226, -0.39767934],\n",
       "       [ 1.68843893, -1.08933729],\n",
       "       [-0.04572327, -1.81663939],\n",
       "       [-3.56234524,  1.41775924],\n",
       "       [-3.48093864,  0.27098296],\n",
       "       [-2.88757001, -0.56186639],\n",
       "       [ 0.57853245,  0.42168159],\n",
       "       [-2.98638242, -2.95373116],\n",
       "       [ 1.06361882,  0.19492133],\n",
       "       [ 1.47452652, -0.04578681],\n",
       "       [-2.8571924 , -0.18860967],\n",
       "       [-3.18522871,  0.44635682],\n",
       "       [ 1.06491218, -1.49814775],\n",
       "       [-3.82161901,  0.66198774],\n",
       "       [-3.23429001,  0.07153265],\n",
       "       [-3.15863898,  0.32323638],\n",
       "       [ 1.14824982, -0.34574201],\n",
       "       [ 0.04627774,  0.06499922]])"
      ]
     },
     "execution_count": 2,
     "metadata": {},
     "output_type": "execute_result"
    }
   ],
   "source": [
    "X"
   ]
  },
  {
   "cell_type": "code",
   "execution_count": 3,
   "id": "972064eb",
   "metadata": {},
   "outputs": [
    {
     "data": {
      "image/png": "[encoded data removed]",
      "text/plain": [
       "<Figure size 432x288 with 1 Axes>"
      ]
     },
     "metadata": {
      "needs_background": "light"
     },
     "output_type": "display_data"
    }
   ],
   "source": [
    "plt.scatter(X[:,0],X[:,1],c=y,cmap='winter',s=100)\n",
    "plt.show()"
   ]
  },
  {
   "cell_type": "code",
   "execution_count": 4,
   "id": "f2ab973a",
   "metadata": {},
   "outputs": [
    {
     "data": {
      "text/plain": [
       "LogisticRegression(penalty='none', solver='sag')"
      ]
     },
     "execution_count": 4,
     "metadata": {},
     "output_type": "execute_result"
    }
   ],
   "source": [
    "from sklearn.linear_model import LogisticRegression\n",
    "\n",
    "log = LogisticRegression(penalty='none',solver='sag')\n",
    "log.fit(X,y)"
   ]
  },
  {
   "cell_type": "code",
   "execution_count": 5,
   "id": "5ac8ddae",
   "metadata": {},
   "outputs": [
    {
     "name": "stdout",
     "output_type": "stream",
     "text": [
      "[4.7580364]\n",
      "[[4.93737043 0.27475868]]\n"
     ]
    }
   ],
   "source": [
    "print(log.intercept_)\n",
    "print(log.coef_)"
   ]
  },
  {
   "cell_type": "code",
   "execution_count": 6,
   "id": "007803f5",
   "metadata": {},
   "outputs": [
    {
     "data": {
      "text/plain": [
       "array([4.93737043, 0.27475868])"
      ]
     },
     "execution_count": 6,
     "metadata": {},
     "output_type": "execute_result"
    }
   ],
   "source": [
    "intercept_ = log.intercept_\n",
    "coef_ = log.coef_.ravel()\n",
    "coef_"
   ]
  },
  {
   "cell_type": "code",
   "execution_count": 7,
   "id": "fdaf5f4a",
   "metadata": {},
   "outputs": [],
   "source": [
    "m = -(coef_[0]/coef_[1])\n",
    "b = -(intercept_/coef_[1])"
   ]
  },
  {
   "cell_type": "code",
   "execution_count": 8,
   "id": "93053fd3",
   "metadata": {},
   "outputs": [],
   "source": [
    "x_input = np.linspace(-3,3,100)\n",
    "y_input = m*x_input + b"
   ]
  },
  {
   "cell_type": "code",
   "execution_count": 14,
   "id": "e7998549",
   "metadata": {},
   "outputs": [],
   "source": [
    "def sigmoid(num):\n",
    "    return 1/(1+np.exp(-num))\n",
    "\n",
    "def gradient_descent(X,y):\n",
    "    X = np.insert(X,0,1,axis=1)\n",
    "    weights = np.ones(X.shape[1])\n",
    "    lr = 0.5\n",
    "    \n",
    "    for i in range(5000):\n",
    "        \n",
    "        y_hat = sigmoid(np.dot(X,weights)) \n",
    "        weights = weights + lr * (np.dot((y-y_hat),X)/X.shape[0])\n",
    "    \n",
    "    return weights[0], weights[1:]"
   ]
  },
  {
   "cell_type": "code",
   "execution_count": 15,
   "id": "b125a9ae",
   "metadata": {},
   "outputs": [
    {
     "name": "stdout",
     "output_type": "stream",
     "text": [
      "5.833388649053249\n",
      "[4.83926872 0.21182255]\n"
     ]
    }
   ],
   "source": [
    "intercept_,coef_ = gradient_descent(X,y)\n",
    "print(intercept_)\n",
    "print(coef_)"
   ]
  },
  {
   "cell_type": "code",
   "execution_count": 16,
   "id": "caf1f81c",
   "metadata": {},
   "outputs": [],
   "source": [
    "m = -(coef_[0]/coef_[1])\n",
    "b = -(intercept_/coef_[1])"
   ]
  },
  {
   "cell_type": "code",
   "execution_count": 17,
   "id": "8909bf87",
   "metadata": {},
   "outputs": [],
   "source": [
    "x_input1 = np.linspace(-3,3,100)\n",
    "y_input1 = m*x_input + b"
   ]
  },
  {
   "cell_type": "code",
   "execution_count": 18,
   "id": "fad736ba",
   "metadata": {},
   "outputs": [
    {
     "data": {
      "image/png": "[encoded data removed]",
      "text/plain": [
       "<Figure size 720x432 with 1 Axes>"
      ]
     },
     "metadata": {
      "needs_background": "light"
     },
     "output_type": "display_data"
    }
   ],
   "source": [
    "plt.figure(figsize=(10,6))\n",
    "plt.plot(x_input,y_input,color='red',linewidth=3,label='LogisticRegression')\n",
    "plt.plot(x_input1,y_input1,color='black',linewidth=3,label='Gradient_descent')\n",
    "plt.scatter(X[:,0],X[:,1],c=y,cmap='winter',s=100)\n",
    "plt.ylim(-3,2)\n",
    "plt.legend()\n",
    "plt.show()"
   ]
  },
  {
   "cell_type": "code",
   "execution_count": null,
   "id": "2bc98116",
   "metadata": {},
   "outputs": [],
   "source": []
  }
 ],
 "metadata": {
  "kernelspec": {
   "display_name": "Python 3 (ipykernel)",
   "language": "python",
   "name": "python3"
  },
  "language_info": {
   "codemirror_mode": {
    "name": "ipython",
    "version": 3
   },
   "file_extension": ".py",
   "mimetype": "text/x-python",
   "name": "python",
   "nbconvert_exporter": "python",
   "pygments_lexer": "ipython3",
   "version": "3.9.12"
  }
 },
 "nbformat": 4,
 "nbformat_minor": 5
}
