{
 "cells": [
  {
   "cell_type": "code",
   "execution_count": 1,
   "id": "a8e528c6",
   "metadata": {},
   "outputs": [],
   "source": [
    "import pandas as pd\n",
    "import numpy as np\n",
    "import matplotlib.pyplot as plt\n",
    "from sklearn.model_selection import train_test_split\n",
    "from sklearn.linear_model import LogisticRegression\n",
    "from sklearn.tree import DecisionTreeClassifier\n",
    "\n",
    "from sklearn.metrics import *\n",
    "from sklearn.datasets import load_digits"
   ]
  },
  {
   "cell_type": "code",
   "execution_count": 2,
   "id": "e8efb5f5",
   "metadata": {},
   "outputs": [
    {
     "data": {
      "text/plain": [
       "{'data': array([[ 0.,  0.,  5., ...,  0.,  0.,  0.],\n",
       "        [ 0.,  0.,  0., ..., 10.,  0.,  0.],\n",
       "        [ 0.,  0.,  0., ..., 16.,  9.,  0.],\n",
       "        ...,\n",
       "        [ 0.,  0.,  1., ...,  6.,  0.,  0.],\n",
       "        [ 0.,  0.,  2., ..., 12.,  0.,  0.],\n",
       "        [ 0.,  0., 10., ..., 12.,  1.,  0.]]),\n",
       " 'target': array([0, 1, 2, ..., 8, 9, 8]),\n",
       " 'frame': None,\n",
       " 'feature_names': ['pixel_0_0',\n",
       "  'pixel_0_1',\n",
       "  'pixel_0_2',\n",
       "  'pixel_0_3',\n",
       "  'pixel_0_4',\n",
       "  'pixel_0_5',\n",
       "  'pixel_0_6',\n",
       "  'pixel_0_7',\n",
       "  'pixel_1_0',\n",
       "  'pixel_1_1',\n",
       "  'pixel_1_2',\n",
       "  'pixel_1_3',\n",
       "  'pixel_1_4',\n",
       "  'pixel_1_5',\n",
       "  'pixel_1_6',\n",
       "  'pixel_1_7',\n",
       "  'pixel_2_0',\n",
       "  'pixel_2_1',\n",
       "  'pixel_2_2',\n",
       "  'pixel_2_3',\n",
       "  'pixel_2_4',\n",
       "  'pixel_2_5',\n",
       "  'pixel_2_6',\n",
       "  'pixel_2_7',\n",
       "  'pixel_3_0',\n",
       "  'pixel_3_1',\n",
       "  'pixel_3_2',\n",
       "  'pixel_3_3',\n",
       "  'pixel_3_4',\n",
       "  'pixel_3_5',\n",
       "  'pixel_3_6',\n",
       "  'pixel_3_7',\n",
       "  'pixel_4_0',\n",
       "  'pixel_4_1',\n",
       "  'pixel_4_2',\n",
       "  'pixel_4_3',\n",
       "  'pixel_4_4',\n",
       "  'pixel_4_5',\n",
       "  'pixel_4_6',\n",
       "  'pixel_4_7',\n",
       "  'pixel_5_0',\n",
       "  'pixel_5_1',\n",
       "  'pixel_5_2',\n",
       "  'pixel_5_3',\n",
       "  'pixel_5_4',\n",
       "  'pixel_5_5',\n",
       "  'pixel_5_6',\n",
       "  'pixel_5_7',\n",
       "  'pixel_6_0',\n",
       "  'pixel_6_1',\n",
       "  'pixel_6_2',\n",
       "  'pixel_6_3',\n",
       "  'pixel_6_4',\n",
       "  'pixel_6_5',\n",
       "  'pixel_6_6',\n",
       "  'pixel_6_7',\n",
       "  'pixel_7_0',\n",
       "  'pixel_7_1',\n",
       "  'pixel_7_2',\n",
       "  'pixel_7_3',\n",
       "  'pixel_7_4',\n",
       "  'pixel_7_5',\n",
       "  'pixel_7_6',\n",
       "  'pixel_7_7'],\n",
       " 'target_names': array([0, 1, 2, 3, 4, 5, 6, 7, 8, 9]),\n",
       " 'images': array([[[ 0.,  0.,  5., ...,  1.,  0.,  0.],\n",
       "         [ 0.,  0., 13., ..., 15.,  5.,  0.],\n",
       "         [ 0.,  3., 15., ..., 11.,  8.,  0.],\n",
       "         ...,\n",
       "         [ 0.,  4., 11., ..., 12.,  7.,  0.],\n",
       "         [ 0.,  2., 14., ..., 12.,  0.,  0.],\n",
       "         [ 0.,  0.,  6., ...,  0.,  0.,  0.]],\n",
       " \n",
       "        [[ 0.,  0.,  0., ...,  5.,  0.,  0.],\n",
       "         [ 0.,  0.,  0., ...,  9.,  0.,  0.],\n",
       "         [ 0.,  0.,  3., ...,  6.,  0.,  0.],\n",
       "         ...,\n",
       "         [ 0.,  0.,  1., ...,  6.,  0.,  0.],\n",
       "         [ 0.,  0.,  1., ...,  6.,  0.,  0.],\n",
       "         [ 0.,  0.,  0., ..., 10.,  0.,  0.]],\n",
       " \n",
       "        [[ 0.,  0.,  0., ..., 12.,  0.,  0.],\n",
       "         [ 0.,  0.,  3., ..., 14.,  0.,  0.],\n",
       "         [ 0.,  0.,  8., ..., 16.,  0.,  0.],\n",
       "         ...,\n",
       "         [ 0.,  9., 16., ...,  0.,  0.,  0.],\n",
       "         [ 0.,  3., 13., ..., 11.,  5.,  0.],\n",
       "         [ 0.,  0.,  0., ..., 16.,  9.,  0.]],\n",
       " \n",
       "        ...,\n",
       " \n",
       "        [[ 0.,  0.,  1., ...,  1.,  0.,  0.],\n",
       "         [ 0.,  0., 13., ...,  2.,  1.,  0.],\n",
       "         [ 0.,  0., 16., ..., 16.,  5.,  0.],\n",
       "         ...,\n",
       "         [ 0.,  0., 16., ..., 15.,  0.,  0.],\n",
       "         [ 0.,  0., 15., ..., 16.,  0.,  0.],\n",
       "         [ 0.,  0.,  2., ...,  6.,  0.,  0.]],\n",
       " \n",
       "        [[ 0.,  0.,  2., ...,  0.,  0.,  0.],\n",
       "         [ 0.,  0., 14., ..., 15.,  1.,  0.],\n",
       "         [ 0.,  4., 16., ..., 16.,  7.,  0.],\n",
       "         ...,\n",
       "         [ 0.,  0.,  0., ..., 16.,  2.,  0.],\n",
       "         [ 0.,  0.,  4., ..., 16.,  2.,  0.],\n",
       "         [ 0.,  0.,  5., ..., 12.,  0.,  0.]],\n",
       " \n",
       "        [[ 0.,  0., 10., ...,  1.,  0.,  0.],\n",
       "         [ 0.,  2., 16., ...,  1.,  0.,  0.],\n",
       "         [ 0.,  0., 15., ..., 15.,  0.,  0.],\n",
       "         ...,\n",
       "         [ 0.,  4., 16., ..., 16.,  6.,  0.],\n",
       "         [ 0.,  8., 16., ..., 16.,  8.,  0.],\n",
       "         [ 0.,  1.,  8., ..., 12.,  1.,  0.]]]),\n",
       " 'DESCR': \".. _digits_dataset:\\n\\nOptical recognition of handwritten digits dataset\\n--------------------------------------------------\\n\\n**Data Set Characteristics:**\\n\\n    :Number of Instances: 1797\\n    :Number of Attributes: 64\\n    :Attribute Information: 8x8 image of integer pixels in the range 0..16.\\n    :Missing Attribute Values: None\\n    :Creator: E. Alpaydin (alpaydin '@' boun.edu.tr)\\n    :Date: July; 1998\\n\\nThis is a copy of the test set of the UCI ML hand-written digits datasets\\nhttps://archive.ics.uci.edu/ml/datasets/Optical+Recognition+of+Handwritten+Digits\\n\\nThe data set contains images of hand-written digits: 10 classes where\\neach class refers to a digit.\\n\\nPreprocessing programs made available by NIST were used to extract\\nnormalized bitmaps of handwritten digits from a preprinted form. From a\\ntotal of 43 people, 30 contributed to the training set and different 13\\nto the test set. 32x32 bitmaps are divided into nonoverlapping blocks of\\n4x4 and the number of on pixels are counted in each block. This generates\\nan input matrix of 8x8 where each element is an integer in the range\\n0..16. This reduces dimensionality and gives invariance to small\\ndistortions.\\n\\nFor info on NIST preprocessing routines, see M. D. Garris, J. L. Blue, G.\\nT. Candela, D. L. Dimmick, J. Geist, P. J. Grother, S. A. Janet, and C.\\nL. Wilson, NIST Form-Based Handprint Recognition System, NISTIR 5469,\\n1994.\\n\\n.. topic:: References\\n\\n  - C. Kaynak (1995) Methods of Combining Multiple Classifiers and Their\\n    Applications to Handwritten Digit Recognition, MSc Thesis, Institute of\\n    Graduate Studies in Science and Engineering, Bogazici University.\\n  - E. Alpaydin, C. Kaynak (1998) Cascading Classifiers, Kybernetika.\\n  - Ken Tang and Ponnuthurai N. Suganthan and Xi Yao and A. Kai Qin.\\n    Linear dimensionalityreduction using relevance weighted LDA. School of\\n    Electrical and Electronic Engineering Nanyang Technological University.\\n    2005.\\n  - Claudio Gentile. A New Approximate Maximal Margin Classification\\n    Algorithm. NIPS. 2000.\\n\"}"
      ]
     },
     "execution_count": 2,
     "metadata": {},
     "output_type": "execute_result"
    }
   ],
   "source": [
    "load_digits()"
   ]
  },
  {
   "cell_type": "code",
   "execution_count": 3,
   "id": "126e6f3f",
   "metadata": {},
   "outputs": [
    {
     "data": {
      "image/png": "[encoded data removed]",
      "text/plain": [
       "<Figure size 432x288 with 1 Axes>"
      ]
     },
     "metadata": {
      "needs_background": "light"
     },
     "output_type": "display_data"
    }
   ],
   "source": [
    "digits = load_digits()\n",
    "\n",
    "plt.imshow(digits.images[0], cmap=plt.get_cmap('gray'))\n",
    "plt.show()"
   ]
  },
  {
   "cell_type": "code",
   "execution_count": 4,
   "id": "9102d9bc",
   "metadata": {},
   "outputs": [
    {
     "data": {
      "text/plain": [
       "(60000, 28, 28)"
      ]
     },
     "execution_count": 4,
     "metadata": {},
     "output_type": "execute_result"
    }
   ],
   "source": [
    "#loading MNIST dataset\n",
    "from tensorflow.keras.datasets import mnist\n",
    "mnist.load_data()[0][0].shape"
   ]
  },
  {
   "cell_type": "code",
   "execution_count": 5,
   "id": "f40afaa0",
   "metadata": {},
   "outputs": [],
   "source": [
    "(X_train,y_train) , (X_test,y_test)=mnist.load_data()\n",
    "\n",
    "X_train_flat=X_train.reshape(len(X_train),28*28)\n",
    "X_test_flat=X_test.reshape(len(X_test),28*28)"
   ]
  },
  {
   "cell_type": "code",
   "execution_count": 6,
   "id": "b4c69ac1",
   "metadata": {},
   "outputs": [
    {
     "data": {
      "text/plain": [
       "<matplotlib.image.AxesImage at 0x23974662490>"
      ]
     },
     "execution_count": 6,
     "metadata": {},
     "output_type": "execute_result"
    },
    {
     "data": {
      "image/png": "[encoded data removed]",
      "text/plain": [
       "<Figure size 432x288 with 1 Axes>"
      ]
     },
     "metadata": {
      "needs_background": "light"
     },
     "output_type": "display_data"
    }
   ],
   "source": [
    "plt.imshow(X_train[0])"
   ]
  },
  {
   "cell_type": "code",
   "execution_count": 7,
   "id": "bd15ddcb",
   "metadata": {},
   "outputs": [
    {
     "name": "stderr",
     "output_type": "stream",
     "text": [
      "C:\\Users\\Nihar\\anaconda3\\lib\\site-packages\\sklearn\\linear_model\\_logistic.py:814: ConvergenceWarning: lbfgs failed to converge (status=1):\n",
      "STOP: TOTAL NO. of ITERATIONS REACHED LIMIT.\n",
      "\n",
      "Increase the number of iterations (max_iter) or scale the data as shown in:\n",
      "    https://scikit-learn.org/stable/modules/preprocessing.html\n",
      "Please also refer to the documentation for alternative solver options:\n",
      "    https://scikit-learn.org/stable/modules/linear_model.html#logistic-regression\n",
      "  n_iter_i = _check_optimize_result(\n"
     ]
    },
    {
     "name": "stdout",
     "output_type": "stream",
     "text": [
      "Accuracy of LogisticRegression : 0.9255\n",
      "Accuracy of DecisionTree : 0.8781\n"
     ]
    }
   ],
   "source": [
    "log = LogisticRegression()\n",
    "dt = DecisionTreeClassifier()\n",
    "\n",
    "log.fit(X_train_flat,y_train)\n",
    "dt.fit(X_train_flat,y_train)\n",
    "\n",
    "y_pred = log.predict(X_test_flat)\n",
    "y_pred1 = dt.predict(X_test_flat)\n",
    "\n",
    "\n",
    "print(f'Accuracy of LogisticRegression : {accuracy_score(y_test,y_pred)}')\n",
    "print(f'Accuracy of DecisionTree : {accuracy_score(y_test,y_pred1)}')"
   ]
  },
  {
   "cell_type": "code",
   "execution_count": 8,
   "id": "463a6e54",
   "metadata": {},
   "outputs": [
    {
     "data": {
      "text/plain": [
       "array([7, 2, 1, ..., 4, 5, 6], dtype=uint8)"
      ]
     },
     "execution_count": 8,
     "metadata": {},
     "output_type": "execute_result"
    }
   ],
   "source": [
    "y_pred"
   ]
  },
  {
   "cell_type": "code",
   "execution_count": 9,
   "id": "e0c670d6",
   "metadata": {},
   "outputs": [
    {
     "name": "stdout",
     "output_type": "stream",
     "text": [
      "confusion_matrix of LogisticRegression : \n",
      " [[ 963    0    0    3    1    3    4    4    2    0]\n",
      " [   0 1112    4    2    0    1    3    2   11    0]\n",
      " [   3   10  926   15    6    4   15    8   42    3]\n",
      " [   4    1   21  916    1   26    3    9   22    7]\n",
      " [   1    1    7    3  910    0    9    7   10   34]\n",
      " [  11    2    1   33   11  776   11    6   35    6]\n",
      " [   9    3    7    3    7   16  910    2    1    0]\n",
      " [   1    6   24    5    7    1    0  951    3   30]\n",
      " [   8    7    6   23    6   26   10   10  869    9]\n",
      " [   9    7    0   11   25    6    0   22    7  922]]\n",
      "\n",
      "\n",
      "confusion_matrix of DecisionTree : \n",
      " [[ 912    1    7    7    5   16   14    5    8    5]\n",
      " [   0 1091   12    8    1    3    5    5    6    4]\n",
      " [   8   11  871   39   13   12   13   26   25   14]\n",
      " [   5    8   31  870    5   38    5    9   18   21]\n",
      " [   3    4    9    2  867    8   14    7   22   46]\n",
      " [  10    9    6   47    9  746   22    5   22   16]\n",
      " [  12    4   11   10   18   18  851    4   23    7]\n",
      " [   2   13   24   18    8    3    1  931   10   18]\n",
      " [   9    9   32   33   17   29   19   10  785   31]\n",
      " [  13    4    6   19   47   13    6   18   26  857]]\n"
     ]
    }
   ],
   "source": [
    "print(f'confusion_matrix of LogisticRegression : \\n {confusion_matrix(y_test,y_pred)}')\n",
    "print('\\n')\n",
    "print(f'confusion_matrix of DecisionTree : \\n {confusion_matrix(y_test,y_pred1)}')"
   ]
  },
  {
   "cell_type": "code",
   "execution_count": 10,
   "id": "c406a430",
   "metadata": {},
   "outputs": [
    {
     "name": "stdout",
     "output_type": "stream",
     "text": [
      "confusion_matrix of LogisticRegression : \n"
     ]
    },
    {
     "data": {
      "text/html": [
       "<div>\n",
       "<style scoped>\n",
       "    .dataframe tbody tr th:only-of-type {\n",
       "        vertical-align: middle;\n",
       "    }\n",
       "\n",
       "    .dataframe tbody tr th {\n",
       "        vertical-align: top;\n",
       "    }\n",
       "\n",
       "    .dataframe thead th {\n",
       "        text-align: right;\n",
       "    }\n",
       "</style>\n",
       "<table border=\"1\" class=\"dataframe\">\n",
       "  <thead>\n",
       "    <tr style=\"text-align: right;\">\n",
       "      <th></th>\n",
       "      <th>0</th>\n",
       "      <th>1</th>\n",
       "      <th>2</th>\n",
       "      <th>3</th>\n",
       "      <th>4</th>\n",
       "      <th>5</th>\n",
       "      <th>6</th>\n",
       "      <th>7</th>\n",
       "      <th>8</th>\n",
       "      <th>9</th>\n",
       "    </tr>\n",
       "  </thead>\n",
       "  <tbody>\n",
       "    <tr>\n",
       "      <th>0</th>\n",
       "      <td>963</td>\n",
       "      <td>0</td>\n",
       "      <td>0</td>\n",
       "      <td>3</td>\n",
       "      <td>1</td>\n",
       "      <td>3</td>\n",
       "      <td>4</td>\n",
       "      <td>4</td>\n",
       "      <td>2</td>\n",
       "      <td>0</td>\n",
       "    </tr>\n",
       "    <tr>\n",
       "      <th>1</th>\n",
       "      <td>0</td>\n",
       "      <td>1112</td>\n",
       "      <td>4</td>\n",
       "      <td>2</td>\n",
       "      <td>0</td>\n",
       "      <td>1</td>\n",
       "      <td>3</td>\n",
       "      <td>2</td>\n",
       "      <td>11</td>\n",
       "      <td>0</td>\n",
       "    </tr>\n",
       "    <tr>\n",
       "      <th>2</th>\n",
       "      <td>3</td>\n",
       "      <td>10</td>\n",
       "      <td>926</td>\n",
       "      <td>15</td>\n",
       "      <td>6</td>\n",
       "      <td>4</td>\n",
       "      <td>15</td>\n",
       "      <td>8</td>\n",
       "      <td>42</td>\n",
       "      <td>3</td>\n",
       "    </tr>\n",
       "    <tr>\n",
       "      <th>3</th>\n",
       "      <td>4</td>\n",
       "      <td>1</td>\n",
       "      <td>21</td>\n",
       "      <td>916</td>\n",
       "      <td>1</td>\n",
       "      <td>26</td>\n",
       "      <td>3</td>\n",
       "      <td>9</td>\n",
       "      <td>22</td>\n",
       "      <td>7</td>\n",
       "    </tr>\n",
       "    <tr>\n",
       "      <th>4</th>\n",
       "      <td>1</td>\n",
       "      <td>1</td>\n",
       "      <td>7</td>\n",
       "      <td>3</td>\n",
       "      <td>910</td>\n",
       "      <td>0</td>\n",
       "      <td>9</td>\n",
       "      <td>7</td>\n",
       "      <td>10</td>\n",
       "      <td>34</td>\n",
       "    </tr>\n",
       "    <tr>\n",
       "      <th>5</th>\n",
       "      <td>11</td>\n",
       "      <td>2</td>\n",
       "      <td>1</td>\n",
       "      <td>33</td>\n",
       "      <td>11</td>\n",
       "      <td>776</td>\n",
       "      <td>11</td>\n",
       "      <td>6</td>\n",
       "      <td>35</td>\n",
       "      <td>6</td>\n",
       "    </tr>\n",
       "    <tr>\n",
       "      <th>6</th>\n",
       "      <td>9</td>\n",
       "      <td>3</td>\n",
       "      <td>7</td>\n",
       "      <td>3</td>\n",
       "      <td>7</td>\n",
       "      <td>16</td>\n",
       "      <td>910</td>\n",
       "      <td>2</td>\n",
       "      <td>1</td>\n",
       "      <td>0</td>\n",
       "    </tr>\n",
       "    <tr>\n",
       "      <th>7</th>\n",
       "      <td>1</td>\n",
       "      <td>6</td>\n",
       "      <td>24</td>\n",
       "      <td>5</td>\n",
       "      <td>7</td>\n",
       "      <td>1</td>\n",
       "      <td>0</td>\n",
       "      <td>951</td>\n",
       "      <td>3</td>\n",
       "      <td>30</td>\n",
       "    </tr>\n",
       "    <tr>\n",
       "      <th>8</th>\n",
       "      <td>8</td>\n",
       "      <td>7</td>\n",
       "      <td>6</td>\n",
       "      <td>23</td>\n",
       "      <td>6</td>\n",
       "      <td>26</td>\n",
       "      <td>10</td>\n",
       "      <td>10</td>\n",
       "      <td>869</td>\n",
       "      <td>9</td>\n",
       "    </tr>\n",
       "    <tr>\n",
       "      <th>9</th>\n",
       "      <td>9</td>\n",
       "      <td>7</td>\n",
       "      <td>0</td>\n",
       "      <td>11</td>\n",
       "      <td>25</td>\n",
       "      <td>6</td>\n",
       "      <td>0</td>\n",
       "      <td>22</td>\n",
       "      <td>7</td>\n",
       "      <td>922</td>\n",
       "    </tr>\n",
       "  </tbody>\n",
       "</table>\n",
       "</div>"
      ],
      "text/plain": [
       "     0     1    2    3    4    5    6    7    8    9\n",
       "0  963     0    0    3    1    3    4    4    2    0\n",
       "1    0  1112    4    2    0    1    3    2   11    0\n",
       "2    3    10  926   15    6    4   15    8   42    3\n",
       "3    4     1   21  916    1   26    3    9   22    7\n",
       "4    1     1    7    3  910    0    9    7   10   34\n",
       "5   11     2    1   33   11  776   11    6   35    6\n",
       "6    9     3    7    3    7   16  910    2    1    0\n",
       "7    1     6   24    5    7    1    0  951    3   30\n",
       "8    8     7    6   23    6   26   10   10  869    9\n",
       "9    9     7    0   11   25    6    0   22    7  922"
      ]
     },
     "execution_count": 10,
     "metadata": {},
     "output_type": "execute_result"
    }
   ],
   "source": [
    "print('confusion_matrix of LogisticRegression : ')\n",
    "pd.DataFrame(confusion_matrix(y_test,y_pred),columns=list(range(0,10)))\n",
    "\n"
   ]
  },
  {
   "cell_type": "code",
   "execution_count": 11,
   "id": "8f860097",
   "metadata": {},
   "outputs": [
    {
     "name": "stdout",
     "output_type": "stream",
     "text": [
      "confusion_matrix of DecisionTree : \n"
     ]
    },
    {
     "data": {
      "text/html": [
       "<div>\n",
       "<style scoped>\n",
       "    .dataframe tbody tr th:only-of-type {\n",
       "        vertical-align: middle;\n",
       "    }\n",
       "\n",
       "    .dataframe tbody tr th {\n",
       "        vertical-align: top;\n",
       "    }\n",
       "\n",
       "    .dataframe thead th {\n",
       "        text-align: right;\n",
       "    }\n",
       "</style>\n",
       "<table border=\"1\" class=\"dataframe\">\n",
       "  <thead>\n",
       "    <tr style=\"text-align: right;\">\n",
       "      <th></th>\n",
       "      <th>0</th>\n",
       "      <th>1</th>\n",
       "      <th>2</th>\n",
       "      <th>3</th>\n",
       "      <th>4</th>\n",
       "      <th>5</th>\n",
       "      <th>6</th>\n",
       "      <th>7</th>\n",
       "      <th>8</th>\n",
       "      <th>9</th>\n",
       "    </tr>\n",
       "  </thead>\n",
       "  <tbody>\n",
       "    <tr>\n",
       "      <th>0</th>\n",
       "      <td>912</td>\n",
       "      <td>1</td>\n",
       "      <td>7</td>\n",
       "      <td>7</td>\n",
       "      <td>5</td>\n",
       "      <td>16</td>\n",
       "      <td>14</td>\n",
       "      <td>5</td>\n",
       "      <td>8</td>\n",
       "      <td>5</td>\n",
       "    </tr>\n",
       "    <tr>\n",
       "      <th>1</th>\n",
       "      <td>0</td>\n",
       "      <td>1091</td>\n",
       "      <td>12</td>\n",
       "      <td>8</td>\n",
       "      <td>1</td>\n",
       "      <td>3</td>\n",
       "      <td>5</td>\n",
       "      <td>5</td>\n",
       "      <td>6</td>\n",
       "      <td>4</td>\n",
       "    </tr>\n",
       "    <tr>\n",
       "      <th>2</th>\n",
       "      <td>8</td>\n",
       "      <td>11</td>\n",
       "      <td>871</td>\n",
       "      <td>39</td>\n",
       "      <td>13</td>\n",
       "      <td>12</td>\n",
       "      <td>13</td>\n",
       "      <td>26</td>\n",
       "      <td>25</td>\n",
       "      <td>14</td>\n",
       "    </tr>\n",
       "    <tr>\n",
       "      <th>3</th>\n",
       "      <td>5</td>\n",
       "      <td>8</td>\n",
       "      <td>31</td>\n",
       "      <td>870</td>\n",
       "      <td>5</td>\n",
       "      <td>38</td>\n",
       "      <td>5</td>\n",
       "      <td>9</td>\n",
       "      <td>18</td>\n",
       "      <td>21</td>\n",
       "    </tr>\n",
       "    <tr>\n",
       "      <th>4</th>\n",
       "      <td>3</td>\n",
       "      <td>4</td>\n",
       "      <td>9</td>\n",
       "      <td>2</td>\n",
       "      <td>867</td>\n",
       "      <td>8</td>\n",
       "      <td>14</td>\n",
       "      <td>7</td>\n",
       "      <td>22</td>\n",
       "      <td>46</td>\n",
       "    </tr>\n",
       "    <tr>\n",
       "      <th>5</th>\n",
       "      <td>10</td>\n",
       "      <td>9</td>\n",
       "      <td>6</td>\n",
       "      <td>47</td>\n",
       "      <td>9</td>\n",
       "      <td>746</td>\n",
       "      <td>22</td>\n",
       "      <td>5</td>\n",
       "      <td>22</td>\n",
       "      <td>16</td>\n",
       "    </tr>\n",
       "    <tr>\n",
       "      <th>6</th>\n",
       "      <td>12</td>\n",
       "      <td>4</td>\n",
       "      <td>11</td>\n",
       "      <td>10</td>\n",
       "      <td>18</td>\n",
       "      <td>18</td>\n",
       "      <td>851</td>\n",
       "      <td>4</td>\n",
       "      <td>23</td>\n",
       "      <td>7</td>\n",
       "    </tr>\n",
       "    <tr>\n",
       "      <th>7</th>\n",
       "      <td>2</td>\n",
       "      <td>13</td>\n",
       "      <td>24</td>\n",
       "      <td>18</td>\n",
       "      <td>8</td>\n",
       "      <td>3</td>\n",
       "      <td>1</td>\n",
       "      <td>931</td>\n",
       "      <td>10</td>\n",
       "      <td>18</td>\n",
       "    </tr>\n",
       "    <tr>\n",
       "      <th>8</th>\n",
       "      <td>9</td>\n",
       "      <td>9</td>\n",
       "      <td>32</td>\n",
       "      <td>33</td>\n",
       "      <td>17</td>\n",
       "      <td>29</td>\n",
       "      <td>19</td>\n",
       "      <td>10</td>\n",
       "      <td>785</td>\n",
       "      <td>31</td>\n",
       "    </tr>\n",
       "    <tr>\n",
       "      <th>9</th>\n",
       "      <td>13</td>\n",
       "      <td>4</td>\n",
       "      <td>6</td>\n",
       "      <td>19</td>\n",
       "      <td>47</td>\n",
       "      <td>13</td>\n",
       "      <td>6</td>\n",
       "      <td>18</td>\n",
       "      <td>26</td>\n",
       "      <td>857</td>\n",
       "    </tr>\n",
       "  </tbody>\n",
       "</table>\n",
       "</div>"
      ],
      "text/plain": [
       "     0     1    2    3    4    5    6    7    8    9\n",
       "0  912     1    7    7    5   16   14    5    8    5\n",
       "1    0  1091   12    8    1    3    5    5    6    4\n",
       "2    8    11  871   39   13   12   13   26   25   14\n",
       "3    5     8   31  870    5   38    5    9   18   21\n",
       "4    3     4    9    2  867    8   14    7   22   46\n",
       "5   10     9    6   47    9  746   22    5   22   16\n",
       "6   12     4   11   10   18   18  851    4   23    7\n",
       "7    2    13   24   18    8    3    1  931   10   18\n",
       "8    9     9   32   33   17   29   19   10  785   31\n",
       "9   13     4    6   19   47   13    6   18   26  857"
      ]
     },
     "execution_count": 11,
     "metadata": {},
     "output_type": "execute_result"
    }
   ],
   "source": [
    "print('confusion_matrix of DecisionTree : ')\n",
    "pd.DataFrame(confusion_matrix(y_test,y_pred1),columns=list(range(0,10)))"
   ]
  },
  {
   "cell_type": "markdown",
   "id": "a69b4dc6",
   "metadata": {},
   "source": [
    "# Logistic Regession"
   ]
  },
  {
   "cell_type": "code",
   "execution_count": 12,
   "id": "87e8db9d",
   "metadata": {},
   "outputs": [
    {
     "name": "stdout",
     "output_type": "stream",
     "text": [
      "               Logistic Regression                \n",
      "__________________________________________________\n",
      "Confusion Matrix : \n",
      "      0     1    2    3    4    5    6    7    8    9\n",
      "0  963     0    0    3    1    3    4    4    2    0\n",
      "1    0  1112    4    2    0    1    3    2   11    0\n",
      "2    3    10  926   15    6    4   15    8   42    3\n",
      "3    4     1   21  916    1   26    3    9   22    7\n",
      "4    1     1    7    3  910    0    9    7   10   34\n",
      "5   11     2    1   33   11  776   11    6   35    6\n",
      "6    9     3    7    3    7   16  910    2    1    0\n",
      "7    1     6   24    5    7    1    0  951    3   30\n",
      "8    8     7    6   23    6   26   10   10  869    9\n",
      "9    9     7    0   11   25    6    0   22    7  922\n",
      "_ _ _ _ _ _ _ _ _ _ _ _ _ _ _ _ _ _ _ _ _ _ _ _ _ \n",
      "Accuracy :  0.9255\n",
      "_ _ _ _ _ _ _ _ _ _ _ _ _ _ _ _ _ _ _ _ _ _ _ _ _ \n",
      "Precision :  [0.95441031 0.96779809 0.92971888 0.90335306 0.93429158 0.90337602\n",
      " 0.94300518 0.93143976 0.86726547 0.91196835]\n",
      "_ _ _ _ _ _ _ _ _ _ _ _ _ _ _ _ _ _ _ _ _ _ _ _ _ \n",
      "Recall :  [0.98265306 0.97973568 0.89728682 0.90693069 0.92668024 0.86995516\n",
      " 0.94989562 0.92509728 0.89219713 0.91377602]\n",
      "_ _ _ _ _ _ _ _ _ _ _ _ _ _ _ _ _ _ _ _ _ _ _ _ _ \n",
      "F1 score :  [0.96832579 0.9737303  0.91321499 0.90513834 0.93047035 0.88635066\n",
      " 0.94643786 0.92825769 0.87955466 0.91287129]\n"
     ]
    }
   ],
   "source": [
    "print('Logistic Regression'.center(50))\n",
    "print('__'*25)\n",
    "print(f'Confusion Matrix : \\n {pd.DataFrame(confusion_matrix(y_test,y_pred))}')\n",
    "print('_ '*25)\n",
    "print('Accuracy : ',accuracy_score(y_test,y_pred))\n",
    "print('_ '*25)\n",
    "print('Precision : ',precision_score(y_test,y_pred,average=None))\n",
    "print('_ '*25)\n",
    "print('Recall : ',recall_score(y_test,y_pred,average=None))\n",
    "print('_ '*25)\n",
    "print('F1 score : ',f1_score(y_test,y_pred,average=None))"
   ]
  },
  {
   "cell_type": "code",
   "execution_count": 13,
   "id": "c404e72f",
   "metadata": {},
   "outputs": [
    {
     "name": "stdout",
     "output_type": "stream",
     "text": [
      "               Logistic Regression                \n",
      "__________________________________________________\n",
      "Confusion Matrix : \n",
      "      0     1    2    3    4    5    6    7    8    9\n",
      "0  963     0    0    3    1    3    4    4    2    0\n",
      "1    0  1112    4    2    0    1    3    2   11    0\n",
      "2    3    10  926   15    6    4   15    8   42    3\n",
      "3    4     1   21  916    1   26    3    9   22    7\n",
      "4    1     1    7    3  910    0    9    7   10   34\n",
      "5   11     2    1   33   11  776   11    6   35    6\n",
      "6    9     3    7    3    7   16  910    2    1    0\n",
      "7    1     6   24    5    7    1    0  951    3   30\n",
      "8    8     7    6   23    6   26   10   10  869    9\n",
      "9    9     7    0   11   25    6    0   22    7  922\n",
      "_ _ _ _ _ _ _ _ _ _ _ _ _ _ _ _ _ _ _ _ _ _ _ _ _ \n",
      "Accuracy :  0.9255\n",
      "_ _ _ _ _ _ _ _ _ _ _ _ _ _ _ _ _ _ _ _ _ _ _ _ _ \n",
      "Precision :  0.9246626688478295\n",
      "_ _ _ _ _ _ _ _ _ _ _ _ _ _ _ _ _ _ _ _ _ _ _ _ _ \n",
      "Recall :  0.9244207693413402\n",
      "_ _ _ _ _ _ _ _ _ _ _ _ _ _ _ _ _ _ _ _ _ _ _ _ _ \n",
      "F1 score :  0.9244351911243222\n"
     ]
    }
   ],
   "source": [
    "print('Logistic Regression'.center(50))\n",
    "print('__'*25)\n",
    "print(f'Confusion Matrix : \\n {pd.DataFrame(confusion_matrix(y_test,y_pred))}')\n",
    "print('_ '*25)\n",
    "print('Accuracy : ',accuracy_score(y_test,y_pred))\n",
    "print('_ '*25)\n",
    "print('Precision : ',precision_score(y_test,y_pred,average='macro'))\n",
    "print('_ '*25)\n",
    "print('Recall : ',recall_score(y_test,y_pred,average='macro'))\n",
    "print('_ '*25)\n",
    "print('F1 score : ',f1_score(y_test,y_pred,average='macro'))"
   ]
  },
  {
   "cell_type": "code",
   "execution_count": 14,
   "id": "4c3a4f94",
   "metadata": {},
   "outputs": [
    {
     "name": "stdout",
     "output_type": "stream",
     "text": [
      "               Logistic Regression                \n",
      "__________________________________________________\n",
      "Confusion Matrix : \n",
      "      0     1    2    3    4    5    6    7    8    9\n",
      "0  963     0    0    3    1    3    4    4    2    0\n",
      "1    0  1112    4    2    0    1    3    2   11    0\n",
      "2    3    10  926   15    6    4   15    8   42    3\n",
      "3    4     1   21  916    1   26    3    9   22    7\n",
      "4    1     1    7    3  910    0    9    7   10   34\n",
      "5   11     2    1   33   11  776   11    6   35    6\n",
      "6    9     3    7    3    7   16  910    2    1    0\n",
      "7    1     6   24    5    7    1    0  951    3   30\n",
      "8    8     7    6   23    6   26   10   10  869    9\n",
      "9    9     7    0   11   25    6    0   22    7  922\n",
      "_ _ _ _ _ _ _ _ _ _ _ _ _ _ _ _ _ _ _ _ _ _ _ _ _ \n",
      "Accuracy :  0.9255\n",
      "_ _ _ _ _ _ _ _ _ _ _ _ _ _ _ _ _ _ _ _ _ _ _ _ _ \n",
      "Precision :  0.9254726808703972\n",
      "_ _ _ _ _ _ _ _ _ _ _ _ _ _ _ _ _ _ _ _ _ _ _ _ _ \n",
      "Recall :  0.9255\n",
      "_ _ _ _ _ _ _ _ _ _ _ _ _ _ _ _ _ _ _ _ _ _ _ _ _ \n",
      "F1 score :  0.925382715723669\n"
     ]
    }
   ],
   "source": [
    "print('Logistic Regression'.center(50))\n",
    "print('__'*25)\n",
    "print(f'Confusion Matrix : \\n {pd.DataFrame(confusion_matrix(y_test,y_pred))}')\n",
    "print('_ '*25)\n",
    "print('Accuracy : ',accuracy_score(y_test,y_pred))\n",
    "print('_ '*25)\n",
    "print('Precision : ',precision_score(y_test,y_pred,average='weighted'))\n",
    "print('_ '*25)\n",
    "print('Recall : ',recall_score(y_test,y_pred,average='weighted'))\n",
    "print('_ '*25)\n",
    "print('F1 score : ',f1_score(y_test,y_pred,average='weighted'))"
   ]
  },
  {
   "cell_type": "code",
   "execution_count": 15,
   "id": "92e6fdff",
   "metadata": {},
   "outputs": [
    {
     "name": "stdout",
     "output_type": "stream",
     "text": [
      "              precision    recall  f1-score   support\n",
      "\n",
      "           0       0.95      0.98      0.97       980\n",
      "           1       0.97      0.98      0.97      1135\n",
      "           2       0.93      0.90      0.91      1032\n",
      "           3       0.90      0.91      0.91      1010\n",
      "           4       0.93      0.93      0.93       982\n",
      "           5       0.90      0.87      0.89       892\n",
      "           6       0.94      0.95      0.95       958\n",
      "           7       0.93      0.93      0.93      1028\n",
      "           8       0.87      0.89      0.88       974\n",
      "           9       0.91      0.91      0.91      1009\n",
      "\n",
      "    accuracy                           0.93     10000\n",
      "   macro avg       0.92      0.92      0.92     10000\n",
      "weighted avg       0.93      0.93      0.93     10000\n",
      "\n"
     ]
    }
   ],
   "source": [
    "print(classification_report(y_test, y_pred))"
   ]
  },
  {
   "cell_type": "markdown",
   "id": "525e6acd",
   "metadata": {},
   "source": [
    "# Decision tree"
   ]
  },
  {
   "cell_type": "code",
   "execution_count": 16,
   "id": "feffeb35",
   "metadata": {},
   "outputs": [
    {
     "name": "stdout",
     "output_type": "stream",
     "text": [
      "                  Decision tree                   \n",
      "__________________________________________________\n",
      "Confusion Matrix : \n",
      "      0     1    2    3    4    5    6    7    8    9\n",
      "0  912     1    7    7    5   16   14    5    8    5\n",
      "1    0  1091   12    8    1    3    5    5    6    4\n",
      "2    8    11  871   39   13   12   13   26   25   14\n",
      "3    5     8   31  870    5   38    5    9   18   21\n",
      "4    3     4    9    2  867    8   14    7   22   46\n",
      "5   10     9    6   47    9  746   22    5   22   16\n",
      "6   12     4   11   10   18   18  851    4   23    7\n",
      "7    2    13   24   18    8    3    1  931   10   18\n",
      "8    9     9   32   33   17   29   19   10  785   31\n",
      "9   13     4    6   19   47   13    6   18   26  857\n",
      "_ _ _ _ _ _ _ _ _ _ _ _ _ _ _ _ _ _ _ _ _ _ _ _ _ \n",
      "Accuracy :  0.8781\n",
      "_ _ _ _ _ _ _ _ _ _ _ _ _ _ _ _ _ _ _ _ _ _ _ _ _ \n",
      "Precision :  [0.93634497 0.94540728 0.86323092 0.82621083 0.87575758 0.84198646\n",
      " 0.89578947 0.9127451  0.83068783 0.84102061]\n",
      "_ _ _ _ _ _ _ _ _ _ _ _ _ _ _ _ _ _ _ _ _ _ _ _ _ \n",
      "Recall :  [0.93061224 0.96123348 0.84399225 0.86138614 0.88289206 0.83632287\n",
      " 0.88830898 0.90564202 0.80595483 0.8493558 ]\n",
      "_ _ _ _ _ _ _ _ _ _ _ _ _ _ _ _ _ _ _ _ _ _ _ _ _ \n",
      "F1 score :  [0.93346981 0.9532547  0.85350318 0.8434319  0.87931034 0.83914511\n",
      " 0.89203354 0.90917969 0.81813445 0.84516765]\n"
     ]
    }
   ],
   "source": [
    "print('Decision tree'.center(50))\n",
    "print('__'*25)\n",
    "print(f'Confusion Matrix : \\n {pd.DataFrame(confusion_matrix(y_test,y_pred1))}')\n",
    "print('_ '*25)\n",
    "print('Accuracy : ',accuracy_score(y_test,y_pred1))\n",
    "print('_ '*25)\n",
    "print('Precision : ',precision_score(y_test,y_pred1,average=None))\n",
    "print('_ '*25)\n",
    "print('Recall : ',recall_score(y_test,y_pred1,average=None))\n",
    "print('_ '*25)\n",
    "print('F1 score : ',f1_score(y_test,y_pred1,average=None))"
   ]
  },
  {
   "cell_type": "code",
   "execution_count": 17,
   "id": "d17ecadf",
   "metadata": {},
   "outputs": [
    {
     "name": "stdout",
     "output_type": "stream",
     "text": [
      "                  Decision tree                   \n",
      "__________________________________________________\n",
      "Confusion Matrix : \n",
      "      0     1    2    3    4    5    6    7    8    9\n",
      "0  912     1    7    7    5   16   14    5    8    5\n",
      "1    0  1091   12    8    1    3    5    5    6    4\n",
      "2    8    11  871   39   13   12   13   26   25   14\n",
      "3    5     8   31  870    5   38    5    9   18   21\n",
      "4    3     4    9    2  867    8   14    7   22   46\n",
      "5   10     9    6   47    9  746   22    5   22   16\n",
      "6   12     4   11   10   18   18  851    4   23    7\n",
      "7    2    13   24   18    8    3    1  931   10   18\n",
      "8    9     9   32   33   17   29   19   10  785   31\n",
      "9   13     4    6   19   47   13    6   18   26  857\n",
      "_ _ _ _ _ _ _ _ _ _ _ _ _ _ _ _ _ _ _ _ _ _ _ _ _ \n",
      "Accuracy :  0.8781\n",
      "_ _ _ _ _ _ _ _ _ _ _ _ _ _ _ _ _ _ _ _ _ _ _ _ _ \n",
      "Precision :  0.8769181038734546\n",
      "_ _ _ _ _ _ _ _ _ _ _ _ _ _ _ _ _ _ _ _ _ _ _ _ _ \n",
      "Recall :  0.8765700662395111\n",
      "_ _ _ _ _ _ _ _ _ _ _ _ _ _ _ _ _ _ _ _ _ _ _ _ _ \n",
      "F1 score :  0.8766630361962149\n"
     ]
    }
   ],
   "source": [
    "print('Decision tree'.center(50))\n",
    "print('__'*25)\n",
    "print(f'Confusion Matrix : \\n {pd.DataFrame(confusion_matrix(y_test,y_pred1))}')\n",
    "print('_ '*25)\n",
    "print('Accuracy : ',accuracy_score(y_test,y_pred1))\n",
    "print('_ '*25)\n",
    "print('Precision : ',precision_score(y_test,y_pred1,average='macro'))\n",
    "print('_ '*25)\n",
    "print('Recall : ',recall_score(y_test,y_pred1,average='macro'))\n",
    "print('_ '*25)\n",
    "print('F1 score : ',f1_score(y_test,y_pred1,average='macro'))"
   ]
  },
  {
   "cell_type": "code",
   "execution_count": 18,
   "id": "e0a10667",
   "metadata": {},
   "outputs": [
    {
     "name": "stdout",
     "output_type": "stream",
     "text": [
      "                  Decision tree                   \n",
      "__________________________________________________\n",
      "Confusion Matrix : \n",
      "      0     1    2    3    4    5    6    7    8    9\n",
      "0  912     1    7    7    5   16   14    5    8    5\n",
      "1    0  1091   12    8    1    3    5    5    6    4\n",
      "2    8    11  871   39   13   12   13   26   25   14\n",
      "3    5     8   31  870    5   38    5    9   18   21\n",
      "4    3     4    9    2  867    8   14    7   22   46\n",
      "5   10     9    6   47    9  746   22    5   22   16\n",
      "6   12     4   11   10   18   18  851    4   23    7\n",
      "7    2    13   24   18    8    3    1  931   10   18\n",
      "8    9     9   32   33   17   29   19   10  785   31\n",
      "9   13     4    6   19   47   13    6   18   26  857\n",
      "_ _ _ _ _ _ _ _ _ _ _ _ _ _ _ _ _ _ _ _ _ _ _ _ _ \n",
      "Accuracy :  0.8781\n",
      "_ _ _ _ _ _ _ _ _ _ _ _ _ _ _ _ _ _ _ _ _ _ _ _ _ \n",
      "Precision :  0.8781176452894947\n",
      "_ _ _ _ _ _ _ _ _ _ _ _ _ _ _ _ _ _ _ _ _ _ _ _ _ \n",
      "Recall :  0.8781\n",
      "_ _ _ _ _ _ _ _ _ _ _ _ _ _ _ _ _ _ _ _ _ _ _ _ _ \n",
      "F1 score :  0.8780268148728047\n"
     ]
    }
   ],
   "source": [
    "print('Decision tree'.center(50))\n",
    "print('__'*25)\n",
    "print(f'Confusion Matrix : \\n {pd.DataFrame(confusion_matrix(y_test,y_pred1))}')\n",
    "print('_ '*25)\n",
    "print('Accuracy : ',accuracy_score(y_test,y_pred1))\n",
    "print('_ '*25)\n",
    "print('Precision : ',precision_score(y_test,y_pred1,average='weighted'))\n",
    "print('_ '*25)\n",
    "print('Recall : ',recall_score(y_test,y_pred1,average='weighted'))\n",
    "print('_ '*25)\n",
    "print('F1 score : ',f1_score(y_test,y_pred1,average='weighted'))"
   ]
  },
  {
   "cell_type": "code",
   "execution_count": 19,
   "id": "5cf54ae4",
   "metadata": {},
   "outputs": [
    {
     "name": "stdout",
     "output_type": "stream",
     "text": [
      "              precision    recall  f1-score   support\n",
      "\n",
      "           0       0.94      0.93      0.93       980\n",
      "           1       0.95      0.96      0.95      1135\n",
      "           2       0.86      0.84      0.85      1032\n",
      "           3       0.83      0.86      0.84      1010\n",
      "           4       0.88      0.88      0.88       982\n",
      "           5       0.84      0.84      0.84       892\n",
      "           6       0.90      0.89      0.89       958\n",
      "           7       0.91      0.91      0.91      1028\n",
      "           8       0.83      0.81      0.82       974\n",
      "           9       0.84      0.85      0.85      1009\n",
      "\n",
      "    accuracy                           0.88     10000\n",
      "   macro avg       0.88      0.88      0.88     10000\n",
      "weighted avg       0.88      0.88      0.88     10000\n",
      "\n"
     ]
    }
   ],
   "source": [
    "print(classification_report(y_test, y_pred1))"
   ]
  },
  {
   "cell_type": "code",
   "execution_count": null,
   "id": "2cd3d18d",
   "metadata": {},
   "outputs": [],
   "source": []
  }
 ],
 "metadata": {
  "kernelspec": {
   "display_name": "Python 3 (ipykernel)",
   "language": "python",
   "name": "python3"
  },
  "language_info": {
   "codemirror_mode": {
    "name": "ipython",
    "version": 3
   },
   "file_extension": ".py",
   "mimetype": "text/x-python",
   "name": "python",
   "nbconvert_exporter": "python",
   "pygments_lexer": "ipython3",
   "version": "3.9.12"
  }
 },
 "nbformat": 4,
 "nbformat_minor": 5
}
