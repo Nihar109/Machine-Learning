{
 "cells": [
  {
   "cell_type": "code",
   "execution_count": null,
   "id": "47e2972a",
   "metadata": {},
   "outputs": [],
   "source": [
    "import numpy as np\n",
    "import matplotlib.pyplot as plt\n",
    "\n",
    "from sklearn.model_selection import train_test_split\n",
    "\n",
    "from  sklearn.linear_model import LinearRegression, SGDRegressor\n",
    "\n",
    "from sklearn.preprocessing import PolynomialFeatures, StandardScaler\n",
    "\n",
    "from sklearn.metrics import r2_score\n",
    "\n",
    "from sklearn.pipeline import Pipeline"
   ]
  },
  {
   "cell_type": "code",
   "execution_count": null,
   "id": "dde700ae",
   "metadata": {},
   "outputs": [],
   "source": [
    "X = 6 * np.random.rand(200, 1) - 3\n",
    "X.shape"
   ]
  },
  {
   "cell_type": "code",
   "execution_count": null,
   "id": "525f6915",
   "metadata": {},
   "outputs": [],
   "source": [
    "y =0.8 * X**2 + 0.9 * X + 2 + np.random.rand(200, 1)\n",
    "y.shape\n",
    "\n",
    "# y = 0.8x^2 + 0.9x + 2"
   ]
  },
  {
   "cell_type": "code",
   "execution_count": null,
   "id": "57cc2501",
   "metadata": {},
   "outputs": [],
   "source": [
    "plt.plot(X,y,'g.')\n",
    "plt.xlabel('X')\n",
    "plt.ylabel('y')\n",
    "plt.show()"
   ]
  },
  {
   "cell_type": "code",
   "execution_count": null,
   "id": "f14f6709",
   "metadata": {},
   "outputs": [],
   "source": [
    "# Train test split\n",
    "X_train,X_test,y_train,y_test = train_test_split(X,y,test_size=0.2,random_state=2)"
   ]
  },
  {
   "cell_type": "code",
   "execution_count": null,
   "id": "49e6d1ca",
   "metadata": {},
   "outputs": [],
   "source": [
    "# Applying linear regression\n",
    "lr = LinearRegression()\n",
    "lr.fit(X_train,y_train)\n",
    "y_pred = lr.predict(X_test)\n",
    "r2_score(y_test,y_pred)"
   ]
  },
  {
   "cell_type": "code",
   "execution_count": null,
   "id": "82fb3cfb",
   "metadata": {},
   "outputs": [],
   "source": [
    "plt.plot(X_train,lr.predict(X_train),color='r')\n",
    "plt.plot(X, y, \"b.\")\n",
    "plt.xlabel(\"X\")\n",
    "plt.ylabel(\"y\")\n",
    "plt.show()"
   ]
  },
  {
   "cell_type": "code",
   "execution_count": null,
   "id": "f137d31e",
   "metadata": {},
   "outputs": [],
   "source": [
    "# Applying Polynomial Linear Regression\n",
    "# degree 2\n",
    "\n",
    "poly = PolynomialFeatures(degree = 2,include_bias=True)\n",
    "\n",
    "X_train_trans = poly.fit_transform(X_train)\n",
    "X_test_trans = poly.transform(X_test)"
   ]
  },
  {
   "cell_type": "code",
   "execution_count": null,
   "id": "f12ee571",
   "metadata": {},
   "outputs": [],
   "source": [
    "print(X_train[0])\n",
    "print(X_train_trans[0])"
   ]
  },
  {
   "cell_type": "code",
   "execution_count": null,
   "id": "82ab6937",
   "metadata": {},
   "outputs": [],
   "source": [
    "# Applying linear regression on polynomial transformation data\n",
    "lr = LinearRegression()\n",
    "lr.fit(X_train_trans,y_train)\n",
    "y_pred = lr.predict(X_test_trans)\n",
    "r2_score(y_test,y_pred)"
   ]
  },
  {
   "cell_type": "code",
   "execution_count": null,
   "id": "e1331786",
   "metadata": {},
   "outputs": [],
   "source": [
    "print(lr.coef_)\n",
    "print(lr.intercept_)"
   ]
  },
  {
   "cell_type": "code",
   "execution_count": null,
   "id": "b395851c",
   "metadata": {},
   "outputs": [],
   "source": [
    "X_new = np.linspace(-3,3,200).reshape(200,1)\n",
    "X_new[0]"
   ]
  },
  {
   "cell_type": "code",
   "execution_count": null,
   "id": "5f2c3a53",
   "metadata": {},
   "outputs": [],
   "source": [
    "X_new_poly = poly.transform(X_new)\n",
    "y_new = lr.predict(X_new_poly)\n",
    "y_new[0]"
   ]
  },
  {
   "cell_type": "code",
   "execution_count": null,
   "id": "a4e40b53",
   "metadata": {},
   "outputs": [],
   "source": [
    "plt.plot(X_new,y_new,'r',label = 'Prediction')\n",
    "plt.plot(X_train,y_train,'b.',label='Training Points')\n",
    "plt.plot(X_test,y_test,'g.', label = 'Testing Points')\n",
    "plt.xlabel(\"X\")\n",
    "plt.ylabel(\"y\")\n",
    "plt.legend()\n",
    "plt.show()"
   ]
  },
  {
   "cell_type": "code",
   "execution_count": null,
   "id": "859b819f",
   "metadata": {},
   "outputs": [],
   "source": [
    "def polynomial_regression(degree):\n",
    "    X_new=np.linspace(-3, 3, 100).reshape(100, 1)\n",
    "    X_new_poly = poly.transform(X_new)\n",
    "\n",
    "    polybig_features = PolynomialFeatures(degree=degree, include_bias=False)\n",
    "    std_scaler = StandardScaler()\n",
    "    lin_reg = LinearRegression()\n",
    "    polynomial_regression = Pipeline([\n",
    "            (\"poly_features\", polybig_features),\n",
    "            (\"std_scaler\", std_scaler),\n",
    "            (\"lin_reg\", lin_reg),\n",
    "        ])\n",
    "    polynomial_regression.fit(X, y)\n",
    "    y_newbig = polynomial_regression.predict(X_new)\n",
    "    plt.plot(X_new, y_newbig,'r', label=\"Degree \" + str(degree), linewidth=2)\n",
    "\n",
    "    plt.plot(X_train, y_train, \"b.\", linewidth=3)\n",
    "    plt.plot(X_test, y_test, \"g.\", linewidth=3)\n",
    "    plt.legend(loc=\"upper left\")\n",
    "    plt.xlabel(\"X\")\n",
    "    plt.ylabel(\"y\")\n",
    "    plt.axis([-3, 3, 0, 10])\n",
    "    plt.show()"
   ]
  },
  {
   "cell_type": "code",
   "execution_count": null,
   "id": "0dbe6328",
   "metadata": {},
   "outputs": [],
   "source": [
    "polynomial_regression(2)"
   ]
  },
  {
   "cell_type": "code",
   "execution_count": null,
   "id": "03b42335",
   "metadata": {},
   "outputs": [],
   "source": [
    "poly.powers_"
   ]
  },
  {
   "cell_type": "code",
   "execution_count": null,
   "id": "f583f386",
   "metadata": {},
   "outputs": [],
   "source": [
    "# Applying Gradient Descent\n",
    "\n",
    "poly = PolynomialFeatures(degree=2)\n",
    "\n",
    "X_train_trans = poly.fit_transform(X_train)\n",
    "X_test_trans = poly.transform(X_test)\n",
    "\n",
    "sgd = SGDRegressor(max_iter=100)\n",
    "sgd.fit(X_train_trans,y_train)\n",
    "\n",
    "X_new=np.linspace(-2.9, 2.8, 200).reshape(200, 1)\n",
    "X_new_poly = poly.transform(X_new)\n",
    "y_new = sgd.predict(X_new_poly)\n",
    "\n",
    "y_pred = sgd.predict(X_test_trans)\n",
    "\n",
    "plt.plot(X_new, y_new, \"r-\", linewidth=2, label=\"Predictions \" + str(round(r2_score(y_test,y_pred),2)))\n",
    "plt.plot(X_train, y_train, \"b.\",label='Training points')\n",
    "plt.plot(X_test, y_test, \"g.\",label='Testing points')\n",
    "plt.xlabel(\"X\")\n",
    "plt.ylabel(\"y\")\n",
    "plt.legend()\n",
    "plt.show()"
   ]
  },
  {
   "cell_type": "code",
   "execution_count": null,
   "id": "30b220a5",
   "metadata": {},
   "outputs": [],
   "source": [
    "# 3D polynomial regression\n",
    "x = 7 * np.random.rand(100, 1) - 2.8\n",
    "y = 7 * np.random.rand(100, 1) - 2.8\n",
    "\n",
    "z = x**2 + y**2 + 0.2*x + 0.2*y + 0.1*x*y +2 + np.random.randn(100, 1)\n",
    "# z = x^2 + y^2 + 0.2x + 0.2y + 0.1xy + 2\n",
    "\n",
    "print(x.shape,y.shape,z.shape)"
   ]
  },
  {
   "cell_type": "code",
   "execution_count": null,
   "id": "76c7ac6d",
   "metadata": {},
   "outputs": [],
   "source": [
    "import plotly.express as px\n",
    "df = px.data.iris()\n",
    "fig = px.scatter_3d(df, x=x.ravel(), y=y.ravel(), z=z.ravel())\n",
    "fig.show()"
   ]
  },
  {
   "cell_type": "code",
   "execution_count": null,
   "id": "39df5711",
   "metadata": {},
   "outputs": [],
   "source": [
    "lr = LinearRegression()\n",
    "lr.fit(np.array([x,y]).reshape(100,2),z)\n",
    "\n",
    "x_input = np.linspace(x.min(), x.max(), 10)\n",
    "y_input = np.linspace(y.min(), y.max(), 10)\n",
    "\n",
    "xGrid, yGrid = np.meshgrid(x_input,y_input)"
   ]
  },
  {
   "cell_type": "code",
   "execution_count": null,
   "id": "69092b1b",
   "metadata": {},
   "outputs": [],
   "source": [
    "final = np.vstack((xGrid.ravel().reshape(1,100),yGrid.ravel().reshape(1,100))).T"
   ]
  },
  {
   "cell_type": "code",
   "execution_count": null,
   "id": "02a8d2c1",
   "metadata": {},
   "outputs": [],
   "source": [
    "z_final = lr.predict(final).reshape(10,10)"
   ]
  },
  {
   "cell_type": "code",
   "execution_count": null,
   "id": "44636bae",
   "metadata": {},
   "outputs": [],
   "source": [
    "final"
   ]
  },
  {
   "cell_type": "code",
   "execution_count": null,
   "id": "14469f8a",
   "metadata": {},
   "outputs": [],
   "source": [
    "import plotly.graph_objects as go\n",
    "\n",
    "fig = px.scatter_3d(df, x=x.ravel(), y=y.ravel(), z=z.ravel())\n",
    "\n",
    "\n",
    "fig.add_trace(go.Surface(x= x_input, y = y_input, z = z_final))\n",
    "\n",
    "fig.show()"
   ]
  },
  {
   "cell_type": "code",
   "execution_count": null,
   "id": "2d8a1c35",
   "metadata": {},
   "outputs": [],
   "source": [
    "x_multi = np.array([x,y]).reshape(100,2)\n",
    "\n",
    "x_multi.shape"
   ]
  },
  {
   "cell_type": "code",
   "execution_count": null,
   "id": "ccd23c61",
   "metadata": {},
   "outputs": [],
   "source": [
    "x_multi"
   ]
  },
  {
   "cell_type": "code",
   "execution_count": null,
   "id": "efc8a2cd",
   "metadata": {},
   "outputs": [],
   "source": [
    "poly = PolynomialFeatures(degree=3)\n",
    "\n",
    "x_multi_trans = poly.fit_transform(x_multi)\n",
    "\n",
    "x_multi_trans[0]"
   ]
  },
  {
   "cell_type": "code",
   "execution_count": null,
   "id": "14821db5",
   "metadata": {},
   "outputs": [],
   "source": [
    "print(\"Input\", poly.n_input_features_)\n",
    "print(\"Ouput\", poly.n_output_features_)\n",
    "print(\"Powers\\n\", poly.powers_)\n"
   ]
  },
  {
   "cell_type": "code",
   "execution_count": null,
   "id": "a51332c9",
   "metadata": {},
   "outputs": [],
   "source": [
    "x_multi_trans.shape"
   ]
  },
  {
   "cell_type": "code",
   "execution_count": null,
   "id": "5e863746",
   "metadata": {},
   "outputs": [],
   "source": [
    "lr = LinearRegression()\n",
    "lr.fit(x_multi_trans,z)"
   ]
  },
  {
   "cell_type": "code",
   "execution_count": null,
   "id": "1986736a",
   "metadata": {},
   "outputs": [],
   "source": [
    "x_input = np.linspace(x.min(), x.max(), 10)\n",
    "y_input = np.linspace(y.min(), y.max(), 10)\n",
    "\n",
    "xGrid, yGrid = np.meshgrid(x_input,y_input)\n",
    "\n",
    "final = np.vstack((xGrid.ravel().reshape(1,100),yGrid.ravel().reshape(1,100))).T"
   ]
  },
  {
   "cell_type": "code",
   "execution_count": null,
   "id": "f1d903d0",
   "metadata": {},
   "outputs": [],
   "source": [
    "x_test_multi = poly.transform(final)\n",
    "\n",
    "z_final = lr.predict(x_test_multi).reshape(10,10)"
   ]
  },
  {
   "cell_type": "code",
   "execution_count": null,
   "id": "54428c4f",
   "metadata": {},
   "outputs": [],
   "source": [
    "x_test_multi"
   ]
  },
  {
   "cell_type": "code",
   "execution_count": null,
   "id": "76ee1e60",
   "metadata": {},
   "outputs": [],
   "source": [
    "fig = px.scatter_3d(df,x=x.ravel(), y=y.ravel(), z=z.ravel())\n",
    "\n",
    "\n",
    "fig.add_trace(go.Surface(x= x_input, y = y_input, z = z_final))\n",
    "\n",
    "fig.update_layout(scene = dict(zaxis = dict(range=[0,35])))\n",
    "fig.show()"
   ]
  },
  {
   "cell_type": "code",
   "execution_count": null,
   "id": "68849f0e",
   "metadata": {},
   "outputs": [],
   "source": []
  }
 ],
 "metadata": {
  "kernelspec": {
   "display_name": "Python 3 (ipykernel)",
   "language": "python",
   "name": "python3"
  },
  "language_info": {
   "codemirror_mode": {
    "name": "ipython",
    "version": 3
   },
   "file_extension": ".py",
   "mimetype": "text/x-python",
   "name": "python",
   "nbconvert_exporter": "python",
   "pygments_lexer": "ipython3",
   "version": "3.9.12"
  }
 },
 "nbformat": 4,
 "nbformat_minor": 5
}
