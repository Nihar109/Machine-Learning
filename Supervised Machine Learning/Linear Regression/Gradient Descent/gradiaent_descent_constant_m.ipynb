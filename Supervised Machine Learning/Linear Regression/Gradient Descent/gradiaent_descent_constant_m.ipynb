{
 "cells": [
  {
   "cell_type": "code",
   "execution_count": 1,
   "id": "d3e328f4",
   "metadata": {},
   "outputs": [],
   "source": [
    "from sklearn.datasets import make_regression\n",
    "import matplotlib.pyplot as plt\n",
    "import numpy as np"
   ]
  },
  {
   "cell_type": "code",
   "execution_count": 2,
   "id": "1eb64e99",
   "metadata": {},
   "outputs": [],
   "source": [
    "X,y = make_regression(n_samples=100, n_features=1, n_informative=1, n_targets=1, noise=20)"
   ]
  },
  {
   "cell_type": "code",
   "execution_count": 3,
   "id": "f1cd76c6",
   "metadata": {},
   "outputs": [
    {
     "data": {
      "text/plain": [
       "<matplotlib.collections.PathCollection at 0x21529743340>"
      ]
     },
     "execution_count": 3,
     "metadata": {},
     "output_type": "execute_result"
    },
    {
     "data": {
      "image/png": "[encoded data removed]",
      "text/plain": [
       "<Figure size 432x288 with 1 Axes>"
      ]
     },
     "metadata": {
      "needs_background": "light"
     },
     "output_type": "display_data"
    }
   ],
   "source": [
    "plt.scatter(X,y)"
   ]
  },
  {
   "cell_type": "code",
   "execution_count": 4,
   "id": "33c5fa8f",
   "metadata": {},
   "outputs": [
    {
     "name": "stdout",
     "output_type": "stream",
     "text": [
      "[88.4622063]\n",
      "3.1357043881221944\n"
     ]
    }
   ],
   "source": [
    "from sklearn.linear_model import LinearRegression\n",
    "lr = LinearRegression()\n",
    "lr.fit(X,y)\n",
    "print(lr.coef_)\n",
    "print(lr.intercept_)"
   ]
  },
  {
   "cell_type": "code",
   "execution_count": 5,
   "id": "b165d632",
   "metadata": {},
   "outputs": [],
   "source": [
    "m = lr.coef_"
   ]
  },
  {
   "cell_type": "code",
   "execution_count": 6,
   "id": "6b05f482",
   "metadata": {},
   "outputs": [],
   "source": [
    "class GDRegressor:\n",
    "    \n",
    "    def __init__(self,learning_rate,epochs):\n",
    "        self.m = 29.19\n",
    "        self.b = -100\n",
    "        self.learning_rate = learning_rate\n",
    "        self.epochs = epochs\n",
    "        \n",
    "    def fit(self,X,y):\n",
    "        # calculate b using gradient decent\n",
    "        \n",
    "        for i in range(self.epochs):\n",
    "            loss_slope = -2 * np.sum(y - self.m * X.ravel() - self.b)\n",
    "            self.b = self.b - (self.learning_rate * loss_slope)\n",
    "            print(loss_slope,self.b)\n",
    "        print(self.b)"
   ]
  },
  {
   "cell_type": "code",
   "execution_count": 7,
   "id": "cfb9846b",
   "metadata": {},
   "outputs": [
    {
     "name": "stdout",
     "output_type": "stream",
     "text": [
      "-22395.23279629512 -77.60476720370488\n",
      "-17916.186237036098 -59.68858096666878\n",
      "-14332.948989628876 -45.355631977039906\n",
      "-11466.359191703097 -33.88927278533681\n",
      "-9173.08735336248 -24.716185431974328\n",
      "-7338.469882689984 -17.377715549284343\n",
      "-5870.775906151986 -11.506939643132355\n",
      "-4696.6207249215895 -6.810318918210766\n",
      "-3757.296579937272 -3.053022338273494\n",
      "-3005.8372639498175 -0.04718507432367636\n",
      "-2404.669811159854 2.3574847368361778\n",
      "-1923.7358489278827 4.281220585764061\n",
      "-1538.9886791423066 5.820209264906367\n",
      "-1231.1909433138453 7.051400208220213\n",
      "-984.9527546510757 8.036352962871288\n",
      "-787.9622037208605 8.824315166592148\n",
      "-630.3697629766891 9.454684929568838\n",
      "-504.29581038135086 9.958980739950189\n",
      "-403.4366483050803 10.362417388255269\n",
      "-322.74931864406494 10.685166706899334\n",
      "-258.19945491525164 10.943366161814586\n",
      "-206.55956393220146 11.149925725746787\n",
      "-165.2476511457615 11.315173376892549\n",
      "-132.19812091660899 11.447371497809158\n",
      "-105.75849673328705 11.553129994542445\n",
      "-84.60679738662927 11.637736791929074\n",
      "-67.685437909304 11.705422229838378\n",
      "-54.1483503274429 11.759570580165821\n",
      "-43.318680261954725 11.802889260427776\n",
      "-34.65494420956324 11.83754420463734\n",
      "-27.723955367650404 11.86526816000499\n",
      "-22.17916429412091 11.88744732429911\n",
      "-17.743331435296838 11.905190655734406\n",
      "-14.194665148237576 11.919385320882643\n",
      "-11.355732118590112 11.930741053001233\n",
      "-9.08458569487216 11.939825638696105\n",
      "-7.267668555897529 11.947093307252002\n",
      "-5.814134844717813 11.95290744209672\n",
      "-4.651307875774677 11.957558749972495\n",
      "-3.7210463006196903 11.961279796273114\n",
      "-2.9768370404954965 11.96425663331361\n",
      "-2.381469632396687 11.966638102946007\n",
      "-1.9051757059168892 11.968543278651923\n",
      "-1.5241405647340969 11.970067419216658\n",
      "-1.2193124517866352 11.971286731668444\n",
      "-0.9754499614298027 11.972262181629874\n",
      "-0.7803599691437455 11.973042541599018\n",
      "-0.6242879753153545 11.973666829574332\n",
      "-0.4994303802523774 11.974166259954584\n",
      "-0.399544304201612 11.974565804258786\n",
      "-0.3196354433610793 11.974885439702147\n",
      "-0.255708354688835 11.975141148056837\n",
      "-0.20456668375138065 11.975345714740588\n",
      "-0.163653347001258 11.97550936808759\n",
      "-0.13092267760097798 11.97564029076519\n",
      "-0.10473814208076249 11.975745028907271\n",
      "-0.08379051366418366 11.975828819420935\n",
      "-0.06703241093121903 11.975895851831865\n",
      "-0.05362592874539018 11.97594947776061\n",
      "-0.042900742996806684 11.975992378503607\n",
      "-0.03432059439714408 11.976026699098004\n",
      "-0.027456475518164325 11.976054155573522\n",
      "-0.021965180414298402 11.976076120753936\n",
      "-0.017572144331623463 11.976093692898267\n",
      "-0.014057715464915077 11.976107750613732\n",
      "-0.011246172372210594 11.976118996786104\n",
      "-0.008996937897862267 11.976127993724003\n",
      "-0.007197550318068124 11.97613519127432\n",
      "-0.005758040253994068 11.976140949314575\n",
      "-0.004606432203743793 11.976145555746779\n",
      "-0.0036851457627733453 11.976149240892543\n",
      "-0.002948116610099305 11.976152189009152\n",
      "-0.002358493287914598 11.976154547502441\n",
      "-0.0018867946299536698 11.97615643429707\n",
      "-0.0015094357044915796 11.976157943732776\n",
      "-0.0012075485636557914 11.97615915128134\n",
      "-0.0009660388506915751 11.976160117320191\n",
      "-0.0007728310804111516 11.976160890151272\n",
      "-0.0006182648637462762 11.976161508416135\n",
      "-0.0004946118911988151 11.976162003028026\n",
      "-0.0003956895133967464 11.97616239871754\n",
      "-0.0003165516109930877 11.976162715269151\n",
      "-0.0002532412883908819 11.97616296851044\n",
      "-0.00020259303059333433 11.97616317110347\n",
      "-0.0001620744246366712 11.976163333177896\n",
      "-0.00012965953928301133 11.976163462837436\n",
      "-0.00010372763139798735 11.976163566565067\n",
      "-8.298210556745289e-05 11.976163649547171\n",
      "-6.638568399353062e-05 11.976163715932856\n",
      "-5.31085475756754e-05 11.976163769041403\n",
      "-4.248683771379547e-05 11.97616381152824\n",
      "-3.398947055188728e-05 11.97616384551771\n",
      "-2.719157684794027e-05 11.976163872709288\n",
      "-2.1753260611490077e-05 11.976163894462548\n",
      "-1.7402609017835857e-05 11.976163911865157\n",
      "-1.3922087163109609e-05 11.976163925787244\n",
      "-1.1137669474692302e-05 11.976163936924914\n",
      "-8.910135520068252e-06 11.976163945835049\n",
      "-7.1281083222629604e-06 11.976163952963157\n",
      "-5.702486859604505e-06 11.976163958665644\n",
      "11.976163958665644\n"
     ]
    }
   ],
   "source": [
    "gd = GDRegressor(0.001,100)\n",
    "gd.fit(X,y)"
   ]
  },
  {
   "cell_type": "code",
   "execution_count": null,
   "id": "17fc2c1f",
   "metadata": {},
   "outputs": [],
   "source": []
  },
  {
   "cell_type": "code",
   "execution_count": null,
   "id": "89365517",
   "metadata": {},
   "outputs": [],
   "source": []
  }
 ],
 "metadata": {
  "kernelspec": {
   "display_name": "Python 3 (ipykernel)",
   "language": "python",
   "name": "python3"
  },
  "language_info": {
   "codemirror_mode": {
    "name": "ipython",
    "version": 3
   },
   "file_extension": ".py",
   "mimetype": "text/x-python",
   "name": "python",
   "nbconvert_exporter": "python",
   "pygments_lexer": "ipython3",
   "version": "3.9.12"
  }
 },
 "nbformat": 4,
 "nbformat_minor": 5
}
