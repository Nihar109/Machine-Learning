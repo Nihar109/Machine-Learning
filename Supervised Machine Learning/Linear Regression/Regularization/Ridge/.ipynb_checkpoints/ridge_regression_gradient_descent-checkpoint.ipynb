{
 "cells": [
  {
   "cell_type": "code",
   "execution_count": 1,
   "id": "23773c00",
   "metadata": {},
   "outputs": [],
   "source": [
    "import numpy as np\n",
    "import pandas as pd\n",
    "import matplotlib.pyplot as plt\n",
    "\n",
    "from sklearn.linear_model import SGDRegressor,Ridge\n",
    "from sklearn.metrics import r2_score,mean_squared_error\n",
    "from sklearn.model_selection import train_test_split\n",
    "\n",
    "from sklearn.datasets import load_diabetes\n",
    "\n",
    "X,y = load_diabetes(return_X_y=True)"
   ]
  },
  {
   "cell_type": "code",
   "execution_count": 2,
   "id": "cd7df842",
   "metadata": {},
   "outputs": [],
   "source": [
    "X_train, X_test, y_train, y_test = train_test_split(X, y, test_size=0.2, random_state=4)"
   ]
  },
  {
   "cell_type": "code",
   "execution_count": 3,
   "id": "985ff23e",
   "metadata": {},
   "outputs": [
    {
     "name": "stdout",
     "output_type": "stream",
     "text": [
      "r2_score:  0.4623892201785529\n",
      "RMSE:  54.15090321973907\n",
      "\n",
      "\n",
      "[  34.62617432 -290.42643558  483.96594583  367.96559731 -852.21640462\n",
      "  498.74459947  183.78210201  276.57704129  757.34559547   36.95860459]\n",
      "151.10416921898823\n"
     ]
    }
   ],
   "source": [
    "reg = Ridge(alpha=0.001,max_iter=500,solver='sparse_cg')\n",
    "reg.fit(X_train,y_train)\n",
    "y_pred = reg.predict(X_test)\n",
    "\n",
    "print('r2_score: ',r2_score(y_test,y_pred))\n",
    "print('RMSE: ',np.sqrt(mean_squared_error(y_test,y_pred)))\n",
    "\n",
    "print('\\n')\n",
    "\n",
    "print(reg.coef_)\n",
    "print(reg.intercept_)"
   ]
  },
  {
   "cell_type": "code",
   "execution_count": 5,
   "id": "fc3faa79",
   "metadata": {},
   "outputs": [
    {
     "name": "stdout",
     "output_type": "stream",
     "text": [
      "r2_score:  0.45405294221128456\n",
      "RMSE:  54.56912444947945\n",
      "\n",
      "\n",
      "[  51.51440332 -140.39488311  356.73422149  265.55422419   -0.59046942\n",
      "  -53.11492404 -167.85315936  139.48876701  323.31742488  101.34043088]\n",
      "[151.8708251]\n"
     ]
    }
   ],
   "source": [
    "sgd = SGDRegressor(penalty='l2',max_iter=500,eta0=0.1,learning_rate='constant',alpha=0.001)\n",
    "sgd.fit(X_train,y_train)\n",
    "y_pred1 = sgd.predict(X_test)\n",
    "\n",
    "print('r2_score: ',r2_score(y_test,y_pred1))\n",
    "print('RMSE: ',np.sqrt(mean_squared_error(y_test,y_pred1)))\n",
    "\n",
    "print('\\n')\n",
    "\n",
    "print(sgd.coef_)\n",
    "print(sgd.intercept_)"
   ]
  },
  {
   "cell_type": "code",
   "execution_count": 20,
   "id": "54998c8f",
   "metadata": {},
   "outputs": [],
   "source": [
    "class SGDRidgeRegression:\n",
    "    \n",
    "    def __init__(self,epochs,learning_rate,alpha=0.1):\n",
    "        \n",
    "        self.alpha = alpha\n",
    "        self.epochs = epochs\n",
    "        self.learning_rate = learning_rate\n",
    "        self.coef_ = None\n",
    "        self.intercept_ = None\n",
    "        \n",
    "    def fit(self,X_train,y_train):\n",
    "        self.coef_ = np.ones(X_train.shape[1])\n",
    "        self.intercept_ = 0\n",
    "        \n",
    "        thetha = np.insert(self.coef_,0,self.intercept_)\n",
    "        \n",
    "        X_train = np.insert(X_train,0,1,axis=1)\n",
    "        \n",
    "        for i in range(self.epochs):\n",
    "            thetha_der =np.dot(X_train.T,X_train).dot(thetha) - np.dot(X_train.T,y_train) + self.alpha * thetha\n",
    "            thetha -= self.learning_rate * thetha_der\n",
    "        \n",
    "        self.intercept_ = thetha[0]\n",
    "        self.coef_ = thetha[1:]\n",
    "        \n",
    "    \n",
    "    def predict(self,X_test):\n",
    "        return np.dot(X_test,self.coef_) + self.intercept_"
   ]
  },
  {
   "cell_type": "code",
   "execution_count": 21,
   "id": "74f18a26",
   "metadata": {},
   "outputs": [
    {
     "name": "stdout",
     "output_type": "stream",
     "text": [
      "r2_score:  0.47379622696725365\n",
      "RMSE:  53.573337110687554\n",
      "\n",
      "\n",
      "[  46.65040212 -221.37723801  452.11770407  325.54645024  -29.09573382\n",
      "  -96.47613436 -190.90029664  146.3286965   400.80754967   95.08979987]\n",
      "150.86972442733904\n"
     ]
    }
   ],
   "source": [
    "sgd = SGDRidgeRegression(epochs=500,learning_rate=0.005,alpha=0.001)\n",
    "sgd.fit(X_train,y_train)\n",
    "y_pred1 = sgd.predict(X_test)\n",
    "\n",
    "print('r2_score: ',r2_score(y_test,y_pred1))\n",
    "print('RMSE: ',np.sqrt(mean_squared_error(y_test,y_pred1)))\n",
    "\n",
    "print('\\n')\n",
    "\n",
    "print(sgd.coef_)\n",
    "print(sgd.intercept_)"
   ]
  },
  {
   "cell_type": "code",
   "execution_count": null,
   "id": "34481486",
   "metadata": {},
   "outputs": [],
   "source": []
  },
  {
   "cell_type": "code",
   "execution_count": null,
   "id": "7147e971",
   "metadata": {},
   "outputs": [],
   "source": []
  },
  {
   "cell_type": "code",
   "execution_count": null,
   "id": "2fc99a8b",
   "metadata": {},
   "outputs": [],
   "source": []
  },
  {
   "cell_type": "code",
   "execution_count": null,
   "id": "324f1696",
   "metadata": {},
   "outputs": [],
   "source": []
  }
 ],
 "metadata": {
  "kernelspec": {
   "display_name": "Python 3 (ipykernel)",
   "language": "python",
   "name": "python3"
  },
  "language_info": {
   "codemirror_mode": {
    "name": "ipython",
    "version": 3
   },
   "file_extension": ".py",
   "mimetype": "text/x-python",
   "name": "python",
   "nbconvert_exporter": "python",
   "pygments_lexer": "ipython3",
   "version": "3.9.12"
  }
 },
 "nbformat": 4,
 "nbformat_minor": 5
}
