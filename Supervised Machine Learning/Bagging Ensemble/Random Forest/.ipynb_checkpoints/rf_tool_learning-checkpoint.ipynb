{
 "cells": [
  {
   "cell_type": "code",
   "execution_count": 1,
   "id": "b0eba185",
   "metadata": {},
   "outputs": [
    {
     "data": {
      "text/plain": [
       "(100, 5)"
      ]
     },
     "execution_count": 1,
     "metadata": {},
     "output_type": "execute_result"
    }
   ],
   "source": [
    "import numpy as np\n",
    "import pandas as pd\n",
    "from sklearn.datasets import make_classification\n",
    "\n",
    "X,y = make_classification(n_features=5,n_redundant=0,n_informative=5,n_clusters_per_class=1)\n",
    "X.shape"
   ]
  },
  {
   "cell_type": "code",
   "execution_count": 2,
   "id": "cff983f1",
   "metadata": {},
   "outputs": [
    {
     "data": {
      "text/html": [
       "<div>\n",
       "<style scoped>\n",
       "    .dataframe tbody tr th:only-of-type {\n",
       "        vertical-align: middle;\n",
       "    }\n",
       "\n",
       "    .dataframe tbody tr th {\n",
       "        vertical-align: top;\n",
       "    }\n",
       "\n",
       "    .dataframe thead th {\n",
       "        text-align: right;\n",
       "    }\n",
       "</style>\n",
       "<table border=\"1\" class=\"dataframe\">\n",
       "  <thead>\n",
       "    <tr style=\"text-align: right;\">\n",
       "      <th></th>\n",
       "      <th>col1</th>\n",
       "      <th>col2</th>\n",
       "      <th>col3</th>\n",
       "      <th>col4</th>\n",
       "      <th>col5</th>\n",
       "      <th>target</th>\n",
       "    </tr>\n",
       "  </thead>\n",
       "  <tbody>\n",
       "    <tr>\n",
       "      <th>0</th>\n",
       "      <td>-0.657184</td>\n",
       "      <td>1.191747</td>\n",
       "      <td>1.514601</td>\n",
       "      <td>0.796593</td>\n",
       "      <td>0.031479</td>\n",
       "      <td>0</td>\n",
       "    </tr>\n",
       "    <tr>\n",
       "      <th>1</th>\n",
       "      <td>0.842429</td>\n",
       "      <td>-2.608917</td>\n",
       "      <td>0.273801</td>\n",
       "      <td>2.502723</td>\n",
       "      <td>-1.333287</td>\n",
       "      <td>1</td>\n",
       "    </tr>\n",
       "    <tr>\n",
       "      <th>2</th>\n",
       "      <td>-0.225154</td>\n",
       "      <td>0.888995</td>\n",
       "      <td>1.745617</td>\n",
       "      <td>1.652107</td>\n",
       "      <td>0.389507</td>\n",
       "      <td>0</td>\n",
       "    </tr>\n",
       "    <tr>\n",
       "      <th>3</th>\n",
       "      <td>-1.855166</td>\n",
       "      <td>2.594251</td>\n",
       "      <td>0.972829</td>\n",
       "      <td>0.467565</td>\n",
       "      <td>0.820352</td>\n",
       "      <td>0</td>\n",
       "    </tr>\n",
       "    <tr>\n",
       "      <th>4</th>\n",
       "      <td>-1.232653</td>\n",
       "      <td>1.537987</td>\n",
       "      <td>0.433211</td>\n",
       "      <td>1.029000</td>\n",
       "      <td>1.064509</td>\n",
       "      <td>0</td>\n",
       "    </tr>\n",
       "  </tbody>\n",
       "</table>\n",
       "</div>"
      ],
      "text/plain": [
       "       col1      col2      col3      col4      col5  target\n",
       "0 -0.657184  1.191747  1.514601  0.796593  0.031479       0\n",
       "1  0.842429 -2.608917  0.273801  2.502723 -1.333287       1\n",
       "2 -0.225154  0.888995  1.745617  1.652107  0.389507       0\n",
       "3 -1.855166  2.594251  0.972829  0.467565  0.820352       0\n",
       "4 -1.232653  1.537987  0.433211  1.029000  1.064509       0"
      ]
     },
     "execution_count": 2,
     "metadata": {},
     "output_type": "execute_result"
    }
   ],
   "source": [
    "df = pd.DataFrame(X,columns=['col1','col2','col3','col4','col5'])\n",
    "df['target'] = y\n",
    "df.head()"
   ]
  },
  {
   "cell_type": "code",
   "execution_count": 3,
   "id": "d6854b26",
   "metadata": {},
   "outputs": [],
   "source": [
    "# function for row sampling\n",
    "\n",
    "def sample_rows(df,percent):\n",
    "    return df.sample(int(percent*df.shape[0]),replace=True)"
   ]
  },
  {
   "cell_type": "code",
   "execution_count": 26,
   "id": "0fa8e626",
   "metadata": {},
   "outputs": [],
   "source": [
    "# function for feature sampling\n",
    "import random\n",
    "def sample_features(df,percent):\n",
    "    cols = random.sample(df.columns.to_list()[:-1],int(percent*(df.shape[1]-1)))\n",
    "    new_df = df[cols]\n",
    "    new_df['target'] = df['target']\n",
    "    return new_df"
   ]
  },
  {
   "cell_type": "code",
   "execution_count": 27,
   "id": "f364ed18",
   "metadata": {},
   "outputs": [],
   "source": [
    "# function for combined sampling\n",
    "\n",
    "def combined_sampling(df,row_percent,col_percent):\n",
    "    new_df = sample_rows(df,row_percent)\n",
    "    return sample_features(new_df,col_percent)"
   ]
  },
  {
   "cell_type": "markdown",
   "id": "fe0c825a",
   "metadata": {},
   "source": [
    "# using row sampling"
   ]
  },
  {
   "cell_type": "code",
   "execution_count": 6,
   "id": "15c1f14f",
   "metadata": {},
   "outputs": [],
   "source": [
    "df1 = sample_rows(df,0.2)\n",
    "df2 = sample_rows(df,0.2)\n",
    "df3 = sample_rows(df,0.2)"
   ]
  },
  {
   "cell_type": "code",
   "execution_count": 7,
   "id": "7d4fa5be",
   "metadata": {},
   "outputs": [
    {
     "name": "stdout",
     "output_type": "stream",
     "text": [
      "(20, 6) (20, 6) (20, 6)\n"
     ]
    }
   ],
   "source": [
    "print(df1.shape,df2.shape,df3.shape)"
   ]
  },
  {
   "cell_type": "code",
   "execution_count": 8,
   "id": "26421f22",
   "metadata": {},
   "outputs": [],
   "source": [
    "from sklearn.tree import DecisionTreeClassifier\n",
    "dt1 = DecisionTreeClassifier()\n",
    "dt2 = DecisionTreeClassifier()\n",
    "dt3 = DecisionTreeClassifier()"
   ]
  },
  {
   "cell_type": "code",
   "execution_count": 9,
   "id": "b9a52cd6",
   "metadata": {},
   "outputs": [
    {
     "data": {
      "text/plain": [
       "DecisionTreeClassifier()"
      ]
     },
     "execution_count": 9,
     "metadata": {},
     "output_type": "execute_result"
    }
   ],
   "source": [
    "dt1.fit(df1.iloc[:,:-1],df1.iloc[:,-1])\n",
    "dt2.fit(df2.iloc[:,:-1],df2.iloc[:,-1])\n",
    "dt3.fit(df3.iloc[:,:-1],df3.iloc[:,-1])"
   ]
  },
  {
   "cell_type": "code",
   "execution_count": 10,
   "id": "7c7c2974",
   "metadata": {},
   "outputs": [
    {
     "data": {
      "text/plain": [
       "[Text(0.6, 0.8333333333333334, 'X[2] <= -0.232\\ngini = 0.42\\nsamples = 20\\nvalue = [6, 14]'),\n",
       " Text(0.4, 0.5, 'X[1] <= 1.903\\ngini = 0.124\\nsamples = 15\\nvalue = [1, 14]'),\n",
       " Text(0.2, 0.16666666666666666, 'gini = 0.0\\nsamples = 14\\nvalue = [0, 14]'),\n",
       " Text(0.6, 0.16666666666666666, 'gini = 0.0\\nsamples = 1\\nvalue = [1, 0]'),\n",
       " Text(0.8, 0.5, 'gini = 0.0\\nsamples = 5\\nvalue = [5, 0]')]"
      ]
     },
     "execution_count": 10,
     "metadata": {},
     "output_type": "execute_result"
    },
    {
     "data": {
      "image/png": "[encoded data removed]",
      "text/plain": [
       "<Figure size 432x288 with 1 Axes>"
      ]
     },
     "metadata": {
      "needs_background": "light"
     },
     "output_type": "display_data"
    }
   ],
   "source": [
    "from sklearn.tree import plot_tree\n",
    "plot_tree(dt1)"
   ]
  },
  {
   "cell_type": "code",
   "execution_count": 11,
   "id": "f4f5c24a",
   "metadata": {},
   "outputs": [
    {
     "data": {
      "text/plain": [
       "[Text(0.4, 0.8333333333333334, 'X[1] <= 0.435\\ngini = 0.5\\nsamples = 20\\nvalue = [10, 10]'),\n",
       " Text(0.2, 0.5, 'gini = 0.0\\nsamples = 9\\nvalue = [0, 9]'),\n",
       " Text(0.6, 0.5, 'X[4] <= -0.883\\ngini = 0.165\\nsamples = 11\\nvalue = [10, 1]'),\n",
       " Text(0.4, 0.16666666666666666, 'gini = 0.0\\nsamples = 1\\nvalue = [0, 1]'),\n",
       " Text(0.8, 0.16666666666666666, 'gini = 0.0\\nsamples = 10\\nvalue = [10, 0]')]"
      ]
     },
     "execution_count": 11,
     "metadata": {},
     "output_type": "execute_result"
    },
    {
     "data": {
      "image/png": "[encoded data removed]",
      "text/plain": [
       "<Figure size 432x288 with 1 Axes>"
      ]
     },
     "metadata": {
      "needs_background": "light"
     },
     "output_type": "display_data"
    }
   ],
   "source": [
    "plot_tree(dt2)"
   ]
  },
  {
   "cell_type": "code",
   "execution_count": 12,
   "id": "784ec9a5",
   "metadata": {},
   "outputs": [
    {
     "data": {
      "text/plain": [
       "[Text(0.5, 0.75, 'X[1] <= 0.524\\ngini = 0.5\\nsamples = 20\\nvalue = [10, 10]'),\n",
       " Text(0.25, 0.25, 'gini = 0.0\\nsamples = 10\\nvalue = [0, 10]'),\n",
       " Text(0.75, 0.25, 'gini = 0.0\\nsamples = 10\\nvalue = [10, 0]')]"
      ]
     },
     "execution_count": 12,
     "metadata": {},
     "output_type": "execute_result"
    },
    {
     "data": {
      "image/png": "[encoded data removed]",
      "text/plain": [
       "<Figure size 432x288 with 1 Axes>"
      ]
     },
     "metadata": {
      "needs_background": "light"
     },
     "output_type": "display_data"
    }
   ],
   "source": [
    "plot_tree(dt3)"
   ]
  },
  {
   "cell_type": "code",
   "execution_count": 20,
   "id": "d5f3ec42",
   "metadata": {},
   "outputs": [
    {
     "name": "stderr",
     "output_type": "stream",
     "text": [
      "C:\\Users\\Nihar\\anaconda3\\lib\\site-packages\\sklearn\\base.py:450: UserWarning: X does not have valid feature names, but DecisionTreeClassifier was fitted with feature names\n",
      "  warnings.warn(\n"
     ]
    },
    {
     "data": {
      "text/plain": [
       "array([0])"
      ]
     },
     "execution_count": 20,
     "metadata": {},
     "output_type": "execute_result"
    }
   ],
   "source": [
    "dt1.predict(np.array([-0.657184,1.191747,1.514601,0.796593,0.031479]).reshape(1,5))"
   ]
  },
  {
   "cell_type": "code",
   "execution_count": 21,
   "id": "f0287d31",
   "metadata": {},
   "outputs": [
    {
     "name": "stderr",
     "output_type": "stream",
     "text": [
      "C:\\Users\\Nihar\\anaconda3\\lib\\site-packages\\sklearn\\base.py:450: UserWarning: X does not have valid feature names, but DecisionTreeClassifier was fitted with feature names\n",
      "  warnings.warn(\n"
     ]
    },
    {
     "data": {
      "text/plain": [
       "array([0])"
      ]
     },
     "execution_count": 21,
     "metadata": {},
     "output_type": "execute_result"
    }
   ],
   "source": [
    "dt2.predict(np.array([-0.657184,1.191747,1.514601,0.796593,0.031479]).reshape(1,5))"
   ]
  },
  {
   "cell_type": "code",
   "execution_count": 22,
   "id": "a76e38df",
   "metadata": {},
   "outputs": [
    {
     "name": "stderr",
     "output_type": "stream",
     "text": [
      "C:\\Users\\Nihar\\anaconda3\\lib\\site-packages\\sklearn\\base.py:450: UserWarning: X does not have valid feature names, but DecisionTreeClassifier was fitted with feature names\n",
      "  warnings.warn(\n"
     ]
    },
    {
     "data": {
      "text/plain": [
       "array([0])"
      ]
     },
     "execution_count": 22,
     "metadata": {},
     "output_type": "execute_result"
    }
   ],
   "source": [
    "dt3.predict(np.array([-0.657184,1.191747,1.514601,0.796593,0.031479]).reshape(1,5))"
   ]
  },
  {
   "cell_type": "code",
   "execution_count": 16,
   "id": "d4f209df",
   "metadata": {},
   "outputs": [
    {
     "data": {
      "text/html": [
       "<div>\n",
       "<style scoped>\n",
       "    .dataframe tbody tr th:only-of-type {\n",
       "        vertical-align: middle;\n",
       "    }\n",
       "\n",
       "    .dataframe tbody tr th {\n",
       "        vertical-align: top;\n",
       "    }\n",
       "\n",
       "    .dataframe thead th {\n",
       "        text-align: right;\n",
       "    }\n",
       "</style>\n",
       "<table border=\"1\" class=\"dataframe\">\n",
       "  <thead>\n",
       "    <tr style=\"text-align: right;\">\n",
       "      <th></th>\n",
       "      <th>col1</th>\n",
       "      <th>col2</th>\n",
       "      <th>col3</th>\n",
       "      <th>col4</th>\n",
       "      <th>col5</th>\n",
       "      <th>target</th>\n",
       "    </tr>\n",
       "  </thead>\n",
       "  <tbody>\n",
       "    <tr>\n",
       "      <th>0</th>\n",
       "      <td>-0.657184</td>\n",
       "      <td>1.191747</td>\n",
       "      <td>1.514601</td>\n",
       "      <td>0.796593</td>\n",
       "      <td>0.031479</td>\n",
       "      <td>0</td>\n",
       "    </tr>\n",
       "    <tr>\n",
       "      <th>1</th>\n",
       "      <td>0.842429</td>\n",
       "      <td>-2.608917</td>\n",
       "      <td>0.273801</td>\n",
       "      <td>2.502723</td>\n",
       "      <td>-1.333287</td>\n",
       "      <td>1</td>\n",
       "    </tr>\n",
       "    <tr>\n",
       "      <th>2</th>\n",
       "      <td>-0.225154</td>\n",
       "      <td>0.888995</td>\n",
       "      <td>1.745617</td>\n",
       "      <td>1.652107</td>\n",
       "      <td>0.389507</td>\n",
       "      <td>0</td>\n",
       "    </tr>\n",
       "    <tr>\n",
       "      <th>3</th>\n",
       "      <td>-1.855166</td>\n",
       "      <td>2.594251</td>\n",
       "      <td>0.972829</td>\n",
       "      <td>0.467565</td>\n",
       "      <td>0.820352</td>\n",
       "      <td>0</td>\n",
       "    </tr>\n",
       "    <tr>\n",
       "      <th>4</th>\n",
       "      <td>-1.232653</td>\n",
       "      <td>1.537987</td>\n",
       "      <td>0.433211</td>\n",
       "      <td>1.029000</td>\n",
       "      <td>1.064509</td>\n",
       "      <td>0</td>\n",
       "    </tr>\n",
       "    <tr>\n",
       "      <th>...</th>\n",
       "      <td>...</td>\n",
       "      <td>...</td>\n",
       "      <td>...</td>\n",
       "      <td>...</td>\n",
       "      <td>...</td>\n",
       "      <td>...</td>\n",
       "    </tr>\n",
       "    <tr>\n",
       "      <th>95</th>\n",
       "      <td>0.918754</td>\n",
       "      <td>-0.462119</td>\n",
       "      <td>-1.181420</td>\n",
       "      <td>1.621803</td>\n",
       "      <td>-0.419604</td>\n",
       "      <td>1</td>\n",
       "    </tr>\n",
       "    <tr>\n",
       "      <th>96</th>\n",
       "      <td>0.748289</td>\n",
       "      <td>-1.332120</td>\n",
       "      <td>-1.606474</td>\n",
       "      <td>2.265378</td>\n",
       "      <td>0.187287</td>\n",
       "      <td>1</td>\n",
       "    </tr>\n",
       "    <tr>\n",
       "      <th>97</th>\n",
       "      <td>-0.541165</td>\n",
       "      <td>0.142911</td>\n",
       "      <td>-0.038489</td>\n",
       "      <td>2.291306</td>\n",
       "      <td>2.354304</td>\n",
       "      <td>0</td>\n",
       "    </tr>\n",
       "    <tr>\n",
       "      <th>98</th>\n",
       "      <td>-1.855562</td>\n",
       "      <td>0.968306</td>\n",
       "      <td>0.138821</td>\n",
       "      <td>0.083730</td>\n",
       "      <td>1.572912</td>\n",
       "      <td>0</td>\n",
       "    </tr>\n",
       "    <tr>\n",
       "      <th>99</th>\n",
       "      <td>2.596445</td>\n",
       "      <td>-3.002738</td>\n",
       "      <td>-0.772494</td>\n",
       "      <td>2.310744</td>\n",
       "      <td>-0.389160</td>\n",
       "      <td>1</td>\n",
       "    </tr>\n",
       "  </tbody>\n",
       "</table>\n",
       "<p>100 rows × 6 columns</p>\n",
       "</div>"
      ],
      "text/plain": [
       "        col1      col2      col3      col4      col5  target\n",
       "0  -0.657184  1.191747  1.514601  0.796593  0.031479       0\n",
       "1   0.842429 -2.608917  0.273801  2.502723 -1.333287       1\n",
       "2  -0.225154  0.888995  1.745617  1.652107  0.389507       0\n",
       "3  -1.855166  2.594251  0.972829  0.467565  0.820352       0\n",
       "4  -1.232653  1.537987  0.433211  1.029000  1.064509       0\n",
       "..       ...       ...       ...       ...       ...     ...\n",
       "95  0.918754 -0.462119 -1.181420  1.621803 -0.419604       1\n",
       "96  0.748289 -1.332120 -1.606474  2.265378  0.187287       1\n",
       "97 -0.541165  0.142911 -0.038489  2.291306  2.354304       0\n",
       "98 -1.855562  0.968306  0.138821  0.083730  1.572912       0\n",
       "99  2.596445 -3.002738 -0.772494  2.310744 -0.389160       1\n",
       "\n",
       "[100 rows x 6 columns]"
      ]
     },
     "execution_count": 16,
     "metadata": {},
     "output_type": "execute_result"
    }
   ],
   "source": [
    "df"
   ]
  },
  {
   "cell_type": "markdown",
   "id": "4d0fd9df",
   "metadata": {},
   "source": [
    "# Using Feature sampling"
   ]
  },
  {
   "cell_type": "code",
   "execution_count": 33,
   "id": "0ce09da7",
   "metadata": {},
   "outputs": [
    {
     "name": "stderr",
     "output_type": "stream",
     "text": [
      "C:\\Users\\Nihar\\AppData\\Local\\Temp\\ipykernel_15308\\3475859927.py:6: SettingWithCopyWarning: \n",
      "A value is trying to be set on a copy of a slice from a DataFrame.\n",
      "Try using .loc[row_indexer,col_indexer] = value instead\n",
      "\n",
      "See the caveats in the documentation: https://pandas.pydata.org/pandas-docs/stable/user_guide/indexing.html#returning-a-view-versus-a-copy\n",
      "  new_df['target'] = df['target']\n",
      "C:\\Users\\Nihar\\AppData\\Local\\Temp\\ipykernel_15308\\3475859927.py:6: SettingWithCopyWarning: \n",
      "A value is trying to be set on a copy of a slice from a DataFrame.\n",
      "Try using .loc[row_indexer,col_indexer] = value instead\n",
      "\n",
      "See the caveats in the documentation: https://pandas.pydata.org/pandas-docs/stable/user_guide/indexing.html#returning-a-view-versus-a-copy\n",
      "  new_df['target'] = df['target']\n",
      "C:\\Users\\Nihar\\AppData\\Local\\Temp\\ipykernel_15308\\3475859927.py:6: SettingWithCopyWarning: \n",
      "A value is trying to be set on a copy of a slice from a DataFrame.\n",
      "Try using .loc[row_indexer,col_indexer] = value instead\n",
      "\n",
      "See the caveats in the documentation: https://pandas.pydata.org/pandas-docs/stable/user_guide/indexing.html#returning-a-view-versus-a-copy\n",
      "  new_df['target'] = df['target']\n"
     ]
    },
    {
     "data": {
      "text/html": [
       "<div>\n",
       "<style scoped>\n",
       "    .dataframe tbody tr th:only-of-type {\n",
       "        vertical-align: middle;\n",
       "    }\n",
       "\n",
       "    .dataframe tbody tr th {\n",
       "        vertical-align: top;\n",
       "    }\n",
       "\n",
       "    .dataframe thead th {\n",
       "        text-align: right;\n",
       "    }\n",
       "</style>\n",
       "<table border=\"1\" class=\"dataframe\">\n",
       "  <thead>\n",
       "    <tr style=\"text-align: right;\">\n",
       "      <th></th>\n",
       "      <th>col3</th>\n",
       "      <th>col4</th>\n",
       "      <th>col2</th>\n",
       "      <th>col5</th>\n",
       "      <th>target</th>\n",
       "    </tr>\n",
       "  </thead>\n",
       "  <tbody>\n",
       "    <tr>\n",
       "      <th>0</th>\n",
       "      <td>1.514601</td>\n",
       "      <td>0.796593</td>\n",
       "      <td>1.191747</td>\n",
       "      <td>0.031479</td>\n",
       "      <td>0</td>\n",
       "    </tr>\n",
       "    <tr>\n",
       "      <th>1</th>\n",
       "      <td>0.273801</td>\n",
       "      <td>2.502723</td>\n",
       "      <td>-2.608917</td>\n",
       "      <td>-1.333287</td>\n",
       "      <td>1</td>\n",
       "    </tr>\n",
       "    <tr>\n",
       "      <th>2</th>\n",
       "      <td>1.745617</td>\n",
       "      <td>1.652107</td>\n",
       "      <td>0.888995</td>\n",
       "      <td>0.389507</td>\n",
       "      <td>0</td>\n",
       "    </tr>\n",
       "    <tr>\n",
       "      <th>3</th>\n",
       "      <td>0.972829</td>\n",
       "      <td>0.467565</td>\n",
       "      <td>2.594251</td>\n",
       "      <td>0.820352</td>\n",
       "      <td>0</td>\n",
       "    </tr>\n",
       "    <tr>\n",
       "      <th>4</th>\n",
       "      <td>0.433211</td>\n",
       "      <td>1.029000</td>\n",
       "      <td>1.537987</td>\n",
       "      <td>1.064509</td>\n",
       "      <td>0</td>\n",
       "    </tr>\n",
       "    <tr>\n",
       "      <th>...</th>\n",
       "      <td>...</td>\n",
       "      <td>...</td>\n",
       "      <td>...</td>\n",
       "      <td>...</td>\n",
       "      <td>...</td>\n",
       "    </tr>\n",
       "    <tr>\n",
       "      <th>95</th>\n",
       "      <td>-1.181420</td>\n",
       "      <td>1.621803</td>\n",
       "      <td>-0.462119</td>\n",
       "      <td>-0.419604</td>\n",
       "      <td>1</td>\n",
       "    </tr>\n",
       "    <tr>\n",
       "      <th>96</th>\n",
       "      <td>-1.606474</td>\n",
       "      <td>2.265378</td>\n",
       "      <td>-1.332120</td>\n",
       "      <td>0.187287</td>\n",
       "      <td>1</td>\n",
       "    </tr>\n",
       "    <tr>\n",
       "      <th>97</th>\n",
       "      <td>-0.038489</td>\n",
       "      <td>2.291306</td>\n",
       "      <td>0.142911</td>\n",
       "      <td>2.354304</td>\n",
       "      <td>0</td>\n",
       "    </tr>\n",
       "    <tr>\n",
       "      <th>98</th>\n",
       "      <td>0.138821</td>\n",
       "      <td>0.083730</td>\n",
       "      <td>0.968306</td>\n",
       "      <td>1.572912</td>\n",
       "      <td>0</td>\n",
       "    </tr>\n",
       "    <tr>\n",
       "      <th>99</th>\n",
       "      <td>-0.772494</td>\n",
       "      <td>2.310744</td>\n",
       "      <td>-3.002738</td>\n",
       "      <td>-0.389160</td>\n",
       "      <td>1</td>\n",
       "    </tr>\n",
       "  </tbody>\n",
       "</table>\n",
       "<p>100 rows × 5 columns</p>\n",
       "</div>"
      ],
      "text/plain": [
       "        col3      col4      col2      col5  target\n",
       "0   1.514601  0.796593  1.191747  0.031479       0\n",
       "1   0.273801  2.502723 -2.608917 -1.333287       1\n",
       "2   1.745617  1.652107  0.888995  0.389507       0\n",
       "3   0.972829  0.467565  2.594251  0.820352       0\n",
       "4   0.433211  1.029000  1.537987  1.064509       0\n",
       "..       ...       ...       ...       ...     ...\n",
       "95 -1.181420  1.621803 -0.462119 -0.419604       1\n",
       "96 -1.606474  2.265378 -1.332120  0.187287       1\n",
       "97 -0.038489  2.291306  0.142911  2.354304       0\n",
       "98  0.138821  0.083730  0.968306  1.572912       0\n",
       "99 -0.772494  2.310744 -3.002738 -0.389160       1\n",
       "\n",
       "[100 rows x 5 columns]"
      ]
     },
     "execution_count": 33,
     "metadata": {},
     "output_type": "execute_result"
    }
   ],
   "source": [
    "df1 = sample_features(df,0.8)\n",
    "df2 = sample_features(df,0.8)\n",
    "df3 = sample_features(df,0.8)\n",
    "df3"
   ]
  },
  {
   "cell_type": "code",
   "execution_count": 38,
   "id": "f0584579",
   "metadata": {},
   "outputs": [
    {
     "name": "stdout",
     "output_type": "stream",
     "text": [
      "Index(['col4', 'col5', 'col1', 'col2', 'target'], dtype='object')\n",
      "Index(['col1', 'col2', 'col5', 'col3', 'target'], dtype='object')\n",
      "Index(['col3', 'col4', 'col2', 'col5', 'target'], dtype='object')\n"
     ]
    }
   ],
   "source": [
    "print(df1.columns)\n",
    "print(df2.columns)\n",
    "print(df3.columns)"
   ]
  },
  {
   "cell_type": "code",
   "execution_count": 24,
   "id": "25317778",
   "metadata": {},
   "outputs": [],
   "source": [
    "dt1 = DecisionTreeClassifier()\n",
    "dt2 = DecisionTreeClassifier()\n",
    "dt3 = DecisionTreeClassifier()"
   ]
  },
  {
   "cell_type": "code",
   "execution_count": 29,
   "id": "ed19d3e5",
   "metadata": {},
   "outputs": [
    {
     "data": {
      "text/plain": [
       "DecisionTreeClassifier()"
      ]
     },
     "execution_count": 29,
     "metadata": {},
     "output_type": "execute_result"
    }
   ],
   "source": [
    "dt1.fit(df1.iloc[:,:-1],df1.iloc[:,-1])\n",
    "dt2.fit(df2.iloc[:,:-1],df2.iloc[:,-1])\n",
    "dt3.fit(df3.iloc[:,:-1],df3.iloc[:,-1])"
   ]
  },
  {
   "cell_type": "code",
   "execution_count": 30,
   "id": "f47fbf95",
   "metadata": {},
   "outputs": [
    {
     "data": {
      "text/plain": [
       "[Text(0.6, 0.9166666666666666, 'X[2] <= 0.194\\ngini = 0.5\\nsamples = 100\\nvalue = [49, 51]'),\n",
       " Text(0.3333333333333333, 0.75, 'X[3] <= 0.574\\ngini = 0.256\\nsamples = 53\\nvalue = [8, 45]'),\n",
       " Text(0.13333333333333333, 0.5833333333333334, 'X[1] <= 3.048\\ngini = 0.046\\nsamples = 42\\nvalue = [1, 41]'),\n",
       " Text(0.06666666666666667, 0.4166666666666667, 'gini = 0.0\\nsamples = 40\\nvalue = [0, 40]'),\n",
       " Text(0.2, 0.4166666666666667, 'X[3] <= -0.97\\ngini = 0.5\\nsamples = 2\\nvalue = [1, 1]'),\n",
       " Text(0.13333333333333333, 0.25, 'gini = 0.0\\nsamples = 1\\nvalue = [0, 1]'),\n",
       " Text(0.26666666666666666, 0.25, 'gini = 0.0\\nsamples = 1\\nvalue = [1, 0]'),\n",
       " Text(0.5333333333333333, 0.5833333333333334, 'X[1] <= 0.735\\ngini = 0.463\\nsamples = 11\\nvalue = [7, 4]'),\n",
       " Text(0.4666666666666667, 0.4166666666666667, 'X[1] <= -0.318\\ngini = 0.32\\nsamples = 5\\nvalue = [1, 4]'),\n",
       " Text(0.4, 0.25, 'gini = 0.0\\nsamples = 3\\nvalue = [0, 3]'),\n",
       " Text(0.5333333333333333, 0.25, 'X[3] <= 1.235\\ngini = 0.5\\nsamples = 2\\nvalue = [1, 1]'),\n",
       " Text(0.4666666666666667, 0.08333333333333333, 'gini = 0.0\\nsamples = 1\\nvalue = [1, 0]'),\n",
       " Text(0.6, 0.08333333333333333, 'gini = 0.0\\nsamples = 1\\nvalue = [0, 1]'),\n",
       " Text(0.6, 0.4166666666666667, 'gini = 0.0\\nsamples = 6\\nvalue = [6, 0]'),\n",
       " Text(0.8666666666666667, 0.75, 'X[0] <= 1.312\\ngini = 0.223\\nsamples = 47\\nvalue = [41, 6]'),\n",
       " Text(0.8, 0.5833333333333334, 'X[3] <= -1.071\\ngini = 0.089\\nsamples = 43\\nvalue = [41, 2]'),\n",
       " Text(0.7333333333333333, 0.4166666666666667, 'X[1] <= 1.797\\ngini = 0.444\\nsamples = 3\\nvalue = [1, 2]'),\n",
       " Text(0.6666666666666666, 0.25, 'gini = 0.0\\nsamples = 1\\nvalue = [1, 0]'),\n",
       " Text(0.8, 0.25, 'gini = 0.0\\nsamples = 2\\nvalue = [0, 2]'),\n",
       " Text(0.8666666666666667, 0.4166666666666667, 'gini = 0.0\\nsamples = 40\\nvalue = [40, 0]'),\n",
       " Text(0.9333333333333333, 0.5833333333333334, 'gini = 0.0\\nsamples = 4\\nvalue = [0, 4]')]"
      ]
     },
     "execution_count": 30,
     "metadata": {},
     "output_type": "execute_result"
    },
    {
     "data": {
      "image/png": "[encoded data removed]",
      "text/plain": [
       "<Figure size 432x288 with 1 Axes>"
      ]
     },
     "metadata": {
      "needs_background": "light"
     },
     "output_type": "display_data"
    }
   ],
   "source": [
    "plot_tree(dt1)"
   ]
  },
  {
   "cell_type": "code",
   "execution_count": 31,
   "id": "668cc7e1",
   "metadata": {},
   "outputs": [
    {
     "data": {
      "text/plain": [
       "[Text(0.6, 0.9166666666666666, 'X[1] <= 0.194\\ngini = 0.5\\nsamples = 100\\nvalue = [49, 51]'),\n",
       " Text(0.3333333333333333, 0.75, 'X[3] <= 0.574\\ngini = 0.256\\nsamples = 53\\nvalue = [8, 45]'),\n",
       " Text(0.13333333333333333, 0.5833333333333334, 'X[0] <= 3.048\\ngini = 0.046\\nsamples = 42\\nvalue = [1, 41]'),\n",
       " Text(0.06666666666666667, 0.4166666666666667, 'gini = 0.0\\nsamples = 40\\nvalue = [0, 40]'),\n",
       " Text(0.2, 0.4166666666666667, 'X[3] <= -0.97\\ngini = 0.5\\nsamples = 2\\nvalue = [1, 1]'),\n",
       " Text(0.13333333333333333, 0.25, 'gini = 0.0\\nsamples = 1\\nvalue = [0, 1]'),\n",
       " Text(0.26666666666666666, 0.25, 'gini = 0.0\\nsamples = 1\\nvalue = [1, 0]'),\n",
       " Text(0.5333333333333333, 0.5833333333333334, 'X[0] <= 0.735\\ngini = 0.463\\nsamples = 11\\nvalue = [7, 4]'),\n",
       " Text(0.4666666666666667, 0.4166666666666667, 'X[2] <= -0.569\\ngini = 0.32\\nsamples = 5\\nvalue = [1, 4]'),\n",
       " Text(0.4, 0.25, 'X[2] <= -1.183\\ngini = 0.5\\nsamples = 2\\nvalue = [1, 1]'),\n",
       " Text(0.3333333333333333, 0.08333333333333333, 'gini = 0.0\\nsamples = 1\\nvalue = [0, 1]'),\n",
       " Text(0.4666666666666667, 0.08333333333333333, 'gini = 0.0\\nsamples = 1\\nvalue = [1, 0]'),\n",
       " Text(0.5333333333333333, 0.25, 'gini = 0.0\\nsamples = 3\\nvalue = [0, 3]'),\n",
       " Text(0.6, 0.4166666666666667, 'gini = 0.0\\nsamples = 6\\nvalue = [6, 0]'),\n",
       " Text(0.8666666666666667, 0.75, 'X[2] <= 1.312\\ngini = 0.223\\nsamples = 47\\nvalue = [41, 6]'),\n",
       " Text(0.8, 0.5833333333333334, 'X[3] <= -1.071\\ngini = 0.089\\nsamples = 43\\nvalue = [41, 2]'),\n",
       " Text(0.7333333333333333, 0.4166666666666667, 'X[0] <= 1.797\\ngini = 0.444\\nsamples = 3\\nvalue = [1, 2]'),\n",
       " Text(0.6666666666666666, 0.25, 'gini = 0.0\\nsamples = 1\\nvalue = [1, 0]'),\n",
       " Text(0.8, 0.25, 'gini = 0.0\\nsamples = 2\\nvalue = [0, 2]'),\n",
       " Text(0.8666666666666667, 0.4166666666666667, 'gini = 0.0\\nsamples = 40\\nvalue = [40, 0]'),\n",
       " Text(0.9333333333333333, 0.5833333333333334, 'gini = 0.0\\nsamples = 4\\nvalue = [0, 4]')]"
      ]
     },
     "execution_count": 31,
     "metadata": {},
     "output_type": "execute_result"
    },
    {
     "data": {
      "image/png": "[encoded data removed]",
      "text/plain": [
       "<Figure size 432x288 with 1 Axes>"
      ]
     },
     "metadata": {
      "needs_background": "light"
     },
     "output_type": "display_data"
    }
   ],
   "source": [
    "plot_tree(dt2)"
   ]
  },
  {
   "cell_type": "code",
   "execution_count": 32,
   "id": "ca72ad3c",
   "metadata": {},
   "outputs": [
    {
     "data": {
      "text/plain": [
       "[Text(0.42857142857142855, 0.9, 'X[3] <= -0.417\\ngini = 0.5\\nsamples = 100\\nvalue = [49, 51]'),\n",
       " Text(0.21428571428571427, 0.7, 'X[2] <= 1.322\\ngini = 0.124\\nsamples = 45\\nvalue = [3, 42]'),\n",
       " Text(0.14285714285714285, 0.5, 'X[0] <= 3.066\\ngini = 0.045\\nsamples = 43\\nvalue = [1, 42]'),\n",
       " Text(0.07142857142857142, 0.3, 'gini = 0.0\\nsamples = 40\\nvalue = [0, 40]'),\n",
       " Text(0.21428571428571427, 0.3, 'X[1] <= -0.295\\ngini = 0.444\\nsamples = 3\\nvalue = [1, 2]'),\n",
       " Text(0.14285714285714285, 0.1, 'gini = 0.0\\nsamples = 1\\nvalue = [1, 0]'),\n",
       " Text(0.2857142857142857, 0.1, 'gini = 0.0\\nsamples = 2\\nvalue = [0, 2]'),\n",
       " Text(0.2857142857142857, 0.5, 'gini = 0.0\\nsamples = 2\\nvalue = [2, 0]'),\n",
       " Text(0.6428571428571429, 0.7, 'X[2] <= -0.434\\ngini = 0.274\\nsamples = 55\\nvalue = [46, 9]'),\n",
       " Text(0.42857142857142855, 0.5, 'X[3] <= 0.748\\ngini = 0.32\\nsamples = 10\\nvalue = [2, 8]'),\n",
       " Text(0.35714285714285715, 0.3, 'gini = 0.0\\nsamples = 7\\nvalue = [0, 7]'),\n",
       " Text(0.5, 0.3, 'X[1] <= 2.318\\ngini = 0.444\\nsamples = 3\\nvalue = [2, 1]'),\n",
       " Text(0.42857142857142855, 0.1, 'gini = 0.0\\nsamples = 2\\nvalue = [2, 0]'),\n",
       " Text(0.5714285714285714, 0.1, 'gini = 0.0\\nsamples = 1\\nvalue = [0, 1]'),\n",
       " Text(0.8571428571428571, 0.5, 'X[0] <= -0.476\\ngini = 0.043\\nsamples = 45\\nvalue = [44, 1]'),\n",
       " Text(0.7857142857142857, 0.3, 'X[1] <= -1.697\\ngini = 0.32\\nsamples = 5\\nvalue = [4, 1]'),\n",
       " Text(0.7142857142857143, 0.1, 'gini = 0.0\\nsamples = 4\\nvalue = [4, 0]'),\n",
       " Text(0.8571428571428571, 0.1, 'gini = 0.0\\nsamples = 1\\nvalue = [0, 1]'),\n",
       " Text(0.9285714285714286, 0.3, 'gini = 0.0\\nsamples = 40\\nvalue = [40, 0]')]"
      ]
     },
     "execution_count": 32,
     "metadata": {},
     "output_type": "execute_result"
    },
    {
     "data": {
      "image/png": "[encoded data removed]",
      "text/plain": [
       "<Figure size 432x288 with 1 Axes>"
      ]
     },
     "metadata": {
      "needs_background": "light"
     },
     "output_type": "display_data"
    }
   ],
   "source": [
    "plot_tree(dt3)"
   ]
  },
  {
   "cell_type": "code",
   "execution_count": 35,
   "id": "ebe95a49",
   "metadata": {},
   "outputs": [
    {
     "name": "stderr",
     "output_type": "stream",
     "text": [
      "C:\\Users\\Nihar\\anaconda3\\lib\\site-packages\\sklearn\\base.py:450: UserWarning: X does not have valid feature names, but DecisionTreeClassifier was fitted with feature names\n",
      "  warnings.warn(\n"
     ]
    },
    {
     "data": {
      "text/plain": [
       "array([1])"
      ]
     },
     "execution_count": 35,
     "metadata": {},
     "output_type": "execute_result"
    }
   ],
   "source": [
    "dt1.predict(np.array([1.514601,0.796593,1.191747,0.031479]).reshape(1,4))"
   ]
  },
  {
   "cell_type": "code",
   "execution_count": 36,
   "id": "40bc0957",
   "metadata": {},
   "outputs": [
    {
     "name": "stderr",
     "output_type": "stream",
     "text": [
      "C:\\Users\\Nihar\\anaconda3\\lib\\site-packages\\sklearn\\base.py:450: UserWarning: X does not have valid feature names, but DecisionTreeClassifier was fitted with feature names\n",
      "  warnings.warn(\n"
     ]
    },
    {
     "data": {
      "text/plain": [
       "array([0])"
      ]
     },
     "execution_count": 36,
     "metadata": {},
     "output_type": "execute_result"
    }
   ],
   "source": [
    "dt2.predict(np.array([1.514601,0.796593,1.191747,0.031479]).reshape(1,4))"
   ]
  },
  {
   "cell_type": "code",
   "execution_count": 37,
   "id": "5eb3aeb4",
   "metadata": {},
   "outputs": [
    {
     "name": "stderr",
     "output_type": "stream",
     "text": [
      "C:\\Users\\Nihar\\anaconda3\\lib\\site-packages\\sklearn\\base.py:450: UserWarning: X does not have valid feature names, but DecisionTreeClassifier was fitted with feature names\n",
      "  warnings.warn(\n"
     ]
    },
    {
     "data": {
      "text/plain": [
       "array([0])"
      ]
     },
     "execution_count": 37,
     "metadata": {},
     "output_type": "execute_result"
    }
   ],
   "source": [
    "dt3.predict(np.array([1.514601,0.796593,1.191747,0.031479]).reshape(1,4))"
   ]
  },
  {
   "cell_type": "markdown",
   "id": "b74086e9",
   "metadata": {},
   "source": [
    "# using combine sampling"
   ]
  },
  {
   "cell_type": "code",
   "execution_count": 41,
   "id": "47c753e6",
   "metadata": {},
   "outputs": [
    {
     "name": "stderr",
     "output_type": "stream",
     "text": [
      "C:\\Users\\Nihar\\AppData\\Local\\Temp\\ipykernel_15308\\3475859927.py:6: SettingWithCopyWarning: \n",
      "A value is trying to be set on a copy of a slice from a DataFrame.\n",
      "Try using .loc[row_indexer,col_indexer] = value instead\n",
      "\n",
      "See the caveats in the documentation: https://pandas.pydata.org/pandas-docs/stable/user_guide/indexing.html#returning-a-view-versus-a-copy\n",
      "  new_df['target'] = df['target']\n",
      "C:\\Users\\Nihar\\AppData\\Local\\Temp\\ipykernel_15308\\3475859927.py:6: SettingWithCopyWarning: \n",
      "A value is trying to be set on a copy of a slice from a DataFrame.\n",
      "Try using .loc[row_indexer,col_indexer] = value instead\n",
      "\n",
      "See the caveats in the documentation: https://pandas.pydata.org/pandas-docs/stable/user_guide/indexing.html#returning-a-view-versus-a-copy\n",
      "  new_df['target'] = df['target']\n",
      "C:\\Users\\Nihar\\AppData\\Local\\Temp\\ipykernel_15308\\3475859927.py:6: SettingWithCopyWarning: \n",
      "A value is trying to be set on a copy of a slice from a DataFrame.\n",
      "Try using .loc[row_indexer,col_indexer] = value instead\n",
      "\n",
      "See the caveats in the documentation: https://pandas.pydata.org/pandas-docs/stable/user_guide/indexing.html#returning-a-view-versus-a-copy\n",
      "  new_df['target'] = df['target']\n"
     ]
    },
    {
     "data": {
      "text/html": [
       "<div>\n",
       "<style scoped>\n",
       "    .dataframe tbody tr th:only-of-type {\n",
       "        vertical-align: middle;\n",
       "    }\n",
       "\n",
       "    .dataframe tbody tr th {\n",
       "        vertical-align: top;\n",
       "    }\n",
       "\n",
       "    .dataframe thead th {\n",
       "        text-align: right;\n",
       "    }\n",
       "</style>\n",
       "<table border=\"1\" class=\"dataframe\">\n",
       "  <thead>\n",
       "    <tr style=\"text-align: right;\">\n",
       "      <th></th>\n",
       "      <th>col2</th>\n",
       "      <th>col5</th>\n",
       "      <th>col3</th>\n",
       "      <th>col1</th>\n",
       "      <th>target</th>\n",
       "    </tr>\n",
       "  </thead>\n",
       "  <tbody>\n",
       "    <tr>\n",
       "      <th>15</th>\n",
       "      <td>1.180913</td>\n",
       "      <td>0.414407</td>\n",
       "      <td>1.417394</td>\n",
       "      <td>-1.616536</td>\n",
       "      <td>0</td>\n",
       "    </tr>\n",
       "    <tr>\n",
       "      <th>23</th>\n",
       "      <td>0.147146</td>\n",
       "      <td>2.272398</td>\n",
       "      <td>-0.375219</td>\n",
       "      <td>-1.293786</td>\n",
       "      <td>0</td>\n",
       "    </tr>\n",
       "    <tr>\n",
       "      <th>85</th>\n",
       "      <td>-0.143130</td>\n",
       "      <td>-1.429861</td>\n",
       "      <td>-1.059078</td>\n",
       "      <td>-0.613519</td>\n",
       "      <td>1</td>\n",
       "    </tr>\n",
       "    <tr>\n",
       "      <th>43</th>\n",
       "      <td>2.443199</td>\n",
       "      <td>0.392170</td>\n",
       "      <td>1.097059</td>\n",
       "      <td>-1.444780</td>\n",
       "      <td>0</td>\n",
       "    </tr>\n",
       "    <tr>\n",
       "      <th>33</th>\n",
       "      <td>-0.981664</td>\n",
       "      <td>-0.656774</td>\n",
       "      <td>-1.970835</td>\n",
       "      <td>0.109756</td>\n",
       "      <td>1</td>\n",
       "    </tr>\n",
       "    <tr>\n",
       "      <th>74</th>\n",
       "      <td>1.322358</td>\n",
       "      <td>1.769245</td>\n",
       "      <td>0.028901</td>\n",
       "      <td>-0.871349</td>\n",
       "      <td>0</td>\n",
       "    </tr>\n",
       "    <tr>\n",
       "      <th>68</th>\n",
       "      <td>-0.034082</td>\n",
       "      <td>-1.433034</td>\n",
       "      <td>-1.272969</td>\n",
       "      <td>2.482890</td>\n",
       "      <td>1</td>\n",
       "    </tr>\n",
       "    <tr>\n",
       "      <th>58</th>\n",
       "      <td>0.623402</td>\n",
       "      <td>-0.258132</td>\n",
       "      <td>2.845378</td>\n",
       "      <td>-0.040991</td>\n",
       "      <td>0</td>\n",
       "    </tr>\n",
       "    <tr>\n",
       "      <th>46</th>\n",
       "      <td>-2.271769</td>\n",
       "      <td>0.823010</td>\n",
       "      <td>-1.007347</td>\n",
       "      <td>2.775695</td>\n",
       "      <td>1</td>\n",
       "    </tr>\n",
       "    <tr>\n",
       "      <th>42</th>\n",
       "      <td>-2.970633</td>\n",
       "      <td>0.125144</td>\n",
       "      <td>-1.100552</td>\n",
       "      <td>1.546344</td>\n",
       "      <td>1</td>\n",
       "    </tr>\n",
       "    <tr>\n",
       "      <th>46</th>\n",
       "      <td>-2.271769</td>\n",
       "      <td>0.823010</td>\n",
       "      <td>-1.007347</td>\n",
       "      <td>2.775695</td>\n",
       "      <td>1</td>\n",
       "    </tr>\n",
       "    <tr>\n",
       "      <th>74</th>\n",
       "      <td>1.322358</td>\n",
       "      <td>1.769245</td>\n",
       "      <td>0.028901</td>\n",
       "      <td>-0.871349</td>\n",
       "      <td>0</td>\n",
       "    </tr>\n",
       "    <tr>\n",
       "      <th>1</th>\n",
       "      <td>-2.608917</td>\n",
       "      <td>-1.333287</td>\n",
       "      <td>0.273801</td>\n",
       "      <td>0.842429</td>\n",
       "      <td>1</td>\n",
       "    </tr>\n",
       "    <tr>\n",
       "      <th>52</th>\n",
       "      <td>-0.562090</td>\n",
       "      <td>-0.933546</td>\n",
       "      <td>-1.443956</td>\n",
       "      <td>0.196342</td>\n",
       "      <td>1</td>\n",
       "    </tr>\n",
       "    <tr>\n",
       "      <th>31</th>\n",
       "      <td>0.699305</td>\n",
       "      <td>-0.293503</td>\n",
       "      <td>1.775468</td>\n",
       "      <td>-0.242867</td>\n",
       "      <td>0</td>\n",
       "    </tr>\n",
       "    <tr>\n",
       "      <th>50</th>\n",
       "      <td>0.070286</td>\n",
       "      <td>-1.757258</td>\n",
       "      <td>-0.458344</td>\n",
       "      <td>1.415500</td>\n",
       "      <td>1</td>\n",
       "    </tr>\n",
       "    <tr>\n",
       "      <th>2</th>\n",
       "      <td>0.888995</td>\n",
       "      <td>0.389507</td>\n",
       "      <td>1.745617</td>\n",
       "      <td>-0.225154</td>\n",
       "      <td>0</td>\n",
       "    </tr>\n",
       "    <tr>\n",
       "      <th>62</th>\n",
       "      <td>1.732004</td>\n",
       "      <td>0.224500</td>\n",
       "      <td>1.330275</td>\n",
       "      <td>-2.144645</td>\n",
       "      <td>0</td>\n",
       "    </tr>\n",
       "    <tr>\n",
       "      <th>41</th>\n",
       "      <td>-0.779474</td>\n",
       "      <td>-0.394475</td>\n",
       "      <td>-0.929486</td>\n",
       "      <td>1.228884</td>\n",
       "      <td>1</td>\n",
       "    </tr>\n",
       "    <tr>\n",
       "      <th>8</th>\n",
       "      <td>0.759027</td>\n",
       "      <td>-1.423997</td>\n",
       "      <td>-1.376712</td>\n",
       "      <td>1.067918</td>\n",
       "      <td>1</td>\n",
       "    </tr>\n",
       "    <tr>\n",
       "      <th>69</th>\n",
       "      <td>1.282021</td>\n",
       "      <td>0.132859</td>\n",
       "      <td>-2.297732</td>\n",
       "      <td>1.327601</td>\n",
       "      <td>1</td>\n",
       "    </tr>\n",
       "    <tr>\n",
       "      <th>88</th>\n",
       "      <td>-0.699461</td>\n",
       "      <td>-0.698977</td>\n",
       "      <td>-0.748308</td>\n",
       "      <td>2.500326</td>\n",
       "      <td>1</td>\n",
       "    </tr>\n",
       "    <tr>\n",
       "      <th>9</th>\n",
       "      <td>0.913715</td>\n",
       "      <td>-0.058971</td>\n",
       "      <td>1.322673</td>\n",
       "      <td>-0.595664</td>\n",
       "      <td>0</td>\n",
       "    </tr>\n",
       "    <tr>\n",
       "      <th>58</th>\n",
       "      <td>0.623402</td>\n",
       "      <td>-0.258132</td>\n",
       "      <td>2.845378</td>\n",
       "      <td>-0.040991</td>\n",
       "      <td>0</td>\n",
       "    </tr>\n",
       "    <tr>\n",
       "      <th>8</th>\n",
       "      <td>0.759027</td>\n",
       "      <td>-1.423997</td>\n",
       "      <td>-1.376712</td>\n",
       "      <td>1.067918</td>\n",
       "      <td>1</td>\n",
       "    </tr>\n",
       "    <tr>\n",
       "      <th>16</th>\n",
       "      <td>-2.460197</td>\n",
       "      <td>-0.052927</td>\n",
       "      <td>-2.020051</td>\n",
       "      <td>-0.543362</td>\n",
       "      <td>1</td>\n",
       "    </tr>\n",
       "    <tr>\n",
       "      <th>54</th>\n",
       "      <td>2.549583</td>\n",
       "      <td>0.472300</td>\n",
       "      <td>0.746136</td>\n",
       "      <td>-0.689395</td>\n",
       "      <td>0</td>\n",
       "    </tr>\n",
       "    <tr>\n",
       "      <th>60</th>\n",
       "      <td>0.034737</td>\n",
       "      <td>0.775990</td>\n",
       "      <td>1.121468</td>\n",
       "      <td>0.404146</td>\n",
       "      <td>0</td>\n",
       "    </tr>\n",
       "    <tr>\n",
       "      <th>30</th>\n",
       "      <td>2.550058</td>\n",
       "      <td>0.743727</td>\n",
       "      <td>2.153202</td>\n",
       "      <td>-2.484437</td>\n",
       "      <td>0</td>\n",
       "    </tr>\n",
       "    <tr>\n",
       "      <th>72</th>\n",
       "      <td>0.128328</td>\n",
       "      <td>-0.811412</td>\n",
       "      <td>-1.374871</td>\n",
       "      <td>-1.950993</td>\n",
       "      <td>1</td>\n",
       "    </tr>\n",
       "    <tr>\n",
       "      <th>36</th>\n",
       "      <td>-0.376288</td>\n",
       "      <td>0.162992</td>\n",
       "      <td>-2.966058</td>\n",
       "      <td>0.205769</td>\n",
       "      <td>1</td>\n",
       "    </tr>\n",
       "    <tr>\n",
       "      <th>92</th>\n",
       "      <td>1.713750</td>\n",
       "      <td>-0.341866</td>\n",
       "      <td>1.890409</td>\n",
       "      <td>-0.361309</td>\n",
       "      <td>0</td>\n",
       "    </tr>\n",
       "    <tr>\n",
       "      <th>14</th>\n",
       "      <td>-0.783220</td>\n",
       "      <td>0.837754</td>\n",
       "      <td>-1.922529</td>\n",
       "      <td>1.488564</td>\n",
       "      <td>1</td>\n",
       "    </tr>\n",
       "    <tr>\n",
       "      <th>90</th>\n",
       "      <td>0.918824</td>\n",
       "      <td>0.500722</td>\n",
       "      <td>1.242582</td>\n",
       "      <td>-1.387019</td>\n",
       "      <td>0</td>\n",
       "    </tr>\n",
       "    <tr>\n",
       "      <th>11</th>\n",
       "      <td>0.150286</td>\n",
       "      <td>1.867666</td>\n",
       "      <td>1.791726</td>\n",
       "      <td>0.734992</td>\n",
       "      <td>0</td>\n",
       "    </tr>\n",
       "    <tr>\n",
       "      <th>26</th>\n",
       "      <td>1.303157</td>\n",
       "      <td>2.353038</td>\n",
       "      <td>0.134293</td>\n",
       "      <td>-1.084687</td>\n",
       "      <td>0</td>\n",
       "    </tr>\n",
       "    <tr>\n",
       "      <th>53</th>\n",
       "      <td>-0.228993</td>\n",
       "      <td>-0.027705</td>\n",
       "      <td>-2.675064</td>\n",
       "      <td>0.635648</td>\n",
       "      <td>1</td>\n",
       "    </tr>\n",
       "    <tr>\n",
       "      <th>16</th>\n",
       "      <td>-2.460197</td>\n",
       "      <td>-0.052927</td>\n",
       "      <td>-2.020051</td>\n",
       "      <td>-0.543362</td>\n",
       "      <td>1</td>\n",
       "    </tr>\n",
       "    <tr>\n",
       "      <th>50</th>\n",
       "      <td>0.070286</td>\n",
       "      <td>-1.757258</td>\n",
       "      <td>-0.458344</td>\n",
       "      <td>1.415500</td>\n",
       "      <td>1</td>\n",
       "    </tr>\n",
       "    <tr>\n",
       "      <th>38</th>\n",
       "      <td>3.516786</td>\n",
       "      <td>1.231060</td>\n",
       "      <td>-0.572928</td>\n",
       "      <td>-2.140751</td>\n",
       "      <td>0</td>\n",
       "    </tr>\n",
       "    <tr>\n",
       "      <th>39</th>\n",
       "      <td>-0.136770</td>\n",
       "      <td>2.157514</td>\n",
       "      <td>0.433854</td>\n",
       "      <td>-0.916286</td>\n",
       "      <td>0</td>\n",
       "    </tr>\n",
       "    <tr>\n",
       "      <th>66</th>\n",
       "      <td>1.362923</td>\n",
       "      <td>1.803685</td>\n",
       "      <td>-0.546411</td>\n",
       "      <td>-3.819611</td>\n",
       "      <td>0</td>\n",
       "    </tr>\n",
       "    <tr>\n",
       "      <th>16</th>\n",
       "      <td>-2.460197</td>\n",
       "      <td>-0.052927</td>\n",
       "      <td>-2.020051</td>\n",
       "      <td>-0.543362</td>\n",
       "      <td>1</td>\n",
       "    </tr>\n",
       "    <tr>\n",
       "      <th>27</th>\n",
       "      <td>1.120884</td>\n",
       "      <td>1.969916</td>\n",
       "      <td>0.019779</td>\n",
       "      <td>-1.143558</td>\n",
       "      <td>0</td>\n",
       "    </tr>\n",
       "    <tr>\n",
       "      <th>62</th>\n",
       "      <td>1.732004</td>\n",
       "      <td>0.224500</td>\n",
       "      <td>1.330275</td>\n",
       "      <td>-2.144645</td>\n",
       "      <td>0</td>\n",
       "    </tr>\n",
       "    <tr>\n",
       "      <th>42</th>\n",
       "      <td>-2.970633</td>\n",
       "      <td>0.125144</td>\n",
       "      <td>-1.100552</td>\n",
       "      <td>1.546344</td>\n",
       "      <td>1</td>\n",
       "    </tr>\n",
       "    <tr>\n",
       "      <th>54</th>\n",
       "      <td>2.549583</td>\n",
       "      <td>0.472300</td>\n",
       "      <td>0.746136</td>\n",
       "      <td>-0.689395</td>\n",
       "      <td>0</td>\n",
       "    </tr>\n",
       "    <tr>\n",
       "      <th>87</th>\n",
       "      <td>-0.018354</td>\n",
       "      <td>-1.499517</td>\n",
       "      <td>-1.549412</td>\n",
       "      <td>-0.377000</td>\n",
       "      <td>1</td>\n",
       "    </tr>\n",
       "    <tr>\n",
       "      <th>2</th>\n",
       "      <td>0.888995</td>\n",
       "      <td>0.389507</td>\n",
       "      <td>1.745617</td>\n",
       "      <td>-0.225154</td>\n",
       "      <td>0</td>\n",
       "    </tr>\n",
       "    <tr>\n",
       "      <th>57</th>\n",
       "      <td>2.199927</td>\n",
       "      <td>0.441774</td>\n",
       "      <td>0.113259</td>\n",
       "      <td>-0.890945</td>\n",
       "      <td>0</td>\n",
       "    </tr>\n",
       "  </tbody>\n",
       "</table>\n",
       "</div>"
      ],
      "text/plain": [
       "        col2      col5      col3      col1  target\n",
       "15  1.180913  0.414407  1.417394 -1.616536       0\n",
       "23  0.147146  2.272398 -0.375219 -1.293786       0\n",
       "85 -0.143130 -1.429861 -1.059078 -0.613519       1\n",
       "43  2.443199  0.392170  1.097059 -1.444780       0\n",
       "33 -0.981664 -0.656774 -1.970835  0.109756       1\n",
       "74  1.322358  1.769245  0.028901 -0.871349       0\n",
       "68 -0.034082 -1.433034 -1.272969  2.482890       1\n",
       "58  0.623402 -0.258132  2.845378 -0.040991       0\n",
       "46 -2.271769  0.823010 -1.007347  2.775695       1\n",
       "42 -2.970633  0.125144 -1.100552  1.546344       1\n",
       "46 -2.271769  0.823010 -1.007347  2.775695       1\n",
       "74  1.322358  1.769245  0.028901 -0.871349       0\n",
       "1  -2.608917 -1.333287  0.273801  0.842429       1\n",
       "52 -0.562090 -0.933546 -1.443956  0.196342       1\n",
       "31  0.699305 -0.293503  1.775468 -0.242867       0\n",
       "50  0.070286 -1.757258 -0.458344  1.415500       1\n",
       "2   0.888995  0.389507  1.745617 -0.225154       0\n",
       "62  1.732004  0.224500  1.330275 -2.144645       0\n",
       "41 -0.779474 -0.394475 -0.929486  1.228884       1\n",
       "8   0.759027 -1.423997 -1.376712  1.067918       1\n",
       "69  1.282021  0.132859 -2.297732  1.327601       1\n",
       "88 -0.699461 -0.698977 -0.748308  2.500326       1\n",
       "9   0.913715 -0.058971  1.322673 -0.595664       0\n",
       "58  0.623402 -0.258132  2.845378 -0.040991       0\n",
       "8   0.759027 -1.423997 -1.376712  1.067918       1\n",
       "16 -2.460197 -0.052927 -2.020051 -0.543362       1\n",
       "54  2.549583  0.472300  0.746136 -0.689395       0\n",
       "60  0.034737  0.775990  1.121468  0.404146       0\n",
       "30  2.550058  0.743727  2.153202 -2.484437       0\n",
       "72  0.128328 -0.811412 -1.374871 -1.950993       1\n",
       "36 -0.376288  0.162992 -2.966058  0.205769       1\n",
       "92  1.713750 -0.341866  1.890409 -0.361309       0\n",
       "14 -0.783220  0.837754 -1.922529  1.488564       1\n",
       "90  0.918824  0.500722  1.242582 -1.387019       0\n",
       "11  0.150286  1.867666  1.791726  0.734992       0\n",
       "26  1.303157  2.353038  0.134293 -1.084687       0\n",
       "53 -0.228993 -0.027705 -2.675064  0.635648       1\n",
       "16 -2.460197 -0.052927 -2.020051 -0.543362       1\n",
       "50  0.070286 -1.757258 -0.458344  1.415500       1\n",
       "38  3.516786  1.231060 -0.572928 -2.140751       0\n",
       "39 -0.136770  2.157514  0.433854 -0.916286       0\n",
       "66  1.362923  1.803685 -0.546411 -3.819611       0\n",
       "16 -2.460197 -0.052927 -2.020051 -0.543362       1\n",
       "27  1.120884  1.969916  0.019779 -1.143558       0\n",
       "62  1.732004  0.224500  1.330275 -2.144645       0\n",
       "42 -2.970633  0.125144 -1.100552  1.546344       1\n",
       "54  2.549583  0.472300  0.746136 -0.689395       0\n",
       "87 -0.018354 -1.499517 -1.549412 -0.377000       1\n",
       "2   0.888995  0.389507  1.745617 -0.225154       0\n",
       "57  2.199927  0.441774  0.113259 -0.890945       0"
      ]
     },
     "execution_count": 41,
     "metadata": {},
     "output_type": "execute_result"
    }
   ],
   "source": [
    "df1 = combined_sampling(df,0.5,0.8)\n",
    "df2 = combined_sampling(df,0.5,0.8)\n",
    "df3 = combined_sampling(df,0.5,0.8)\n",
    "df3"
   ]
  },
  {
   "cell_type": "code",
   "execution_count": 42,
   "id": "220ba1fb",
   "metadata": {},
   "outputs": [
    {
     "name": "stdout",
     "output_type": "stream",
     "text": [
      "Index(['col2', 'col3', 'col5', 'col4', 'target'], dtype='object')\n",
      "Index(['col2', 'col3', 'col4', 'col1', 'target'], dtype='object')\n",
      "Index(['col2', 'col5', 'col3', 'col1', 'target'], dtype='object')\n"
     ]
    }
   ],
   "source": [
    "print(df1.columns)\n",
    "print(df2.columns)\n",
    "print(df3.columns)"
   ]
  },
  {
   "cell_type": "code",
   "execution_count": 43,
   "id": "3aa7f4bb",
   "metadata": {},
   "outputs": [],
   "source": [
    "dt1 = DecisionTreeClassifier()\n",
    "dt2 = DecisionTreeClassifier()\n",
    "dt3 = DecisionTreeClassifier()"
   ]
  },
  {
   "cell_type": "code",
   "execution_count": 44,
   "id": "832fe218",
   "metadata": {},
   "outputs": [
    {
     "data": {
      "text/plain": [
       "DecisionTreeClassifier()"
      ]
     },
     "execution_count": 44,
     "metadata": {},
     "output_type": "execute_result"
    }
   ],
   "source": [
    "dt1.fit(df1.iloc[:,:-1],df1.iloc[:,-1])\n",
    "dt2.fit(df2.iloc[:,:-1],df2.iloc[:,-1])\n",
    "dt3.fit(df3.iloc[:,:-1],df3.iloc[:,-1])"
   ]
  },
  {
   "cell_type": "code",
   "execution_count": 45,
   "id": "c7a387a3",
   "metadata": {},
   "outputs": [
    {
     "data": {
      "text/plain": [
       "[Text(0.5, 0.8333333333333334, 'X[0] <= -0.244\\ngini = 0.493\\nsamples = 50\\nvalue = [28, 22]'),\n",
       " Text(0.25, 0.5, 'X[1] <= 0.748\\ngini = 0.091\\nsamples = 21\\nvalue = [1, 20]'),\n",
       " Text(0.125, 0.16666666666666666, 'gini = 0.0\\nsamples = 20\\nvalue = [0, 20]'),\n",
       " Text(0.375, 0.16666666666666666, 'gini = 0.0\\nsamples = 1\\nvalue = [1, 0]'),\n",
       " Text(0.75, 0.5, 'X[2] <= -0.453\\ngini = 0.128\\nsamples = 29\\nvalue = [27, 2]'),\n",
       " Text(0.625, 0.16666666666666666, 'gini = 0.0\\nsamples = 2\\nvalue = [0, 2]'),\n",
       " Text(0.875, 0.16666666666666666, 'gini = 0.0\\nsamples = 27\\nvalue = [27, 0]')]"
      ]
     },
     "execution_count": 45,
     "metadata": {},
     "output_type": "execute_result"
    },
    {
     "data": {
      "image/png": "[encoded data removed]",
      "text/plain": [
       "<Figure size 432x288 with 1 Axes>"
      ]
     },
     "metadata": {
      "needs_background": "light"
     },
     "output_type": "display_data"
    }
   ],
   "source": [
    "plot_tree(dt1)"
   ]
  },
  {
   "cell_type": "code",
   "execution_count": 46,
   "id": "7db3eb14",
   "metadata": {},
   "outputs": [
    {
     "data": {
      "text/plain": [
       "[Text(0.3333333333333333, 0.9, 'X[1] <= -0.427\\ngini = 0.5\\nsamples = 50\\nvalue = [25, 25]'),\n",
       " Text(0.16666666666666666, 0.7, 'gini = 0.0\\nsamples = 22\\nvalue = [0, 22]'),\n",
       " Text(0.5, 0.7, 'X[0] <= -0.943\\ngini = 0.191\\nsamples = 28\\nvalue = [25, 3]'),\n",
       " Text(0.3333333333333333, 0.5, 'gini = 0.0\\nsamples = 2\\nvalue = [0, 2]'),\n",
       " Text(0.6666666666666666, 0.5, 'X[2] <= -0.295\\ngini = 0.074\\nsamples = 26\\nvalue = [25, 1]'),\n",
       " Text(0.5, 0.3, 'X[3] <= -1.768\\ngini = 0.444\\nsamples = 3\\nvalue = [2, 1]'),\n",
       " Text(0.3333333333333333, 0.1, 'gini = 0.0\\nsamples = 2\\nvalue = [2, 0]'),\n",
       " Text(0.6666666666666666, 0.1, 'gini = 0.0\\nsamples = 1\\nvalue = [0, 1]'),\n",
       " Text(0.8333333333333334, 0.3, 'gini = 0.0\\nsamples = 23\\nvalue = [23, 0]')]"
      ]
     },
     "execution_count": 46,
     "metadata": {},
     "output_type": "execute_result"
    },
    {
     "data": {
      "image/png": "[encoded data removed]",
      "text/plain": [
       "<Figure size 432x288 with 1 Axes>"
      ]
     },
     "metadata": {
      "needs_background": "light"
     },
     "output_type": "display_data"
    }
   ],
   "source": [
    "plot_tree(dt2)"
   ]
  },
  {
   "cell_type": "code",
   "execution_count": 47,
   "id": "11a7184d",
   "metadata": {},
   "outputs": [
    {
     "data": {
      "text/plain": [
       "[Text(0.4, 0.8333333333333334, 'X[2] <= -0.661\\ngini = 0.499\\nsamples = 50\\nvalue = [26, 24]'),\n",
       " Text(0.2, 0.5, 'gini = 0.0\\nsamples = 21\\nvalue = [0, 21]'),\n",
       " Text(0.6, 0.5, 'X[1] <= -0.838\\ngini = 0.185\\nsamples = 29\\nvalue = [26, 3]'),\n",
       " Text(0.4, 0.16666666666666666, 'gini = 0.0\\nsamples = 3\\nvalue = [0, 3]'),\n",
       " Text(0.8, 0.16666666666666666, 'gini = 0.0\\nsamples = 26\\nvalue = [26, 0]')]"
      ]
     },
     "execution_count": 47,
     "metadata": {},
     "output_type": "execute_result"
    },
    {
     "data": {
      "image/png": "[encoded data removed]",
      "text/plain": [
       "<Figure size 432x288 with 1 Axes>"
      ]
     },
     "metadata": {
      "needs_background": "light"
     },
     "output_type": "display_data"
    }
   ],
   "source": [
    "plot_tree(dt3)"
   ]
  },
  {
   "cell_type": "code",
   "execution_count": 49,
   "id": "285a2d72",
   "metadata": {},
   "outputs": [
    {
     "name": "stderr",
     "output_type": "stream",
     "text": [
      "C:\\Users\\Nihar\\anaconda3\\lib\\site-packages\\sklearn\\base.py:450: UserWarning: X does not have valid feature names, but DecisionTreeClassifier was fitted with feature names\n",
      "  warnings.warn(\n"
     ]
    },
    {
     "data": {
      "text/plain": [
       "array([0])"
      ]
     },
     "execution_count": 49,
     "metadata": {},
     "output_type": "execute_result"
    }
   ],
   "source": [
    "dt1.predict(np.array([1.180913,0.414407,1.417394,-1.616536]).reshape(1,4))"
   ]
  },
  {
   "cell_type": "code",
   "execution_count": 50,
   "id": "2c699002",
   "metadata": {},
   "outputs": [
    {
     "name": "stderr",
     "output_type": "stream",
     "text": [
      "C:\\Users\\Nihar\\anaconda3\\lib\\site-packages\\sklearn\\base.py:450: UserWarning: X does not have valid feature names, but DecisionTreeClassifier was fitted with feature names\n",
      "  warnings.warn(\n"
     ]
    },
    {
     "data": {
      "text/plain": [
       "array([0])"
      ]
     },
     "execution_count": 50,
     "metadata": {},
     "output_type": "execute_result"
    }
   ],
   "source": [
    "dt2.predict(np.array([1.180913,0.414407,1.417394,-1.616536]).reshape(1,4))"
   ]
  },
  {
   "cell_type": "code",
   "execution_count": 51,
   "id": "43e3dcb5",
   "metadata": {},
   "outputs": [
    {
     "name": "stderr",
     "output_type": "stream",
     "text": [
      "C:\\Users\\Nihar\\anaconda3\\lib\\site-packages\\sklearn\\base.py:450: UserWarning: X does not have valid feature names, but DecisionTreeClassifier was fitted with feature names\n",
      "  warnings.warn(\n"
     ]
    },
    {
     "data": {
      "text/plain": [
       "array([0])"
      ]
     },
     "execution_count": 51,
     "metadata": {},
     "output_type": "execute_result"
    }
   ],
   "source": [
    "dt3.predict(np.array([1.180913,0.414407,1.417394,-1.616536]).reshape(1,4))"
   ]
  },
  {
   "cell_type": "code",
   "execution_count": null,
   "id": "3084771d",
   "metadata": {},
   "outputs": [],
   "source": []
  }
 ],
 "metadata": {
  "kernelspec": {
   "display_name": "Python 3 (ipykernel)",
   "language": "python",
   "name": "python3"
  },
  "language_info": {
   "codemirror_mode": {
    "name": "ipython",
    "version": 3
   },
   "file_extension": ".py",
   "mimetype": "text/x-python",
   "name": "python",
   "nbconvert_exporter": "python",
   "pygments_lexer": "ipython3",
   "version": "3.9.12"
  }
 },
 "nbformat": 4,
 "nbformat_minor": 5
}
