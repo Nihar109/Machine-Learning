{
 "cells": [
  {
   "cell_type": "code",
   "execution_count": 3,
   "id": "56214fac",
   "metadata": {},
   "outputs": [],
   "source": [
    "x={123:[['a','b','c'],['d','e','f']]} "
   ]
  },
  {
   "cell_type": "code",
   "execution_count": 4,
   "id": "13f56918",
   "metadata": {},
   "outputs": [
    {
     "data": {
      "text/plain": [
       "{123: [['a', 'b', 'c'], ['d', 'e', 'f']]}"
      ]
     },
     "execution_count": 4,
     "metadata": {},
     "output_type": "execute_result"
    }
   ],
   "source": [
    "x"
   ]
  },
  {
   "cell_type": "code",
   "execution_count": 14,
   "id": "23344b3d",
   "metadata": {},
   "outputs": [
    {
     "data": {
      "text/plain": [
       "[[['a', 'b', 'c'], ['d', 'e', 'f']]]"
      ]
     },
     "execution_count": 14,
     "metadata": {},
     "output_type": "execute_result"
    }
   ],
   "source": [
    "list(x.values())"
   ]
  },
  {
   "cell_type": "code",
   "execution_count": 19,
   "id": "d688c2a8",
   "metadata": {},
   "outputs": [],
   "source": [
    "x[123] = ['-'.join(list(x.values())[0][0]),'-'.join(list(x.values())[0][1])] "
   ]
  },
  {
   "cell_type": "code",
   "execution_count": 18,
   "id": "711b5ac4",
   "metadata": {},
   "outputs": [
    {
     "data": {
      "text/plain": [
       "['a', 'b', 'c']"
      ]
     },
     "execution_count": 18,
     "metadata": {},
     "output_type": "execute_result"
    }
   ],
   "source": [
    "list(x.values())[0][0]"
   ]
  },
  {
   "cell_type": "code",
   "execution_count": 20,
   "id": "2c46077c",
   "metadata": {},
   "outputs": [
    {
     "data": {
      "text/plain": [
       "{123: ['a-b-c', 'd-e-f']}"
      ]
     },
     "execution_count": 20,
     "metadata": {},
     "output_type": "execute_result"
    }
   ],
   "source": [
    "x"
   ]
  },
  {
   "cell_type": "code",
   "execution_count": 21,
   "id": "62d5d80f",
   "metadata": {},
   "outputs": [
    {
     "data": {
      "text/plain": [
       "['a-b-c', 'd-e-f']"
      ]
     },
     "execution_count": 21,
     "metadata": {},
     "output_type": "execute_result"
    }
   ],
   "source": [
    "x[123]"
   ]
  },
  {
   "cell_type": "code",
   "execution_count": 25,
   "id": "7090fbce",
   "metadata": {},
   "outputs": [
    {
     "data": {
      "text/plain": [
       "[123]"
      ]
     },
     "execution_count": 25,
     "metadata": {},
     "output_type": "execute_result"
    }
   ],
   "source": [
    "list(x.keys())"
   ]
  },
  {
   "cell_type": "code",
   "execution_count": 28,
   "id": "82b5058e",
   "metadata": {},
   "outputs": [
    {
     "data": {
      "text/plain": [
       "['a-b-c', 'd-e-f']"
      ]
     },
     "execution_count": 28,
     "metadata": {},
     "output_type": "execute_result"
    }
   ],
   "source": [
    "\n",
    "x.get(123)\n",
    "    "
   ]
  },
  {
   "cell_type": "code",
   "execution_count": null,
   "id": "ea858879",
   "metadata": {},
   "outputs": [],
   "source": [
    "def dicts_val(dicts[value]):\n",
    "    \n",
    "    "
   ]
  }
 ],
 "metadata": {
  "kernelspec": {
   "display_name": "Python 3 (ipykernel)",
   "language": "python",
   "name": "python3"
  },
  "language_info": {
   "codemirror_mode": {
    "name": "ipython",
    "version": 3
   },
   "file_extension": ".py",
   "mimetype": "text/x-python",
   "name": "python",
   "nbconvert_exporter": "python",
   "pygments_lexer": "ipython3",
   "version": "3.9.12"
  }
 },
 "nbformat": 4,
 "nbformat_minor": 5
}
