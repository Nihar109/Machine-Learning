{
 "cells": [
  {
   "cell_type": "code",
   "execution_count": 1,
   "id": "45e5e67e",
   "metadata": {},
   "outputs": [
    {
     "name": "stdout",
     "output_type": "stream",
     "text": [
      "Import libraries sucessfully !!\n"
     ]
    }
   ],
   "source": [
    "import numpy as np\n",
    "import pandas as pd\n",
    "import seaborn as sns\n",
    "import matplotlib.pyplot as plt\n",
    "%matplotlib inline\n",
    "\n",
    "import warnings\n",
    "warnings.filterwarnings('ignore')\n",
    "print('Import libraries sucessfully !!')"
   ]
  },
  {
   "cell_type": "code",
   "execution_count": 2,
   "id": "20b77b32",
   "metadata": {},
   "outputs": [],
   "source": [
    "delivery = pd.read_csv('deliveries.csv')"
   ]
  },
  {
   "cell_type": "code",
   "execution_count": 3,
   "id": "63a4f017",
   "metadata": {},
   "outputs": [
    {
     "data": {
      "text/html": [
       "<div>\n",
       "<style scoped>\n",
       "    .dataframe tbody tr th:only-of-type {\n",
       "        vertical-align: middle;\n",
       "    }\n",
       "\n",
       "    .dataframe tbody tr th {\n",
       "        vertical-align: top;\n",
       "    }\n",
       "\n",
       "    .dataframe thead th {\n",
       "        text-align: right;\n",
       "    }\n",
       "</style>\n",
       "<table border=\"1\" class=\"dataframe\">\n",
       "  <thead>\n",
       "    <tr style=\"text-align: right;\">\n",
       "      <th></th>\n",
       "      <th>match_id</th>\n",
       "      <th>inning</th>\n",
       "      <th>batting_team</th>\n",
       "      <th>bowling_team</th>\n",
       "      <th>over</th>\n",
       "      <th>ball</th>\n",
       "      <th>batsman</th>\n",
       "      <th>non_striker</th>\n",
       "      <th>bowler</th>\n",
       "      <th>is_super_over</th>\n",
       "      <th>...</th>\n",
       "      <th>bye_runs</th>\n",
       "      <th>legbye_runs</th>\n",
       "      <th>noball_runs</th>\n",
       "      <th>penalty_runs</th>\n",
       "      <th>batsman_runs</th>\n",
       "      <th>extra_runs</th>\n",
       "      <th>total_runs</th>\n",
       "      <th>player_dismissed</th>\n",
       "      <th>dismissal_kind</th>\n",
       "      <th>fielder</th>\n",
       "    </tr>\n",
       "  </thead>\n",
       "  <tbody>\n",
       "    <tr>\n",
       "      <th>0</th>\n",
       "      <td>1</td>\n",
       "      <td>1</td>\n",
       "      <td>Sunrisers Hyderabad</td>\n",
       "      <td>Royal Challengers Bangalore</td>\n",
       "      <td>1</td>\n",
       "      <td>1</td>\n",
       "      <td>DA Warner</td>\n",
       "      <td>S Dhawan</td>\n",
       "      <td>TS Mills</td>\n",
       "      <td>0</td>\n",
       "      <td>...</td>\n",
       "      <td>0</td>\n",
       "      <td>0</td>\n",
       "      <td>0</td>\n",
       "      <td>0</td>\n",
       "      <td>0</td>\n",
       "      <td>0</td>\n",
       "      <td>0</td>\n",
       "      <td>NaN</td>\n",
       "      <td>NaN</td>\n",
       "      <td>NaN</td>\n",
       "    </tr>\n",
       "    <tr>\n",
       "      <th>1</th>\n",
       "      <td>1</td>\n",
       "      <td>1</td>\n",
       "      <td>Sunrisers Hyderabad</td>\n",
       "      <td>Royal Challengers Bangalore</td>\n",
       "      <td>1</td>\n",
       "      <td>2</td>\n",
       "      <td>DA Warner</td>\n",
       "      <td>S Dhawan</td>\n",
       "      <td>TS Mills</td>\n",
       "      <td>0</td>\n",
       "      <td>...</td>\n",
       "      <td>0</td>\n",
       "      <td>0</td>\n",
       "      <td>0</td>\n",
       "      <td>0</td>\n",
       "      <td>0</td>\n",
       "      <td>0</td>\n",
       "      <td>0</td>\n",
       "      <td>NaN</td>\n",
       "      <td>NaN</td>\n",
       "      <td>NaN</td>\n",
       "    </tr>\n",
       "    <tr>\n",
       "      <th>2</th>\n",
       "      <td>1</td>\n",
       "      <td>1</td>\n",
       "      <td>Sunrisers Hyderabad</td>\n",
       "      <td>Royal Challengers Bangalore</td>\n",
       "      <td>1</td>\n",
       "      <td>3</td>\n",
       "      <td>DA Warner</td>\n",
       "      <td>S Dhawan</td>\n",
       "      <td>TS Mills</td>\n",
       "      <td>0</td>\n",
       "      <td>...</td>\n",
       "      <td>0</td>\n",
       "      <td>0</td>\n",
       "      <td>0</td>\n",
       "      <td>0</td>\n",
       "      <td>4</td>\n",
       "      <td>0</td>\n",
       "      <td>4</td>\n",
       "      <td>NaN</td>\n",
       "      <td>NaN</td>\n",
       "      <td>NaN</td>\n",
       "    </tr>\n",
       "    <tr>\n",
       "      <th>3</th>\n",
       "      <td>1</td>\n",
       "      <td>1</td>\n",
       "      <td>Sunrisers Hyderabad</td>\n",
       "      <td>Royal Challengers Bangalore</td>\n",
       "      <td>1</td>\n",
       "      <td>4</td>\n",
       "      <td>DA Warner</td>\n",
       "      <td>S Dhawan</td>\n",
       "      <td>TS Mills</td>\n",
       "      <td>0</td>\n",
       "      <td>...</td>\n",
       "      <td>0</td>\n",
       "      <td>0</td>\n",
       "      <td>0</td>\n",
       "      <td>0</td>\n",
       "      <td>0</td>\n",
       "      <td>0</td>\n",
       "      <td>0</td>\n",
       "      <td>NaN</td>\n",
       "      <td>NaN</td>\n",
       "      <td>NaN</td>\n",
       "    </tr>\n",
       "    <tr>\n",
       "      <th>4</th>\n",
       "      <td>1</td>\n",
       "      <td>1</td>\n",
       "      <td>Sunrisers Hyderabad</td>\n",
       "      <td>Royal Challengers Bangalore</td>\n",
       "      <td>1</td>\n",
       "      <td>5</td>\n",
       "      <td>DA Warner</td>\n",
       "      <td>S Dhawan</td>\n",
       "      <td>TS Mills</td>\n",
       "      <td>0</td>\n",
       "      <td>...</td>\n",
       "      <td>0</td>\n",
       "      <td>0</td>\n",
       "      <td>0</td>\n",
       "      <td>0</td>\n",
       "      <td>0</td>\n",
       "      <td>2</td>\n",
       "      <td>2</td>\n",
       "      <td>NaN</td>\n",
       "      <td>NaN</td>\n",
       "      <td>NaN</td>\n",
       "    </tr>\n",
       "  </tbody>\n",
       "</table>\n",
       "<p>5 rows × 21 columns</p>\n",
       "</div>"
      ],
      "text/plain": [
       "   match_id  inning         batting_team                 bowling_team  over  \\\n",
       "0         1       1  Sunrisers Hyderabad  Royal Challengers Bangalore     1   \n",
       "1         1       1  Sunrisers Hyderabad  Royal Challengers Bangalore     1   \n",
       "2         1       1  Sunrisers Hyderabad  Royal Challengers Bangalore     1   \n",
       "3         1       1  Sunrisers Hyderabad  Royal Challengers Bangalore     1   \n",
       "4         1       1  Sunrisers Hyderabad  Royal Challengers Bangalore     1   \n",
       "\n",
       "   ball    batsman non_striker    bowler  is_super_over  ...  bye_runs  \\\n",
       "0     1  DA Warner    S Dhawan  TS Mills              0  ...         0   \n",
       "1     2  DA Warner    S Dhawan  TS Mills              0  ...         0   \n",
       "2     3  DA Warner    S Dhawan  TS Mills              0  ...         0   \n",
       "3     4  DA Warner    S Dhawan  TS Mills              0  ...         0   \n",
       "4     5  DA Warner    S Dhawan  TS Mills              0  ...         0   \n",
       "\n",
       "   legbye_runs  noball_runs  penalty_runs  batsman_runs  extra_runs  \\\n",
       "0            0            0             0             0           0   \n",
       "1            0            0             0             0           0   \n",
       "2            0            0             0             4           0   \n",
       "3            0            0             0             0           0   \n",
       "4            0            0             0             0           2   \n",
       "\n",
       "   total_runs  player_dismissed dismissal_kind fielder  \n",
       "0           0               NaN            NaN     NaN  \n",
       "1           0               NaN            NaN     NaN  \n",
       "2           4               NaN            NaN     NaN  \n",
       "3           0               NaN            NaN     NaN  \n",
       "4           2               NaN            NaN     NaN  \n",
       "\n",
       "[5 rows x 21 columns]"
      ]
     },
     "execution_count": 3,
     "metadata": {},
     "output_type": "execute_result"
    }
   ],
   "source": [
    "delivery.head()"
   ]
  },
  {
   "cell_type": "code",
   "execution_count": 4,
   "id": "fca1dbc7",
   "metadata": {},
   "outputs": [],
   "source": [
    "runs = delivery.groupby('batsman')['batsman_runs'].sum()\n",
    "runs = delivery.groupby('batsman').sum()['batsman_runs']"
   ]
  },
  {
   "cell_type": "code",
   "execution_count": 5,
   "id": "ced30c7d",
   "metadata": {},
   "outputs": [
    {
     "data": {
      "text/plain": [
       "batsman\n",
       "A Ashish Reddy     280\n",
       "A Chandila           4\n",
       "A Chopra            53\n",
       "A Choudhary         25\n",
       "A Flintoff          62\n",
       "                  ... \n",
       "YV Takawale        192\n",
       "Yashpal Singh       47\n",
       "Younis Khan          3\n",
       "Yuvraj Singh      2591\n",
       "Z Khan             117\n",
       "Name: batsman_runs, Length: 461, dtype: int64"
      ]
     },
     "execution_count": 5,
     "metadata": {},
     "output_type": "execute_result"
    }
   ],
   "source": [
    "runs"
   ]
  },
  {
   "cell_type": "code",
   "execution_count": 6,
   "id": "20f8ed61",
   "metadata": {},
   "outputs": [],
   "source": [
    "runs = runs.values"
   ]
  },
  {
   "cell_type": "code",
   "execution_count": 7,
   "id": "36dc9cf1",
   "metadata": {},
   "outputs": [
    {
     "data": {
      "text/plain": [
       "array([ 280,    4,   53,   25,   62,   35,  340,   34,   19,   41,    2,\n",
       "        974,    4,    5,   69,   12,  217,    9,  179,   42,   26,  123,\n",
       "       3486,  120, 2069,   20,  181,   79,  724,   20,  574,    7,   10,\n",
       "         49, 1604,   53,  401,  672, 3057,   36,    7,   34,   87,  339,\n",
       "         12,  606,    6,  194,   49, 2416,   39,    0,   63,   87,    7,\n",
       "         33,  388,   76,  280,  158,    4,  124,   35,    6,  316,    3,\n",
       "       2755,  125,    4,  124,    1,   18, 1400,  193,   23,   40,   28,\n",
       "        187,   15,   30,    0,  126,   21,  384,  390, 3651,  439,  521,\n",
       "         98,    3,    8,   16,    8,  971,  169,   95,   46,    4,    3,\n",
       "         33,  127,   10, 1563, 4014,   12,  304,  375,   21,  170, 1262,\n",
       "        111,  373, 1322,   92,    1,   39,  295,   14,  121,    6,   11,\n",
       "          4,    1, 1808,   19, 2385,   90,   18,  420,   13,  166,  854,\n",
       "         24,   14, 1295,    4,  183, 4132,   22,  739,    4,  280,  663,\n",
       "       1229,   15,  342,    2,  886,  406,  577,   47,  799,   18,   20,\n",
       "          7,   45,    0, 1150,   76,   18,   88,  319,   23,  409,   48,\n",
       "         29,   10,    6,  975,  528,  604,    5,  106,   42,    3,  327,\n",
       "       2427,   25,   59,   18,   26,   38, 1993,  527,  417,    8,   36,\n",
       "        218,   55,   12, 2354,   10,   51,   15, 1687, 2903,  480,   13,\n",
       "        116, 1158,  725,  893,    5,    2, 1001,  411,  317,   36,  128,\n",
       "          3,   12,   20,    0,   36,   34,   81,  302,    1,  106, 1079,\n",
       "         40,  405, 1017,    0,  259,  113,   73,  514,  126,   20,   11,\n",
       "         55, 2511,  957,    1,  814,   24,   96,  969,  125,  237,   14,\n",
       "       1977,  177,  151,   98,  189,  278,   63, 2223, 1648, 1107,   39,\n",
       "        112,  161,  167,  163,  225,  798, 3560,   99,   22,  394, 1112,\n",
       "          2,  117,    2,    3,   64,    2,   46,  437,  140,    0,   20,\n",
       "          1,   26,  424,   52,   23, 1553,  121,  506,    5,  127,  340,\n",
       "        353,    1,   19, 2322,  164,  505,  203,   77,   24,    1,  515,\n",
       "         16,   92,    6,   18,    7,   17,  726,  231,  342,   19,  153,\n",
       "       2174,  159,    3,   51,  270,   66,   19,   35,  304, 1732,  391,\n",
       "          3,   83,  159,    2, 4207,  117,   32,  103,  326,   52,    0,\n",
       "        564,   67,   20,   53,   73,  531,    2,    4,   91,   50, 3778,\n",
       "         11,  136,   59,   13, 1441,   25, 3561,   14,    9,    0,    0,\n",
       "         26,   37,   91,    2,  368,   34,   31,    3,  145,   15,  423,\n",
       "        608,   49,   28,    6,  131,    2, 1349,   99,    1, 2489,    5,\n",
       "       4548,   42,  198,   88,    9,  241,  147,   10,  177,    7,  196,\n",
       "        241,   38,  271, 1713, 2334, 2628,  807,    6, 1276,  768,  766,\n",
       "       1426,  226,   23,  137,  193,   26,   81,  500,    5,    1,    2,\n",
       "         52,   36,    0,   43,   12,   11,   11,   31,   12,    5,   10,\n",
       "         54,  676, 1153,  205,    8,   75,    8,    0,    7,  300,  127,\n",
       "         94,   39, 4423,    0, 2728,  101,   29,   46,    4,    7,    2,\n",
       "        282,   15,   19,  130,   56,   63, 1557,   81,    9,   10,   19,\n",
       "        285,  985,    0, 2922,   15,  192,   47,    3, 2591,  117],\n",
       "      dtype=int64)"
      ]
     },
     "execution_count": 7,
     "metadata": {},
     "output_type": "execute_result"
    }
   ],
   "source": [
    "runs"
   ]
  },
  {
   "cell_type": "code",
   "execution_count": 8,
   "id": "9a83c8bc",
   "metadata": {},
   "outputs": [
    {
     "data": {
      "text/plain": [
       "<seaborn.axisgrid.FacetGrid at 0x1e201555490>"
      ]
     },
     "execution_count": 8,
     "metadata": {},
     "output_type": "execute_result"
    },
    {
     "data": {
      "image/png": "[encoded data removed]",
      "text/plain": [
       "<Figure size 360x360 with 1 Axes>"
      ]
     },
     "metadata": {
      "needs_background": "light"
     },
     "output_type": "display_data"
    }
   ],
   "source": [
    "sns.displot(runs,kde=True)"
   ]
  },
  {
   "cell_type": "markdown",
   "id": "ab8afe27",
   "metadata": {},
   "source": [
    "### Sampling"
   ]
  },
  {
   "cell_type": "code",
   "execution_count": 9,
   "id": "de781741",
   "metadata": {},
   "outputs": [],
   "source": [
    "# n = 50/461 , batsman taken per sample\n",
    "# m = 1000, number of smapling done"
   ]
  },
  {
   "cell_type": "code",
   "execution_count": 10,
   "id": "d7c9efc3",
   "metadata": {},
   "outputs": [
    {
     "data": {
      "text/plain": [
       "array([  20,  726, 2591,  241,   54,   76,    6, 1112,  437,   69],\n",
       "      dtype=int64)"
      ]
     },
     "execution_count": 10,
     "metadata": {},
     "output_type": "execute_result"
    }
   ],
   "source": [
    "np.random.choice(runs, size=10)"
   ]
  },
  {
   "cell_type": "code",
   "execution_count": 11,
   "id": "4e1fcb3e",
   "metadata": {},
   "outputs": [],
   "source": [
    "m= 1000\n",
    "n= 50\n",
    "new = []\n",
    "for i in range(m):\n",
    "    x = np.random.choice(runs, size=n)\n",
    "    new.append(x.mean())"
   ]
  },
  {
   "cell_type": "code",
   "execution_count": 12,
   "id": "8700780c",
   "metadata": {},
   "outputs": [
    {
     "data": {
      "text/plain": [
       "1000"
      ]
     },
     "execution_count": 12,
     "metadata": {},
     "output_type": "execute_result"
    }
   ],
   "source": [
    "len(new)"
   ]
  },
  {
   "cell_type": "code",
   "execution_count": 13,
   "id": "3babff22",
   "metadata": {},
   "outputs": [],
   "source": [
    "new = np.array(new)"
   ]
  },
  {
   "cell_type": "code",
   "execution_count": 14,
   "id": "a16962b8",
   "metadata": {},
   "outputs": [
    {
     "data": {
      "text/plain": [
       "array([429.34, 287.02, 431.6 , 512.64, 296.5 , 407.9 , 551.28, 206.44,\n",
       "       326.64, 337.24, 434.16, 594.28, 247.88, 286.84, 456.14, 455.78,\n",
       "       388.32, 421.9 , 470.5 , 527.34, 401.38, 660.38, 517.72, 516.32,\n",
       "       376.18, 482.14, 498.04, 265.78, 371.34, 351.46, 421.38, 402.96,\n",
       "       456.02, 390.96, 565.78, 470.34, 449.36, 289.18, 328.72, 597.04,\n",
       "       211.52, 394.84, 325.48, 327.72, 402.76, 358.48, 344.16, 383.38,\n",
       "       538.9 , 384.6 , 441.9 , 426.74, 414.22, 241.38, 331.02, 398.26,\n",
       "       304.74, 280.02, 448.28, 215.38, 438.7 , 429.14, 245.84, 485.68,\n",
       "       475.92, 453.78, 516.28, 590.78, 406.74, 464.9 , 618.44, 496.88,\n",
       "       507.86, 439.24, 183.18, 319.16, 548.26, 402.3 , 418.66, 347.74,\n",
       "       432.18, 407.56, 425.54, 361.8 , 219.9 , 219.78, 517.86, 418.94,\n",
       "       409.22, 235.86, 285.4 , 337.72, 664.24, 354.72, 633.54, 372.64,\n",
       "       306.48, 464.62, 418.82, 379.5 , 355.44, 401.56, 514.44, 318.16,\n",
       "       333.68, 443.86, 350.34, 577.22, 329.88, 550.16, 237.08, 518.58,\n",
       "       384.56, 189.4 , 359.22, 279.82, 304.1 , 228.62, 345.48, 440.5 ,\n",
       "       519.74, 526.72, 364.52, 515.  , 471.48, 477.  , 326.66, 397.26,\n",
       "       315.3 , 534.42, 626.1 , 413.76, 566.56, 473.86, 531.48, 469.58,\n",
       "       572.38, 457.86, 356.26, 455.64, 533.9 , 296.94, 377.48, 377.78,\n",
       "       390.18, 467.38, 333.32, 447.14, 465.76, 366.9 , 714.22, 309.78,\n",
       "       405.22, 428.12, 436.18, 495.76, 416.98, 261.04, 531.06, 228.12,\n",
       "       302.82, 339.32, 197.5 , 506.1 , 563.62, 370.22, 445.1 , 497.28,\n",
       "       361.1 , 219.12, 585.16, 413.  , 413.18, 615.66, 368.28, 266.5 ,\n",
       "       496.06, 358.56, 364.48, 245.42, 414.9 , 517.58, 334.18, 478.26,\n",
       "       309.62, 465.08, 565.84, 298.34, 255.28, 280.42, 487.88, 479.54,\n",
       "       414.64, 318.72, 302.96, 508.42, 307.18, 220.62, 238.26, 408.68,\n",
       "       492.42, 254.94, 342.1 , 358.42, 420.36, 324.1 , 472.66, 292.7 ,\n",
       "       360.22, 309.92, 575.1 , 354.2 , 633.28, 345.12, 409.2 , 388.66,\n",
       "       348.  , 264.02, 292.06, 367.74, 373.54, 313.36, 353.26, 372.52,\n",
       "       335.56, 461.26, 273.9 , 598.2 , 599.68, 333.18, 374.6 , 390.02,\n",
       "       656.06, 443.14, 371.3 , 452.26, 297.88, 560.62, 431.82, 437.2 ,\n",
       "       219.3 , 338.86, 326.02, 401.52, 483.78, 323.72, 450.36, 261.46,\n",
       "       466.92, 485.48, 359.5 , 528.14, 405.16, 330.68, 655.16, 618.04,\n",
       "       300.18, 545.04, 320.56, 197.62, 369.48, 443.5 , 394.56, 398.22,\n",
       "       405.66, 234.5 , 416.98, 565.42, 395.34, 507.28, 489.2 , 525.46,\n",
       "       415.66, 570.6 , 439.3 , 251.32, 484.38, 151.7 , 332.14, 352.08,\n",
       "       372.22, 315.7 , 266.98, 380.8 , 512.26, 357.2 , 330.24, 254.96,\n",
       "       490.28, 491.02, 287.  , 519.98, 261.04, 302.26, 399.72, 312.88,\n",
       "       366.28, 609.88, 249.28, 355.84, 658.3 , 213.42, 315.82, 429.6 ,\n",
       "       495.58, 617.5 , 356.34, 412.34, 518.62, 367.4 , 303.66, 362.68,\n",
       "       456.46, 537.78, 378.08, 418.52, 562.62, 292.48, 362.72, 574.96,\n",
       "       482.14, 369.  , 425.9 , 377.84, 510.62, 504.18, 419.2 , 371.06,\n",
       "       379.92, 311.9 , 521.94, 247.82, 336.72, 272.68, 384.62, 422.66,\n",
       "       320.68, 342.8 , 288.28, 293.54, 443.04, 355.3 , 261.28, 421.38,\n",
       "       379.72, 355.62, 517.38, 240.76, 427.56, 640.84, 192.4 , 439.58,\n",
       "       236.98, 338.98, 373.68, 335.46, 460.62, 474.42, 319.06, 717.32,\n",
       "       291.44, 441.72, 389.28, 213.58, 237.6 , 215.26, 768.4 , 336.68,\n",
       "       319.2 , 368.42, 295.36, 484.82, 389.44, 409.88, 371.16, 270.42,\n",
       "       420.2 , 446.98, 485.16, 473.58, 269.74, 231.36, 241.54, 399.36,\n",
       "       279.98, 471.4 , 430.04, 488.62, 285.16, 414.94, 528.12, 360.34,\n",
       "       398.98, 225.82, 521.68, 504.42, 329.58, 531.66, 577.64, 468.88,\n",
       "       438.32, 374.28, 251.52, 279.88, 429.44, 475.98, 472.32, 344.64,\n",
       "       235.58, 377.14, 207.64, 336.78, 666.04, 425.98, 325.3 , 323.84,\n",
       "       186.84, 490.26, 466.96, 325.82, 351.62, 562.66, 417.4 , 554.48,\n",
       "       365.  , 463.98, 293.86, 426.98, 295.64, 653.6 , 392.36, 332.04,\n",
       "       446.04, 465.1 , 307.66, 446.66, 355.12, 560.74, 356.14, 472.04,\n",
       "       556.16, 470.92, 411.34, 474.04, 490.06, 329.88, 296.14, 347.3 ,\n",
       "       332.58, 482.5 , 399.96, 317.62, 314.38, 456.  , 415.44, 252.12,\n",
       "       293.56, 593.42, 252.92, 270.8 , 257.52, 417.42, 580.2 , 278.58,\n",
       "       329.64, 531.08, 557.46, 281.58, 600.24, 245.62, 389.4 , 560.24,\n",
       "       241.84, 612.84, 264.  , 313.66, 392.92, 365.96, 479.72, 311.28,\n",
       "       273.32, 356.42, 344.78, 165.68, 237.18, 367.88, 316.62, 369.72,\n",
       "       631.44, 446.24, 391.62, 474.94, 513.82, 462.2 , 262.98, 526.32,\n",
       "       589.3 , 470.88, 589.14, 472.94, 284.84, 195.44, 310.84, 299.34,\n",
       "       376.14, 233.68, 424.64, 355.76, 600.42, 332.4 , 486.24, 194.02,\n",
       "       356.76, 289.26, 464.56, 455.02, 389.4 , 350.5 , 316.16, 262.16,\n",
       "       439.84, 375.96, 235.14, 462.18, 446.5 , 230.6 , 391.72, 183.76,\n",
       "       504.84, 361.  , 204.3 , 395.04, 621.36, 320.96, 474.22, 400.82,\n",
       "       317.14, 645.  , 355.1 , 329.38, 537.  , 368.12, 424.3 , 369.58,\n",
       "       391.1 , 358.86, 380.78, 178.82, 269.04, 304.44, 406.72, 281.66,\n",
       "       358.42, 377.84, 492.12, 401.02, 528.82, 463.9 , 273.46, 354.24,\n",
       "       545.86, 385.86, 395.94, 373.22, 434.62, 376.72, 437.88, 376.88,\n",
       "       306.74, 402.18, 299.4 , 527.64, 392.24, 450.64, 609.6 , 358.28,\n",
       "       391.  , 555.74, 319.3 , 456.66, 381.34, 728.82, 395.88, 310.1 ,\n",
       "       435.38, 231.3 , 468.94, 384.06, 377.52, 609.46, 299.06, 256.94,\n",
       "       261.62, 209.48, 424.18, 347.22, 645.  , 510.2 , 425.9 , 308.94,\n",
       "       333.58, 473.74, 666.84, 466.74, 510.4 , 278.82, 383.74, 452.66,\n",
       "       300.08, 357.38, 296.16, 254.06, 294.76, 343.5 , 293.14, 560.26,\n",
       "       292.68, 367.8 , 595.4 , 467.72, 531.84, 390.7 , 226.68, 348.36,\n",
       "       484.74, 245.9 , 484.66, 497.98, 516.46, 543.04, 422.56, 196.74,\n",
       "       375.98, 475.72, 400.34, 538.26, 437.44, 508.38, 449.98, 513.84,\n",
       "       507.18, 329.4 , 294.02, 485.88, 320.48, 637.02, 291.18, 311.36,\n",
       "       247.82, 584.  , 248.18, 364.68, 488.62, 430.88, 403.9 , 540.64,\n",
       "       499.24, 219.34, 355.3 , 274.3 , 354.28, 436.96, 421.68, 287.22,\n",
       "       480.74, 508.46, 426.62, 405.96, 562.2 , 269.36, 456.28, 307.32,\n",
       "       562.8 , 462.14, 369.72, 272.8 , 346.1 , 316.94, 286.92, 338.78,\n",
       "       286.04, 416.68, 583.6 , 474.42, 275.3 , 608.9 , 507.68, 545.5 ,\n",
       "       367.9 , 333.74, 226.5 , 386.08, 275.68, 470.8 , 351.06, 460.94,\n",
       "       377.06, 469.14, 488.42, 416.64, 644.12, 327.14, 452.14, 316.06,\n",
       "       501.74, 593.44, 221.6 , 560.24, 492.2 , 435.52, 508.78, 292.84,\n",
       "       404.56, 417.04, 211.84, 391.9 , 677.92, 301.36, 366.8 , 424.04,\n",
       "       325.62, 223.  , 441.28, 597.86, 502.56, 177.8 , 336.66, 537.54,\n",
       "       236.04, 372.04, 245.98, 593.94, 358.68, 546.24, 345.12, 287.9 ,\n",
       "       261.56, 488.74, 360.42, 447.62, 358.84, 330.58, 335.64, 399.8 ,\n",
       "       440.6 , 404.14, 383.46, 455.74, 401.32, 578.42, 255.78, 253.08,\n",
       "       308.42, 237.08, 450.58, 239.6 , 379.22, 486.66, 424.8 , 452.64,\n",
       "       353.38, 365.48, 628.18, 266.18, 471.34, 471.56, 274.84, 183.56,\n",
       "       622.06, 304.84, 418.48, 316.38, 450.46, 529.16, 258.1 , 417.86,\n",
       "       519.  , 547.54, 443.14, 351.52, 692.28, 314.4 , 249.26, 426.46,\n",
       "       568.24, 402.58, 388.04, 281.78, 380.66, 341.88, 490.12, 219.96,\n",
       "       398.28, 314.44, 307.94, 669.56, 327.72, 182.92, 448.32, 421.82,\n",
       "       775.74, 518.8 , 411.86, 284.7 , 343.34, 154.08, 433.54, 298.94,\n",
       "       392.22, 445.42, 408.72, 279.52, 570.76, 428.52, 546.76, 674.92,\n",
       "       566.12, 219.9 , 538.2 , 441.42, 387.32, 316.82, 266.74, 469.9 ,\n",
       "       469.04, 498.82, 431.22, 435.86, 217.34, 307.22, 242.82, 430.16,\n",
       "       504.24, 396.18, 577.26, 338.52, 285.1 , 382.76, 304.98, 635.76,\n",
       "       375.06, 378.54, 335.66, 407.62, 274.84, 398.12, 420.08, 315.3 ,\n",
       "       405.34, 131.28, 568.88, 324.16, 353.5 , 331.12, 370.08, 347.76,\n",
       "       342.68, 374.36, 276.12, 351.82, 345.9 , 232.38, 362.18, 335.76,\n",
       "       619.58, 329.  , 331.58, 452.2 , 348.56, 322.86, 350.96, 487.12,\n",
       "       466.22, 185.88, 368.9 , 488.66, 358.76, 318.42, 572.24, 341.28,\n",
       "       343.16, 499.4 , 362.44, 376.3 , 337.  , 320.66, 525.76, 410.62,\n",
       "       322.82, 535.82, 544.26, 477.36, 367.58, 370.46, 343.  , 279.4 ,\n",
       "       316.62, 417.74, 579.92, 434.2 , 315.54, 343.4 , 215.32, 317.56,\n",
       "       437.12, 164.24, 588.46, 625.94, 451.12, 424.86, 518.52, 512.86,\n",
       "       317.04, 479.76, 364.56, 577.22, 350.28, 538.7 , 401.38, 507.7 ,\n",
       "       631.44, 325.  , 390.56, 327.54, 457.62, 399.36, 456.5 , 254.42,\n",
       "       421.04, 402.7 , 346.64, 593.78, 374.66, 405.08, 388.46, 321.8 ,\n",
       "       286.02, 178.9 , 317.52, 555.68, 459.5 , 388.76, 582.68, 522.32,\n",
       "       409.06, 320.76, 275.42, 229.04, 490.14, 338.6 , 310.64, 486.62,\n",
       "       529.24, 316.06, 294.54, 411.94, 355.66, 299.02, 367.42, 598.86,\n",
       "       338.34, 322.  , 238.52, 683.78, 437.8 , 431.6 , 276.88, 439.36,\n",
       "       447.48, 321.34, 518.24, 239.2 , 240.58, 667.54, 341.4 , 310.72,\n",
       "       283.56, 251.36, 671.56, 321.22, 312.48, 603.04, 437.58, 431.68,\n",
       "       432.88, 543.54, 355.22, 544.8 , 230.14, 400.1 , 291.46, 275.92,\n",
       "       427.34, 278.3 , 408.88, 388.98, 463.66, 362.98, 430.34, 256.2 ])"
      ]
     },
     "execution_count": 14,
     "metadata": {},
     "output_type": "execute_result"
    }
   ],
   "source": [
    "new"
   ]
  },
  {
   "cell_type": "code",
   "execution_count": 15,
   "id": "f560e818",
   "metadata": {},
   "outputs": [
    {
     "data": {
      "text/plain": [
       "<AxesSubplot:ylabel='Density'>"
      ]
     },
     "execution_count": 15,
     "metadata": {},
     "output_type": "execute_result"
    },
    {
     "data": {
      "image/png": "[encoded data removed]",
      "text/plain": [
       "<Figure size 432x288 with 1 Axes>"
      ]
     },
     "metadata": {
      "needs_background": "light"
     },
     "output_type": "display_data"
    }
   ],
   "source": [
    "sns.distplot(new)"
   ]
  },
  {
   "cell_type": "code",
   "execution_count": 16,
   "id": "6f781cb9",
   "metadata": {},
   "outputs": [
    {
     "data": {
      "text/plain": [
       "398.9783080260304"
      ]
     },
     "execution_count": 16,
     "metadata": {},
     "output_type": "execute_result"
    }
   ],
   "source": [
    "runs.mean()"
   ]
  },
  {
   "cell_type": "code",
   "execution_count": 17,
   "id": "c24608c8",
   "metadata": {},
   "outputs": [
    {
     "data": {
      "text/plain": [
       "399.177"
      ]
     },
     "execution_count": 17,
     "metadata": {},
     "output_type": "execute_result"
    }
   ],
   "source": [
    "new.mean()"
   ]
  },
  {
   "cell_type": "code",
   "execution_count": 18,
   "id": "44b71453",
   "metadata": {},
   "outputs": [],
   "source": [
    "# Hence mean of population apprximately equal to  mean of sum of sample mean"
   ]
  },
  {
   "cell_type": "code",
   "execution_count": 19,
   "id": "6ff4e9e8",
   "metadata": {},
   "outputs": [
    {
     "data": {
      "text/plain": [
       "12311.660901652069"
      ]
     },
     "execution_count": 19,
     "metadata": {},
     "output_type": "execute_result"
    }
   ],
   "source": [
    "runs.var()/50"
   ]
  },
  {
   "cell_type": "code",
   "execution_count": 20,
   "id": "6a9983dc",
   "metadata": {},
   "outputs": [
    {
     "data": {
      "text/plain": [
       "12506.6346446"
      ]
     },
     "execution_count": 20,
     "metadata": {},
     "output_type": "execute_result"
    }
   ],
   "source": [
    "new.var()"
   ]
  },
  {
   "cell_type": "code",
   "execution_count": 21,
   "id": "59792190",
   "metadata": {},
   "outputs": [
    {
     "data": {
      "text/plain": [
       "110.95792401470058"
      ]
     },
     "execution_count": 21,
     "metadata": {},
     "output_type": "execute_result"
    }
   ],
   "source": [
    "runs.std()/np.sqrt(50)"
   ]
  },
  {
   "cell_type": "code",
   "execution_count": 22,
   "id": "2df34258",
   "metadata": {},
   "outputs": [
    {
     "data": {
      "text/plain": [
       "111.83306597156317"
      ]
     },
     "execution_count": 22,
     "metadata": {},
     "output_type": "execute_result"
    }
   ],
   "source": [
    "new.std()"
   ]
  },
  {
   "cell_type": "code",
   "execution_count": null,
   "id": "68aeb697",
   "metadata": {},
   "outputs": [],
   "source": []
  }
 ],
 "metadata": {
  "kernelspec": {
   "display_name": "Python 3 (ipykernel)",
   "language": "python",
   "name": "python3"
  },
  "language_info": {
   "codemirror_mode": {
    "name": "ipython",
    "version": 3
   },
   "file_extension": ".py",
   "mimetype": "text/x-python",
   "name": "python",
   "nbconvert_exporter": "python",
   "pygments_lexer": "ipython3",
   "version": "3.9.12"
  }
 },
 "nbformat": 4,
 "nbformat_minor": 5
}
